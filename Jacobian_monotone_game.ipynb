{
  "nbformat": 4,
  "nbformat_minor": 0,
  "metadata": {
    "colab": {
      "name": "Jacobian_monotone_game.ipynb",
      "provenance": [],
      "collapsed_sections": []
    },
    "kernelspec": {
      "display_name": "Python 3",
      "name": "python3"
    },
    "language_info": {
      "name": "python"
    }
  },
  "cells": [
    {
      "cell_type": "code",
      "metadata": {
        "id": "FY_fNUeN8Mkb"
      },
      "source": [
        "import torch\n",
        "import numpy as np\n",
        "import scipy.linalg\n",
        "from numpy import linalg as LA\n",
        "\n",
        "\n",
        "np.random.seed(0)\n",
        "n = 2\n",
        "def psd(n):\n",
        "  S = np.random.randn(n,n)\n",
        "  return S.T@S\n",
        "r = 0.1\n",
        "A = np.eye(n)\n"
      ],
      "execution_count": null,
      "outputs": []
    },
    {
      "cell_type": "markdown",
      "source": [
        "### for two player case, check the conditions from Rosen paper on the uniqueness of equilibrium point"
      ],
      "metadata": {
        "id": "dCFSzNrVhtli"
      }
    },
    {
      "cell_type": "code",
      "source": [
        "\n",
        "Q1 = np.diag([1.0, 0])\n",
        "Q2 = np.diag([0, 1.0])\n",
        "Q1 = torch.tensor(Q1).float()\n",
        "Q2 = torch.tensor(Q2).float()\n",
        "\n",
        "# apply system dynamics x[t+1] = (A-BK)x[t]\n",
        "from torch.autograd import Variable\n",
        "\n",
        "A = torch.tensor(np.eye(2)).float()\n",
        "for j in range(1000):\n",
        "    B = psd(2)\n",
        "    if j % 100 == 0:\n",
        "        print(\"=\", end='')\n",
        "    for k1_val in np.linspace(-5, 5, 10):\n",
        "        for k2_val in np.linspace(-5, 5, 10):\n",
        "            K = np.diag([k1_val, k2_val])\n",
        "            if np.all(abs(LA.eigvals(A-B@K))<1):\n",
        "                T = 10\n",
        "                k1 = torch.tensor(k1_val, requires_grad=True)\n",
        "                k2 = torch.tensor(k2_val, requires_grad=True)\n",
        "                assert k1.requires_grad\n",
        "                assert k2.requires_grad\n",
        "                k1.retain_grad()\n",
        "                k2.retain_grad()\n",
        "                B = torch.tensor(B)\n",
        "                def cost(k1,k2):\n",
        "                    curr_x = torch.randn(2)\n",
        "                    c1_list = []\n",
        "                    c2_list = []\n",
        "                    K = torch.tensor([[k1, 0], [0, k2]])\n",
        "                    A_k = (A-B*K).float()\n",
        "                    for t in range(T):\n",
        "                        curr_x = A_k@curr_x\n",
        "                        c1_list.append(curr_x.T@Q1@curr_x)\n",
        "                        c2_list.append(curr_x.T@Q2@curr_x)\n",
        "                    return torch.sum(torch.FloatTensor(c1_list)), torch.sum(torch.FloatTensor(c2_list))\n",
        "                c1, c2 = cost(k1,k2)     \n",
        "                du1k1 = torch.autograd.grad(c1, k1, retain_graph=True, create_graph=True)\n",
        "                d2u1k1 = torch.autograd.grad(du1k1, k1, retain_graph=True)\n",
        "                d2u1k2 = torch.autograd.grad(du1k1, k2, retain_graph=True)\n",
        "                du2k2 = torch.autograd.grad(c2, k2, retain_graph=True, create_graph=True)\n",
        "                d2u2k2 = torch.autograd.grad(du2k2, k2, retain_graph=True)\n",
        "                d2u2k1 = torch.autograd.grad(du2k2, k1, retain_graph=True)\n",
        "                J = np.array([[d2u1k1[0].item(), d2u1k2[0].item()], [d2u2k1[0].item(), d2u2k2[0].item()]])\n",
        "                if all(LA.eigvals(J)>0) == False:\n",
        "                  print('*')\n",
        "    \n"
      ],
      "metadata": {
        "id": "j-Qg7GDNhpjp"
      },
      "execution_count": null,
      "outputs": []
    },
    {
      "cell_type": "code",
      "source": [
        ""
      ],
      "metadata": {
        "id": "pxbgoUflozV1"
      },
      "execution_count": null,
      "outputs": []
    },
    {
      "cell_type": "code",
      "metadata": {
        "id": "B3_EAXjpELKe"
      },
      "source": [
        ""
      ],
      "execution_count": null,
      "outputs": []
    }
  ]
}