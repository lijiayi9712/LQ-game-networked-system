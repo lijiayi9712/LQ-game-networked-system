{
 "cells": [
  {
   "cell_type": "code",
   "execution_count": 1,
   "metadata": {},
   "outputs": [],
   "source": [
    "import numpy as np\n",
    "import numpy.linalg as LA\n",
    "from scipy.linalg import solve, solve_discrete_are, solve_discrete_lyapunov, LinAlgError\n",
    "from numpy.linalg import inv, norm, eigvals\n",
    "import matplotlib.pyplot as plt\n",
    "from sys import stdout\n",
    "from mpl_toolkits.mplot3d import Axes3D"
   ]
  },
  {
   "cell_type": "markdown",
   "metadata": {},
   "source": [
    "System matrices initializations"
   ]
  },
  {
   "cell_type": "code",
   "execution_count": 2,
   "metadata": {},
   "outputs": [],
   "source": [
    "PLAYER = 2"
   ]
  },
  {
   "cell_type": "code",
   "execution_count": 3,
   "metadata": {},
   "outputs": [],
   "source": [
    "#helper functions for system matrices generation\n",
    "\n",
    "n = PLAYER\n",
    "\n",
    "def psd(n):\n",
    "    \"\"\"generate PSD matrix with dimension n-by-n\"\"\"\n",
    "    mat = np.random.normal(0, 1, (n, n))\n",
    "    return mat.T@mat\n",
    "\n",
    "def normed_psd(n):\n",
    "    \"\"\"random PSD matrix with all eigvals within the unit circle\"\"\"\n",
    "    psd_m = psd(n)\n",
    "    return psd_m/(LA.norm(psd_m)*2)\n",
    "\n",
    "def heuristic_X(n):\n",
    "    \"\"\"generate potentially more stable X_matrix by applying some heuristics\"\"\"\n",
    "    X_list = []\n",
    "    X_min_eigval = []\n",
    "    min_eigval = 0\n",
    "    while min_eigval < 0.1 and len(X_list) < 10000:\n",
    "        X = normed_psd(n)\n",
    "        X_list.append(X)\n",
    "        try:\n",
    "            assert np.all(LA.eigvals(X) > 0)\n",
    "        except AssertionError:\n",
    "            continue\n",
    "        curr_X_eigval = LA.eigvals(X)\n",
    "        X_min_eigval.append(min(curr_X_eigval))\n",
    "        if min(curr_X_eigval) > min_eigval:\n",
    "            min_eigval = min(curr_X_eigval)\n",
    "    X_index = np.argmax(X_min_eigval)\n",
    "    X = X_list[X_index]\n",
    "    return X\n",
    "\n",
    "def K_generator(A_matrix, X_matrix):\n",
    "    \"\"\"Given system matrix, apply heuristics to generate stabilizing diagonal K matrix\"\"\"\n",
    "    K_heuristic_list = []\n",
    "    eigenvals_list = []\n",
    "    min_eig = 3\n",
    "    n = A_matrix.shape[0]\n",
    "    while min_eig > 0.89 and len(K_heuristic_list) < 200:\n",
    "        K = np.diag(np.random.random_sample(n))\n",
    "        K_heuristic_list.append(K)\n",
    "        system_matrix = A_matrix - X_matrix@K\n",
    "        w_K = LA.eigvals(system_matrix)\n",
    "        eigenvals_list.append(max(w_K))\n",
    "    if max(w_K) < min_eig:\n",
    "        min_eig = max(w_K)\n",
    "    most_stable_index = np.argmin(eigenvals_list)\n",
    "    K = K_heuristic_list[most_stable_index]\n",
    "    return K"
   ]
  },
  {
   "cell_type": "code",
   "execution_count": 5,
   "metadata": {},
   "outputs": [],
   "source": [
    "A = np.eye(PLAYER)\n",
    "B = heuristic_X(PLAYER)\n",
    "q_diag = np.random.randint(1, 10, size=PLAYER)\n",
    "Q = np.diag(q_diag)\n",
    "R = np.eye(PLAYER) * np.random.randint(1, 10, size=1)\n",
    "r_diag = R.diagonal()\n",
    "Q_dict = {}\n",
    "B_dict = {}\n",
    "for i in range(1, PLAYER+1):\n",
    "    curr_q = np.zeros(PLAYER)\n",
    "    curr_q[i-1] = q_diag[i-1]\n",
    "    Q_dict[i] = np.diagflat(curr_q)\n",
    "    B_i = np.zeros_like(B)\n",
    "    B_i[:, i-1] = B[:, i-1]\n",
    "    B_dict[i] = B_i\n",
    "\n",
    "K_rand = K_generator(A, B)"
   ]
  },
  {
   "cell_type": "code",
   "execution_count": 6,
   "metadata": {
    "scrolled": true
   },
   "outputs": [
    {
     "name": "stdout",
     "output_type": "stream",
     "text": [
      "A matrix is  [[1. 0.]\n",
      " [0. 1.]]\n",
      "\n",
      "\n",
      "B matrix is [[0.43299176 0.13080078]\n",
      " [0.13080078 0.16822736]] with \n",
      "\n",
      "B1 = [[0.43299176 0.        ]\n",
      " [0.13080078 0.        ]], \n",
      "\n",
      "B2 = [[0.         0.13080078]\n",
      " [0.         0.16822736]], \n",
      "\n",
      "\n",
      "\n",
      "Q matrix is [[2 0]\n",
      " [0 9]] with \n",
      "\n",
      "Q1 = [[2. 0.]\n",
      " [0. 0.]], \n",
      "\n",
      "Q2 = [[0. 0.]\n",
      " [0. 9.]], \n",
      "\n",
      "\n",
      "\n",
      "R matrix is  [[7. 0.]\n",
      " [0. 7.]]\n"
     ]
    }
   ],
   "source": [
    "#system check for n player case\n",
    "print(\"A matrix is \", A)\n",
    "print('\\n')\n",
    "print(\"B matrix is \" + str(B) + \" with \\n\")\n",
    "for i in range(len(B_dict)):\n",
    "    print(\"B{} = {}, \\n\".format(i+1, B_dict[i+1]))\n",
    "print('\\n')\n",
    "print(\"Q matrix is \" + str(Q) + \" with \\n\")\n",
    "for i in range(len(Q_dict)):\n",
    "    print(\"Q{} = {}, \\n\".format(i+1, Q_dict[i+1]))\n",
    "print('\\n')\n",
    "print(\"R matrix is \", R)"
   ]
  },
  {
   "cell_type": "code",
   "execution_count": 7,
   "metadata": {},
   "outputs": [],
   "source": [
    "X_inv = LA.inv(B)"
   ]
  },
  {
   "cell_type": "code",
   "execution_count": 8,
   "metadata": {},
   "outputs": [
    {
     "name": "stdout",
     "output_type": "stream",
     "text": [
      "curr P matrix for 1th agent is : [[ 2.01829216 -0.11479629]\n",
      " [-0.11479629  0.72068391]]\n",
      "curr P matrix for 2th agent is : [[ 3.6293201  -1.83382594]\n",
      " [-1.83382594 10.15659511]]\n",
      "curr P matrix for the first agent is : [[ 2.07525974 -0.06822865]\n",
      " [-0.06822865  0.19276718]]\n"
     ]
    }
   ],
   "source": [
    "#if we set k1 to be fixed, find the area segment of (k2, k3, k...) to minimize over\n",
    "gap = 100\n",
    "\n",
    "iter_points = []\n",
    "k1 = 10\n",
    "K_list = np.ones(PLAYER) #initialize each ki in the list, which is 0-indexed\n",
    "K_list[0] = k1\n",
    "\n",
    "while abs(gap) > 1e-5:\n",
    "    min_k_dict = {1: (k1, 10000, 10000)} #1-indexed\n",
    "    for i in range(2, PLAYER+1):\n",
    "        min_k_dict[i] = (100000, 10000, 100000) #(ki, cost, Pi)\n",
    "\n",
    "    #with the first agent fixed, for each rest of the agent:\n",
    "    for j in range(0, len(K_list)):\n",
    "        for curr_kj in np.arange(0.1, 20, 0.1):\n",
    "            curr_K = K_list.copy()\n",
    "            curr_K[j] = curr_kj\n",
    "            K = np.diag(curr_K)\n",
    "            if np.all(LA.eigvals(K-2*X_inv) < 0):\n",
    "                Ak = A - B@K\n",
    "                Pj = solve_discrete_lyapunov(Ak, Q_dict[j+1])\n",
    "\n",
    "                cost = np.trace(Pj)\n",
    "                if cost < min_k_dict[j+1][1]:\n",
    "                    min_k_dict[j+1] = (curr_kj, cost, Pj)\n",
    "                    #iter_points.append((K_list, min_k_dict[j+1][1], j))\n",
    "            # else:\n",
    "            #     break\n",
    "        K_list[j] = min_k_dict[j+1][0]\n",
    "        print(\"curr P matrix for {}th agent is :\".format(j+1), min_k_dict[j+1][-1])\n",
    "        iter_points.append((K_list.copy(), min_k_dict[j+1][1], j))\n",
    "\n",
    "    for k1 in np.arange(0.1, 20, 0.1):\n",
    "        curr_K = K_list.copy()\n",
    "        curr_K[0] = k1\n",
    "        K = np.diag(curr_K)\n",
    "        if np.all(LA.eigvals(K-2*X_inv) < 0):\n",
    "            Ak = A - B@K\n",
    "            P1 = solve_discrete_lyapunov(Ak, Q_dict[1])\n",
    "            cost = np.trace(P1)\n",
    "            if cost < min_k_dict[1][1]:\n",
    "                min_k_dict[1] = (k1, cost, P1)\n",
    "    K_list[0] = min_k_dict[1][0]\n",
    "    iter_points.append((K_list.copy(),  min_k_dict[1][1], 0))\n",
    "    print(\"curr P matrix for the first agent is :\", min_k_dict[1][-1])\n",
    "    p1 = iter_points[-1][0]\n",
    "    p2 = iter_points[-2][0]\n",
    "    gap = LA.norm(np.subtract(p1, p2))\n"
   ]
  },
  {
   "cell_type": "code",
   "execution_count": 9,
   "metadata": {
    "pycharm": {
     "name": "#%%\n"
    }
   },
   "outputs": [
    {
     "data": {
      "text/plain": [
       "[(array([2.2, 1. ]), 2.7389760709994424, 0),\n",
       " (array([2.2, 4.5]), 13.785915207128989, 1),\n",
       " (array([2.2, 4.5]), 2.268026918855261, 0)]"
      ]
     },
     "execution_count": 9,
     "metadata": {},
     "output_type": "execute_result"
    }
   ],
   "source": [
    "iter_points"
   ]
  },
  {
   "cell_type": "code",
   "execution_count": 10,
   "metadata": {},
   "outputs": [
    {
     "data": {
      "text/plain": [
       "16.05394212598425"
      ]
     },
     "execution_count": 10,
     "metadata": {},
     "output_type": "execute_result"
    }
   ],
   "source": [
    "K = np.diag(iter_points[-1][0])\n",
    "Ak = A - B@K\n",
    "P = solve_discrete_lyapunov(Ak, Q)\n",
    "np.trace(P)"
   ]
  },
  {
   "cell_type": "code",
   "execution_count": 11,
   "metadata": {
    "pycharm": {
     "name": "#%%\n"
    }
   },
   "outputs": [
    {
     "data": {
      "text/plain": [
       "array([[ 5.70457984, -1.90205459],\n",
       "       [-1.90205459, 10.34936229]])"
      ]
     },
     "execution_count": 11,
     "metadata": {},
     "output_type": "execute_result"
    }
   ],
   "source": [
    "P"
   ]
  },
  {
   "cell_type": "code",
   "execution_count": 31,
   "metadata": {},
   "outputs": [],
   "source": [
    "%matplotlib inline"
   ]
  },
  {
   "cell_type": "code",
   "execution_count": 32,
   "metadata": {},
   "outputs": [
    {
     "name": "stdout",
     "output_type": "stream",
     "text": [
      "global min point is  (0.9, 0.9, 95.84807538771722)\n",
      "global min cost  95.84807538771722\n"
     ]
    },
    {
     "data": {
      "image/png": "[encoded data removed]",
      "text/plain": [
       "<Figure size 432x288 with 1 Axes>"
      ]
     },
     "metadata": {
      "needs_background": "light"
     },
     "output_type": "display_data"
    }
   ],
   "source": [
    "#grid search for 2 player \n",
    "if PLAYER == 2:\n",
    "    X_inv = LA.inv(B)\n",
    "    points = []\n",
    "    cost_list = []\n",
    "    for k1 in np.arange(0, 20, 0.1):\n",
    "        for k2 in np.arange(0, 20, 0.1):\n",
    "            K = np.diag([k1, k2])\n",
    "            Ak = A-B@np.diag([k1, k2])\n",
    "            if np.all(LA.eigvals(K-2*X_inv) < 0):\n",
    "                try:\n",
    "                    P = solve_discrete_lyapunov(Ak, Q)\n",
    "                    cost = np.trace(P)\n",
    "                    points.append((k1, k2, cost))\n",
    "                    cost_list.append(cost)\n",
    "                except LinAlgError:\n",
    "                    continue\n",
    "    p_x = [x[0] for x in points]\n",
    "    p_y = [x[1] for x in points]\n",
    "    p_z = [x[2] for x in points]\n",
    "    # plt.scatter(p_x, p_y)\n",
    "\n",
    "\n",
    "    fig = plt.figure()\n",
    "    ax = fig.add_subplot(111, projection='3d')\n",
    "    x, y, z = p_x, p_y, p_z\n",
    "    ax.scatter(x, y, z)\n",
    "\n",
    "    ax.set_xlabel('$X$', fontsize=15)\n",
    "    ax.set_ylabel('$Y$', fontsize=15)\n",
    "    ax.set_zlabel(r'$Z$', fontsize=15)\n",
    "\n",
    "    print(\"global min point is \", points[np.argmin(cost_list)])\n",
    "    print(\"global min cost \", np.min(cost_list))\n",
    "\n",
    "if PLAYER == 3:\n",
    "    points = []\n",
    "    cost_list = []\n",
    "    for k1 in np.arange(0, 10, 0.1):\n",
    "        print(k1, end=' ')\n",
    "        for k2 in np.arange(0, 10, 0.1):\n",
    "            for k3 in np.arange(0, 10, 0.1):\n",
    "                K = np.diag([k1, k2, k3])\n",
    "                Ak = A-B@K\n",
    "                if np.all(LA.eigvals(K-2*X_inv) < 0):\n",
    "                    try:\n",
    "                        P = solve_discrete_lyapunov(Ak, Q)\n",
    "                        points.append((k1, k2, k3))\n",
    "                        cost_list.append(np.trace(P))\n",
    "                    except LinAlgError:\n",
    "                        continue\n",
    "\n",
    "    p_x = [x[0] for x in points]\n",
    "    p_y = [x[1] for x in points]\n",
    "    p_z = [x[2] for x in points]\n",
    "\n",
    "    fig = plt.figure()\n",
    "    ax = fig.add_subplot(111, projection='3d')\n",
    "    x, y, z = p_x, p_y, p_z\n",
    "    ax.scatter(x, y, z)\n",
    "\n",
    "    ax.set_xlabel('$X$', fontsize=15)\n",
    "    ax.set_ylabel('$Y$', fontsize=15)\n",
    "    ax.set_zlabel(r'$Z$', fontsize=15)\n"
   ]
  },
  {
   "cell_type": "code",
   "execution_count": 33,
   "metadata": {
    "pycharm": {
     "name": "#%%\n"
    }
   },
   "outputs": [
    {
     "data": {
      "text/plain": [
       "[(0.1, 0.1, 721.64216208538),\n",
       " (0.1, 0.2, 596.6483266137809),\n",
       " (0.1, 0.30000000000000004, 591.4526876860822),\n",
       " (0.1, 0.4, 599.9212985657238),\n",
       " (0.1, 0.5, 609.5163282681547),\n",
       " (0.1, 0.6000000000000001, 618.139391790956),\n",
       " (0.1, 0.7000000000000001, 625.5668280339557),\n",
       " (0.1, 0.8, 631.9564114005085),\n",
       " (0.1, 0.9, 637.5240217617094),\n",
       " (0.1, 1.0, 642.4734346227028),\n",
       " (0.1, 1.1, 646.9900525438128),\n",
       " (0.1, 1.2000000000000002, 651.254436322456),\n",
       " (0.1, 1.3, 655.4687996157627),\n",
       " (0.1, 1.4000000000000001, 659.9073156054782),\n",
       " (0.1, 1.5, 665.0310819963069),\n",
       " (0.1, 1.6, 671.8165906982448),\n",
       " (0.1, 1.7000000000000002, 683.0154016902457),\n",
       " (0.1, 1.8, 711.3138990802938),\n",
       " (0.1, 1.9000000000000001, 1313.3620469994755),\n",
       " (0.2, 0.1, 596.6483266137817),\n",
       " (0.2, 0.2, 362.90706598768963),\n",
       " (0.2, 0.30000000000000004, 314.16894273386197),\n",
       " (0.2, 0.4, 300.89840827936774),\n",
       " (0.2, 0.5, 298.1077990013611),\n",
       " (0.2, 0.6000000000000001, 299.0232410010291),\n",
       " (0.2, 0.7000000000000001, 301.343678602565),\n",
       " (0.2, 0.8, 304.1908577623249),\n",
       " (0.2, 0.9, 307.21974966260717),\n",
       " (0.2, 1.0, 310.3135289471377),\n",
       " (0.2, 1.1, 313.47151782385964),\n",
       " (0.2, 1.2000000000000002, 316.77553297533586),\n",
       " (0.2, 1.3, 320.4050734817849),\n",
       " (0.2, 1.4000000000000001, 324.7199508300296),\n",
       " (0.2, 1.5, 330.52521947737097),\n",
       " (0.2, 1.6, 340.08339109255127),\n",
       " (0.2, 1.7000000000000002, 363.2999132818813),\n",
       " (0.2, 1.8, 633.3575909635772),\n",
       " (0.30000000000000004, 0.1, 591.4526876860833),\n",
       " (0.30000000000000004, 0.2, 314.168942733862),\n",
       " (0.30000000000000004, 0.30000000000000004, 243.5529617308154),\n",
       " (0.30000000000000004, 0.4, 217.76408566237134),\n",
       " (0.30000000000000004, 0.5, 207.15826308893202),\n",
       " (0.30000000000000004, 0.6000000000000001, 202.88177048378566),\n",
       " (0.30000000000000004, 0.7000000000000001, 201.59206163392568),\n",
       " (0.30000000000000004, 0.8, 201.84491922107705),\n",
       " (0.30000000000000004, 0.9, 202.97031417552913),\n",
       " (0.30000000000000004, 1.0, 204.6610201325122),\n",
       " (0.30000000000000004, 1.1, 206.81220039429712),\n",
       " (0.30000000000000004, 1.2000000000000002, 209.47385853293545),\n",
       " (0.30000000000000004, 1.3, 212.89114101820712),\n",
       " (0.30000000000000004, 1.4000000000000001, 217.71133232291675),\n",
       " (0.30000000000000004, 1.5, 225.8066540879565),\n",
       " (0.30000000000000004, 1.6, 245.09774310433403),\n",
       " (0.30000000000000004, 1.7000000000000002, 409.2308107352759),\n",
       " (0.4, 0.1, 599.921298565724),\n",
       " (0.4, 0.2, 300.89840827936746),\n",
       " (0.4, 0.30000000000000004, 217.76408566237134),\n",
       " (0.4, 0.4, 184.12370871387236),\n",
       " (0.4, 0.5, 168.28283137211304),\n",
       " (0.4, 0.6000000000000001, 160.3548256262088),\n",
       " (0.4, 0.7000000000000001, 156.4330293756729),\n",
       " (0.4, 0.8, 154.74759094238266),\n",
       " (0.4, 0.9, 154.4361240070525),\n",
       " (0.4, 1.0, 155.08373990671384),\n",
       " (0.4, 1.1, 156.54703210342052),\n",
       " (0.4, 1.2000000000000002, 158.9262089047315),\n",
       " (0.4, 1.3, 162.71034173661556),\n",
       " (0.4, 1.4000000000000001, 169.44930466456034),\n",
       " (0.4, 1.5, 185.61674610050974),\n",
       " (0.4, 1.6, 299.60074848080643),\n",
       " (0.5, 0.1, 609.5163282681557),\n",
       " (0.5, 0.2, 298.1077990013614),\n",
       " (0.5, 0.30000000000000004, 207.15826308893196),\n",
       " (0.5, 0.4, 168.28283137211318),\n",
       " (0.5, 0.5, 148.7765296348191),\n",
       " (0.5, 0.6000000000000001, 138.19733977915334),\n",
       " (0.5, 0.7000000000000001, 132.31611669269682),\n",
       " (0.5, 0.8, 129.1710642749781),\n",
       " (0.5, 0.9, 127.79049091713193),\n",
       " (0.5, 1.0, 127.71632985804521),\n",
       " (0.5, 1.1, 128.8438519983073),\n",
       " (0.5, 1.2000000000000002, 131.48418877518242),\n",
       " (0.5, 1.3, 136.90610332265496),\n",
       " (0.5, 1.4000000000000001, 150.50871902290595),\n",
       " (0.5, 1.5, 236.28888500766504),\n",
       " (0.6000000000000001, 0.1, 618.1393917909559),\n",
       " (0.6000000000000001, 0.2, 299.0232410010294),\n",
       " (0.6000000000000001, 0.30000000000000004, 202.8817704837859),\n",
       " (0.6000000000000001, 0.4, 160.35482562620894),\n",
       " (0.6000000000000001, 0.5, 138.19733977915334),\n",
       " (0.6000000000000001, 0.6000000000000001, 125.65163687419209),\n",
       " (0.6000000000000001, 0.7000000000000001, 118.29935389485205),\n",
       " (0.6000000000000001, 0.8, 114.06954062949738),\n",
       " (0.6000000000000001, 0.9, 111.94471064739996),\n",
       " (0.6000000000000001, 1.0, 111.49739182283173),\n",
       " (0.6000000000000001, 1.1, 112.80959926403114),\n",
       " (0.6000000000000001, 1.2000000000000002, 116.88220656021011),\n",
       " (0.6000000000000001, 1.3, 128.30046108517251),\n",
       " (0.6000000000000001, 1.4000000000000001, 196.67789127150007),\n",
       " (0.7000000000000001, 0.1, 625.5668280339563),\n",
       " (0.7000000000000001, 0.2, 301.34367860256503),\n",
       " (0.7000000000000001, 0.30000000000000004, 201.59206163392537),\n",
       " (0.7000000000000001, 0.4, 156.43302937567282),\n",
       " (0.7000000000000001, 0.5, 132.31611669269677),\n",
       " (0.7000000000000001, 0.6000000000000001, 118.29935389485195),\n",
       " (0.7000000000000001, 0.7000000000000001, 109.85708407118508),\n",
       " (0.7000000000000001, 0.8, 104.8718061319735),\n",
       " (0.7000000000000001, 0.9, 102.35164590280259),\n",
       " (0.7000000000000001, 1.0, 102.03930154222095),\n",
       " (0.7000000000000001, 1.1, 104.64353265572848),\n",
       " (0.7000000000000001, 1.2000000000000002, 114.11383346222124),\n",
       " (0.7000000000000001, 1.3, 171.2024643957916),\n",
       " (0.8, 0.1, 631.9564114005085),\n",
       " (0.8, 0.2, 304.19085776232475),\n",
       " (0.8, 0.30000000000000004, 201.84491922107708),\n",
       " (0.8, 0.4, 154.74759094238266),\n",
       " (0.8, 0.5, 129.171064274978),\n",
       " (0.8, 0.6000000000000001, 114.06954062949731),\n",
       " (0.8, 0.7000000000000001, 104.87180613197347),\n",
       " (0.8, 0.8, 99.48384948384947),\n",
       " (0.8, 0.9, 97.07417885367386),\n",
       " (0.8, 1.0, 97.97221153737121),\n",
       " (0.8, 1.1, 105.59775787408316),\n",
       " (0.8, 1.2000000000000002, 155.23732923019557),\n",
       " (0.9, 0.1, 637.5240217617095),\n",
       " (0.9, 0.2, 307.21974966260734),\n",
       " (0.9, 0.30000000000000004, 202.97031417552915),\n",
       " (0.9, 0.4, 154.4361240070525),\n",
       " (0.9, 0.5, 127.79049091713188),\n",
       " (0.9, 0.6000000000000001, 111.94471064739986),\n",
       " (0.9, 0.7000000000000001, 102.35164590280266),\n",
       " (0.9, 0.8, 97.07417885367394),\n",
       " (0.9, 0.9, 95.84807538771722),\n",
       " (0.9, 1.0, 101.5856876145943),\n",
       " (0.9, 1.1, 146.41551094617188),\n",
       " (1.0, 0.1, 642.4734346227024),\n",
       " (1.0, 0.2, 310.31352894713825),\n",
       " (1.0, 0.30000000000000004, 204.66102013251236),\n",
       " (1.0, 0.4, 155.083739906714),\n",
       " (1.0, 0.5, 127.71632985804523),\n",
       " (1.0, 0.6000000000000001, 111.49739182283164),\n",
       " (1.0, 0.7000000000000001, 102.03930154222098),\n",
       " (1.0, 0.8, 97.97221153737121),\n",
       " (1.0, 0.9, 101.58568761459425),\n",
       " (1.0, 1.0, 143.58974358974356),\n",
       " (1.1, 0.1, 646.9900525438129),\n",
       " (1.1, 0.2, 313.4715178238604),\n",
       " (1.1, 0.30000000000000004, 206.8122003942969),\n",
       " (1.1, 0.4, 156.5470321034204),\n",
       " (1.1, 0.5, 128.84385199830726),\n",
       " (1.1, 0.6000000000000001, 112.80959926403112),\n",
       " (1.1, 0.7000000000000001, 104.6435326557285),\n",
       " (1.1, 0.8, 105.59775787408316),\n",
       " (1.1, 0.9, 146.41551094617185),\n",
       " (1.2000000000000002, 0.1, 651.2544363224567),\n",
       " (1.2000000000000002, 0.2, 316.775532975336),\n",
       " (1.2000000000000002, 0.30000000000000004, 209.4738585329355),\n",
       " (1.2000000000000002, 0.4, 158.92620890473134),\n",
       " (1.2000000000000002, 0.5, 131.4841887751825),\n",
       " (1.2000000000000002, 0.6000000000000001, 116.88220656021007),\n",
       " (1.2000000000000002, 0.7000000000000001, 114.11383346222124),\n",
       " (1.2000000000000002, 0.8, 155.23732923019546),\n",
       " (1.3, 0.1, 655.4687996157628),\n",
       " (1.3, 0.2, 320.4050734817847),\n",
       " (1.3, 0.30000000000000004, 212.89114101820718),\n",
       " (1.3, 0.4, 162.71034173661565),\n",
       " (1.3, 0.5, 136.90610332265499),\n",
       " (1.3, 0.6000000000000001, 128.30046108517234),\n",
       " (1.3, 0.7000000000000001, 171.20246439579182),\n",
       " (1.4000000000000001, 0.1, 659.9073156054787),\n",
       " (1.4000000000000001, 0.2, 324.7199508300295),\n",
       " (1.4000000000000001, 0.30000000000000004, 217.71133232291675),\n",
       " (1.4000000000000001, 0.4, 169.44930466456032),\n",
       " (1.4000000000000001, 0.5, 150.50871902290598),\n",
       " (1.4000000000000001, 0.6000000000000001, 196.67789127149973),\n",
       " (1.5, 0.1, 665.0310819963079),\n",
       " (1.5, 0.2, 330.52521947737154),\n",
       " (1.5, 0.30000000000000004, 225.80665408795662),\n",
       " (1.5, 0.4, 185.61674610050972),\n",
       " (1.5, 0.5, 236.2888850076653),\n",
       " (1.6, 0.1, 671.8165906982445),\n",
       " (1.6, 0.2, 340.08339109255144),\n",
       " (1.6, 0.30000000000000004, 245.097743104334),\n",
       " (1.6, 0.4, 299.60074848080654),\n",
       " (1.7000000000000002, 0.1, 683.015401690246),\n",
       " (1.7000000000000002, 0.2, 363.29991328188146),\n",
       " (1.7000000000000002, 0.30000000000000004, 409.2308107352758),\n",
       " (1.8, 0.1, 711.3138990802947),\n",
       " (1.8, 0.2, 633.3575909635788),\n",
       " (1.9000000000000001, 0.1, 1313.3620469994794)]"
      ]
     },
     "execution_count": 33,
     "metadata": {},
     "output_type": "execute_result"
    }
   ],
   "source": [
    "points"
   ]
  },
  {
   "cell_type": "code",
   "execution_count": 28,
   "metadata": {},
   "outputs": [
    {
     "name": "stdout",
     "output_type": "stream",
     "text": [
      "global optimal point is located at (0.9, 0.9) with cost 95.84807538771722\n"
     ]
    }
   ],
   "source": [
    "global_opt = points[np.argmin(cost_list)]\n",
    "global_min_cost = np.min(cost_list)\n",
    "print(\"global optimal point is located at {} with cost {}\".format(global_opt, global_min_cost))"
   ]
  },
  {
   "cell_type": "markdown",
   "metadata": {
    "pycharm": {
     "name": "#%% md\n"
    }
   },
   "source": [
    "## Checking for Variational inequality"
   ]
  },
  {
   "cell_type": "code",
   "execution_count": 34,
   "metadata": {
    "pycharm": {
     "name": "#%%\n"
    }
   },
   "outputs": [
    {
     "name": "stdout",
     "output_type": "stream",
     "text": [
      "========================================================================================================================================================================================================================================================================================================================================================================================================================================================================================================================================================================================================================================================================================================================================================================================================================================================================================================================================================================================================================================================================================================================================================================================================================================================================================================================================================================================================================================================================================================================================================================================================================================================================================================================================================================================================================================================================================================================================================================================================================================================================================================================================================================================================================================================================================================================================================================================================================================================================================================================================================================================================================================================================================================================================================================================================================================================================================================================================================================================================================================================================================================================================================================================================================================================================================================================================================================================================================================================================================================================================================================================================================================================================================================================================================================================================================================================================================================================================================================================================================================================================================================================================================================================================================================================================================================================================================================================================================================================================================================================================================================================================================================================================================================================================================================================================================================================================================================================================================================================================================================================================================================================================================================================================================================================================================================================================================================================================================================================================================================================================================================================================================================================================================================================================================================================================================================================================================================================================================================================================================================================================================================================================================================================================================================================================================================================================================================================================================================================================================================================================================================================================================================================================================================================================================================================================================================================================================================================================================================================================================================================================================================================================================================================================================================================================================================================================================================================================================================================================================================================================================================================================================================================================================================================================================================================================================================================================================================================================================================================================================================================================================================================================================================================================================================================================================================================================================================================================================================================================================================================================================================================================================================================================================================================================================================================================================================================================================================================================================================================================================================================================================================================================================================================================================================================================================================================================================================================================================================================================================================================================================================================================================================================================================================================================================================================================================================================================================================================================================================================================================================================================================================================================================================================================================================================================================================================================================================================================================================================================================================================================================================================================================================================================================================================================================================================================================================================================================================================================================================================================================================================================================================================================================================================================================================================================================================================================================================================================================================================================================================================================================================================================================================================================================================================================================================================================================================================================================================================================================================================================================================================================================================================================================================================================================================================================================================================================================================================================================================================================================================================================================================================================================================================================================================================================================================================================================================================================================================================================================================================================================================================================================================================================================================================================================================================================================================================================================================================================================================================================================================================================================================================================================================================================================================================================================================================================================================================================================================================================================================================================================================================================================================================================================================================================================================================================================================================================================================================================================================================================================================================================================================================================================================================================================================================================================================================================================================================================================================================================================================================================================================================================================================================================================================================================================================================================================================================================================================================================================================================================================================================================================================================================================================================================================================================================================================================================================================================================================================================================================================================================================================================================================================================================================================================================================================================================================================================================================================================================================================================================================================================================================================================================================================================================================================================================================================================================================================================================================================================================================================================================================================================================================================================================================================================================================================================================================================================================================================================================================================================================================================================================================================================================================================================================================================================================================================================================================================================================================================================================================================================================================================================================================================================================================================================================================================================================================================================================================================================================================================================================================================================================================================================================================================================================================================================================================================================================================================================================================================================================================================================================================================================================================================================================================================================================================================================================================================================================================================================================================================================================================================================================================================================================================================================================================================================================================================================================================================================================================================================================================================================================================================================================================================================================================================================================================================================================================================================================================================================================================================================================================================================================================================================================================================================================================================================================================================================================================================================================================================================================================================================================================================================================================================================================================================================================================================================================================================================================================================================================================================================================================================================================================================================================================================================================================================================================================================================================================================================================================================================================================================================================================================================================================================================================================================================================================================================================================================================================================================================================================================================================================================================================================================================================================================================================================================================================================================================================================================================================================================================================================================================================================================================================================================================================================================================================================================================================================================================================================================================================================================================================================================================================================================================================================================================================================================================================================================================================================================================================================================================================================================================================================================================================================================================================================================================================================================================================================================================================================================================================================================================================================================================================================================================================================================================================================================================================================================================================================================================================================================================================================================================================================================================================================================================================================================================================================================================================================================================================================================================================================================================================================================================================================================================================================================================================================================================================================================================================================================================================================================================================================================================================================================================================================================================================================================================================================================================================================================================================================================================================================================================================================================================================================================================================================================================================================================================================================================================================================================================================================================================================================================================================================================================================================================================================================================================================================================================================================================================================================================================================================================================================================================================================================================================================================================================================================================================================================================================================================================================================================================================================================================================================================================================================================================================================================================================================================================================================================================================================================================================================================================================================================================================================================================================================================================================================================================================================================================================================================================================================================================================================================================================================================================================================================================================================================================================================================================================================================================================================================================================================================================================================================================================================================================================================================================================================================================================================================================================================================================================================================================================================================================================================================================================================================================================================================================================================================================================================================================================================================================================================================================================================================================================================================================================================================================================================================================================================================================================================================================================================================================================================================================================================================================================================================================================================================================================================================================================================================================================================================================================================================================================================================================================================================================================================================================================================================================================================================================================================================================================================================================================================================================================================================================================================================================================================================================================================================================================================================================================================================================================================================================================================================================================================================================================================================================================================================================================================================================================================================================================================================================================================================================================================================================================================================================================================================================================================================================================================================================================================================================================================================================================================================================================================================================================================================================================================================================================================================================================================================================================================================================================================================================================================================================================================================================================================================================================================================================================================================================================================================================================================================================================================================================================================================================================================================================================================================================================================================================================================================================================================================================================================================================================================================================================================================================================================================================================================================================================================================================================================================================================================================================================================================================================================================================================================================================================================================================================================================================================================================================================================================================================================================================================================================================================================================================================================================================================================================================================================================================================================================================================================================================================================================================================================================================================================================================================================================================================================================================================================================================================================================================================================================================================================================================================================================================================================================================================================================================================================================================================================================================================================================================================================================================================================================================================================================================================================================================================================================================================================================================================================================================================================================================================================================================================================================================================================================================================================================================================================================================================================================================================================================================================================================================================================================================================================================================================================================================================================================================================================================================================================================================================================================================================================================================================================================================================================================================================================================================================================================================================================================================================================================================================================================================================================================================================================================================================================================================================================================================================================================================================================================================================================================================================================================================================================================================================================================================================================================================================================================================================================================================================================================================================================================================================================================================================================================================================================================================================================================================================================================================================================================================================================================================================================================================================================================================================================================================================================================================================================================================================================================================================================================================================================================================================================================================================================================================================================================================================================================================================================================================================================================================================================================================================================================================================================================================================================================================================================================================================================================================================================================================================================================================================================================================================================================================================================================================================================================================================================================================================================================================================================================================================================================================================================================================================================================================================================================================================================================================================================================================================================================================================================================================================================================================================================================================================================================================================================================================================================================================================================================================================================================================================================================================================================================================================================================================================================================================================================================================================================================================================================================================================================================================================================================================================================================================================================================================================================================================================================================================================================================================================================================================================================================================================================================================================================================================================================================================================================================================================================================================================================================================================================================================================================================================================================================================================================================================================================================================================================================================================================================================================================================================================================================================================================================================================================================================================================================================================================================================================================================================================================================================================================================================================================================================================================================================================================================================================================================================================================================================================================================================================================================================================================================================================================================================================================================================================================================================================================================================================================================================================================================================================================================================================================================================================================================================================================================================================================================================================================================================================================================================================================================================================================================================================================================================================================================================================================================================================================================================================================================================================================================================================================================================================================================================================================================================================================================================================================================================================================================================================================================================================================================================================================================================================================================================================================================================================================================================================================================================================================================================================================================================================================================================================================================================================================================================================================================================================================================================================================================================================================================================================================================================================================================================================================================================================================================================================================================================================================================================================================================================================================================================================================================================================================================================================================================================================================================================================================================================================================================================================================================================================================================================================================================================================================================================================================================================================================================================================================================================================================================================================================================================================================================================================================================================================================================================================================================================================================================================================================================================================================================================================================================================================================================================================================================================================================================================================================================================================================================================================================================================================================================================================================================================================================================================================================================================================================================================================================================================================================================================================================================================================================================================================================================================================================================================================================================================================================================================================================================================================================================================================================================================================================================================================================================================================================================================================================================================================================================================================================================================================================================================================================================================================================================================================================================================================================================================================================================================================================================================================================================================================================================================================================================================================================================================================================================================================================================================================================================================================================================================================================================================================================================================================================================================================================================================================================================================================================================================================================================================================================================================================================================================================================================================================================================================================================================================================================================================================================================================================================================================================================================================================================================================================================================================================================================================================================================================================================================================================================================================================================================================================================================================================================================================================================================================================================================================================================================================================================================================================================================================================================================================================================================================================================================================================================================================================================================================================================================================================================================================================================================================================================================================================================================================================================================================================================================================================================================================================================================================================================================================================================================================================================================================================================================================================================================================================================================================================================================================================================================================================================================================================================================================================================================================================================================================================================================================================================================================================================================================================================================================================================================================================================================================================================================================================================================================================================================================================================================================================================================================================================================================================================================================================================================================================================================================================================================================================================================================================================================================================================================================================================================================================================================================================================================================================================================================================================================================================================================================================================================================================================================================================================================================================================================================================================================================================================================================================================================================================================================================================================================================================================================================================================================================================================================================================================================================================================================================================================================================================================================================================================================================================================================================================================================================================================================================================================================================================================================================================================================================================================================================================================================================================================================================================================================================================================================================================================================================================================================================================================================================================================================================================================================================================================================================================================================================================================================================================================================================================================================================================================================================================================================================================================================================================================================================================================================================================================================================================================================================================================================================================================================================================================================================================================================================================================================================================================================================================================================================================================================================================================================================================================================================================================================================================================================================================================================================================================================================================================================================================================================================================================================================================================================================================================================================================================================================================================================================================================================================================================================================================================================================================================================================================================================================================================================================================================================================================================================================================================================================================================================================================================================================================================================================================================================================================================================================================================================================================================================================================================================================================================================================================================================================================================================================================================================================================================================================================================================================================================================================================================================================================================================================================================================================================================================================================================================================================================================================================================================================================================================================================================================================================================================================================================================================================================================================================================================================================================================================================================================================================================================================================================================================================================================================================================================================================================================================================================================================================================================================================================================================================================================================================================================================================================================================================================================================================================================================================================================================================================================================================================================================================================================================================================================================================================================================================================================================================================================================================================================================================================================================================================================================================================================================================================================================================================================================================================================================================================================================================================================================================================================================================================================================================================================================================================================================================================================================================================================================================================================================================================================================================================================================================================================================================================================================================================================================================================================================================================================================================================================================================================================================================================================================================================================================================================================================================================================================================================================================================================================================================================================================================================================================================================================================================================================================================================================================================================================================================================================================================================================================================================================================================================================================================================================================================================================================================================================================================================================================================================================================================================================================================================================================================================================================================================================================================================================================================================================================================================================================================================================================================================================================================================================================================================================================================================================================================================================================================================================================================================================================================================================================================================================================================================================================================================================================================================================================================================================================================================================================================================================================================================================================================================================================================================================================================================================================================================================================================================================================================================================================================================================================================================================================================================================================================================================================================================================================================================================================================================================================================================================================================================================================================================================================================================================================================================================================================================================================================================================================================================================================================================================================================================================================================================================================================================================================================================================================================================================================================================================================================================================================================================================================================================================================================================================================================================================================================================================================================================================================================================================================================================================================================================================================================================================================================================================================================================================================================================================================================================================================================================================================================================================================================================================================================================================================================================================================================================================================================================================================================================================================================================================================================================================================================================================================================================================================================================================================================================================================================================================================================================================================================================================================================================================================================================================================================================================================================================================================================================================================================================================================================================================================================================================================================================================================================================================================================================================================================================================================================================================================================================================================================================================================================================================================================================================================================================================================================================================================================================================================================================================================================================================================================================================================================================================================================================================================================================================================================================================================================================================================================================================================================================================================================================================================================================================================================================================================================================================================================================================================================================================================================================================================================================================================================================================================================================================================================================================================================================================================================================================================================================================================================================================================================================================================================================================================================================================================================================================================================================================================================================================================================================================================================================================================================================================================================================================================================================================================================================================================================================================================================================================================================================================================================================================================================================================================================================================================================================================================================================================================================================================================================================================================================================================================================================================================================================================================================================================================================================================================================================================================================================================================================================================================================================================================================================================================================================================================================================================================================================================================================================================================================================================================================================================================================================================================================================================================================================================================================================================================================================================================================================================================================================================================================================================================================================================================================================================================================================================================================================================================================================================================================================================================================================================================================================================================================================================================================================================================================================================================================================================================================================================================================================================================================================================================================================================================================================================================================================================================================================================================================================================================================================================================================================================================================================================================================================================================================================================================================================================================================================================================================================================================================================================================================================================================================================================================================================================================================================================================================================================================================================================================================================================================================================================================================================================================================================================================================================================================================================================================================================================================================================================================================================================================================================================================================================================================================================================================================================================================================================================================================================================================================================================================================================================================================================================================================================================================================================================================================================================================================================================================================================================================================================================================================================================================================================================================================================================================================================================================================================================================================================================================================================================================================================================================================================================================================================================================================================================================================================================================================================================================================================================================================================================================================================================================================================================================================================================================================================================================================================================================================================================================================================================================================================================================================================================================================================================================================================================================================================================================================================================================================================================================================================================================================================================================================================================================================================================================================================================================================================================================================================================================================================================================================================================================================================================================================================================================================================================================================================================================================================================================================================================================================================================================================================================================================================================================================================================================================================================================================================================================================================================================================================================================================================================================================================================================================================================================================================================================================================================================================================================================================================================================================================================================================================================================================================================================================================================================================================================================================================================================================================================================================================================================================================================================================================================================================================================================================================================================================================================================================================================================================================================================================================================================================================================================================================================================================================================================================================================================================================================================================================================================================================================================================================================================================================================================================================================================================================================================================================================================================================================================================================================================================================================================================================================================================================================================================================================================================================================================================================================================================================================================================================================================================================================================================================================================================================================================================================================================================================================================================================================================================================================================================================================================================================================================================================================================================================================================================================================================================================================================================================================================================================================================================================================================================================================================================================================================================================================================================================================================================================================================================================================================================================================================================================================================================================================================================================================================================================================================================================================================================================================================================================================================================================================================================================================================================================================================================================================================================================================================================================================================================================================================================================================================================================================================================================================================================================================================================================================================================================================================================================================================================================================================================================================================================================================================================================================================================================================================================================================================================================================================================================================================================================================================================================================================================================================================================================================================================================================================================================================================================================================================================================================================================================================================================================================================================================================================================================================================================================================================================================================================================================================================================================================================================================================================================================================================================================================================================================================================================================================================================================================================================================================================================================================================================================================================================================================================================================================================================================================================================================================================================================================================================================================================================================================================================================================================================================================================================================================================================================================================================================================================================================================================================================================================================================================================================================================================================================================================================================================================================================================================================================================================================================================================================================================================================================================================================================================================================================================================================================================================================================================================================================================================================================================================================================================================================================================================================================================================================================================================================================================================================================================================================================================================================================================================================================================================================================================================================================================================================================================================================================================================================================================================================================================================================================================================================================================================================================================================================================================================================================================================================================================================================================================================================================================================================================================================================================================================================================================================================================================================================================================================================================================================================================================================================================================================================================================================================================================================================================================================================================================================================================================================================================================================================================================================================================================================================================================================================================================================================================================================================================================================================================================================================================================================================================================================================================================================================================================================================================================================================================================================================================================================================================================================================================================================================================================================================================================================================================================================================================================================================================================================================================================================================================================================================================================================================================================================================================================================================================================================================================================================================================================================================================"
     ]
    }
   ],
   "source": [
    "for i in range(100000):\n",
    "    if i % 1000 == 0:\n",
    "        print('=', end='')\n",
    "    print('=', end='')\n",
    "    K_1 = K_generator(A, B)\n",
    "    K_2 = K_generator(A, B)\n",
    "    Ak_1 = A - B@K_1\n",
    "    Ak_2 = A - B@K_2\n",
    "\n",
    "    P1_1 = solve_discrete_lyapunov(Ak_1, Q_dict[1])\n",
    "    P2_1 = solve_discrete_lyapunov(Ak_1, Q_dict[2])\n",
    "\n",
    "\n",
    "    P1_2 = solve_discrete_lyapunov(Ak_2, Q_dict[1])\n",
    "    P2_2 = solve_discrete_lyapunov(Ak_2, Q_dict[2])\n",
    "\n",
    "    X0_1 = solve_discrete_lyapunov(Ak_1.T, np.eye(n))\n",
    "    X0_2 = solve_discrete_lyapunov(Ak_2.T, np.eye(n))\n",
    "\n",
    "\n",
    "    D1_1 = (-2*B_dict[1]@P1_1@Ak_1@X0_1)[0][0]\n",
    "    D2_1 = (-2*B_dict[2]@P2_1@Ak_1@X0_1)[1][1]\n",
    "    F_1 = np.array([D1_1, D2_1])\n",
    "\n",
    "    D1_2 = (-2*B_dict[1]@P1_2@Ak_2@X0_2)[0][0]\n",
    "    D2_2 = (-2*B_dict[2]@P2_2@Ak_2@X0_2)[1][1]\n",
    "    F_2 = np.array([D1_2, D2_2])\n",
    "\n",
    "    assert (F_1 - F_2)@(K_1 - K_2).diagonal() > LA.norm((K_1 - K_2).diagonal())**2"
   ]
  },
  {
   "cell_type": "code",
   "execution_count": 31,
   "metadata": {
    "pycharm": {
     "name": "#%%\n"
    }
   },
   "outputs": [],
   "source": []
  },
  {
   "cell_type": "code",
   "execution_count": null,
   "metadata": {
    "pycharm": {
     "name": "#%%\n"
    }
   },
   "outputs": [],
   "source": []
  },
  {
   "cell_type": "markdown",
   "metadata": {},
   "source": [
    "## plotting for different alpha"
   ]
  },
  {
   "cell_type": "code",
   "execution_count": 91,
   "metadata": {
    "pycharm": {
     "name": "#%%\n"
    }
   },
   "outputs": [
    {
     "name": "stdout",
     "output_type": "stream",
     "text": [
      "=local opt is [1. 1. 1.] with cost 14.0\n",
      "global_min_cost =  14.0\n",
      "=local opt is [1. 1. 1.] with cost 14.00280084030812\n",
      "global_min_cost =  14.00280084030812\n",
      "=local opt is [1. 1. 1.] with cost 14.01121345974287\n",
      "global_min_cost =  14.01121345974287\n",
      "=local opt is [1. 1. 1.] with cost 14.02526826532478\n",
      "global_min_cost =  14.02526826532478\n",
      "=local opt is [1. 1. 1.] with cost 14.045016309509064\n",
      "global_min_cost =  14.045016309509064\n",
      "=local opt is [1. 1. 1.] with cost 14.070529860003543\n",
      "global_min_cost =  14.070529860003543\n",
      "=local opt is [1. 1. 1.] with cost 14.101903215211124\n",
      "global_min_cost =  14.101903215211124\n",
      "=local opt is [1. 1. 1.] with cost 14.139253783768947\n",
      "global_min_cost =  14.139253783768947\n",
      "=local opt is [1. 1. 1.] with cost 14.182723453088272\n",
      "global_min_cost =  14.182723453088272\n",
      "=local opt is [1. 1. 1.] with cost 14.232480279182418\n",
      "global_min_cost =  14.232480279182418\n",
      "=local opt is [1. 1. 1.] with cost 14.28872053872054\n",
      "global_min_cost =  14.28872053872054\n",
      "=local opt is [1. 1. 1.] with cost 14.35167119455202\n",
      "global_min_cost =  14.35167119455202\n",
      "=local opt is [1. 1. 1.] with cost 14.421592838400986\n",
      "global_min_cost =  14.421592838400986\n",
      "=local opt is [1. 1. 1.] with cost 14.49878318965899\n",
      "global_min_cost =  14.49878318965899\n",
      "=local opt is [1. 1. 1.] with cost 14.583581248016682\n",
      "global_min_cost =  14.58318742027457\n",
      "=local opt is [1. 1. 1.] with cost 14.676372221129254\n",
      "global_min_cost =  14.669655503650823\n",
      "=local opt is [0.9 1.  1. ] with cost 14.76413146339072\n",
      "global_min_cost =  14.757119388100008\n",
      "=local opt is [0.9 1.  1. ] with cost 14.864553693616747\n",
      "global_min_cost =  14.845083412756154\n",
      "=local opt is [0.9 1.  1. ] with cost 14.973110728728376\n",
      "global_min_cost =  14.934421628047714\n",
      "=local opt is [0.9 1.  1. ] with cost 15.09026210212118\n",
      "global_min_cost =  15.030079261143444\n",
      "=local opt is [0.9 1.  1. ] with cost 15.216526231377717\n",
      "global_min_cost =  15.13231981981982\n",
      "=local opt is [0.9 1.  1. ] with cost 15.352488702329307\n",
      "global_min_cost =  15.241436155504978\n",
      "=local opt is [0.9 1.  1. ] with cost 15.498812156485137\n",
      "global_min_cost =  15.357753558083125\n",
      "=local opt is [0.9 1.  1. ] with cost 15.65624814512167\n",
      "global_min_cost =  15.481633354385373\n",
      "=local opt is [0.9 1.  1. ] with cost 15.825651412473901\n",
      "global_min_cost =  15.613477100357763\n",
      "=local opt is [0.9 1.  1. ] with cost 16.007997200979656\n"
     ]
    },
    {
     "name": "stderr",
     "output_type": "stream",
     "text": [
      "/Users/lijiayi/Documents/decentralized control/LQ game code/venv/lib/python3.8/site-packages/scipy/linalg/_solvers.py:214: LinAlgWarning: Ill-conditioned matrix (rcond=1.17179e-17): result may not be accurate.\n",
      "  x = solve(lhs, q.flatten())\n",
      "/Users/lijiayi/Documents/decentralized control/LQ game code/venv/lib/python3.8/site-packages/scipy/linalg/_solvers.py:214: LinAlgWarning: Ill-conditioned matrix (rcond=1.10618e-17): result may not be accurate.\n",
      "  x = solve(lhs, q.flatten())\n"
     ]
    },
    {
     "name": "stdout",
     "output_type": "stream",
     "text": [
      "global_min_cost =  15.753731477001919\n",
      "=local opt is [0.9 1.  1. ] with cost 16.20440234485845\n",
      "global_min_cost =  15.90289402537509\n",
      "=local opt is [0.9 1.  1. ] with cost 16.416151150691718\n",
      "global_min_cost =  16.06151988770778\n",
      "=local opt is [0.9 1.  1. ] with cost 16.644727378383227\n",
      "global_min_cost =  16.22954236582222\n",
      "=local opt is [0.8 1.  1. ] with cost 16.786985219823258\n",
      "global_min_cost =  16.394919037995876\n",
      "=local opt is [0.8 1.  1. ] with cost 17.01897118495168\n",
      "global_min_cost =  16.569960449487336\n",
      "=local opt is [0.8 1.  1. ] with cost 17.2682134717981\n",
      "global_min_cost =  16.746767029471577\n",
      "=local opt is [0.8 1.  1. ] with cost 17.536436265284614\n",
      "global_min_cost =  16.92608098930796\n",
      "=local opt is [0.8 1.  1. ] with cost 17.825644327737006\n",
      "global_min_cost =  17.115098997445937\n",
      "=local opt is [0.8 1.  1. ] with cost 18.138182919038854\n",
      "global_min_cost =  17.301695373673105\n",
      "=local opt is [0.8 1.  1. ] with cost 18.476814066123445\n",
      "global_min_cost =  17.48903173535527\n",
      "=local opt is [0.8 1.  1. ] with cost 18.84481465093195\n",
      "global_min_cost =  17.685836723603977\n",
      "=local opt is [0.8 1.  1. ] with cost 19.24610398612311\n",
      "global_min_cost =  17.892653358250666\n",
      "=local opt is [0.8 1.  1. ] with cost 19.68541179690532\n",
      "global_min_cost =  18.110077441108672\n",
      "=local opt is [0.8 1.  1. ] with cost 20.16850241221723\n",
      "global_min_cost =  18.33876398809321\n",
      "=local opt is [0.7 1.  1. ] with cost 20.219742573288308\n",
      "global_min_cost =  18.579434697855753\n",
      "=local opt is [0.7 1.  1. ] with cost 20.684897784602654\n",
      "global_min_cost =  18.832886660196618\n",
      "=local opt is [0.7 1.  1. ] with cost 21.193448772814932\n",
      "global_min_cost =  19.100002555540414\n",
      "=local opt is [0.7 1.  1. ] with cost 21.752076572792156\n",
      "global_min_cost =  19.381762658062367\n",
      "=local opt is [0.7 1.  1. ] with cost 22.369036793412626\n",
      "global_min_cost =  19.679259033885476\n",
      "=local opt is [0.7 1.  1. ] with cost 23.054661594226705\n",
      "global_min_cost =  19.968599213508476\n",
      "=local opt is [0.7 1.  1. ] with cost 23.82206834513017\n",
      "global_min_cost =  20.27279406216183\n",
      "=local opt is [0.7 1.  1. ] with cost 24.688181779210765\n",
      "global_min_cost =  20.592966056619613\n",
      "=local opt is [0.7 1.  1. ] with cost 25.675244600898203\n",
      "global_min_cost =  20.930267011152512\n",
      "=local opt is [0.6 1.  1. ] with cost 25.26009668445736\n",
      "global_min_cost =  21.266534844738317\n"
     ]
    }
   ],
   "source": [
    "delta_list = []\n",
    "cost_diff_list = []\n",
    "\n",
    "# A = np.eye(PLAYER)\n",
    "# q_diag = np.random.randint(1, 10, size=PLAYER)\n",
    "# Q = np.diag(q_diag)\n",
    "# R = np.eye(PLAYER) * np.random.randint(1, 10, size=1)\n",
    "# r_diag = R.diagonal()\n",
    "# Q_dict = {}\n",
    "# for i in range(1, PLAYER+1):\n",
    "#     curr_q = np.zeros(PLAYER)\n",
    "#     curr_q[i-1] = q_diag[i-1]\n",
    "#     Q_dict[i] = np.diagflat(curr_q)\n",
    "\n",
    "for alpha in np.arange(0, 0.5, 0.01):\n",
    "    print('=', end='')\n",
    "    # for beta in np.arange(0, 1, 0.1):\n",
    "    B = np.array([[1, alpha, alpha], [alpha, 1, alpha], [alpha, alpha, 1]])\n",
    "    B_dict = {}\n",
    "    for i in range(1, PLAYER+1):\n",
    "        B_i = np.zeros_like(B)\n",
    "        B_i[:, i-1] = B[:, i-1]\n",
    "        B_dict[i] = B_i\n",
    "    K_rand = K_generator(A, B)\n",
    "    X_inv = LA.inv(B)\n",
    "\n",
    "    gap = 100\n",
    "    iter_points = []\n",
    "    k1 = 0.5\n",
    "    K_list = np.ones(PLAYER) #initialize each ki in the list, which is 0-indexed\n",
    "    K_list[0] = k1\n",
    "\n",
    "    while gap > 1e-5:\n",
    "        A_tilda = A - B_dict[1]*K_list[0]\n",
    "        min_k_dict = {1: (k1, 10000, 10000)} #1-indexed\n",
    "        for i in range(2, PLAYER+1):\n",
    "            min_k_dict[i] = (100000, 10000, 100000) #(ki, cost, Pi)\n",
    "        for j in range(1, len(K_list)):\n",
    "            for curr_kj in np.arange(0.1, 20, 0.1):\n",
    "                curr_K = K_list.copy()\n",
    "                curr_K[j] = curr_kj\n",
    "                K = np.diag(curr_K)\n",
    "                if np.all(LA.eigvals(K-2*X_inv) < 0):\n",
    "                    Ak = A - B@K\n",
    "                    Pj = solve_discrete_lyapunov(Ak, Q_dict[j+1])\n",
    "                    cost = np.trace(Pj)\n",
    "                    if cost < min_k_dict[j+1][1]:\n",
    "                        min_k_dict[j+1] = (K_list[j], cost, Pj)\n",
    "                        #iter_points.append((K_list, min_k_dict[j+1][1], j))\n",
    "                # else:\n",
    "                #     break\n",
    "            K_list[j] = min_k_dict[j+1][0]\n",
    "            iter_points.append((K_list.copy(), min_k_dict[j+1][1], j))\n",
    "\n",
    "            for k1 in np.arange(0.1, 20, 0.1):\n",
    "                curr_K = K_list.copy()\n",
    "                curr_K[0] = k1\n",
    "                K = np.diag(curr_K)\n",
    "                if np.all(LA.eigvals(K-2*X_inv) < 0):\n",
    "                    Ak = A - B@K\n",
    "                    P1 = solve_discrete_lyapunov(Ak, Q_dict[1])\n",
    "                    cost = np.trace(P1)\n",
    "                    #print(curr_K)\n",
    "                    if cost < min_k_dict[1][1]:\n",
    "                        min_k_dict[1] = (k1, cost, P1)\n",
    "            K_list[0] = min_k_dict[1][0]\n",
    "            iter_points.append((K_list.copy(),  min_k_dict[1][1], 0))\n",
    "        p1 = iter_points[-1][0]\n",
    "        p2 = iter_points[-2][0]\n",
    "        gap = LA.norm(np.subtract(p1, p2))\n",
    "\n",
    "    local_opt = iter_points[-1][0]\n",
    "\n",
    "    K = np.diag(local_opt)\n",
    "    Ak = A - B@K\n",
    "    P = solve_discrete_lyapunov(Ak, Q)\n",
    "    local_min_cost = np.trace(P)\n",
    "    print(\"local opt is {} with cost {}\".format(local_opt, local_min_cost))\n",
    "\n",
    "    #grid search\n",
    "    X_inv = LA.inv(B)\n",
    "    points = []\n",
    "    cost_list = []\n",
    "\n",
    "    for k1 in np.arange(0, 10, 0.1):\n",
    "        for k2 in np.arange(0, 10, 0.1):\n",
    "            for k3 in np.arange(0, 10, 0.1):\n",
    "                K = np.diag([k1, k2, k3])\n",
    "                Ak = A-B@K\n",
    "                if np.all(LA.eigvals(K-2*X_inv) < 0):\n",
    "                    try:\n",
    "                        P = solve_discrete_lyapunov(Ak, Q)\n",
    "                        points.append((k1, k2, k3))\n",
    "                        cost_list.append(np.trace(P))\n",
    "                    except LinAlgError:\n",
    "                        continue\n",
    "    cost_list = [n for n in cost_list if n > 0]\n",
    "    global_opt = points[np.argmin(cost_list)]\n",
    "\n",
    "    global_min_cost = np.min(cost_list)\n",
    "    print('global_min_cost = ', global_min_cost)\n",
    "    delta = LA.norm(global_opt - local_opt) #location different\n",
    "    cost_diff = (local_min_cost - global_min_cost)/global_min_cost #cost diff from global_min_cost(grid search)\n",
    "\n",
    "    delta_list.append(delta)\n",
    "    cost_diff_list.append(cost_diff)\n"
   ]
  },
  {
   "cell_type": "code",
   "execution_count": 122,
   "metadata": {
    "pycharm": {
     "name": "#%%\n"
    }
   },
   "outputs": [],
   "source": []
  },
  {
   "cell_type": "code",
   "execution_count": 92,
   "metadata": {
    "pycharm": {
     "name": "#%%\n"
    }
   },
   "outputs": [
    {
     "data": {
      "text/plain": [
       "Text(0.5, 1.0, 'dist between global opt and alg convergence point over alpha')"
      ]
     },
     "execution_count": 92,
     "metadata": {},
     "output_type": "execute_result"
    },
    {
     "data": {
      "image/png": "[encoded data removed]",
      "text/plain": [
       "<Figure size 432x288 with 1 Axes>"
      ]
     },
     "metadata": {
      "needs_background": "light"
     },
     "output_type": "display_data"
    }
   ],
   "source": [
    "plt.plot(np.arange(0, 0.5, 0.01), delta_list)\n",
    "plt.xlabel(\"alpha\")\n",
    "plt.ylabel(\"dist\")\n",
    "plt.title(\"dist between global opt and alg convergence point over alpha\")"
   ]
  },
  {
   "cell_type": "code",
   "execution_count": 93,
   "metadata": {
    "pycharm": {
     "name": "#%%\n"
    }
   },
   "outputs": [
    {
     "data": {
      "text/plain": [
       "Text(0.5, 1.0, 'cost diff between global opt and alg convergence point over alpha in percentage')"
      ]
     },
     "execution_count": 93,
     "metadata": {},
     "output_type": "execute_result"
    },
    {
     "data": {
      "image/png": "[encoded data removed]",
      "text/plain": [
       "<Figure size 432x288 with 1 Axes>"
      ]
     },
     "metadata": {
      "needs_background": "light"
     },
     "output_type": "display_data"
    }
   ],
   "source": [
    "plt.plot(np.arange(0, 0.5, 0.01), np.multiply(cost_diff_list, 100))\n",
    "plt.xlabel(\"alpha\")\n",
    "plt.ylabel(\"cost percentage diff\")\n",
    "plt.title(\"cost diff between global opt and alg convergence point over alpha in percentage\")"
   ]
  },
  {
   "cell_type": "code",
   "execution_count": 94,
   "metadata": {
    "pycharm": {
     "name": "#%%\n"
    }
   },
   "outputs": [
    {
     "data": {
      "text/plain": [
       "array([0.00000000e+00, 0.00000000e+00, 0.00000000e+00, 0.00000000e+00,\n",
       "       0.00000000e+00, 0.00000000e+00, 0.00000000e+00, 0.00000000e+00,\n",
       "       0.00000000e+00, 0.00000000e+00, 0.00000000e+00, 0.00000000e+00,\n",
       "       0.00000000e+00, 0.00000000e+00, 2.70056011e-03, 4.57864704e-02,\n",
       "       4.75165587e-02, 1.31156426e-01, 2.59059920e-01, 4.00415992e-01,\n",
       "       5.56467300e-01, 7.28622590e-01, 9.18484581e-01, 1.12788352e+00,\n",
       "       1.35891775e+00, 1.61400316e+00, 1.89593365e+00, 2.20795582e+00,\n",
       "       2.55820530e+00, 2.39138834e+00, 2.70978761e+00, 3.11371408e+00,\n",
       "       3.60600470e+00, 4.15157009e+00, 4.83471433e+00, 5.64801040e+00,\n",
       "       6.55314162e+00, 7.56428128e+00, 8.69866162e+00, 9.97743591e+00,\n",
       "       8.82862101e+00, 9.83392062e+00, 1.09604499e+01, 1.22296096e+01,\n",
       "       1.36680845e+01, 1.54545762e+01, 1.75075733e+01, 1.98864783e+01,\n",
       "       2.26704112e+01, 1.87786203e+01])"
      ]
     },
     "execution_count": 94,
     "metadata": {},
     "output_type": "execute_result"
    }
   ],
   "source": [
    "np.multiply(cost_diff_list, 100)"
   ]
  },
  {
   "cell_type": "markdown",
   "metadata": {
    "pycharm": {
     "name": "#%% md\n"
    }
   },
   "source": [
    "2-player case"
   ]
  },
  {
   "cell_type": "code",
   "execution_count": 17,
   "metadata": {
    "pycharm": {
     "name": "#%%\n"
    }
   },
   "outputs": [],
   "source": [
    "A = np.eye(PLAYER)\n",
    "q_diag = np.random.randint(1, 2, size=PLAYER)\n",
    "Q = np.diag(q_diag)\n",
    "R = np.eye(PLAYER) * np.random.randint(1, 10, size=1)\n",
    "r_diag = R.diagonal()\n",
    "Q_dict = {}\n",
    "for i in range(1, PLAYER+1):\n",
    "    curr_q = np.zeros(PLAYER)\n",
    "    curr_q[i-1] = q_diag[i-1]\n",
    "    Q_dict[i] = np.diagflat(curr_q)\n"
   ]
  },
  {
   "cell_type": "code",
   "execution_count": 18,
   "metadata": {},
   "outputs": [
    {
     "name": "stdout",
     "output_type": "stream",
     "text": [
      "=local opt is [1. 1.] with cost 2.0\n",
      "global opt is (1.0, 1.0) with cost 2.0\n",
      "=local opt is [1. 1.] with cost 2.0002000200020005\n",
      "global opt is (1.0, 1.0) with cost 2.0002000200020005\n",
      "=local opt is [1. 1.] with cost 2.000800320128051\n",
      "global opt is (1.0, 1.0) with cost 2.000800320128051\n",
      "=local opt is [1. 1.] with cost 2.0018016214593133\n",
      "global opt is (1.0, 1.0) with cost 2.0018016214593133\n",
      "=local opt is [1. 1.] with cost 2.003205128205128\n",
      "global opt is (1.0, 1.0) with cost 2.003205128205128\n",
      "=local opt is [1. 1.] with cost 2.0050125313283207\n",
      "global opt is (1.0, 1.0) with cost 2.0050125313283207\n",
      "=local opt is [1. 1.] with cost 2.007226013649137\n",
      "global opt is (1.0, 1.0) with cost 2.007226013649137\n",
      "=local opt is [1. 1.] with cost 2.009848256456637\n",
      "global opt is (1.0, 1.0) with cost 2.009848256456637\n",
      "=local opt is [1. 1.] with cost 2.0128824476650564\n",
      "global opt is (1.0, 1.0) with cost 2.0128824476650564\n",
      "=local opt is [1. 1.] with cost 2.0163322915616493\n",
      "global opt is (1.0, 1.0) with cost 2.0163322915616493\n",
      "=local opt is [1. 1.] with cost 2.0202020202020203\n",
      "global opt is (1.0, 1.0) with cost 2.0202020202020203\n",
      "=local opt is [1. 1.] with cost 2.0244964065188786\n",
      "global opt is (1.0, 1.0) with cost 2.0244964065188786\n",
      "=local opt is [1. 1.] with cost 2.029220779220779\n",
      "global opt is (1.0, 1.0) with cost 2.029220779220779\n",
      "=local opt is [1. 1.] with cost 2.034381039568711\n",
      "global opt is (1.0, 1.0) with cost 2.034381039568711\n",
      "=local opt is [1. 1.] with cost 2.039983680130559\n",
      "global opt is (1.0, 1.0) with cost 2.039983680130559\n",
      "=local opt is [1. 1.] with cost 2.0460358056265986\n",
      "global opt is (1.0, 1.0) with cost 2.0460358056265986\n",
      "=local opt is [1. 1.] with cost 2.052545155993432\n",
      "global opt is (1.0, 1.0) with cost 2.052545155993432\n",
      "=local opt is [1. 1.] with cost 2.0595201318092884\n",
      "global opt is (1.0, 1.0) with cost 2.0595201318092884\n",
      "=local opt is [1. 1.] with cost 2.0669698222405954\n",
      "global opt is (1.0, 1.0) with cost 2.0669698222405954\n",
      "=local opt is [1. 1.] with cost 2.0749040356883492\n",
      "global opt is (1.0, 1.0) with cost 2.0749040356883492\n",
      "=local opt is [1. 1.] with cost 2.0833333333333335\n",
      "global opt is (1.0, 1.0) with cost 2.0833333333333335\n",
      "=local opt is [1. 1.] with cost 2.092269065801862\n",
      "global opt is (1.0, 1.0) with cost 2.092269065801862\n",
      "=local opt is [1. 1.] with cost 2.101723413198823\n",
      "global opt is (1.0, 1.0) with cost 2.101723413198823\n",
      "=local opt is [1. 1.] with cost 2.1117094287825995\n",
      "global opt is (1.0, 1.0) with cost 2.1117094287825995\n",
      "=local opt is [1. 1.] with cost 2.1222410865874366\n",
      "global opt is (1.0, 1.0) with cost 2.1222410865874366\n",
      "=local opt is [0.9 1. ] with cost 2.132548053137643\n",
      "global opt is (0.9, 1.0) with cost 2.132548053137643\n",
      "=local opt is [0.9 1. ] with cost 2.143202260202715\n",
      "global opt is (0.9, 1.0) with cost 2.143202260202715\n",
      "=local opt is [0.9 1. ] with cost 2.154387965063762\n",
      "global opt is (0.9, 0.9) with cost 2.154211717769196\n",
      "=local opt is [0.9 1. ] with cost 2.16612025450302\n",
      "global opt is (0.9, 0.9) with cost 2.1650778427659176\n",
      "=local opt is [0.9 1. ] with cost 2.1784152045935867\n",
      "global opt is (0.9, 0.9) with cost 2.1764603201633186\n",
      "=local opt is [0.9 1. ] with cost 2.1912899415193934\n",
      "global opt is (0.9, 0.9) with cost 2.1883743632050727\n",
      "=local opt is [0.9 1. ] with cost 2.20476270777125\n",
      "global opt is (0.9, 0.9) with cost 2.20083616856423\n",
      "=local opt is [0.9 1. ] with cost 2.2188529342356302\n",
      "global opt is (0.9, 0.9) with cost 2.213862979276171\n",
      "=local opt is [0.9 1. ] with cost 2.2335813187534415\n",
      "global opt is (0.9, 0.9) with cost 2.2274731533336634\n",
      "=local opt is [0.9 1. ] with cost 2.248969911794551\n",
      "global opt is (0.9, 0.9) with cost 2.2416862385123952\n",
      "=local opt is [0.9 1. ] with cost 2.265042209971493\n",
      "global opt is (0.9, 0.9) with cost 2.256523054064311\n",
      "=local opt is [0.9 1. ] with cost 2.2818232582039553\n",
      "global opt is (0.9, 0.9) with cost 2.272005779994534\n",
      "=local opt is [0.9 1. ] with cost 2.299339761446005\n",
      "global opt is (0.9, 0.9) with cost 2.2881580547270284\n",
      "=local opt is [0.9 1. ] with cost 2.317620207002406\n",
      "global opt is (0.9, 0.9) with cost 2.3050050820661943\n",
      "=local opt is [0.9 1. ] with cost 2.336694998591085\n",
      "global opt is (0.9, 0.9) with cost 2.322573748478429\n",
      "=local opt is [0.9 1. ] with cost 2.356596603458528\n",
      "global opt is (0.9, 0.9) with cost 2.340892751851656\n",
      "=local opt is [0.9 1. ] with cost 2.3773597140266025\n",
      "global opt is (0.9, 0.9) with cost 2.3599927430448275\n",
      "=local opt is [0.9 1. ] with cost 2.399021425746919\n",
      "global opt is (0.9, 0.9) with cost 2.3799064817169016\n",
      "=local opt is [0.9 1. ] with cost 2.4216214330665733\n",
      "global opt is (0.9, 0.9) with cost 2.4006690081297757\n",
      "=local opt is [0.9 1. ] with cost 2.4452022456723848\n",
      "global opt is (0.9, 0.9) with cost 2.4223178328570487\n",
      "=local opt is [0.9 1. ] with cost 2.4698094274856515\n",
      "global opt is (0.9, 0.9) with cost 2.444893146606035\n",
      "=local opt is [0.9 1. ] with cost 2.4954918612337105\n",
      "global opt is (0.9, 0.9) with cost 2.46843805268122\n",
      "=local opt is [0.9 1. ] with cost 2.5223020418370696\n",
      "global opt is (0.9, 0.9) with cost 2.492998824991732\n",
      "=local opt is [0.9 1. ] with cost 2.5502964023326458\n",
      "global opt is (0.9, 0.9) with cost 2.5186251949435765\n",
      "=local opt is [0.9 1. ] with cost 2.57953567661784\n",
      "global opt is (0.9, 0.9) with cost 2.545370671071815\n",
      "=local opt is [0.9 1. ] with cost 2.6100853039628547\n",
      "global opt is (0.9, 0.9) with cost 2.5732928958735415\n",
      "=local opt is [0.8 1. ] with cost 2.6410518643889915\n",
      "global opt is (0.9, 0.9) with cost 2.6024540450179354\n",
      "=local opt is [0.8 1. ] with cost 2.6723281183624144\n",
      "global opt is (0.9, 0.9) with cost 2.632921274957537\n",
      "=local opt is [0.8 1. ] with cost 2.705014039000679\n",
      "global opt is (0.9, 0.9) with cost 2.66476722597295\n",
      "=local opt is [0.8 1. ] with cost 2.7391899795288497\n",
      "global opt is (0.9, 0.9) with cost 2.6980705888862215\n",
      "=local opt is [0.8 1. ] with cost 2.7749431351407834\n",
      "global opt is (0.9, 0.9) with cost 2.732916745118855\n",
      "=local opt is [0.8 1. ] with cost 2.8123682844326607\n",
      "global opt is (0.9, 0.9) with cost 2.7693984915026277\n",
      "=local opt is [0.8 1. ] with cost 2.851568631375706\n",
      "global opt is (0.9, 0.9) with cost 2.807616863342168\n",
      "=local opt is [0.8 1. ] with cost 2.8926567642418837\n",
      "global opt is (0.9, 0.9) with cost 2.847682071762555\n",
      "=local opt is [0.8 1. ] with cost 2.935755751055736\n",
      "global opt is (0.9, 0.9) with cost 2.8897145744602843\n",
      "=local opt is [0.8 1. ] with cost 2.9810003950092625\n",
      "global opt is (0.8, 0.9) with cost 2.933227068802559\n",
      "=local opt is [0.8 1. ] with cost 3.0285386780244377\n",
      "global opt is (0.9, 0.8) with cost 2.9779442477768914\n",
      "=local opt is [0.8 1. ] with cost 3.078533426510911\n",
      "global opt is (0.8, 0.9) with cost 3.02499138394408\n",
      "=local opt is [0.8 1. ] with cost 3.1311642406444142\n",
      "global opt is (0.8, 0.9) with cost 3.0745416458872388\n",
      "=local opt is [0.8 1. ] with cost 3.1866297375757053\n",
      "global opt is (0.9, 0.8) with cost 3.126786890803943\n",
      "=local opt is [0.8 1. ] with cost 3.24515017038401\n",
      "global opt is (0.8, 0.9) with cost 3.1819402833190935\n",
      "=local opt is [0.8 1. ] with cost 3.3069704989924285\n",
      "global opt is (0.9, 0.8) with cost 3.2402393722800573\n",
      "=local opt is [0.8 1. ] with cost 3.3723640075708983\n",
      "global opt is (0.9, 0.8) with cost 3.301949722227832\n",
      "=local opt is [0.8 1. ] with cost 3.44163658638076\n",
      "global opt is (0.8, 0.9) with cost 3.3673692203564736\n",
      "=local opt is [0.8 1. ] with cost 3.5151318262099607\n",
      "global opt is (0.8, 0.9) with cost 3.4368332108861264\n",
      "=local opt is [0.8 1. ] with cost 3.5932371127579295\n",
      "global opt is (0.8, 0.9) with cost 3.5107206492126686\n",
      "=local opt is [0.8 1. ] with cost 3.6763909596542157\n",
      "global opt is (0.9, 0.8) with cost 3.5894615211734258\n",
      "=local opt is [0.8 1. ] with cost 3.7650918865507297\n",
      "global opt is (0.8, 0.9) with cost 3.6735458427597543\n",
      "=local opt is [0.8 1. ] with cost 3.8599092389854937\n",
      "global opt is (0.8, 0.9) with cost 3.763534648913285\n",
      "=local opt is [0.8 1. ] with cost 3.961496468113062\n",
      "global opt is (0.8, 0.9) with cost 3.860073505627721\n",
      "=local opt is [0.8 1. ] with cost 4.070607553366173\n",
      "global opt is (0.8, 0.9) with cost 3.963909250350631\n",
      "=local opt is [0.8 1. ] with cost 4.188117477780507\n",
      "global opt is (0.9, 0.8) with cost 4.075910900463727\n",
      "=local opt is [0.8 1. ] with cost 4.315047980866595\n",
      "global opt is (0.9, 0.8) with cost 4.197095996241771\n",
      "=local opt is [0.8 1. ] with cost 4.452600257721247\n",
      "global opt is (0.8, 0.9) with cost 4.3286641048874515\n",
      "=local opt is [0.8 1. ] with cost 4.602196906734439\n",
      "global opt is (0.9, 0.8) with cost 4.472039869612104\n",
      "=local opt is [0.8 1. ] with cost 4.7655363466087\n",
      "global opt is (0.8, 0.9) with cost 4.628928940857476\n",
      "=local opt is [0.8 1. ] with cost 4.94466427619252\n",
      "global opt is (0.8, 0.9) with cost 4.801391531279094\n",
      "=local opt is [0.8 1. ] with cost 5.14206877902965\n",
      "global opt is (0.8, 0.9) with cost 4.991940442798644\n",
      "=local opt is [0.8 1. ] with cost 5.3608087757556735\n",
      "global opt is (0.8, 0.9) with cost 5.203673635897244\n",
      "=local opt is [0.8 1. ] with cost 5.604690371765253\n",
      "global opt is (0.8, 0.9) with cost 5.440456445323024\n",
      "=local opt is [0.8 1. ] with cost 5.87851339657729\n",
      "global opt is (0.8, 0.9) with cost 5.707176600582361\n",
      "=local opt is [0.8 1. ] with cost 6.188423159287851\n",
      "global opt is (0.9, 0.8) with cost 6.010108441211186\n",
      "=local opt is [0.8 1. ] with cost 6.54242398061794\n",
      "global opt is (0.8, 0.9) with cost 6.357445108461372\n",
      "=local opt is [0.8 1. ] with cost 6.951148745360403\n",
      "global opt is (0.8, 0.9) with cost 6.760096679950935\n",
      "=local opt is [0.8 1. ] with cost 7.429047227162665\n",
      "global opt is (0.8, 0.9) with cost 7.232923458522806\n",
      "=local opt is [0.8 1. ] with cost 7.996286093029115\n",
      "global opt is (0.8, 0.9) with cost 7.796708990672161\n",
      "=local opt is [0.8 1. ] with cost 8.681913791174008\n",
      "global opt is (0.8, 0.9) with cost 8.481448117032963\n",
      "=local opt is [0.8 1. ] with cost 9.529396633494656\n",
      "global opt is (0.9, 0.9) with cost 9.33136768999901\n",
      "=local opt is [0.8 1. ] with cost 10.606896596468339\n",
      "global opt is (0.9, 0.9) with cost 10.38363237099178\n",
      "=local opt is [0.8 1. ] with cost 12.027821842803926\n",
      "global opt is (0.9, 0.9) with cost 11.77106934663404\n",
      "=local opt is [0.8 1. ] with cost 13.99603021962449\n",
      "global opt is (0.9, 0.9) with cost 13.692582198245354\n",
      "=local opt is [0.8 1. ] with cost 16.918825913804994\n",
      "global opt is (0.9, 0.9) with cost 16.545562153428687\n",
      "=local opt is [0.8 1. ] with cost 21.745928868108706\n",
      "global opt is (0.9, 0.9) with cost 21.256590772556905\n",
      "=local opt is [0.9 1. ] with cost 31.194593099005928\n",
      "global opt is (0.9, 0.9) with cost 30.604209807251294\n",
      "=local opt is [0.9 1. ] with cost 58.01882447172187\n",
      "global opt is (0.9, 1.0) with cost 58.01882447172187\n"
     ]
    }
   ],
   "source": [
    "delta_list = []\n",
    "cost_diff_list = []\n",
    "#for 2 player B\n",
    "for alpha in np.arange(0, 1, 0.01):\n",
    "    print(\"=\", end='')\n",
    "    B = np.array([[1, alpha], [alpha, 1]])\n",
    "    B_dict = {}\n",
    "    \n",
    "    for i in range(1, PLAYER+1):\n",
    "        B_i = np.zeros_like(B)\n",
    "        B_i[:, i-1] = B[:, i-1]\n",
    "        B_dict[i] = B_i\n",
    "    K_rand = K_generator(A, B)\n",
    "    X_inv = LA.inv(B)\n",
    "    \n",
    "    gap = 100\n",
    "    iter_points = []\n",
    "    k1 = 0.5\n",
    "    K_list = np.ones(PLAYER) #initialize each ki in the list, which is 0-indexed\n",
    "    K_list[0] = k1\n",
    "\n",
    "    while gap > 1e-5:\n",
    "        A_tilda = A - B_dict[1]*K_list[0]\n",
    "        min_k_dict = {1: (k1, 10000, 10000)} #1-indexed\n",
    "        for i in range(2, PLAYER+1):\n",
    "            min_k_dict[i] = (100000, 10000, 100000) #(ki, cost, Pi)\n",
    "        for j in range(1, len(K_list)):\n",
    "            for curr_kj in np.arange(0.1, 20, 0.1):\n",
    "                curr_K = K_list.copy()\n",
    "                curr_K[j] = curr_kj\n",
    "                K = np.diag(curr_K)\n",
    "                if np.all(LA.eigvals(K-2*X_inv) < 0):\n",
    "                    Ak = A - B@K\n",
    "                    Pj = solve_discrete_lyapunov(Ak, Q_dict[j+1])\n",
    "                    cost = np.trace(Pj)\n",
    "                    if cost < min_k_dict[j+1][1]:\n",
    "                        min_k_dict[j+1] = (K_list[j], cost, Pj)\n",
    "                        #iter_points.append((K_list, min_k_dict[j+1][1], j))\n",
    "                # else:\n",
    "                #     break\n",
    "            K_list[j] = min_k_dict[j+1][0]\n",
    "            iter_points.append((K_list.copy(), min_k_dict[j+1][1], j))\n",
    "\n",
    "            for k1 in np.arange(0.1, 20, 0.1):\n",
    "                curr_K = K_list.copy()\n",
    "                curr_K[0] = k1\n",
    "                K = np.diag(curr_K)\n",
    "                if np.all(LA.eigvals(K-2*X_inv) < 0):\n",
    "                    Ak = A - B@K\n",
    "                    P1 = solve_discrete_lyapunov(Ak, Q_dict[1])\n",
    "                    cost = np.trace(P1)\n",
    "                    #print(curr_K)\n",
    "                    if cost < min_k_dict[1][1]:\n",
    "                        min_k_dict[1] = (k1, cost, P1)\n",
    "            K_list[0] = min_k_dict[1][0]\n",
    "            iter_points.append((K_list.copy(),  min_k_dict[1][1], 0))\n",
    "        p1 = iter_points[-1][0]\n",
    "        p2 = iter_points[-2][0]\n",
    "        gap = LA.norm(np.subtract(p1, p2))\n",
    "\n",
    "    local_opt = iter_points[-1][0]\n",
    "\n",
    "    K = np.diag(local_opt)\n",
    "    Ak = A - B@K\n",
    "    P = solve_discrete_lyapunov(Ak, Q)\n",
    "    local_min_cost = np.trace(P)\n",
    "    print(\"local opt is {} with cost {}\".format(local_opt, local_min_cost))\n",
    "    \n",
    "    #grid search \n",
    "    X_inv = LA.inv(B)\n",
    "    points = []\n",
    "    cost_list = []\n",
    "    for k1 in np.arange(0, 20, 0.1):\n",
    "        for k2 in np.arange(0, 20, 0.1):\n",
    "            K = np.diag([k1, k2])\n",
    "            Ak = A-B@np.diag([k1, k2])\n",
    "            if np.all(LA.eigvals(K-2*X_inv) < 0):\n",
    "                try:\n",
    "                    P = solve_discrete_lyapunov(Ak, Q)\n",
    "                    points.append((k1, k2))\n",
    "                    cost_list.append(np.trace(P))\n",
    "                except LinAlgError:\n",
    "                    continue\n",
    "    \n",
    "    global_opt = points[np.argmin(cost_list)]\n",
    "    global_min_cost = np.min(cost_list)\n",
    "    delta = LA.norm(global_opt - local_opt) #location different \n",
    "    cost_diff = (local_min_cost - global_min_cost)/global_min_cost #cost diff from global_min_cost(grid search)\n",
    "\n",
    "    print(\"global opt is {} with cost {}\".format(global_opt, global_min_cost))\n",
    "\n",
    "    delta_list.append(delta)\n",
    "    cost_diff_list.append(cost_diff)"
   ]
  },
  {
   "cell_type": "code",
   "execution_count": 50,
   "metadata": {
    "pycharm": {
     "name": "#%%\n"
    }
   },
   "outputs": [],
   "source": [
    "delta_list1 = delta_list\n",
    "cost_diff_list1 = cost_diff_list"
   ]
  },
  {
   "cell_type": "code",
   "execution_count": 15,
   "metadata": {},
   "outputs": [
    {
     "data": {
      "text/plain": [
       "Text(0.5, 1.0, 'dist between global opt and alg convergence point over alpha')"
      ]
     },
     "execution_count": 15,
     "metadata": {},
     "output_type": "execute_result"
    },
    {
     "data": {
      "image/png": "[encoded data removed]",
      "text/plain": [
       "<Figure size 432x288 with 1 Axes>"
      ]
     },
     "metadata": {
      "needs_background": "light"
     },
     "output_type": "display_data"
    }
   ],
   "source": [
    "plt.plot(np.arange(0, 1, 0.01), delta_list)\n",
    "plt.xlabel(\"alpha\")\n",
    "plt.ylabel(\"dist\")\n",
    "plt.title(\"dist between global opt and alg convergence point over alpha\")"
   ]
  },
  {
   "cell_type": "code",
   "execution_count": 16,
   "metadata": {},
   "outputs": [
    {
     "data": {
      "text/plain": [
       "Text(0.5, 1.0, 'cost diff between global opt and alg convergence point over alpha in percentage')"
      ]
     },
     "execution_count": 16,
     "metadata": {},
     "output_type": "execute_result"
    },
    {
     "data": {
      "image/png": "[encoded data removed]",
      "text/plain": [
       "<Figure size 432x288 with 1 Axes>"
      ]
     },
     "metadata": {
      "needs_background": "light"
     },
     "output_type": "display_data"
    }
   ],
   "source": [
    "plt.plot(np.arange(0, 1, 0.01), np.multiply(cost_diff_list, 100))\n",
    "plt.xlabel(\"alpha\")\n",
    "plt.ylabel(\"cost percentage diff\")\n",
    "plt.title(\"cost diff between global opt and alg convergence point over alpha in percentage\")"
   ]
  },
  {
   "cell_type": "code",
   "execution_count": 95,
   "metadata": {},
   "outputs": [],
   "source": []
  },
  {
   "cell_type": "code",
   "execution_count": null,
   "metadata": {},
   "outputs": [],
   "source": []
  },
  {
   "cell_type": "code",
   "execution_count": 127,
   "metadata": {},
   "outputs": [
    {
     "data": {
      "text/plain": [
       "Text(0.5, 1.0, 'dist between global opt and alg convergence point over alpha')"
      ]
     },
     "execution_count": 127,
     "metadata": {},
     "output_type": "execute_result"
    },
    {
     "data": {
      "image/png": "[encoded data removed]",
      "text/plain": [
       "<Figure size 432x288 with 1 Axes>"
      ]
     },
     "metadata": {
      "needs_background": "light"
     },
     "output_type": "display_data"
    }
   ],
   "source": [
    "plt.plot(np.arange(0, 1, 0.1), delta_list)\n",
    "plt.xlabel(\"alpha\")\n",
    "plt.ylabel(\"dist\")\n",
    "plt.title(\"dist between global opt and alg convergence point over alpha\")"
   ]
  },
  {
   "cell_type": "code",
   "execution_count": 129,
   "metadata": {},
   "outputs": [
    {
     "data": {
      "text/plain": [
       "Text(0.5, 1.0, 'cost diff between global opt and alg convergence point over alpha in percentage')"
      ]
     },
     "execution_count": 129,
     "metadata": {},
     "output_type": "execute_result"
    },
    {
     "data": {
      "image/png": "[encoded data removed]",
      "text/plain": [
       "<Figure size 432x288 with 1 Axes>"
      ]
     },
     "metadata": {
      "needs_background": "light"
     },
     "output_type": "display_data"
    }
   ],
   "source": [
    "plt.plot(np.arange(0, 1, 0.1), np.multiply(cost_diff_list, 100))\n",
    "plt.xlabel(\"alpha\")\n",
    "plt.ylabel(\"cost percentage diff\")\n",
    "plt.title(\"cost diff between global opt and alg convergence point over alpha in percentage\")"
   ]
  },
  {
   "cell_type": "markdown",
   "metadata": {},
   "source": [
    "## Search Algorithm"
   ]
  },
  {
   "cell_type": "code",
   "execution_count": 472,
   "metadata": {},
   "outputs": [],
   "source": [
    "PLAYER = 3"
   ]
  },
  {
   "cell_type": "code",
   "execution_count": 473,
   "metadata": {},
   "outputs": [],
   "source": [
    "A = np.eye(PLAYER)\n",
    "B = heuristic_X(PLAYER) \n",
    "\n",
    "q_diag = np.random.randint(1, 10, size=PLAYER)\n",
    "Q = np.diag(q_diag)\n",
    "R = np.eye(PLAYER) * np.random.randint(1, 10, size=1)\n",
    "r_diag = R.diagonal()\n",
    "Q_dict = {}\n",
    "B_dict = {}\n",
    "for i in range(1, PLAYER+1):\n",
    "    curr_q = np.zeros(PLAYER)\n",
    "    curr_q[i-1] = q_diag[i-1]\n",
    "    Q_dict[i] = np.diagflat(curr_q)\n",
    "    B_i = np.zeros_like(B)\n",
    "    B_i[:, i-1] = B[:, i-1]\n",
    "    B_dict[i] = B_i\n",
    "\n",
    "K_rand = K_generator(A, B)\n"
   ]
  },
  {
   "cell_type": "code",
   "execution_count": null,
   "metadata": {},
   "outputs": [],
   "source": []
  },
  {
   "cell_type": "code",
   "execution_count": 474,
   "metadata": {},
   "outputs": [
    {
     "name": "stdout",
     "output_type": "stream",
     "text": [
      "A matrix is  [[1. 0. 0.]\n",
      " [0. 1. 0.]\n",
      " [0. 0. 1.]]\n",
      "\n",
      "\n",
      "B matrix is [[0.2199242  0.06883739 0.06088398]\n",
      " [0.06883739 0.40280036 0.04966384]\n",
      " [0.06088398 0.04966384 0.13251917]] with \n",
      "\n",
      "B1 = [[0.2199242  0.         0.        ]\n",
      " [0.06883739 0.         0.        ]\n",
      " [0.06088398 0.         0.        ]], \n",
      "\n",
      "B2 = [[0.         0.06883739 0.        ]\n",
      " [0.         0.40280036 0.        ]\n",
      " [0.         0.04966384 0.        ]], \n",
      "\n",
      "B3 = [[0.         0.         0.06088398]\n",
      " [0.         0.         0.04966384]\n",
      " [0.         0.         0.13251917]], \n",
      "\n",
      "\n",
      "\n",
      "Q matrix is [[1 0 0]\n",
      " [0 7 0]\n",
      " [0 0 2]] with \n",
      "\n",
      "Q1 = [[1. 0. 0.]\n",
      " [0. 0. 0.]\n",
      " [0. 0. 0.]], \n",
      "\n",
      "Q2 = [[0. 0. 0.]\n",
      " [0. 7. 0.]\n",
      " [0. 0. 0.]], \n",
      "\n",
      "Q3 = [[0. 0. 0.]\n",
      " [0. 0. 0.]\n",
      " [0. 0. 2.]], \n",
      "\n",
      "\n",
      "\n",
      "R matrix is  [[2. 0. 0.]\n",
      " [0. 2. 0.]\n",
      " [0. 0. 2.]]\n"
     ]
    }
   ],
   "source": [
    "#system check for 2 player case\n",
    "print(\"A matrix is \", A)\n",
    "print('\\n')\n",
    "print(\"B matrix is \" + str(B) + \" with \\n\")\n",
    "for i in range(len(B_dict)):\n",
    "    print(\"B{} = {}, \\n\".format(i+1, B_dict[i+1]))\n",
    "print('\\n')\n",
    "print(\"Q matrix is \" + str(Q) + \" with \\n\")\n",
    "for i in range(len(Q_dict)):\n",
    "    print(\"Q{} = {}, \\n\".format(i+1, Q_dict[i+1]))\n",
    "print('\\n')\n",
    "print(\"R matrix is \", R)"
   ]
  },
  {
   "cell_type": "code",
   "execution_count": 475,
   "metadata": {},
   "outputs": [],
   "source": [
    "mean = np.zeros(PLAYER)\n",
    "cov = np.eye(PLAYER)\n",
    "x0 = np.random.multivariate_normal(mean, cov, 1)\n",
    "\n",
    "def simulate(v0, Ak, Q):\n",
    "    c = 0\n",
    "    v_curr = v0\n",
    "    v_next = Ak@v_curr\n",
    "    while LA.norm(v_next-v_curr) > 1e-3:\n",
    "        c += v_next.T@Q@v_next\n",
    "        v_curr = v_next\n",
    "        v_next = Ak@v_curr\n",
    "    return c"
   ]
  },
  {
   "cell_type": "code",
   "execution_count": 480,
   "metadata": {},
   "outputs": [
    {
     "name": "stdout",
     "output_type": "stream",
     "text": [
      "0.0 0.1 0.2 0.30000000000000004 0.4 0.5 0.6000000000000001 0.7000000000000001 0.8 0.9 1.0 1.1 1.2000000000000002 1.3 1.4000000000000001 1.5 1.6 1.7000000000000002 1.8 1.9000000000000001 2.0 2.1 2.2 2.3000000000000003 2.4000000000000004 2.5 2.6 2.7 2.8000000000000003 2.9000000000000004 3.0 3.1 3.2 3.3000000000000003 3.4000000000000004 3.5 3.6 3.7 3.8000000000000003 3.9000000000000004 4.0 4.1000000000000005 4.2 4.3 4.4 4.5 4.6000000000000005 4.7 4.800000000000001 4.9 5.0 5.1000000000000005 5.2 5.300000000000001 5.4 5.5 5.6000000000000005 5.7 5.800000000000001 5.9 6.0 6.1000000000000005 6.2 6.300000000000001 6.4 6.5 6.6000000000000005 6.7 6.800000000000001 6.9 7.0 7.1000000000000005 7.2 7.300000000000001 7.4 7.5 7.6000000000000005 7.7 7.800000000000001 7.9 8.0 8.1 8.200000000000001 8.3 8.4 8.5 8.6 8.700000000000001 8.8 8.9 9.0 9.1 9.200000000000001 9.3 9.4 9.5 9.600000000000001 9.700000000000001 9.8 9.9 10.0 10.100000000000001 10.200000000000001 10.3 10.4 10.5 10.600000000000001 10.700000000000001 10.8 10.9 11.0 11.100000000000001 11.200000000000001 11.3 11.4 11.5 11.600000000000001 11.700000000000001 11.8 11.9 12.0 12.100000000000001 12.200000000000001 12.3 12.4 12.5 12.600000000000001 12.700000000000001 12.8 12.9 13.0 13.100000000000001 13.200000000000001 13.3 13.4 13.5 13.600000000000001 13.700000000000001 13.8 13.9 14.0 14.100000000000001 14.200000000000001 14.3 14.4 14.5 14.600000000000001 14.700000000000001 14.8 14.9 15.0 15.100000000000001 15.200000000000001 15.3 15.4 15.5 15.600000000000001 15.700000000000001 15.8 15.9 16.0 16.1 16.2 16.3 16.400000000000002 16.5 16.6 16.7 16.8 16.900000000000002 17.0 17.1 17.2 17.3 17.400000000000002 17.5 17.6 17.7 17.8 17.900000000000002 18.0 18.1 18.2 18.3 18.400000000000002 18.5 18.6 18.7 18.8 18.900000000000002 19.0 19.1 19.200000000000003 19.3 19.400000000000002 19.5 19.6 19.700000000000003 19.8 19.900000000000002 "
     ]
    }
   ],
   "source": [
    "X_inv = LA.inv(B)\n",
    "points = []\n",
    "cost_list = []\n",
    "\n",
    "if PLAYER == 2:\n",
    "    for k1 in np.arange(0, 20, 0.01):\n",
    "        for k2 in np.arange(0, 20, 0.01):\n",
    "            K = np.diag([k1, k2])\n",
    "            Ak = A-B@np.diag([k1, k2])\n",
    "            if np.all(LA.eigvals(K-2*X_inv) < 0):\n",
    "                try:\n",
    "                    P = solve_discrete_lyapunov(Ak, Q)\n",
    "                    points.append((k1, k2))\n",
    "                    cost_list.append(np.trace(P))\n",
    "                except LinAlgError:\n",
    "                    continue  \n",
    "            else:\n",
    "                break\n",
    "\n",
    "if PLAYER == 3: \n",
    "    for k1 in np.arange(0, 20, 0.1):\n",
    "        print(k1, end=' ')\n",
    "        for k2 in np.arange(0, 20, 0.1):\n",
    "            for k3 in np.arange(0, 20, 0.1):\n",
    "                K = np.diag([k1, k2, k3])\n",
    "                Ak = A-B@K\n",
    "                if np.all(LA.eigvals(K-2*X_inv) < 0):\n",
    "                    try:\n",
    "                        P = solve_discrete_lyapunov(Ak, Q)\n",
    "                        points.append((k1, k2, k3))\n",
    "                        cost_list.append(np.trace(P))\n",
    "                    except LinAlgError:\n",
    "                        continue  \n",
    "                else:\n",
    "                    break\n",
    "                "
   ]
  },
  {
   "cell_type": "code",
   "execution_count": null,
   "metadata": {},
   "outputs": [],
   "source": []
  },
  {
   "cell_type": "code",
   "execution_count": 482,
   "metadata": {},
   "outputs": [],
   "source": [
    "p_x = [x[0] for x in points]\n",
    "p_y = [x[1] for x in points]\n",
    "p_z = [x[2] for x in points]"
   ]
  },
  {
   "cell_type": "code",
   "execution_count": 486,
   "metadata": {},
   "outputs": [],
   "source": [
    "from mpl_toolkits.mplot3d import Axes3D\n",
    "%matplotlib notebook"
   ]
  },
  {
   "cell_type": "code",
   "execution_count": 490,
   "metadata": {},
   "outputs": [
    {
     "data": {
      "application/javascript": [
       "/* Put everything inside the global mpl namespace */\n",
       "/* global mpl */\n",
       "window.mpl = {};\n",
       "\n",
       "mpl.get_websocket_type = function () {\n",
       "    if (typeof WebSocket !== 'undefined') {\n",
       "        return WebSocket;\n",
       "    } else if (typeof MozWebSocket !== 'undefined') {\n",
       "        return MozWebSocket;\n",
       "    } else {\n",
       "        alert(\n",
       "            'Your browser does not have WebSocket support. ' +\n",
       "                'Please try Chrome, Safari or Firefox ≥ 6. ' +\n",
       "                'Firefox 4 and 5 are also supported but you ' +\n",
       "                'have to enable WebSockets in about:config.'\n",
       "        );\n",
       "    }\n",
       "};\n",
       "\n",
       "mpl.figure = function (figure_id, websocket, ondownload, parent_element) {\n",
       "    this.id = figure_id;\n",
       "\n",
       "    this.ws = websocket;\n",
       "\n",
       "    this.supports_binary = this.ws.binaryType !== undefined;\n",
       "\n",
       "    if (!this.supports_binary) {\n",
       "        var warnings = document.getElementById('mpl-warnings');\n",
       "        if (warnings) {\n",
       "            warnings.style.display = 'block';\n",
       "            warnings.textContent =\n",
       "                'This browser does not support binary websocket messages. ' +\n",
       "                'Performance may be slow.';\n",
       "        }\n",
       "    }\n",
       "\n",
       "    this.imageObj = new Image();\n",
       "\n",
       "    this.context = undefined;\n",
       "    this.message = undefined;\n",
       "    this.canvas = undefined;\n",
       "    this.rubberband_canvas = undefined;\n",
       "    this.rubberband_context = undefined;\n",
       "    this.format_dropdown = undefined;\n",
       "\n",
       "    this.image_mode = 'full';\n",
       "\n",
       "    this.root = document.createElement('div');\n",
       "    this.root.setAttribute('style', 'display: inline-block');\n",
       "    this._root_extra_style(this.root);\n",
       "\n",
       "    parent_element.appendChild(this.root);\n",
       "\n",
       "    this._init_header(this);\n",
       "    this._init_canvas(this);\n",
       "    this._init_toolbar(this);\n",
       "\n",
       "    var fig = this;\n",
       "\n",
       "    this.waiting = false;\n",
       "\n",
       "    this.ws.onopen = function () {\n",
       "        fig.send_message('supports_binary', { value: fig.supports_binary });\n",
       "        fig.send_message('send_image_mode', {});\n",
       "        if (fig.ratio !== 1) {\n",
       "            fig.send_message('set_dpi_ratio', { dpi_ratio: fig.ratio });\n",
       "        }\n",
       "        fig.send_message('refresh', {});\n",
       "    };\n",
       "\n",
       "    this.imageObj.onload = function () {\n",
       "        if (fig.image_mode === 'full') {\n",
       "            // Full images could contain transparency (where diff images\n",
       "            // almost always do), so we need to clear the canvas so that\n",
       "            // there is no ghosting.\n",
       "            fig.context.clearRect(0, 0, fig.canvas.width, fig.canvas.height);\n",
       "        }\n",
       "        fig.context.drawImage(fig.imageObj, 0, 0);\n",
       "    };\n",
       "\n",
       "    this.imageObj.onunload = function () {\n",
       "        fig.ws.close();\n",
       "    };\n",
       "\n",
       "    this.ws.onmessage = this._make_on_message_function(this);\n",
       "\n",
       "    this.ondownload = ondownload;\n",
       "};\n",
       "\n",
       "mpl.figure.prototype._init_header = function () {\n",
       "    var titlebar = document.createElement('div');\n",
       "    titlebar.classList =\n",
       "        'ui-dialog-titlebar ui-widget-header ui-corner-all ui-helper-clearfix';\n",
       "    var titletext = document.createElement('div');\n",
       "    titletext.classList = 'ui-dialog-title';\n",
       "    titletext.setAttribute(\n",
       "        'style',\n",
       "        'width: 100%; text-align: center; padding: 3px;'\n",
       "    );\n",
       "    titlebar.appendChild(titletext);\n",
       "    this.root.appendChild(titlebar);\n",
       "    this.header = titletext;\n",
       "};\n",
       "\n",
       "mpl.figure.prototype._canvas_extra_style = function (_canvas_div) {};\n",
       "\n",
       "mpl.figure.prototype._root_extra_style = function (_canvas_div) {};\n",
       "\n",
       "mpl.figure.prototype._init_canvas = function () {\n",
       "    var fig = this;\n",
       "\n",
       "    var canvas_div = (this.canvas_div = document.createElement('div'));\n",
       "    canvas_div.setAttribute(\n",
       "        'style',\n",
       "        'border: 1px solid #ddd;' +\n",
       "            'box-sizing: content-box;' +\n",
       "            'clear: both;' +\n",
       "            'min-height: 1px;' +\n",
       "            'min-width: 1px;' +\n",
       "            'outline: 0;' +\n",
       "            'overflow: hidden;' +\n",
       "            'position: relative;' +\n",
       "            'resize: both;'\n",
       "    );\n",
       "\n",
       "    function on_keyboard_event_closure(name) {\n",
       "        return function (event) {\n",
       "            return fig.key_event(event, name);\n",
       "        };\n",
       "    }\n",
       "\n",
       "    canvas_div.addEventListener(\n",
       "        'keydown',\n",
       "        on_keyboard_event_closure('key_press')\n",
       "    );\n",
       "    canvas_div.addEventListener(\n",
       "        'keyup',\n",
       "        on_keyboard_event_closure('key_release')\n",
       "    );\n",
       "\n",
       "    this._canvas_extra_style(canvas_div);\n",
       "    this.root.appendChild(canvas_div);\n",
       "\n",
       "    var canvas = (this.canvas = document.createElement('canvas'));\n",
       "    canvas.classList.add('mpl-canvas');\n",
       "    canvas.setAttribute('style', 'box-sizing: content-box;');\n",
       "\n",
       "    this.context = canvas.getContext('2d');\n",
       "\n",
       "    var backingStore =\n",
       "        this.context.backingStorePixelRatio ||\n",
       "        this.context.webkitBackingStorePixelRatio ||\n",
       "        this.context.mozBackingStorePixelRatio ||\n",
       "        this.context.msBackingStorePixelRatio ||\n",
       "        this.context.oBackingStorePixelRatio ||\n",
       "        this.context.backingStorePixelRatio ||\n",
       "        1;\n",
       "\n",
       "    this.ratio = (window.devicePixelRatio || 1) / backingStore;\n",
       "    if (this.ratio !== 1) {\n",
       "        fig.send_message('set_dpi_ratio', { dpi_ratio: this.ratio });\n",
       "    }\n",
       "\n",
       "    var rubberband_canvas = (this.rubberband_canvas = document.createElement(\n",
       "        'canvas'\n",
       "    ));\n",
       "    rubberband_canvas.setAttribute(\n",
       "        'style',\n",
       "        'box-sizing: content-box; position: absolute; left: 0; top: 0; z-index: 1;'\n",
       "    );\n",
       "\n",
       "    var resizeObserver = new ResizeObserver(function (entries) {\n",
       "        var nentries = entries.length;\n",
       "        for (var i = 0; i < nentries; i++) {\n",
       "            var entry = entries[i];\n",
       "            var width, height;\n",
       "            if (entry.contentBoxSize) {\n",
       "                if (entry.contentBoxSize instanceof Array) {\n",
       "                    // Chrome 84 implements new version of spec.\n",
       "                    width = entry.contentBoxSize[0].inlineSize;\n",
       "                    height = entry.contentBoxSize[0].blockSize;\n",
       "                } else {\n",
       "                    // Firefox implements old version of spec.\n",
       "                    width = entry.contentBoxSize.inlineSize;\n",
       "                    height = entry.contentBoxSize.blockSize;\n",
       "                }\n",
       "            } else {\n",
       "                // Chrome <84 implements even older version of spec.\n",
       "                width = entry.contentRect.width;\n",
       "                height = entry.contentRect.height;\n",
       "            }\n",
       "\n",
       "            // Keep the size of the canvas and rubber band canvas in sync with\n",
       "            // the canvas container.\n",
       "            if (entry.devicePixelContentBoxSize) {\n",
       "                // Chrome 84 implements new version of spec.\n",
       "                canvas.setAttribute(\n",
       "                    'width',\n",
       "                    entry.devicePixelContentBoxSize[0].inlineSize\n",
       "                );\n",
       "                canvas.setAttribute(\n",
       "                    'height',\n",
       "                    entry.devicePixelContentBoxSize[0].blockSize\n",
       "                );\n",
       "            } else {\n",
       "                canvas.setAttribute('width', width * fig.ratio);\n",
       "                canvas.setAttribute('height', height * fig.ratio);\n",
       "            }\n",
       "            canvas.setAttribute(\n",
       "                'style',\n",
       "                'width: ' + width + 'px; height: ' + height + 'px;'\n",
       "            );\n",
       "\n",
       "            rubberband_canvas.setAttribute('width', width);\n",
       "            rubberband_canvas.setAttribute('height', height);\n",
       "\n",
       "            // And update the size in Python. We ignore the initial 0/0 size\n",
       "            // that occurs as the element is placed into the DOM, which should\n",
       "            // otherwise not happen due to the minimum size styling.\n",
       "            if (width != 0 && height != 0) {\n",
       "                fig.request_resize(width, height);\n",
       "            }\n",
       "        }\n",
       "    });\n",
       "    resizeObserver.observe(canvas_div);\n",
       "\n",
       "    function on_mouse_event_closure(name) {\n",
       "        return function (event) {\n",
       "            return fig.mouse_event(event, name);\n",
       "        };\n",
       "    }\n",
       "\n",
       "    rubberband_canvas.addEventListener(\n",
       "        'mousedown',\n",
       "        on_mouse_event_closure('button_press')\n",
       "    );\n",
       "    rubberband_canvas.addEventListener(\n",
       "        'mouseup',\n",
       "        on_mouse_event_closure('button_release')\n",
       "    );\n",
       "    // Throttle sequential mouse events to 1 every 20ms.\n",
       "    rubberband_canvas.addEventListener(\n",
       "        'mousemove',\n",
       "        on_mouse_event_closure('motion_notify')\n",
       "    );\n",
       "\n",
       "    rubberband_canvas.addEventListener(\n",
       "        'mouseenter',\n",
       "        on_mouse_event_closure('figure_enter')\n",
       "    );\n",
       "    rubberband_canvas.addEventListener(\n",
       "        'mouseleave',\n",
       "        on_mouse_event_closure('figure_leave')\n",
       "    );\n",
       "\n",
       "    canvas_div.addEventListener('wheel', function (event) {\n",
       "        if (event.deltaY < 0) {\n",
       "            event.step = 1;\n",
       "        } else {\n",
       "            event.step = -1;\n",
       "        }\n",
       "        on_mouse_event_closure('scroll')(event);\n",
       "    });\n",
       "\n",
       "    canvas_div.appendChild(canvas);\n",
       "    canvas_div.appendChild(rubberband_canvas);\n",
       "\n",
       "    this.rubberband_context = rubberband_canvas.getContext('2d');\n",
       "    this.rubberband_context.strokeStyle = '#000000';\n",
       "\n",
       "    this._resize_canvas = function (width, height, forward) {\n",
       "        if (forward) {\n",
       "            canvas_div.style.width = width + 'px';\n",
       "            canvas_div.style.height = height + 'px';\n",
       "        }\n",
       "    };\n",
       "\n",
       "    // Disable right mouse context menu.\n",
       "    this.rubberband_canvas.addEventListener('contextmenu', function (_e) {\n",
       "        event.preventDefault();\n",
       "        return false;\n",
       "    });\n",
       "\n",
       "    function set_focus() {\n",
       "        canvas.focus();\n",
       "        canvas_div.focus();\n",
       "    }\n",
       "\n",
       "    window.setTimeout(set_focus, 100);\n",
       "};\n",
       "\n",
       "mpl.figure.prototype._init_toolbar = function () {\n",
       "    var fig = this;\n",
       "\n",
       "    var toolbar = document.createElement('div');\n",
       "    toolbar.classList = 'mpl-toolbar';\n",
       "    this.root.appendChild(toolbar);\n",
       "\n",
       "    function on_click_closure(name) {\n",
       "        return function (_event) {\n",
       "            return fig.toolbar_button_onclick(name);\n",
       "        };\n",
       "    }\n",
       "\n",
       "    function on_mouseover_closure(tooltip) {\n",
       "        return function (event) {\n",
       "            if (!event.currentTarget.disabled) {\n",
       "                return fig.toolbar_button_onmouseover(tooltip);\n",
       "            }\n",
       "        };\n",
       "    }\n",
       "\n",
       "    fig.buttons = {};\n",
       "    var buttonGroup = document.createElement('div');\n",
       "    buttonGroup.classList = 'mpl-button-group';\n",
       "    for (var toolbar_ind in mpl.toolbar_items) {\n",
       "        var name = mpl.toolbar_items[toolbar_ind][0];\n",
       "        var tooltip = mpl.toolbar_items[toolbar_ind][1];\n",
       "        var image = mpl.toolbar_items[toolbar_ind][2];\n",
       "        var method_name = mpl.toolbar_items[toolbar_ind][3];\n",
       "\n",
       "        if (!name) {\n",
       "            /* Instead of a spacer, we start a new button group. */\n",
       "            if (buttonGroup.hasChildNodes()) {\n",
       "                toolbar.appendChild(buttonGroup);\n",
       "            }\n",
       "            buttonGroup = document.createElement('div');\n",
       "            buttonGroup.classList = 'mpl-button-group';\n",
       "            continue;\n",
       "        }\n",
       "\n",
       "        var button = (fig.buttons[name] = document.createElement('button'));\n",
       "        button.classList = 'mpl-widget';\n",
       "        button.setAttribute('role', 'button');\n",
       "        button.setAttribute('aria-disabled', 'false');\n",
       "        button.addEventListener('click', on_click_closure(method_name));\n",
       "        button.addEventListener('mouseover', on_mouseover_closure(tooltip));\n",
       "\n",
       "        var icon_img = document.createElement('img');\n",
       "        icon_img.src = '_images/' + image + '.png';\n",
       "        icon_img.srcset = '_images/' + image + '_large.png 2x';\n",
       "        icon_img.alt = tooltip;\n",
       "        button.appendChild(icon_img);\n",
       "\n",
       "        buttonGroup.appendChild(button);\n",
       "    }\n",
       "\n",
       "    if (buttonGroup.hasChildNodes()) {\n",
       "        toolbar.appendChild(buttonGroup);\n",
       "    }\n",
       "\n",
       "    var fmt_picker = document.createElement('select');\n",
       "    fmt_picker.classList = 'mpl-widget';\n",
       "    toolbar.appendChild(fmt_picker);\n",
       "    this.format_dropdown = fmt_picker;\n",
       "\n",
       "    for (var ind in mpl.extensions) {\n",
       "        var fmt = mpl.extensions[ind];\n",
       "        var option = document.createElement('option');\n",
       "        option.selected = fmt === mpl.default_extension;\n",
       "        option.innerHTML = fmt;\n",
       "        fmt_picker.appendChild(option);\n",
       "    }\n",
       "\n",
       "    var status_bar = document.createElement('span');\n",
       "    status_bar.classList = 'mpl-message';\n",
       "    toolbar.appendChild(status_bar);\n",
       "    this.message = status_bar;\n",
       "};\n",
       "\n",
       "mpl.figure.prototype.request_resize = function (x_pixels, y_pixels) {\n",
       "    // Request matplotlib to resize the figure. Matplotlib will then trigger a resize in the client,\n",
       "    // which will in turn request a refresh of the image.\n",
       "    this.send_message('resize', { width: x_pixels, height: y_pixels });\n",
       "};\n",
       "\n",
       "mpl.figure.prototype.send_message = function (type, properties) {\n",
       "    properties['type'] = type;\n",
       "    properties['figure_id'] = this.id;\n",
       "    this.ws.send(JSON.stringify(properties));\n",
       "};\n",
       "\n",
       "mpl.figure.prototype.send_draw_message = function () {\n",
       "    if (!this.waiting) {\n",
       "        this.waiting = true;\n",
       "        this.ws.send(JSON.stringify({ type: 'draw', figure_id: this.id }));\n",
       "    }\n",
       "};\n",
       "\n",
       "mpl.figure.prototype.handle_save = function (fig, _msg) {\n",
       "    var format_dropdown = fig.format_dropdown;\n",
       "    var format = format_dropdown.options[format_dropdown.selectedIndex].value;\n",
       "    fig.ondownload(fig, format);\n",
       "};\n",
       "\n",
       "mpl.figure.prototype.handle_resize = function (fig, msg) {\n",
       "    var size = msg['size'];\n",
       "    if (size[0] !== fig.canvas.width || size[1] !== fig.canvas.height) {\n",
       "        fig._resize_canvas(size[0], size[1], msg['forward']);\n",
       "        fig.send_message('refresh', {});\n",
       "    }\n",
       "};\n",
       "\n",
       "mpl.figure.prototype.handle_rubberband = function (fig, msg) {\n",
       "    var x0 = msg['x0'] / fig.ratio;\n",
       "    var y0 = (fig.canvas.height - msg['y0']) / fig.ratio;\n",
       "    var x1 = msg['x1'] / fig.ratio;\n",
       "    var y1 = (fig.canvas.height - msg['y1']) / fig.ratio;\n",
       "    x0 = Math.floor(x0) + 0.5;\n",
       "    y0 = Math.floor(y0) + 0.5;\n",
       "    x1 = Math.floor(x1) + 0.5;\n",
       "    y1 = Math.floor(y1) + 0.5;\n",
       "    var min_x = Math.min(x0, x1);\n",
       "    var min_y = Math.min(y0, y1);\n",
       "    var width = Math.abs(x1 - x0);\n",
       "    var height = Math.abs(y1 - y0);\n",
       "\n",
       "    fig.rubberband_context.clearRect(\n",
       "        0,\n",
       "        0,\n",
       "        fig.canvas.width / fig.ratio,\n",
       "        fig.canvas.height / fig.ratio\n",
       "    );\n",
       "\n",
       "    fig.rubberband_context.strokeRect(min_x, min_y, width, height);\n",
       "};\n",
       "\n",
       "mpl.figure.prototype.handle_figure_label = function (fig, msg) {\n",
       "    // Updates the figure title.\n",
       "    fig.header.textContent = msg['label'];\n",
       "};\n",
       "\n",
       "mpl.figure.prototype.handle_cursor = function (fig, msg) {\n",
       "    var cursor = msg['cursor'];\n",
       "    switch (cursor) {\n",
       "        case 0:\n",
       "            cursor = 'pointer';\n",
       "            break;\n",
       "        case 1:\n",
       "            cursor = 'default';\n",
       "            break;\n",
       "        case 2:\n",
       "            cursor = 'crosshair';\n",
       "            break;\n",
       "        case 3:\n",
       "            cursor = 'move';\n",
       "            break;\n",
       "    }\n",
       "    fig.rubberband_canvas.style.cursor = cursor;\n",
       "};\n",
       "\n",
       "mpl.figure.prototype.handle_message = function (fig, msg) {\n",
       "    fig.message.textContent = msg['message'];\n",
       "};\n",
       "\n",
       "mpl.figure.prototype.handle_draw = function (fig, _msg) {\n",
       "    // Request the server to send over a new figure.\n",
       "    fig.send_draw_message();\n",
       "};\n",
       "\n",
       "mpl.figure.prototype.handle_image_mode = function (fig, msg) {\n",
       "    fig.image_mode = msg['mode'];\n",
       "};\n",
       "\n",
       "mpl.figure.prototype.handle_history_buttons = function (fig, msg) {\n",
       "    for (var key in msg) {\n",
       "        if (!(key in fig.buttons)) {\n",
       "            continue;\n",
       "        }\n",
       "        fig.buttons[key].disabled = !msg[key];\n",
       "        fig.buttons[key].setAttribute('aria-disabled', !msg[key]);\n",
       "    }\n",
       "};\n",
       "\n",
       "mpl.figure.prototype.handle_navigate_mode = function (fig, msg) {\n",
       "    if (msg['mode'] === 'PAN') {\n",
       "        fig.buttons['Pan'].classList.add('active');\n",
       "        fig.buttons['Zoom'].classList.remove('active');\n",
       "    } else if (msg['mode'] === 'ZOOM') {\n",
       "        fig.buttons['Pan'].classList.remove('active');\n",
       "        fig.buttons['Zoom'].classList.add('active');\n",
       "    } else {\n",
       "        fig.buttons['Pan'].classList.remove('active');\n",
       "        fig.buttons['Zoom'].classList.remove('active');\n",
       "    }\n",
       "};\n",
       "\n",
       "mpl.figure.prototype.updated_canvas_event = function () {\n",
       "    // Called whenever the canvas gets updated.\n",
       "    this.send_message('ack', {});\n",
       "};\n",
       "\n",
       "// A function to construct a web socket function for onmessage handling.\n",
       "// Called in the figure constructor.\n",
       "mpl.figure.prototype._make_on_message_function = function (fig) {\n",
       "    return function socket_on_message(evt) {\n",
       "        if (evt.data instanceof Blob) {\n",
       "            /* FIXME: We get \"Resource interpreted as Image but\n",
       "             * transferred with MIME type text/plain:\" errors on\n",
       "             * Chrome.  But how to set the MIME type?  It doesn't seem\n",
       "             * to be part of the websocket stream */\n",
       "            evt.data.type = 'image/png';\n",
       "\n",
       "            /* Free the memory for the previous frames */\n",
       "            if (fig.imageObj.src) {\n",
       "                (window.URL || window.webkitURL).revokeObjectURL(\n",
       "                    fig.imageObj.src\n",
       "                );\n",
       "            }\n",
       "\n",
       "            fig.imageObj.src = (window.URL || window.webkitURL).createObjectURL(\n",
       "                evt.data\n",
       "            );\n",
       "            fig.updated_canvas_event();\n",
       "            fig.waiting = false;\n",
       "            return;\n",
       "        } else if (\n",
       "            typeof evt.data === 'string' &&\n",
       "            evt.data.slice(0, 21) === 'data:image/png;base64'\n",
       "        ) {\n",
       "            fig.imageObj.src = evt.data;\n",
       "            fig.updated_canvas_event();\n",
       "            fig.waiting = false;\n",
       "            return;\n",
       "        }\n",
       "\n",
       "        var msg = JSON.parse(evt.data);\n",
       "        var msg_type = msg['type'];\n",
       "\n",
       "        // Call the  \"handle_{type}\" callback, which takes\n",
       "        // the figure and JSON message as its only arguments.\n",
       "        try {\n",
       "            var callback = fig['handle_' + msg_type];\n",
       "        } catch (e) {\n",
       "            console.log(\n",
       "                \"No handler for the '\" + msg_type + \"' message type: \",\n",
       "                msg\n",
       "            );\n",
       "            return;\n",
       "        }\n",
       "\n",
       "        if (callback) {\n",
       "            try {\n",
       "                // console.log(\"Handling '\" + msg_type + \"' message: \", msg);\n",
       "                callback(fig, msg);\n",
       "            } catch (e) {\n",
       "                console.log(\n",
       "                    \"Exception inside the 'handler_\" + msg_type + \"' callback:\",\n",
       "                    e,\n",
       "                    e.stack,\n",
       "                    msg\n",
       "                );\n",
       "            }\n",
       "        }\n",
       "    };\n",
       "};\n",
       "\n",
       "// from http://stackoverflow.com/questions/1114465/getting-mouse-location-in-canvas\n",
       "mpl.findpos = function (e) {\n",
       "    //this section is from http://www.quirksmode.org/js/events_properties.html\n",
       "    var targ;\n",
       "    if (!e) {\n",
       "        e = window.event;\n",
       "    }\n",
       "    if (e.target) {\n",
       "        targ = e.target;\n",
       "    } else if (e.srcElement) {\n",
       "        targ = e.srcElement;\n",
       "    }\n",
       "    if (targ.nodeType === 3) {\n",
       "        // defeat Safari bug\n",
       "        targ = targ.parentNode;\n",
       "    }\n",
       "\n",
       "    // pageX,Y are the mouse positions relative to the document\n",
       "    var boundingRect = targ.getBoundingClientRect();\n",
       "    var x = e.pageX - (boundingRect.left + document.body.scrollLeft);\n",
       "    var y = e.pageY - (boundingRect.top + document.body.scrollTop);\n",
       "\n",
       "    return { x: x, y: y };\n",
       "};\n",
       "\n",
       "/*\n",
       " * return a copy of an object with only non-object keys\n",
       " * we need this to avoid circular references\n",
       " * http://stackoverflow.com/a/24161582/3208463\n",
       " */\n",
       "function simpleKeys(original) {\n",
       "    return Object.keys(original).reduce(function (obj, key) {\n",
       "        if (typeof original[key] !== 'object') {\n",
       "            obj[key] = original[key];\n",
       "        }\n",
       "        return obj;\n",
       "    }, {});\n",
       "}\n",
       "\n",
       "mpl.figure.prototype.mouse_event = function (event, name) {\n",
       "    var canvas_pos = mpl.findpos(event);\n",
       "\n",
       "    if (name === 'button_press') {\n",
       "        this.canvas.focus();\n",
       "        this.canvas_div.focus();\n",
       "    }\n",
       "\n",
       "    var x = canvas_pos.x * this.ratio;\n",
       "    var y = canvas_pos.y * this.ratio;\n",
       "\n",
       "    this.send_message(name, {\n",
       "        x: x,\n",
       "        y: y,\n",
       "        button: event.button,\n",
       "        step: event.step,\n",
       "        guiEvent: simpleKeys(event),\n",
       "    });\n",
       "\n",
       "    /* This prevents the web browser from automatically changing to\n",
       "     * the text insertion cursor when the button is pressed.  We want\n",
       "     * to control all of the cursor setting manually through the\n",
       "     * 'cursor' event from matplotlib */\n",
       "    event.preventDefault();\n",
       "    return false;\n",
       "};\n",
       "\n",
       "mpl.figure.prototype._key_event_extra = function (_event, _name) {\n",
       "    // Handle any extra behaviour associated with a key event\n",
       "};\n",
       "\n",
       "mpl.figure.prototype.key_event = function (event, name) {\n",
       "    // Prevent repeat events\n",
       "    if (name === 'key_press') {\n",
       "        if (event.which === this._key) {\n",
       "            return;\n",
       "        } else {\n",
       "            this._key = event.which;\n",
       "        }\n",
       "    }\n",
       "    if (name === 'key_release') {\n",
       "        this._key = null;\n",
       "    }\n",
       "\n",
       "    var value = '';\n",
       "    if (event.ctrlKey && event.which !== 17) {\n",
       "        value += 'ctrl+';\n",
       "    }\n",
       "    if (event.altKey && event.which !== 18) {\n",
       "        value += 'alt+';\n",
       "    }\n",
       "    if (event.shiftKey && event.which !== 16) {\n",
       "        value += 'shift+';\n",
       "    }\n",
       "\n",
       "    value += 'k';\n",
       "    value += event.which.toString();\n",
       "\n",
       "    this._key_event_extra(event, name);\n",
       "\n",
       "    this.send_message(name, { key: value, guiEvent: simpleKeys(event) });\n",
       "    return false;\n",
       "};\n",
       "\n",
       "mpl.figure.prototype.toolbar_button_onclick = function (name) {\n",
       "    if (name === 'download') {\n",
       "        this.handle_save(this, null);\n",
       "    } else {\n",
       "        this.send_message('toolbar_button', { name: name });\n",
       "    }\n",
       "};\n",
       "\n",
       "mpl.figure.prototype.toolbar_button_onmouseover = function (tooltip) {\n",
       "    this.message.textContent = tooltip;\n",
       "};\n",
       "mpl.toolbar_items = [[\"Home\", \"Reset original view\", \"fa fa-home icon-home\", \"home\"], [\"Back\", \"Back to previous view\", \"fa fa-arrow-left icon-arrow-left\", \"back\"], [\"Forward\", \"Forward to next view\", \"fa fa-arrow-right icon-arrow-right\", \"forward\"], [\"\", \"\", \"\", \"\"], [\"Pan\", \"Left button pans, Right button zooms\\nx/y fixes axis, CTRL fixes aspect\", \"fa fa-arrows icon-move\", \"pan\"], [\"Zoom\", \"Zoom to rectangle\\nx/y fixes axis, CTRL fixes aspect\", \"fa fa-square-o icon-check-empty\", \"zoom\"], [\"\", \"\", \"\", \"\"], [\"Download\", \"Download plot\", \"fa fa-floppy-o icon-save\", \"download\"]];\n",
       "\n",
       "mpl.extensions = [\"eps\", \"jpeg\", \"pdf\", \"png\", \"ps\", \"raw\", \"svg\", \"tif\"];\n",
       "\n",
       "mpl.default_extension = \"png\";/* global mpl */\n",
       "\n",
       "var comm_websocket_adapter = function (comm) {\n",
       "    // Create a \"websocket\"-like object which calls the given IPython comm\n",
       "    // object with the appropriate methods. Currently this is a non binary\n",
       "    // socket, so there is still some room for performance tuning.\n",
       "    var ws = {};\n",
       "\n",
       "    ws.close = function () {\n",
       "        comm.close();\n",
       "    };\n",
       "    ws.send = function (m) {\n",
       "        //console.log('sending', m);\n",
       "        comm.send(m);\n",
       "    };\n",
       "    // Register the callback with on_msg.\n",
       "    comm.on_msg(function (msg) {\n",
       "        //console.log('receiving', msg['content']['data'], msg);\n",
       "        // Pass the mpl event to the overridden (by mpl) onmessage function.\n",
       "        ws.onmessage(msg['content']['data']);\n",
       "    });\n",
       "    return ws;\n",
       "};\n",
       "\n",
       "mpl.mpl_figure_comm = function (comm, msg) {\n",
       "    // This is the function which gets called when the mpl process\n",
       "    // starts-up an IPython Comm through the \"matplotlib\" channel.\n",
       "\n",
       "    var id = msg.content.data.id;\n",
       "    // Get hold of the div created by the display call when the Comm\n",
       "    // socket was opened in Python.\n",
       "    var element = document.getElementById(id);\n",
       "    var ws_proxy = comm_websocket_adapter(comm);\n",
       "\n",
       "    function ondownload(figure, _format) {\n",
       "        window.open(figure.canvas.toDataURL());\n",
       "    }\n",
       "\n",
       "    var fig = new mpl.figure(id, ws_proxy, ondownload, element);\n",
       "\n",
       "    // Call onopen now - mpl needs it, as it is assuming we've passed it a real\n",
       "    // web socket which is closed, not our websocket->open comm proxy.\n",
       "    ws_proxy.onopen();\n",
       "\n",
       "    fig.parent_element = element;\n",
       "    fig.cell_info = mpl.find_output_cell(\"<div id='\" + id + \"'></div>\");\n",
       "    if (!fig.cell_info) {\n",
       "        console.error('Failed to find cell for figure', id, fig);\n",
       "        return;\n",
       "    }\n",
       "    fig.cell_info[0].output_area.element.one(\n",
       "        'cleared',\n",
       "        { fig: fig },\n",
       "        fig._remove_fig_handler\n",
       "    );\n",
       "};\n",
       "\n",
       "mpl.figure.prototype.handle_close = function (fig, msg) {\n",
       "    var width = fig.canvas.width / fig.ratio;\n",
       "    fig.cell_info[0].output_area.element.off(\n",
       "        'cleared',\n",
       "        fig._remove_fig_handler\n",
       "    );\n",
       "\n",
       "    // Update the output cell to use the data from the current canvas.\n",
       "    fig.push_to_output();\n",
       "    var dataURL = fig.canvas.toDataURL();\n",
       "    // Re-enable the keyboard manager in IPython - without this line, in FF,\n",
       "    // the notebook keyboard shortcuts fail.\n",
       "    IPython.keyboard_manager.enable();\n",
       "    fig.parent_element.innerHTML =\n",
       "        '<img src=\"' + dataURL + '\" width=\"' + width + '\">';\n",
       "    fig.close_ws(fig, msg);\n",
       "};\n",
       "\n",
       "mpl.figure.prototype.close_ws = function (fig, msg) {\n",
       "    fig.send_message('closing', msg);\n",
       "    // fig.ws.close()\n",
       "};\n",
       "\n",
       "mpl.figure.prototype.push_to_output = function (_remove_interactive) {\n",
       "    // Turn the data on the canvas into data in the output cell.\n",
       "    var width = this.canvas.width / this.ratio;\n",
       "    var dataURL = this.canvas.toDataURL();\n",
       "    this.cell_info[1]['text/html'] =\n",
       "        '<img src=\"' + dataURL + '\" width=\"' + width + '\">';\n",
       "};\n",
       "\n",
       "mpl.figure.prototype.updated_canvas_event = function () {\n",
       "    // Tell IPython that the notebook contents must change.\n",
       "    IPython.notebook.set_dirty(true);\n",
       "    this.send_message('ack', {});\n",
       "    var fig = this;\n",
       "    // Wait a second, then push the new image to the DOM so\n",
       "    // that it is saved nicely (might be nice to debounce this).\n",
       "    setTimeout(function () {\n",
       "        fig.push_to_output();\n",
       "    }, 1000);\n",
       "};\n",
       "\n",
       "mpl.figure.prototype._init_toolbar = function () {\n",
       "    var fig = this;\n",
       "\n",
       "    var toolbar = document.createElement('div');\n",
       "    toolbar.classList = 'btn-toolbar';\n",
       "    this.root.appendChild(toolbar);\n",
       "\n",
       "    function on_click_closure(name) {\n",
       "        return function (_event) {\n",
       "            return fig.toolbar_button_onclick(name);\n",
       "        };\n",
       "    }\n",
       "\n",
       "    function on_mouseover_closure(tooltip) {\n",
       "        return function (event) {\n",
       "            if (!event.currentTarget.disabled) {\n",
       "                return fig.toolbar_button_onmouseover(tooltip);\n",
       "            }\n",
       "        };\n",
       "    }\n",
       "\n",
       "    fig.buttons = {};\n",
       "    var buttonGroup = document.createElement('div');\n",
       "    buttonGroup.classList = 'btn-group';\n",
       "    var button;\n",
       "    for (var toolbar_ind in mpl.toolbar_items) {\n",
       "        var name = mpl.toolbar_items[toolbar_ind][0];\n",
       "        var tooltip = mpl.toolbar_items[toolbar_ind][1];\n",
       "        var image = mpl.toolbar_items[toolbar_ind][2];\n",
       "        var method_name = mpl.toolbar_items[toolbar_ind][3];\n",
       "\n",
       "        if (!name) {\n",
       "            /* Instead of a spacer, we start a new button group. */\n",
       "            if (buttonGroup.hasChildNodes()) {\n",
       "                toolbar.appendChild(buttonGroup);\n",
       "            }\n",
       "            buttonGroup = document.createElement('div');\n",
       "            buttonGroup.classList = 'btn-group';\n",
       "            continue;\n",
       "        }\n",
       "\n",
       "        button = fig.buttons[name] = document.createElement('button');\n",
       "        button.classList = 'btn btn-default';\n",
       "        button.href = '#';\n",
       "        button.title = name;\n",
       "        button.innerHTML = '<i class=\"fa ' + image + ' fa-lg\"></i>';\n",
       "        button.addEventListener('click', on_click_closure(method_name));\n",
       "        button.addEventListener('mouseover', on_mouseover_closure(tooltip));\n",
       "        buttonGroup.appendChild(button);\n",
       "    }\n",
       "\n",
       "    if (buttonGroup.hasChildNodes()) {\n",
       "        toolbar.appendChild(buttonGroup);\n",
       "    }\n",
       "\n",
       "    // Add the status bar.\n",
       "    var status_bar = document.createElement('span');\n",
       "    status_bar.classList = 'mpl-message pull-right';\n",
       "    toolbar.appendChild(status_bar);\n",
       "    this.message = status_bar;\n",
       "\n",
       "    // Add the close button to the window.\n",
       "    var buttongrp = document.createElement('div');\n",
       "    buttongrp.classList = 'btn-group inline pull-right';\n",
       "    button = document.createElement('button');\n",
       "    button.classList = 'btn btn-mini btn-primary';\n",
       "    button.href = '#';\n",
       "    button.title = 'Stop Interaction';\n",
       "    button.innerHTML = '<i class=\"fa fa-power-off icon-remove icon-large\"></i>';\n",
       "    button.addEventListener('click', function (_evt) {\n",
       "        fig.handle_close(fig, {});\n",
       "    });\n",
       "    button.addEventListener(\n",
       "        'mouseover',\n",
       "        on_mouseover_closure('Stop Interaction')\n",
       "    );\n",
       "    buttongrp.appendChild(button);\n",
       "    var titlebar = this.root.querySelector('.ui-dialog-titlebar');\n",
       "    titlebar.insertBefore(buttongrp, titlebar.firstChild);\n",
       "};\n",
       "\n",
       "mpl.figure.prototype._remove_fig_handler = function (event) {\n",
       "    var fig = event.data.fig;\n",
       "    fig.close_ws(fig, {});\n",
       "};\n",
       "\n",
       "mpl.figure.prototype._root_extra_style = function (el) {\n",
       "    el.style.boxSizing = 'content-box'; // override notebook setting of border-box.\n",
       "};\n",
       "\n",
       "mpl.figure.prototype._canvas_extra_style = function (el) {\n",
       "    // this is important to make the div 'focusable\n",
       "    el.setAttribute('tabindex', 0);\n",
       "    // reach out to IPython and tell the keyboard manager to turn it's self\n",
       "    // off when our div gets focus\n",
       "\n",
       "    // location in version 3\n",
       "    if (IPython.notebook.keyboard_manager) {\n",
       "        IPython.notebook.keyboard_manager.register_events(el);\n",
       "    } else {\n",
       "        // location in version 2\n",
       "        IPython.keyboard_manager.register_events(el);\n",
       "    }\n",
       "};\n",
       "\n",
       "mpl.figure.prototype._key_event_extra = function (event, _name) {\n",
       "    var manager = IPython.notebook.keyboard_manager;\n",
       "    if (!manager) {\n",
       "        manager = IPython.keyboard_manager;\n",
       "    }\n",
       "\n",
       "    // Check for shift+enter\n",
       "    if (event.shiftKey && event.which === 13) {\n",
       "        this.canvas_div.blur();\n",
       "        // select the cell after this one\n",
       "        var index = IPython.notebook.find_cell_index(this.cell_info[0]);\n",
       "        IPython.notebook.select(index + 1);\n",
       "    }\n",
       "};\n",
       "\n",
       "mpl.figure.prototype.handle_save = function (fig, _msg) {\n",
       "    fig.ondownload(fig, null);\n",
       "};\n",
       "\n",
       "mpl.find_output_cell = function (html_output) {\n",
       "    // Return the cell and output element which can be found *uniquely* in the notebook.\n",
       "    // Note - this is a bit hacky, but it is done because the \"notebook_saving.Notebook\"\n",
       "    // IPython event is triggered only after the cells have been serialised, which for\n",
       "    // our purposes (turning an active figure into a static one), is too late.\n",
       "    var cells = IPython.notebook.get_cells();\n",
       "    var ncells = cells.length;\n",
       "    for (var i = 0; i < ncells; i++) {\n",
       "        var cell = cells[i];\n",
       "        if (cell.cell_type === 'code') {\n",
       "            for (var j = 0; j < cell.output_area.outputs.length; j++) {\n",
       "                var data = cell.output_area.outputs[j];\n",
       "                if (data.data) {\n",
       "                    // IPython >= 3 moved mimebundle to data attribute of output\n",
       "                    data = data.data;\n",
       "                }\n",
       "                if (data['text/html'] === html_output) {\n",
       "                    return [cell, data, j];\n",
       "                }\n",
       "            }\n",
       "        }\n",
       "    }\n",
       "};\n",
       "\n",
       "// Register the function which deals with the matplotlib target/channel.\n",
       "// The kernel may be null if the page has been refreshed.\n",
       "if (IPython.notebook.kernel !== null) {\n",
       "    IPython.notebook.kernel.comm_manager.register_target(\n",
       "        'matplotlib',\n",
       "        mpl.mpl_figure_comm\n",
       "    );\n",
       "}\n"
      ],
      "text/plain": [
       "<IPython.core.display.Javascript object>"
      ]
     },
     "metadata": {},
     "output_type": "display_data"
    },
    {
     "data": {
      "text/html": [
       "<img src=\"data:image/png;base64,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\" width=\"640\">"
      ],
      "text/plain": [
       "<IPython.core.display.HTML object>"
      ]
     },
     "metadata": {},
     "output_type": "display_data"
    },
    {
     "data": {
      "text/plain": [
       "Text(0.5, 0, '$Z$')"
      ]
     },
     "execution_count": 490,
     "metadata": {},
     "output_type": "execute_result"
    }
   ],
   "source": [
    "fig = plt.figure()\n",
    "ax = fig.add_subplot(111, projection='3d')\n",
    "x, y, z = p_x, p_y, p_z\n",
    "ax.scatter(x, y, z)\n",
    "\n",
    "ax.set_xlabel('$X$', fontsize=15)\n",
    "ax.set_ylabel('$Y$', fontsize=15)\n",
    "ax.set_zlabel(r'$Z$', fontsize=15)"
   ]
  },
  {
   "cell_type": "code",
   "execution_count": 491,
   "metadata": {},
   "outputs": [
    {
     "data": {
      "text/plain": [
       "237236"
      ]
     },
     "execution_count": 491,
     "metadata": {},
     "output_type": "execute_result"
    }
   ],
   "source": [
    "np.argmin(cost_list)"
   ]
  },
  {
   "cell_type": "code",
   "execution_count": 492,
   "metadata": {},
   "outputs": [
    {
     "data": {
      "text/plain": [
       "(3.9000000000000004, 2.4000000000000004, 5.9)"
      ]
     },
     "execution_count": 492,
     "metadata": {},
     "output_type": "execute_result"
    }
   ],
   "source": [
    "points[np.argmin(cost_list)]"
   ]
  },
  {
   "cell_type": "code",
   "execution_count": 493,
   "metadata": {},
   "outputs": [
    {
     "data": {
      "text/plain": [
       "11.147036627426552"
      ]
     },
     "execution_count": 493,
     "metadata": {},
     "output_type": "execute_result"
    }
   ],
   "source": [
    "min(cost_list)"
   ]
  },
  {
   "cell_type": "code",
   "execution_count": 410,
   "metadata": {},
   "outputs": [
    {
     "data": {
      "text/plain": [
       "(0.0, 5.57)"
      ]
     },
     "execution_count": 410,
     "metadata": {},
     "output_type": "execute_result"
    }
   ],
   "source": [
    "points[557]"
   ]
  },
  {
   "cell_type": "code",
   "execution_count": 443,
   "metadata": {},
   "outputs": [
    {
     "data": {
      "text/plain": [
       "5.713230204692438"
      ]
     },
     "execution_count": 443,
     "metadata": {},
     "output_type": "execute_result"
    }
   ],
   "source": [
    "cost_list[points.index((2.15, 4.88))]"
   ]
  },
  {
   "cell_type": "code",
   "execution_count": 432,
   "metadata": {},
   "outputs": [],
   "source": [
    "\n",
    "k1_MAX, k2_MAX, K3_MAX = max(p_x), max(p_y), max(p_z)"
   ]
  },
  {
   "cell_type": "code",
   "execution_count": 494,
   "metadata": {},
   "outputs": [
    {
     "data": {
      "text/plain": [
       "array([[ 5.36367234, -0.64248899, -2.22347658],\n",
       "       [-0.64248899,  2.67985321, -0.70913909],\n",
       "       [-2.22347658, -0.70913909,  8.83338398]])"
      ]
     },
     "execution_count": 494,
     "metadata": {},
     "output_type": "execute_result"
    }
   ],
   "source": [
    "X_inv"
   ]
  },
  {
   "cell_type": "code",
   "execution_count": null,
   "metadata": {},
   "outputs": [],
   "source": []
  },
  {
   "cell_type": "code",
   "execution_count": 499,
   "metadata": {},
   "outputs": [],
   "source": [
    "import matplotlib.pyplot as plt\n",
    "# plt.scatter(p_x, p_y)"
   ]
  },
  {
   "cell_type": "code",
   "execution_count": null,
   "metadata": {},
   "outputs": [],
   "source": [
    "A_tilda"
   ]
  },
  {
   "cell_type": "markdown",
   "metadata": {},
   "source": [
    "### for two players"
   ]
  },
  {
   "cell_type": "code",
   "execution_count": 441,
   "metadata": {},
   "outputs": [],
   "source": [
    "#if we set k1 to be fixed, find the line segment of k2 to minimize over\n",
    "ITER_NUM = 10\n",
    "gap = 100\n",
    "iter_points = []\n",
    "k1 = 0.2\n",
    "while gap > 1e-4:\n",
    "    A_tilda = A - B1*k1\n",
    "    min_k2 = (100000, 1000000, 100000)\n",
    "    for k2 in np.arange(0.1, k2_MAX, 0.1):\n",
    "        K = np.diag([k1, k2])\n",
    "        if np.all(LA.eigvals(K-2*X_inv) < 0):\n",
    "            Ak = A_tilda - B2*k2\n",
    "            P2 = solve_discrete_lyapunov(Ak, Q2)\n",
    "            cost = np.trace(P2)\n",
    "            if cost < min_k2[1]:\n",
    "                min_k2 = (k2, cost, P2)     \n",
    "        else:\n",
    "            break\n",
    "\n",
    "    k2 = min_k2[0]\n",
    "    iter_points.append((k1, k2, min_k2[1]))\n",
    "    \n",
    "    A_tilda = A - B2*k2\n",
    "    min_k1 = (100000, 1000000, 100000)\n",
    "    for k1 in np.arange(0.01, k1_MAX, 0.01):\n",
    "        K = np.diag([k1, k2])\n",
    "        if np.all(LA.eigvals(K-2*X_inv) < 0):\n",
    "            Ak = A_tilda - B1*k1\n",
    "            P1 = solve_discrete_lyapunov(Ak, Q1)\n",
    "            cost = np.trace(P1)\n",
    "            if cost < min_k1[1]:\n",
    "                min_k1 = (k1, cost, P1)\n",
    "        else:\n",
    "            break\n",
    "    k1 = min_k1[0]\n",
    "    iter_points.append((k1, k2, min_k1[1]))\n",
    "    p1 = iter_points[-1][0:2]\n",
    "    p2 = iter_points[-2][0:2]\n",
    "    gap = LA.norm(np.subtract(p1, p2))"
   ]
  },
  {
   "cell_type": "code",
   "execution_count": 442,
   "metadata": {},
   "outputs": [
    {
     "data": {
      "text/plain": [
       "[(0.2, 5.03, 8.585552392431914),\n",
       " (2.15, 5.03, 1.0333646392815814),\n",
       " (2.15, 4.88, 4.6798528236650245),\n",
       " (2.15, 4.88, 1.0333773810274132)]"
      ]
     },
     "execution_count": 442,
     "metadata": {},
     "output_type": "execute_result"
    }
   ],
   "source": [
    "iter_points"
   ]
  },
  {
   "cell_type": "code",
   "execution_count": 382,
   "metadata": {},
   "outputs": [],
   "source": [
    "iter_points_x = [x[0] for x in iter_points]\n",
    "iter_points_y = [x[1] for x in iter_points]"
   ]
  },
  {
   "cell_type": "code",
   "execution_count": 383,
   "metadata": {},
   "outputs": [
    {
     "data": {
      "image/png": "[encoded data removed]",
      "text/plain": [
       "<Figure size 432x288 with 1 Axes>"
      ]
     },
     "metadata": {
      "needs_background": "light"
     },
     "output_type": "display_data"
    }
   ],
   "source": [
    "plt.scatter(p_x, p_y)\n",
    "for i in range(len(iter_points_x)-1):\n",
    "    plt.arrow(iter_points_x[i], iter_points_y[i], iter_points_x[i+1]-iter_points_x[i], iter_points_y[i+1]-iter_points_y[i], color='y')"
   ]
  },
  {
   "cell_type": "markdown",
   "metadata": {},
   "source": [
    "### for three players or more "
   ]
  },
  {
   "cell_type": "code",
   "execution_count": 502,
   "metadata": {},
   "outputs": [
    {
     "data": {
      "text/plain": [
       "{1: array([[0.2199242 , 0.        , 0.        ],\n",
       "        [0.06883739, 0.        , 0.        ],\n",
       "        [0.06088398, 0.        , 0.        ]]),\n",
       " 2: array([[0.        , 0.06883739, 0.        ],\n",
       "        [0.        , 0.40280036, 0.        ],\n",
       "        [0.        , 0.04966384, 0.        ]]),\n",
       " 3: array([[0.        , 0.        , 0.06088398],\n",
       "        [0.        , 0.        , 0.04966384],\n",
       "        [0.        , 0.        , 0.13251917]])}"
      ]
     },
     "execution_count": 502,
     "metadata": {},
     "output_type": "execute_result"
    }
   ],
   "source": [
    "B_dict"
   ]
  },
  {
   "cell_type": "code",
   "execution_count": 529,
   "metadata": {},
   "outputs": [
    {
     "data": {
      "text/plain": [
       "array([ 1.        , -2.50305273,  1.        ])"
      ]
     },
     "execution_count": 529,
     "metadata": {},
     "output_type": "execute_result"
    }
   ],
   "source": [
    "LA.eigvals(Ak)"
   ]
  },
  {
   "cell_type": "code",
   "execution_count": 525,
   "metadata": {},
   "outputs": [
    {
     "data": {
      "text/plain": [
       "True"
      ]
     },
     "execution_count": 525,
     "metadata": {},
     "output_type": "execute_result"
    }
   ],
   "source": [
    "np.all(LA.eigvals(K-2*X_inv) < 0)"
   ]
  },
  {
   "cell_type": "code",
   "execution_count": 544,
   "metadata": {
    "scrolled": true
   },
   "outputs": [
    {
     "data": {
      "text/plain": [
       "[(array([4. , 2.4, 6.2]), 7.768183817227232, 1),\n",
       " (array([4. , 2.4, 6.2]), 3.218016518271088, 2),\n",
       " (array([4. , 2.4, 6.2]), 1.1802765484340567, 0)]"
      ]
     },
     "execution_count": 544,
     "metadata": {},
     "output_type": "execute_result"
    }
   ],
   "source": [
    "#if we set k1 to be fixed, find the area segment of (k2, k3, k...) to minimize over\n",
    "ITER_NUM = 10\n",
    "gap = 100\n",
    "\n",
    "iter_points = []\n",
    "k1 = 1\n",
    "K_list = np.ones(PLAYER) #initialize each ki in the list, which is 0-indexed \n",
    "K_list[0] = k1\n",
    "\n",
    "while gap > 1e-5:\n",
    "    A_tilda = A - B_dict[1]*K_list[0]\n",
    "    min_k_dict = {1: (k1, 10000, 10000)} #1-indexed\n",
    "    for i in range(2, PLAYER+1):\n",
    "        min_k_dict[i] = (100000, 10000, 100000) #(ki, cost, Pi)\n",
    "    for j in range(1, len(K_list)):\n",
    "        for curr_kj in np.arange(0.1, 20, 0.1):\n",
    "            curr_K = K_list\n",
    "            curr_K[j] = curr_kj\n",
    "            K = np.diag(curr_K)\n",
    "            if np.all(LA.eigvals(K-2*X_inv) < 0):\n",
    "                Ak = A - B@K #A_tilda - B2*k2\n",
    "                Pj = solve_discrete_lyapunov(Ak, Q_dict[j+1])\n",
    "                cost = np.trace(Pj)\n",
    "                if cost < min_k_dict[j+1][1]:\n",
    "                    min_k_dict[j+1] = (K_list[j], cost, Pj)   \n",
    "            else:\n",
    "                break\n",
    "        K_list[j] = min_k_dict[j+1][0]\n",
    "        iter_points.append((K_list, min_k_dict[j+1][1], j))\n",
    "    \n",
    "    for k1 in np.arange(0.1, 20, 0.1):\n",
    "        curr_K = K_list\n",
    "        curr_K[0] = k1\n",
    "        K = np.diag(curr_K)\n",
    "        if np.all(LA.eigvals(K-2*X_inv) < 0):\n",
    "            Ak = A - B@K\n",
    "            P1 = solve_discrete_lyapunov(Ak, Q_dict[1])\n",
    "            cost = np.trace(P1)\n",
    "            if cost < min_k_dict[1][1]:\n",
    "                min_k_dict[1] = (k1, cost, P1) \n",
    "        else:\n",
    "            break\n",
    "    K_list[0] = min_k_dict[1][0]\n",
    "    iter_points.append((K_list,  min_k_dict[1][1], 0))\n",
    "    p1 = iter_points[-1][0]\n",
    "    p2 = iter_points[-2][0]\n",
    "    gap = LA.norm(np.subtract(p1, p2))\n",
    "iter_points"
   ]
  },
  {
   "cell_type": "code",
   "execution_count": 547,
   "metadata": {},
   "outputs": [
    {
     "data": {
      "text/plain": [
       "12.166476883932377"
      ]
     },
     "execution_count": 547,
     "metadata": {},
     "output_type": "execute_result"
    }
   ],
   "source": [
    "sum([inter_p[-2] for inter_p in iter_points[-PLAYER:]])"
   ]
  },
  {
   "cell_type": "code",
   "execution_count": 549,
   "metadata": {},
   "outputs": [],
   "source": [
    "K = np.diag(iter_points[-1][0])\n",
    "Ak = A - B@K\n",
    "P = solve_discrete_lyapunov(Ak, Q)"
   ]
  },
  {
   "cell_type": "code",
   "execution_count": 541,
   "metadata": {},
   "outputs": [],
   "source": []
  }
 ],
 "metadata": {
  "kernelspec": {
   "display_name": "Python 3",
   "language": "python",
   "name": "python3"
  },
  "language_info": {
   "codemirror_mode": {
    "name": "ipython",
    "version": 3
   },
   "file_extension": ".py",
   "mimetype": "text/x-python",
   "name": "python",
   "nbconvert_exporter": "python",
   "pygments_lexer": "ipython3",
   "version": "3.8.3"
  }
 },
 "nbformat": 4,
 "nbformat_minor": 4
}
