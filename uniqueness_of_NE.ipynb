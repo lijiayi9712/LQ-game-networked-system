{
  "nbformat": 4,
  "nbformat_minor": 0,
  "metadata": {
    "colab": {
      "name": "uniqueness_of_NE.ipynb",
      "provenance": []
    },
    "kernelspec": {
      "name": "python3",
      "display_name": "Python 3"
    },
    "language_info": {
      "name": "python"
    }
  },
  "cells": [
    {
      "cell_type": "code",
      "source": [
        "\n",
        "import numpy as np\n",
        "np.set_printoptions(precision=3)\n",
        "\n",
        "\n",
        "import scipy as sp\n",
        "from scipy import linalg as la\n",
        "from scipy import optimize as op\n",
        "\n",
        "import matplotlib as mpl\n",
        "mpl.rc('font',**{'size':18})\n",
        "mpl.rc('text',usetex=False)\n",
        "from matplotlib import animation as animation\n",
        "from IPython.display import HTML\n",
        "mpl.rc('animation', html='jshtml')\n",
        "import matplotlib.pyplot as plt\n",
        "\n",
        "import sympy as sym\n",
        "from numpy import linalg as LA\n",
        "A = np.eye(2)"
      ],
      "metadata": {
        "id": "t8R0l7QUX3x_"
      },
      "execution_count": null,
      "outputs": []
    },
    {
      "cell_type": "code",
      "execution_count": null,
      "metadata": {
        "colab": {
          "base_uri": "https://localhost:8080/"
        },
        "id": "0n5s2WWmXT3B",
        "outputId": "ad5b3aa7-f732-40ea-eb7a-0187a1f4d66d"
      },
      "outputs": [
        {
          "output_type": "stream",
          "name": "stdout",
          "text": [
            "Colaboratory Notebook\n"
          ]
        }
      ],
      "source": [
        "\n",
        "try:\n",
        "  import google.colab\n",
        "  COLAB = True\n",
        "  print('Colaboratory Notebook')\n",
        "except:\n",
        "  COLAB = False\n",
        "  print('Jupyter Notebook')\n",
        "\n",
        "# Colab notebook\n",
        "if COLAB:\n",
        "  # render SymPy equations nicely in Colaboratory Notebook\n",
        "  def colab_latex_printer(exp,**options):\n",
        "    from google.colab.output._publish import javascript\n",
        "    url = \"https://cdnjs.cloudflare.com/ajax/libs/mathjax/2.7.3/latest.js?config=default\"\n",
        "    javascript(url=url)\n",
        "    return sym.printing.latex(exp,**options)\n",
        "  \n",
        "  sym.init_printing(use_latex=\"mathjax\",latex_printer=colab_latex_printer)\n",
        "\n",
        "# Jupyter notebook\n",
        "else:\n",
        "  init_printing(use_latex='mathjax')\n",
        "\n",
        "# Python's Control Systems Toolbox\n",
        "\n",
        "# SciPy module that implements many of the routines in ctrl\n",
        "from scipy import signal as sig"
      ]
    },
    {
      "cell_type": "code",
      "source": [
        "x11 = sym.symbols('x11')\n",
        "x12 = sym.symbols('x12')\n",
        "x13 = sym.symbols('x13')\n",
        "x22 = sym.symbols('x22')\n",
        "x23 = sym.symbols('x23')\n",
        "x33 = sym.symbols('x33')\n",
        "X = sym.Matrix([[x11, x12, x13], [x12, x22, x23], [x13, x23, x33]])\n",
        "#alpha = sym.symbols('alpha')\n",
        "\n",
        "\n",
        "#X = sym.Matrix([[1, 1], [1, alpha]])"
      ],
      "metadata": {
        "id": "Kmt5r-VyXjES"
      },
      "execution_count": null,
      "outputs": []
    },
    {
      "cell_type": "code",
      "source": [
        "X"
      ],
      "metadata": {
        "colab": {
          "base_uri": "https://localhost:8080/",
          "height": 78
        },
        "id": "Kh5l5hy3Ec0l",
        "outputId": "f29dd2b4-6506-477c-d297-50ad47116d2a"
      },
      "execution_count": null,
      "outputs": [
        {
          "output_type": "display_data",
          "data": {
            "text/html": [
              "<script src='https://cdnjs.cloudflare.com/ajax/libs/mathjax/2.7.3/latest.js?config=default'></script>"
            ],
            "text/plain": [
              "<IPython.core.display.HTML object>"
            ]
          },
          "metadata": {}
        },
        {
          "output_type": "execute_result",
          "data": {
            "text/latex": "$\\displaystyle \\left[\\begin{matrix}x_{11} & x_{12} & x_{13}\\\\x_{12} & x_{22} & x_{23}\\\\x_{13} & x_{23} & x_{33}\\end{matrix}\\right]$",
            "text/plain": [
              "⎡x₁₁  x₁₂  x₁₃⎤\n",
              "⎢             ⎥\n",
              "⎢x₁₂  x₂₂  x₂₃⎥\n",
              "⎢             ⎥\n",
              "⎣x₁₃  x₂₃  x₃₃⎦"
            ]
          },
          "metadata": {},
          "execution_count": 4
        }
      ]
    },
    {
      "cell_type": "code",
      "source": [
        "k1, k2, k3= sym.symbols('k_1, k_2, k_3')\n",
        "K = sym.Matrix([[k1, 0, 0], [0, k2, 0], [0, 0, k3]])\n",
        "K"
      ],
      "metadata": {
        "colab": {
          "base_uri": "https://localhost:8080/",
          "height": 78
        },
        "id": "-lqXCn-dZFQo",
        "outputId": "c7bbc8e5-7a50-4fd1-b227-176eeb6447df"
      },
      "execution_count": null,
      "outputs": [
        {
          "output_type": "display_data",
          "data": {
            "text/html": [
              "<script src='https://cdnjs.cloudflare.com/ajax/libs/mathjax/2.7.3/latest.js?config=default'></script>"
            ],
            "text/plain": [
              "<IPython.core.display.HTML object>"
            ]
          },
          "metadata": {}
        },
        {
          "output_type": "execute_result",
          "data": {
            "text/latex": "$\\displaystyle \\left[\\begin{matrix}k_{1} & 0 & 0\\\\0 & k_{2} & 0\\\\0 & 0 & k_{3}\\end{matrix}\\right]$",
            "text/plain": [
              "⎡k₁  0   0 ⎤\n",
              "⎢          ⎥\n",
              "⎢0   k₂  0 ⎥\n",
              "⎢          ⎥\n",
              "⎣0   0   k₃⎦"
            ]
          },
          "metadata": {},
          "execution_count": 5
        }
      ]
    },
    {
      "cell_type": "code",
      "source": [
        "q1, q2, q3 = sym.symbols('q_1, q_2, q_3')\n",
        "Q = sym.Matrix([[q1, 0, 0], [0, q2, 0], [0, 0, q3]])\n",
        "Q"
      ],
      "metadata": {
        "colab": {
          "base_uri": "https://localhost:8080/",
          "height": 78
        },
        "id": "YjHxCM_San2G",
        "outputId": "08b1c280-0269-418c-cd41-873e5a38e98e"
      },
      "execution_count": null,
      "outputs": [
        {
          "output_type": "display_data",
          "data": {
            "text/html": [
              "<script src='https://cdnjs.cloudflare.com/ajax/libs/mathjax/2.7.3/latest.js?config=default'></script>"
            ],
            "text/plain": [
              "<IPython.core.display.HTML object>"
            ]
          },
          "metadata": {}
        },
        {
          "output_type": "execute_result",
          "data": {
            "text/latex": "$\\displaystyle \\left[\\begin{matrix}q_{1} & 0 & 0\\\\0 & q_{2} & 0\\\\0 & 0 & q_{3}\\end{matrix}\\right]$",
            "text/plain": [
              "⎡q₁  0   0 ⎤\n",
              "⎢          ⎥\n",
              "⎢0   q₂  0 ⎥\n",
              "⎢          ⎥\n",
              "⎣0   0   q₃⎦"
            ]
          },
          "metadata": {},
          "execution_count": 9
        }
      ]
    },
    {
      "cell_type": "code",
      "source": [
        ""
      ],
      "metadata": {
        "id": "qQEGEwFUZdnA"
      },
      "execution_count": null,
      "outputs": []
    },
    {
      "cell_type": "code",
      "source": [
        ""
      ],
      "metadata": {
        "id": "TT7gzX7La7MZ"
      },
      "execution_count": null,
      "outputs": []
    },
    {
      "cell_type": "code",
      "source": [
        "W = sym.simplify((2*K-K@X@K))"
      ],
      "metadata": {
        "id": "iEr1y_BCdv6e"
      },
      "execution_count": null,
      "outputs": []
    },
    {
      "cell_type": "code",
      "source": [
        "W"
      ],
      "metadata": {
        "colab": {
          "base_uri": "https://localhost:8080/",
          "height": 78
        },
        "id": "kRmpiPCH-m3x",
        "outputId": "fa7fecba-6f5c-446d-a233-a8abf5fc490c"
      },
      "execution_count": null,
      "outputs": [
        {
          "output_type": "display_data",
          "data": {
            "text/html": [
              "<script src='https://cdnjs.cloudflare.com/ajax/libs/mathjax/2.7.3/latest.js?config=default'></script>"
            ],
            "text/plain": [
              "<IPython.core.display.HTML object>"
            ]
          },
          "metadata": {}
        },
        {
          "output_type": "execute_result",
          "data": {
            "text/latex": "$\\displaystyle \\left[\\begin{matrix}k_{1} \\left(- k_{1} x_{11} + 2\\right) & - k_{1} k_{2} x_{12} & - k_{1} k_{3} x_{13}\\\\- k_{1} k_{2} x_{12} & k_{2} \\left(- k_{2} x_{22} + 2\\right) & - k_{2} k_{3} x_{23}\\\\- k_{1} k_{3} x_{13} & - k_{2} k_{3} x_{23} & k_{3} \\left(- k_{3} x_{33} + 2\\right)\\end{matrix}\\right]$",
            "text/plain": [
              "⎡k₁⋅(-k₁⋅x₁₁ + 2)     -k₁⋅k₂⋅x₁₂        -k₁⋅k₃⋅x₁₃   ⎤\n",
              "⎢                                                    ⎥\n",
              "⎢   -k₁⋅k₂⋅x₁₂     k₂⋅(-k₂⋅x₂₂ + 2)     -k₂⋅k₃⋅x₂₃   ⎥\n",
              "⎢                                                    ⎥\n",
              "⎣   -k₁⋅k₃⋅x₁₃        -k₂⋅k₃⋅x₂₃     k₃⋅(-k₃⋅x₃₃ + 2)⎦"
            ]
          },
          "metadata": {},
          "execution_count": 11
        }
      ]
    },
    {
      "cell_type": "code",
      "source": [
        "Q_hat = X@Q@X\n",
        "Q_hat"
      ],
      "metadata": {
        "colab": {
          "base_uri": "https://localhost:8080/",
          "height": 57
        },
        "id": "kevBN432cC_2",
        "outputId": "eb1e486e-e552-4a3c-c1a1-9abdfa9031b3"
      },
      "execution_count": null,
      "outputs": [
        {
          "output_type": "display_data",
          "data": {
            "text/html": [
              "<script src='https://cdnjs.cloudflare.com/ajax/libs/mathjax/2.7.3/latest.js?config=default'></script>"
            ],
            "text/plain": [
              "<IPython.core.display.HTML object>"
            ]
          },
          "metadata": {}
        },
        {
          "output_type": "execute_result",
          "data": {
            "text/latex": "$\\displaystyle \\left[\\begin{matrix}q_{1} x_{11}^{2} + q_{2} x_{12}^{2} & q_{1} x_{11} x_{12} + q_{2} x_{12} x_{22}\\\\q_{1} x_{11} x_{12} + q_{2} x_{12} x_{22} & q_{1} x_{12}^{2} + q_{2} x_{22}^{2}\\end{matrix}\\right]$",
            "text/plain": [
              "⎡         2         2                            ⎤\n",
              "⎢   q₁⋅x₁₁  + q₂⋅x₁₂      q₁⋅x₁₁⋅x₁₂ + q₂⋅x₁₂⋅x₂₂⎥\n",
              "⎢                                                ⎥\n",
              "⎢                                  2         2   ⎥\n",
              "⎣q₁⋅x₁₁⋅x₁₂ + q₂⋅x₁₂⋅x₂₂     q₁⋅x₁₂  + q₂⋅x₂₂    ⎦"
            ]
          },
          "metadata": {},
          "execution_count": 10
        }
      ]
    },
    {
      "cell_type": "code",
      "source": [
        "# det = sym.simplify(W[0]*W[3] - W[1]*W[2])"
      ],
      "metadata": {
        "id": "2ZdsNXSZeSMY"
      },
      "execution_count": null,
      "outputs": []
    },
    {
      "cell_type": "code",
      "source": [
        "W_inv = W.inv()#sym.Matrix([[W[3], -W[1]], [-W[2], W[0]]])\n",
        "W_inv"
      ],
      "metadata": {
        "colab": {
          "base_uri": "https://localhost:8080/",
          "height": 124
        },
        "id": "D_qJOfMzeh7W",
        "outputId": "59fee429-24f9-4871-d19b-ac34cc0ccff0"
      },
      "execution_count": null,
      "outputs": [
        {
          "output_type": "display_data",
          "data": {
            "text/html": [
              "<script src='https://cdnjs.cloudflare.com/ajax/libs/mathjax/2.7.3/latest.js?config=default'></script>"
            ],
            "text/plain": [
              "<IPython.core.display.HTML object>"
            ]
          },
          "metadata": {}
        },
        {
          "output_type": "execute_result",
          "data": {
            "text/latex": "$\\displaystyle \\left[\\begin{matrix}\\frac{- k_{2} k_{3} x_{22} x_{33} + k_{2} k_{3} x_{23}^{2} + 2 k_{2} x_{22} + 2 k_{3} x_{33} - 4}{k_{1}^{2} k_{2} k_{3} x_{11} x_{22} x_{33} - k_{1}^{2} k_{2} k_{3} x_{11} x_{23}^{2} - k_{1}^{2} k_{2} k_{3} x_{12}^{2} x_{33} + 2 k_{1}^{2} k_{2} k_{3} x_{12} x_{13} x_{23} - k_{1}^{2} k_{2} k_{3} x_{13}^{2} x_{22} - 2 k_{1}^{2} k_{2} x_{11} x_{22} + 2 k_{1}^{2} k_{2} x_{12}^{2} - 2 k_{1}^{2} k_{3} x_{11} x_{33} + 2 k_{1}^{2} k_{3} x_{13}^{2} + 4 k_{1}^{2} x_{11} - 2 k_{1} k_{2} k_{3} x_{22} x_{33} + 2 k_{1} k_{2} k_{3} x_{23}^{2} + 4 k_{1} k_{2} x_{22} + 4 k_{1} k_{3} x_{33} - 8 k_{1}} & \\frac{k_{3} x_{12} x_{33} - k_{3} x_{13} x_{23} - 2 x_{12}}{k_{1} k_{2} k_{3} x_{11} x_{22} x_{33} - k_{1} k_{2} k_{3} x_{11} x_{23}^{2} - k_{1} k_{2} k_{3} x_{12}^{2} x_{33} + 2 k_{1} k_{2} k_{3} x_{12} x_{13} x_{23} - k_{1} k_{2} k_{3} x_{13}^{2} x_{22} - 2 k_{1} k_{2} x_{11} x_{22} + 2 k_{1} k_{2} x_{12}^{2} - 2 k_{1} k_{3} x_{11} x_{33} + 2 k_{1} k_{3} x_{13}^{2} + 4 k_{1} x_{11} - 2 k_{2} k_{3} x_{22} x_{33} + 2 k_{2} k_{3} x_{23}^{2} + 4 k_{2} x_{22} + 4 k_{3} x_{33} - 8} & \\frac{- k_{2} x_{12} x_{23} + k_{2} x_{13} x_{22} - 2 x_{13}}{k_{1} k_{2} k_{3} x_{11} x_{22} x_{33} - k_{1} k_{2} k_{3} x_{11} x_{23}^{2} - k_{1} k_{2} k_{3} x_{12}^{2} x_{33} + 2 k_{1} k_{2} k_{3} x_{12} x_{13} x_{23} - k_{1} k_{2} k_{3} x_{13}^{2} x_{22} - 2 k_{1} k_{2} x_{11} x_{22} + 2 k_{1} k_{2} x_{12}^{2} - 2 k_{1} k_{3} x_{11} x_{33} + 2 k_{1} k_{3} x_{13}^{2} + 4 k_{1} x_{11} - 2 k_{2} k_{3} x_{22} x_{33} + 2 k_{2} k_{3} x_{23}^{2} + 4 k_{2} x_{22} + 4 k_{3} x_{33} - 8}\\\\\\frac{k_{3} x_{12} x_{33} - k_{3} x_{13} x_{23} - 2 x_{12}}{k_{1} k_{2} k_{3} x_{11} x_{22} x_{33} - k_{1} k_{2} k_{3} x_{11} x_{23}^{2} - k_{1} k_{2} k_{3} x_{12}^{2} x_{33} + 2 k_{1} k_{2} k_{3} x_{12} x_{13} x_{23} - k_{1} k_{2} k_{3} x_{13}^{2} x_{22} - 2 k_{1} k_{2} x_{11} x_{22} + 2 k_{1} k_{2} x_{12}^{2} - 2 k_{1} k_{3} x_{11} x_{33} + 2 k_{1} k_{3} x_{13}^{2} + 4 k_{1} x_{11} - 2 k_{2} k_{3} x_{22} x_{33} + 2 k_{2} k_{3} x_{23}^{2} + 4 k_{2} x_{22} + 4 k_{3} x_{33} - 8} & \\frac{- k_{1} k_{3} x_{11} x_{33} + k_{1} k_{3} x_{13}^{2} + 2 k_{1} x_{11} + 2 k_{3} x_{33} - 4}{k_{1} k_{2}^{2} k_{3} x_{11} x_{22} x_{33} - k_{1} k_{2}^{2} k_{3} x_{11} x_{23}^{2} - k_{1} k_{2}^{2} k_{3} x_{12}^{2} x_{33} + 2 k_{1} k_{2}^{2} k_{3} x_{12} x_{13} x_{23} - k_{1} k_{2}^{2} k_{3} x_{13}^{2} x_{22} - 2 k_{1} k_{2}^{2} x_{11} x_{22} + 2 k_{1} k_{2}^{2} x_{12}^{2} - 2 k_{1} k_{2} k_{3} x_{11} x_{33} + 2 k_{1} k_{2} k_{3} x_{13}^{2} + 4 k_{1} k_{2} x_{11} - 2 k_{2}^{2} k_{3} x_{22} x_{33} + 2 k_{2}^{2} k_{3} x_{23}^{2} + 4 k_{2}^{2} x_{22} + 4 k_{2} k_{3} x_{33} - 8 k_{2}} & \\frac{k_{1} x_{11} x_{23} - k_{1} x_{12} x_{13} - 2 x_{23}}{k_{1} k_{2} k_{3} x_{11} x_{22} x_{33} - k_{1} k_{2} k_{3} x_{11} x_{23}^{2} - k_{1} k_{2} k_{3} x_{12}^{2} x_{33} + 2 k_{1} k_{2} k_{3} x_{12} x_{13} x_{23} - k_{1} k_{2} k_{3} x_{13}^{2} x_{22} - 2 k_{1} k_{2} x_{11} x_{22} + 2 k_{1} k_{2} x_{12}^{2} - 2 k_{1} k_{3} x_{11} x_{33} + 2 k_{1} k_{3} x_{13}^{2} + 4 k_{1} x_{11} - 2 k_{2} k_{3} x_{22} x_{33} + 2 k_{2} k_{3} x_{23}^{2} + 4 k_{2} x_{22} + 4 k_{3} x_{33} - 8}\\\\\\frac{- k_{2} x_{12} x_{23} + k_{2} x_{13} x_{22} - 2 x_{13}}{k_{1} k_{2} k_{3} x_{11} x_{22} x_{33} - k_{1} k_{2} k_{3} x_{11} x_{23}^{2} - k_{1} k_{2} k_{3} x_{12}^{2} x_{33} + 2 k_{1} k_{2} k_{3} x_{12} x_{13} x_{23} - k_{1} k_{2} k_{3} x_{13}^{2} x_{22} - 2 k_{1} k_{2} x_{11} x_{22} + 2 k_{1} k_{2} x_{12}^{2} - 2 k_{1} k_{3} x_{11} x_{33} + 2 k_{1} k_{3} x_{13}^{2} + 4 k_{1} x_{11} - 2 k_{2} k_{3} x_{22} x_{33} + 2 k_{2} k_{3} x_{23}^{2} + 4 k_{2} x_{22} + 4 k_{3} x_{33} - 8} & \\frac{k_{1} x_{11} x_{23} - k_{1} x_{12} x_{13} - 2 x_{23}}{k_{1} k_{2} k_{3} x_{11} x_{22} x_{33} - k_{1} k_{2} k_{3} x_{11} x_{23}^{2} - k_{1} k_{2} k_{3} x_{12}^{2} x_{33} + 2 k_{1} k_{2} k_{3} x_{12} x_{13} x_{23} - k_{1} k_{2} k_{3} x_{13}^{2} x_{22} - 2 k_{1} k_{2} x_{11} x_{22} + 2 k_{1} k_{2} x_{12}^{2} - 2 k_{1} k_{3} x_{11} x_{33} + 2 k_{1} k_{3} x_{13}^{2} + 4 k_{1} x_{11} - 2 k_{2} k_{3} x_{22} x_{33} + 2 k_{2} k_{3} x_{23}^{2} + 4 k_{2} x_{22} + 4 k_{3} x_{33} - 8} & \\frac{- k_{1} k_{2} x_{11} x_{22} + k_{1} k_{2} x_{12}^{2} + 2 k_{1} x_{11} + 2 k_{2} x_{22} - 4}{k_{1} k_{2} k_{3}^{2} x_{11} x_{22} x_{33} - k_{1} k_{2} k_{3}^{2} x_{11} x_{23}^{2} - k_{1} k_{2} k_{3}^{2} x_{12}^{2} x_{33} + 2 k_{1} k_{2} k_{3}^{2} x_{12} x_{13} x_{23} - k_{1} k_{2} k_{3}^{2} x_{13}^{2} x_{22} - 2 k_{1} k_{2} k_{3} x_{11} x_{22} + 2 k_{1} k_{2} k_{3} x_{12}^{2} - 2 k_{1} k_{3}^{2} x_{11} x_{33} + 2 k_{1} k_{3}^{2} x_{13}^{2} + 4 k_{1} k_{3} x_{11} - 2 k_{2} k_{3}^{2} x_{22} x_{33} + 2 k_{2} k_{3}^{2} x_{23}^{2} + 4 k_{2} k_{3} x_{22} + 4 k_{3}^{2} x_{33} - 8 k_{3}}\\end{matrix}\\right]$",
            "text/plain": [
              "⎡                                                                             \n",
              "⎢                                                                             \n",
              "⎢─────────────────────────────────────────────────────────────────────────────\n",
              "⎢  2                       2              2     2          2           2      \n",
              "⎢k₁ ⋅k₂⋅k₃⋅x₁₁⋅x₂₂⋅x₃₃ - k₁ ⋅k₂⋅k₃⋅x₁₁⋅x₂₃  - k₁ ⋅k₂⋅k₃⋅x₁₂ ⋅x₃₃ + 2⋅k₁ ⋅k₂⋅k₃\n",
              "⎢                                                                             \n",
              "⎢                                                                             \n",
              "⎢                                                                             \n",
              "⎢            ─────────────────────────────────────────────────────────────────\n",
              "⎢                                                   2               2         \n",
              "⎢            k₁⋅k₂⋅k₃⋅x₁₁⋅x₂₂⋅x₃₃ - k₁⋅k₂⋅k₃⋅x₁₁⋅x₂₃  - k₁⋅k₂⋅k₃⋅x₁₂ ⋅x₃₃ + 2⋅\n",
              "⎢                                                                             \n",
              "⎢                                                                             \n",
              "⎢                                                                             \n",
              "⎢            ─────────────────────────────────────────────────────────────────\n",
              "⎢                                                   2               2         \n",
              "⎣            k₁⋅k₂⋅k₃⋅x₁₁⋅x₂₂⋅x₃₃ - k₁⋅k₂⋅k₃⋅x₁₁⋅x₂₃  - k₁⋅k₂⋅k₃⋅x₁₂ ⋅x₃₃ + 2⋅\n",
              "\n",
              "                                                       2                      \n",
              "                             -k₂⋅k₃⋅x₂₂⋅x₃₃ + k₂⋅k₃⋅x₂₃  + 2⋅k₂⋅x₂₂ + 2⋅k₃⋅x₃₃\n",
              "──────────────────────────────────────────────────────────────────────────────\n",
              "                 2          2           2                  2       2       2  \n",
              "⋅x₁₂⋅x₁₃⋅x₂₃ - k₁ ⋅k₂⋅k₃⋅x₁₃ ⋅x₂₂ - 2⋅k₁ ⋅k₂⋅x₁₁⋅x₂₂ + 2⋅k₁ ⋅k₂⋅x₁₂  - 2⋅k₁ ⋅k\n",
              "                                                                              \n",
              "                                                                              \n",
              "                                        k₃⋅x₁₂⋅x₃₃ - k₃⋅x₁₃⋅x₂₃ - 2⋅x₁₂       \n",
              "──────────────────────────────────────────────────────────────────────────────\n",
              "                                   2                                    2     \n",
              "k₁⋅k₂⋅k₃⋅x₁₂⋅x₁₃⋅x₂₃ - k₁⋅k₂⋅k₃⋅x₁₃ ⋅x₂₂ - 2⋅k₁⋅k₂⋅x₁₁⋅x₂₂ + 2⋅k₁⋅k₂⋅x₁₂  - 2⋅\n",
              "                                                                              \n",
              "                                                                              \n",
              "                                        -k₂⋅x₁₂⋅x₂₃ + k₂⋅x₁₃⋅x₂₂ - 2⋅x₁₃      \n",
              "──────────────────────────────────────────────────────────────────────────────\n",
              "                                   2                                    2     \n",
              "k₁⋅k₂⋅k₃⋅x₁₂⋅x₁₃⋅x₂₃ - k₁⋅k₂⋅k₃⋅x₁₃ ⋅x₂₂ - 2⋅k₁⋅k₂⋅x₁₁⋅x₂₂ + 2⋅k₁⋅k₂⋅x₁₂  - 2⋅\n",
              "\n",
              "                                                                              \n",
              " - 4                                                                          \n",
              "──────────────────────────────────────────────────────────────────────────────\n",
              "                2       2       2                                          2  \n",
              "₃⋅x₁₁⋅x₃₃ + 2⋅k₁ ⋅k₃⋅x₁₃  + 4⋅k₁ ⋅x₁₁ - 2⋅k₁⋅k₂⋅k₃⋅x₂₂⋅x₃₃ + 2⋅k₁⋅k₂⋅k₃⋅x₂₃  +\n",
              "                                                                              \n",
              "                                                                              \n",
              "                                                                              \n",
              "──────────────────────────────────────────────────────────────────────────────\n",
              "                           2                                           2      \n",
              "k₁⋅k₃⋅x₁₁⋅x₃₃ + 2⋅k₁⋅k₃⋅x₁₃  + 4⋅k₁⋅x₁₁ - 2⋅k₂⋅k₃⋅x₂₂⋅x₃₃ + 2⋅k₂⋅k₃⋅x₂₃  + 4⋅k\n",
              "                                                                              \n",
              "                                                                              \n",
              "                                                                              \n",
              "──────────────────────────────────────────────────────────────────────────────\n",
              "                           2                                           2      \n",
              "k₁⋅k₃⋅x₁₁⋅x₃₃ + 2⋅k₁⋅k₃⋅x₁₃  + 4⋅k₁⋅x₁₁ - 2⋅k₂⋅k₃⋅x₂₂⋅x₃₃ + 2⋅k₂⋅k₃⋅x₂₃  + 4⋅k\n",
              "\n",
              "                                                                              \n",
              "                                                                              \n",
              "─────────────────────────────────              ───────────────────────────────\n",
              "                                                                              \n",
              " 4⋅k₁⋅k₂⋅x₂₂ + 4⋅k₁⋅k₃⋅x₃₃ - 8⋅k₁              k₁⋅k₂⋅k₃⋅x₁₁⋅x₂₂⋅x₃₃ - k₁⋅k₂⋅k₃\n",
              "                                                                              \n",
              "                                                                              \n",
              "                                                                              \n",
              "────────────────────               ───────────────────────────────────────────\n",
              "                                        2                       2           2 \n",
              "₂⋅x₂₂ + 4⋅k₃⋅x₃₃ - 8               k₁⋅k₂ ⋅k₃⋅x₁₁⋅x₂₂⋅x₃₃ - k₁⋅k₂ ⋅k₃⋅x₁₁⋅x₂₃  \n",
              "                                                                              \n",
              "                                                                              \n",
              "                                                                              \n",
              "────────────────────                           ───────────────────────────────\n",
              "                                                                              \n",
              "₂⋅x₂₂ + 4⋅k₃⋅x₃₃ - 8                           k₁⋅k₂⋅k₃⋅x₁₁⋅x₂₂⋅x₃₃ - k₁⋅k₂⋅k₃\n",
              "\n",
              "                                                                              \n",
              "                                                                          k₃⋅x\n",
              "──────────────────────────────────────────────────────────────────────────────\n",
              "        2               2                                            2        \n",
              "⋅x₁₁⋅x₂₃  - k₁⋅k₂⋅k₃⋅x₁₂ ⋅x₃₃ + 2⋅k₁⋅k₂⋅k₃⋅x₁₂⋅x₁₃⋅x₂₃ - k₁⋅k₂⋅k₃⋅x₁₃ ⋅x₂₂ - 2\n",
              "                                                                              \n",
              "                                                                              \n",
              "                                                               -k₁⋅k₃⋅x₁₁⋅x₃₃ \n",
              "──────────────────────────────────────────────────────────────────────────────\n",
              "       2       2              2                       2       2              2\n",
              "- k₁⋅k₂ ⋅k₃⋅x₁₂ ⋅x₃₃ + 2⋅k₁⋅k₂ ⋅k₃⋅x₁₂⋅x₁₃⋅x₂₃ - k₁⋅k₂ ⋅k₃⋅x₁₃ ⋅x₂₂ - 2⋅k₁⋅k₂ \n",
              "                                                                              \n",
              "                                                                              \n",
              "                                                                          k₁⋅x\n",
              "──────────────────────────────────────────────────────────────────────────────\n",
              "        2               2                                            2        \n",
              "⋅x₁₁⋅x₂₃  - k₁⋅k₂⋅k₃⋅x₁₂ ⋅x₃₃ + 2⋅k₁⋅k₂⋅k₃⋅x₁₂⋅x₁₃⋅x₂₃ - k₁⋅k₂⋅k₃⋅x₁₃ ⋅x₂₂ - 2\n",
              "\n",
              "                                                                              \n",
              "₁₂⋅x₃₃ - k₃⋅x₁₃⋅x₂₃ - 2⋅x₁₂                                                   \n",
              "──────────────────────────────────────────────────────────────────────────────\n",
              "                            2                                2                \n",
              "⋅k₁⋅k₂⋅x₁₁⋅x₂₂ + 2⋅k₁⋅k₂⋅x₁₂  - 2⋅k₁⋅k₃⋅x₁₁⋅x₃₃ + 2⋅k₁⋅k₃⋅x₁₃  + 4⋅k₁⋅x₁₁ - 2⋅\n",
              "                                                                              \n",
              "           2                                                                  \n",
              "+ k₁⋅k₃⋅x₁₃  + 2⋅k₁⋅x₁₁ + 2⋅k₃⋅x₃₃ - 4                                        \n",
              "──────────────────────────────────────────────────────────────────────────────\n",
              "                  2    2                                      2               \n",
              "⋅x₁₁⋅x₂₂ + 2⋅k₁⋅k₂ ⋅x₁₂  - 2⋅k₁⋅k₂⋅k₃⋅x₁₁⋅x₃₃ + 2⋅k₁⋅k₂⋅k₃⋅x₁₃  + 4⋅k₁⋅k₂⋅x₁₁ \n",
              "                                                                              \n",
              "                                                                              \n",
              "₁₁⋅x₂₃ - k₁⋅x₁₂⋅x₁₃ - 2⋅x₂₃                                                   \n",
              "──────────────────────────────────────────────────────────────────────────────\n",
              "                            2                                2                \n",
              "⋅k₁⋅k₂⋅x₁₁⋅x₂₂ + 2⋅k₁⋅k₂⋅x₁₂  - 2⋅k₁⋅k₃⋅x₁₁⋅x₃₃ + 2⋅k₁⋅k₃⋅x₁₃  + 4⋅k₁⋅x₁₁ - 2⋅\n",
              "\n",
              "                                                                              \n",
              "                                                                              \n",
              "──────────────────────────────────────────────────────                        \n",
              "                           2                                                  \n",
              "k₂⋅k₃⋅x₂₂⋅x₃₃ + 2⋅k₂⋅k₃⋅x₂₃  + 4⋅k₂⋅x₂₂ + 4⋅k₃⋅x₃₃ - 8                        \n",
              "                                                                              \n",
              "                                                                              \n",
              "                                                                              \n",
              "───────────────────────────────────────────────────────────────────           \n",
              "      2                  2       2       2                                    \n",
              "- 2⋅k₂ ⋅k₃⋅x₂₂⋅x₃₃ + 2⋅k₂ ⋅k₃⋅x₂₃  + 4⋅k₂ ⋅x₂₂ + 4⋅k₂⋅k₃⋅x₃₃ - 8⋅k₂           \n",
              "                                                                              \n",
              "                                                                              \n",
              "                                                                              \n",
              "──────────────────────────────────────────────────────               ─────────\n",
              "                           2                                                 2\n",
              "k₂⋅k₃⋅x₂₂⋅x₃₃ + 2⋅k₂⋅k₃⋅x₂₃  + 4⋅k₂⋅x₂₂ + 4⋅k₃⋅x₃₃ - 8               k₁⋅k₂⋅k₃ \n",
              "\n",
              "                                                                              \n",
              "                                                                              \n",
              "   ───────────────────────────────────────────────────────────────────────────\n",
              "                                          2               2                   \n",
              "   k₁⋅k₂⋅k₃⋅x₁₁⋅x₂₂⋅x₃₃ - k₁⋅k₂⋅k₃⋅x₁₁⋅x₂₃  - k₁⋅k₂⋅k₃⋅x₁₂ ⋅x₃₃ + 2⋅k₁⋅k₂⋅k₃⋅x\n",
              "                                                                              \n",
              "                                                                              \n",
              "                                                                              \n",
              "   ───────────────────────────────────────────────────────────────────────────\n",
              "                                          2               2                   \n",
              "   k₁⋅k₂⋅k₃⋅x₁₁⋅x₂₂⋅x₃₃ - k₁⋅k₂⋅k₃⋅x₁₁⋅x₂₃  - k₁⋅k₂⋅k₃⋅x₁₂ ⋅x₃₃ + 2⋅k₁⋅k₂⋅k₃⋅x\n",
              "                                                                              \n",
              "                                                                              \n",
              "                                                                              \n",
              "──────────────────────────────────────────────────────────────────────────────\n",
              "                       2        2           2    2                 2          \n",
              "⋅x₁₁⋅x₂₂⋅x₃₃ - k₁⋅k₂⋅k₃ ⋅x₁₁⋅x₂₃  - k₁⋅k₂⋅k₃ ⋅x₁₂ ⋅x₃₃ + 2⋅k₁⋅k₂⋅k₃ ⋅x₁₂⋅x₁₃⋅x\n",
              "\n",
              "                                                                              \n",
              "                              -k₂⋅x₁₂⋅x₂₃ + k₂⋅x₁₃⋅x₂₂ - 2⋅x₁₃                \n",
              "──────────────────────────────────────────────────────────────────────────────\n",
              "                         2                                    2               \n",
              "₁₂⋅x₁₃⋅x₂₃ - k₁⋅k₂⋅k₃⋅x₁₃ ⋅x₂₂ - 2⋅k₁⋅k₂⋅x₁₁⋅x₂₂ + 2⋅k₁⋅k₂⋅x₁₂  - 2⋅k₁⋅k₃⋅x₁₁⋅\n",
              "                                                                              \n",
              "                                                                              \n",
              "                              k₁⋅x₁₁⋅x₂₃ - k₁⋅x₁₂⋅x₁₃ - 2⋅x₂₃                 \n",
              "──────────────────────────────────────────────────────────────────────────────\n",
              "                         2                                    2               \n",
              "₁₂⋅x₁₃⋅x₂₃ - k₁⋅k₂⋅k₃⋅x₁₃ ⋅x₂₂ - 2⋅k₁⋅k₂⋅x₁₁⋅x₂₂ + 2⋅k₁⋅k₂⋅x₁₂  - 2⋅k₁⋅k₃⋅x₁₁⋅\n",
              "                                                                              \n",
              "                                             2                                \n",
              "                   -k₁⋅k₂⋅x₁₁⋅x₂₂ + k₁⋅k₂⋅x₁₂  + 2⋅k₁⋅x₁₁ + 2⋅k₂⋅x₂₂ - 4      \n",
              "──────────────────────────────────────────────────────────────────────────────\n",
              "             2    2                                          2          2     \n",
              "₂₃ - k₁⋅k₂⋅k₃ ⋅x₁₃ ⋅x₂₂ - 2⋅k₁⋅k₂⋅k₃⋅x₁₁⋅x₂₂ + 2⋅k₁⋅k₂⋅k₃⋅x₁₂  - 2⋅k₁⋅k₃ ⋅x₁₁⋅\n",
              "\n",
              "                                                                              \n",
              "                                                                              \n",
              "──────────────────────────────────────────────────────────────────────────────\n",
              "                 2                                           2                \n",
              "x₃₃ + 2⋅k₁⋅k₃⋅x₁₃  + 4⋅k₁⋅x₁₁ - 2⋅k₂⋅k₃⋅x₂₂⋅x₃₃ + 2⋅k₂⋅k₃⋅x₂₃  + 4⋅k₂⋅x₂₂ + 4⋅\n",
              "                                                                              \n",
              "                                                                              \n",
              "                                                                              \n",
              "──────────────────────────────────────────────────────────────────────────────\n",
              "                 2                                           2                \n",
              "x₃₃ + 2⋅k₁⋅k₃⋅x₁₃  + 4⋅k₁⋅x₁₁ - 2⋅k₂⋅k₃⋅x₂₂⋅x₃₃ + 2⋅k₂⋅k₃⋅x₂₃  + 4⋅k₂⋅x₂₂ + 4⋅\n",
              "                                                                              \n",
              "                                                                              \n",
              "                                                                              \n",
              "──────────────────────────────────────────────────────────────────────────────\n",
              "             2    2                        2                  2    2          \n",
              "x₃₃ + 2⋅k₁⋅k₃ ⋅x₁₃  + 4⋅k₁⋅k₃⋅x₁₁ - 2⋅k₂⋅k₃ ⋅x₂₂⋅x₃₃ + 2⋅k₂⋅k₃ ⋅x₂₃  + 4⋅k₂⋅k₃\n",
              "\n",
              "                       ⎤\n",
              "                       ⎥\n",
              "──────────             ⎥\n",
              "                       ⎥\n",
              "k₃⋅x₃₃ - 8             ⎥\n",
              "                       ⎥\n",
              "                       ⎥\n",
              "                       ⎥\n",
              "──────────             ⎥\n",
              "                       ⎥\n",
              "k₃⋅x₃₃ - 8             ⎥\n",
              "                       ⎥\n",
              "                       ⎥\n",
              "                       ⎥\n",
              "───────────────────────⎥\n",
              "           2           ⎥\n",
              "⋅x₂₂ + 4⋅k₃ ⋅x₃₃ - 8⋅k₃⎦"
            ]
          },
          "metadata": {},
          "execution_count": 7
        }
      ]
    },
    {
      "cell_type": "code",
      "source": [
        "X_inv = X.inv()#sym.Matrix([[W[3], -W[1]], [-W[2], W[0]]])\n",
        "X_inv"
      ],
      "metadata": {
        "colab": {
          "base_uri": "https://localhost:8080/",
          "height": 104
        },
        "id": "rNV1Mz49R2Yl",
        "outputId": "efe14771-cdb9-4da7-eb5f-d463b835789a"
      },
      "execution_count": null,
      "outputs": [
        {
          "output_type": "display_data",
          "data": {
            "text/html": [
              "<script src='https://cdnjs.cloudflare.com/ajax/libs/mathjax/2.7.3/latest.js?config=default'></script>"
            ],
            "text/plain": [
              "<IPython.core.display.HTML object>"
            ]
          },
          "metadata": {}
        },
        {
          "output_type": "execute_result",
          "data": {
            "text/latex": "$\\displaystyle \\left[\\begin{matrix}\\frac{x_{22} x_{33} - x_{23}^{2}}{x_{11} x_{22} x_{33} - x_{11} x_{23}^{2} - x_{12}^{2} x_{33} + 2 x_{12} x_{13} x_{23} - x_{13}^{2} x_{22}} & \\frac{- x_{12} x_{33} + x_{13} x_{23}}{x_{11} x_{22} x_{33} - x_{11} x_{23}^{2} - x_{12}^{2} x_{33} + 2 x_{12} x_{13} x_{23} - x_{13}^{2} x_{22}} & \\frac{x_{12} x_{23} - x_{13} x_{22}}{x_{11} x_{22} x_{33} - x_{11} x_{23}^{2} - x_{12}^{2} x_{33} + 2 x_{12} x_{13} x_{23} - x_{13}^{2} x_{22}}\\\\\\frac{- x_{12} x_{33} + x_{13} x_{23}}{x_{11} x_{22} x_{33} - x_{11} x_{23}^{2} - x_{12}^{2} x_{33} + 2 x_{12} x_{13} x_{23} - x_{13}^{2} x_{22}} & \\frac{x_{11} x_{33} - x_{13}^{2}}{x_{11} x_{22} x_{33} - x_{11} x_{23}^{2} - x_{12}^{2} x_{33} + 2 x_{12} x_{13} x_{23} - x_{13}^{2} x_{22}} & \\frac{- x_{11} x_{23} + x_{12} x_{13}}{x_{11} x_{22} x_{33} - x_{11} x_{23}^{2} - x_{12}^{2} x_{33} + 2 x_{12} x_{13} x_{23} - x_{13}^{2} x_{22}}\\\\\\frac{x_{12} x_{23} - x_{13} x_{22}}{x_{11} x_{22} x_{33} - x_{11} x_{23}^{2} - x_{12}^{2} x_{33} + 2 x_{12} x_{13} x_{23} - x_{13}^{2} x_{22}} & \\frac{- x_{11} x_{23} + x_{12} x_{13}}{x_{11} x_{22} x_{33} - x_{11} x_{23}^{2} - x_{12}^{2} x_{33} + 2 x_{12} x_{13} x_{23} - x_{13}^{2} x_{22}} & \\frac{x_{11} x_{22} - x_{12}^{2}}{x_{11} x_{22} x_{33} - x_{11} x_{23}^{2} - x_{12}^{2} x_{33} + 2 x_{12} x_{13} x_{23} - x_{13}^{2} x_{22}}\\end{matrix}\\right]$",
            "text/plain": [
              "⎡                                    2                                        \n",
              "⎢                       x₂₂⋅x₃₃ - x₂₃                                         \n",
              "⎢────────────────────────────────────────────────────────────  ───────────────\n",
              "⎢                     2      2                          2                     \n",
              "⎢x₁₁⋅x₂₂⋅x₃₃ - x₁₁⋅x₂₃  - x₁₂ ⋅x₃₃ + 2⋅x₁₂⋅x₁₃⋅x₂₃ - x₁₃ ⋅x₂₂  x₁₁⋅x₂₂⋅x₃₃ - x\n",
              "⎢                                                                             \n",
              "⎢                                                                             \n",
              "⎢                     -x₁₂⋅x₃₃ + x₁₃⋅x₂₃                                      \n",
              "⎢────────────────────────────────────────────────────────────  ───────────────\n",
              "⎢                     2      2                          2                     \n",
              "⎢x₁₁⋅x₂₂⋅x₃₃ - x₁₁⋅x₂₃  - x₁₂ ⋅x₃₃ + 2⋅x₁₂⋅x₁₃⋅x₂₃ - x₁₃ ⋅x₂₂  x₁₁⋅x₂₂⋅x₃₃ - x\n",
              "⎢                                                                             \n",
              "⎢                                                                             \n",
              "⎢                     x₁₂⋅x₂₃ - x₁₃⋅x₂₂                                       \n",
              "⎢────────────────────────────────────────────────────────────  ───────────────\n",
              "⎢                     2      2                          2                     \n",
              "⎣x₁₁⋅x₂₂⋅x₃₃ - x₁₁⋅x₂₃  - x₁₂ ⋅x₃₃ + 2⋅x₁₂⋅x₁₃⋅x₂₃ - x₁₃ ⋅x₂₂  x₁₁⋅x₂₂⋅x₃₃ - x\n",
              "\n",
              "                                                                              \n",
              "      -x₁₂⋅x₃₃ + x₁₃⋅x₂₃                                            x₁₂⋅x₂₃ - \n",
              "─────────────────────────────────────────────  ───────────────────────────────\n",
              "      2      2                          2                           2      2  \n",
              "₁₁⋅x₂₃  - x₁₂ ⋅x₃₃ + 2⋅x₁₂⋅x₁₃⋅x₂₃ - x₁₃ ⋅x₂₂  x₁₁⋅x₂₂⋅x₃₃ - x₁₁⋅x₂₃  - x₁₂ ⋅x\n",
              "                                                                              \n",
              "                     2                                                        \n",
              "        x₁₁⋅x₃₃ - x₁₃                                               -x₁₁⋅x₂₃ +\n",
              "─────────────────────────────────────────────  ───────────────────────────────\n",
              "      2      2                          2                           2      2  \n",
              "₁₁⋅x₂₃  - x₁₂ ⋅x₃₃ + 2⋅x₁₂⋅x₁₃⋅x₂₃ - x₁₃ ⋅x₂₂  x₁₁⋅x₂₂⋅x₃₃ - x₁₁⋅x₂₃  - x₁₂ ⋅x\n",
              "                                                                              \n",
              "                                                                              \n",
              "      -x₁₁⋅x₂₃ + x₁₂⋅x₁₃                                              x₁₁⋅x₂₂ \n",
              "─────────────────────────────────────────────  ───────────────────────────────\n",
              "      2      2                          2                           2      2  \n",
              "₁₁⋅x₂₃  - x₁₂ ⋅x₃₃ + 2⋅x₁₂⋅x₁₃⋅x₂₃ - x₁₃ ⋅x₂₂  x₁₁⋅x₂₂⋅x₃₃ - x₁₁⋅x₂₃  - x₁₂ ⋅x\n",
              "\n",
              "                             ⎤\n",
              "x₁₃⋅x₂₂                      ⎥\n",
              "─────────────────────────────⎥\n",
              "                        2    ⎥\n",
              "₃₃ + 2⋅x₁₂⋅x₁₃⋅x₂₃ - x₁₃ ⋅x₂₂⎥\n",
              "                             ⎥\n",
              "                             ⎥\n",
              " x₁₂⋅x₁₃                     ⎥\n",
              "─────────────────────────────⎥\n",
              "                        2    ⎥\n",
              "₃₃ + 2⋅x₁₂⋅x₁₃⋅x₂₃ - x₁₃ ⋅x₂₂⎥\n",
              "                             ⎥\n",
              "     2                       ⎥\n",
              "- x₁₂                        ⎥\n",
              "─────────────────────────────⎥\n",
              "                        2    ⎥\n",
              "₃₃ + 2⋅x₁₂⋅x₁₃⋅x₂₃ - x₁₃ ⋅x₂₂⎦"
            ]
          },
          "metadata": {},
          "execution_count": 14
        }
      ]
    },
    {
      "cell_type": "code",
      "source": [
        "sym.simplify(W_inv)"
      ],
      "metadata": {
        "colab": {
          "base_uri": "https://localhost:8080/",
          "height": 136
        },
        "id": "LSxyNKWvlpps",
        "outputId": "055b20ff-3177-46c4-c9b7-a82ecbafb5ed"
      },
      "execution_count": null,
      "outputs": [
        {
          "output_type": "display_data",
          "data": {
            "text/html": [
              "<script src='https://cdnjs.cloudflare.com/ajax/libs/mathjax/2.7.3/latest.js?config=default'></script>"
            ],
            "text/plain": [
              "<IPython.core.display.HTML object>"
            ]
          },
          "metadata": {}
        },
        {
          "output_type": "execute_result",
          "data": {
            "text/latex": "$\\displaystyle \\left[\\begin{matrix}\\frac{- k_{2} k_{3} x_{22} x_{33} + k_{2} k_{3} x_{23}^{2} + 2 k_{2} x_{22} + 2 k_{3} x_{33} - 4}{k_{1} \\left(k_{1} k_{2} k_{3} x_{11} x_{22} x_{33} - k_{1} k_{2} k_{3} x_{11} x_{23}^{2} - k_{1} k_{2} k_{3} x_{12}^{2} x_{33} + 2 k_{1} k_{2} k_{3} x_{12} x_{13} x_{23} - k_{1} k_{2} k_{3} x_{13}^{2} x_{22} - 2 k_{1} k_{2} x_{11} x_{22} + 2 k_{1} k_{2} x_{12}^{2} - 2 k_{1} k_{3} x_{11} x_{33} + 2 k_{1} k_{3} x_{13}^{2} + 4 k_{1} x_{11} - 2 k_{2} k_{3} x_{22} x_{33} + 2 k_{2} k_{3} x_{23}^{2} + 4 k_{2} x_{22} + 4 k_{3} x_{33} - 8\\right)} & \\frac{k_{3} x_{12} x_{33} - k_{3} x_{13} x_{23} - 2 x_{12}}{k_{1} k_{2} k_{3} x_{11} x_{22} x_{33} - k_{1} k_{2} k_{3} x_{11} x_{23}^{2} - k_{1} k_{2} k_{3} x_{12}^{2} x_{33} + 2 k_{1} k_{2} k_{3} x_{12} x_{13} x_{23} - k_{1} k_{2} k_{3} x_{13}^{2} x_{22} - 2 k_{1} k_{2} x_{11} x_{22} + 2 k_{1} k_{2} x_{12}^{2} - 2 k_{1} k_{3} x_{11} x_{33} + 2 k_{1} k_{3} x_{13}^{2} + 4 k_{1} x_{11} - 2 k_{2} k_{3} x_{22} x_{33} + 2 k_{2} k_{3} x_{23}^{2} + 4 k_{2} x_{22} + 4 k_{3} x_{33} - 8} & \\frac{- k_{2} x_{12} x_{23} + k_{2} x_{13} x_{22} - 2 x_{13}}{k_{1} k_{2} k_{3} x_{11} x_{22} x_{33} - k_{1} k_{2} k_{3} x_{11} x_{23}^{2} - k_{1} k_{2} k_{3} x_{12}^{2} x_{33} + 2 k_{1} k_{2} k_{3} x_{12} x_{13} x_{23} - k_{1} k_{2} k_{3} x_{13}^{2} x_{22} - 2 k_{1} k_{2} x_{11} x_{22} + 2 k_{1} k_{2} x_{12}^{2} - 2 k_{1} k_{3} x_{11} x_{33} + 2 k_{1} k_{3} x_{13}^{2} + 4 k_{1} x_{11} - 2 k_{2} k_{3} x_{22} x_{33} + 2 k_{2} k_{3} x_{23}^{2} + 4 k_{2} x_{22} + 4 k_{3} x_{33} - 8}\\\\\\frac{k_{3} x_{12} x_{33} - k_{3} x_{13} x_{23} - 2 x_{12}}{k_{1} k_{2} k_{3} x_{11} x_{22} x_{33} - k_{1} k_{2} k_{3} x_{11} x_{23}^{2} - k_{1} k_{2} k_{3} x_{12}^{2} x_{33} + 2 k_{1} k_{2} k_{3} x_{12} x_{13} x_{23} - k_{1} k_{2} k_{3} x_{13}^{2} x_{22} - 2 k_{1} k_{2} x_{11} x_{22} + 2 k_{1} k_{2} x_{12}^{2} - 2 k_{1} k_{3} x_{11} x_{33} + 2 k_{1} k_{3} x_{13}^{2} + 4 k_{1} x_{11} - 2 k_{2} k_{3} x_{22} x_{33} + 2 k_{2} k_{3} x_{23}^{2} + 4 k_{2} x_{22} + 4 k_{3} x_{33} - 8} & \\frac{- k_{1} k_{3} x_{11} x_{33} + k_{1} k_{3} x_{13}^{2} + 2 k_{1} x_{11} + 2 k_{3} x_{33} - 4}{k_{2} \\left(k_{1} k_{2} k_{3} x_{11} x_{22} x_{33} - k_{1} k_{2} k_{3} x_{11} x_{23}^{2} - k_{1} k_{2} k_{3} x_{12}^{2} x_{33} + 2 k_{1} k_{2} k_{3} x_{12} x_{13} x_{23} - k_{1} k_{2} k_{3} x_{13}^{2} x_{22} - 2 k_{1} k_{2} x_{11} x_{22} + 2 k_{1} k_{2} x_{12}^{2} - 2 k_{1} k_{3} x_{11} x_{33} + 2 k_{1} k_{3} x_{13}^{2} + 4 k_{1} x_{11} - 2 k_{2} k_{3} x_{22} x_{33} + 2 k_{2} k_{3} x_{23}^{2} + 4 k_{2} x_{22} + 4 k_{3} x_{33} - 8\\right)} & \\frac{k_{1} x_{11} x_{23} - k_{1} x_{12} x_{13} - 2 x_{23}}{k_{1} k_{2} k_{3} x_{11} x_{22} x_{33} - k_{1} k_{2} k_{3} x_{11} x_{23}^{2} - k_{1} k_{2} k_{3} x_{12}^{2} x_{33} + 2 k_{1} k_{2} k_{3} x_{12} x_{13} x_{23} - k_{1} k_{2} k_{3} x_{13}^{2} x_{22} - 2 k_{1} k_{2} x_{11} x_{22} + 2 k_{1} k_{2} x_{12}^{2} - 2 k_{1} k_{3} x_{11} x_{33} + 2 k_{1} k_{3} x_{13}^{2} + 4 k_{1} x_{11} - 2 k_{2} k_{3} x_{22} x_{33} + 2 k_{2} k_{3} x_{23}^{2} + 4 k_{2} x_{22} + 4 k_{3} x_{33} - 8}\\\\\\frac{- k_{2} x_{12} x_{23} + k_{2} x_{13} x_{22} - 2 x_{13}}{k_{1} k_{2} k_{3} x_{11} x_{22} x_{33} - k_{1} k_{2} k_{3} x_{11} x_{23}^{2} - k_{1} k_{2} k_{3} x_{12}^{2} x_{33} + 2 k_{1} k_{2} k_{3} x_{12} x_{13} x_{23} - k_{1} k_{2} k_{3} x_{13}^{2} x_{22} - 2 k_{1} k_{2} x_{11} x_{22} + 2 k_{1} k_{2} x_{12}^{2} - 2 k_{1} k_{3} x_{11} x_{33} + 2 k_{1} k_{3} x_{13}^{2} + 4 k_{1} x_{11} - 2 k_{2} k_{3} x_{22} x_{33} + 2 k_{2} k_{3} x_{23}^{2} + 4 k_{2} x_{22} + 4 k_{3} x_{33} - 8} & \\frac{k_{1} x_{11} x_{23} - k_{1} x_{12} x_{13} - 2 x_{23}}{k_{1} k_{2} k_{3} x_{11} x_{22} x_{33} - k_{1} k_{2} k_{3} x_{11} x_{23}^{2} - k_{1} k_{2} k_{3} x_{12}^{2} x_{33} + 2 k_{1} k_{2} k_{3} x_{12} x_{13} x_{23} - k_{1} k_{2} k_{3} x_{13}^{2} x_{22} - 2 k_{1} k_{2} x_{11} x_{22} + 2 k_{1} k_{2} x_{12}^{2} - 2 k_{1} k_{3} x_{11} x_{33} + 2 k_{1} k_{3} x_{13}^{2} + 4 k_{1} x_{11} - 2 k_{2} k_{3} x_{22} x_{33} + 2 k_{2} k_{3} x_{23}^{2} + 4 k_{2} x_{22} + 4 k_{3} x_{33} - 8} & \\frac{- k_{1} k_{2} x_{11} x_{22} + k_{1} k_{2} x_{12}^{2} + 2 k_{1} x_{11} + 2 k_{2} x_{22} - 4}{k_{3} \\left(k_{1} k_{2} k_{3} x_{11} x_{22} x_{33} - k_{1} k_{2} k_{3} x_{11} x_{23}^{2} - k_{1} k_{2} k_{3} x_{12}^{2} x_{33} + 2 k_{1} k_{2} k_{3} x_{12} x_{13} x_{23} - k_{1} k_{2} k_{3} x_{13}^{2} x_{22} - 2 k_{1} k_{2} x_{11} x_{22} + 2 k_{1} k_{2} x_{12}^{2} - 2 k_{1} k_{3} x_{11} x_{33} + 2 k_{1} k_{3} x_{13}^{2} + 4 k_{1} x_{11} - 2 k_{2} k_{3} x_{22} x_{33} + 2 k_{2} k_{3} x_{23}^{2} + 4 k_{2} x_{22} + 4 k_{3} x_{33} - 8\\right)}\\end{matrix}\\right]$",
            "text/plain": [
              "⎡                                                                             \n",
              "⎢                                                                             \n",
              "⎢─────────────────────────────────────────────────────────────────────────────\n",
              "⎢   ⎛                                       2               2                 \n",
              "⎢k₁⋅⎝k₁⋅k₂⋅k₃⋅x₁₁⋅x₂₂⋅x₃₃ - k₁⋅k₂⋅k₃⋅x₁₁⋅x₂₃  - k₁⋅k₂⋅k₃⋅x₁₂ ⋅x₃₃ + 2⋅k₁⋅k₂⋅k₃\n",
              "⎢                                                                             \n",
              "⎢                                                                             \n",
              "⎢                                                                             \n",
              "⎢  ───────────────────────────────────────────────────────────────────────────\n",
              "⎢                                         2               2                   \n",
              "⎢  k₁⋅k₂⋅k₃⋅x₁₁⋅x₂₂⋅x₃₃ - k₁⋅k₂⋅k₃⋅x₁₁⋅x₂₃  - k₁⋅k₂⋅k₃⋅x₁₂ ⋅x₃₃ + 2⋅k₁⋅k₂⋅k₃⋅x\n",
              "⎢                                                                             \n",
              "⎢                                                                             \n",
              "⎢                                                                             \n",
              "⎢  ───────────────────────────────────────────────────────────────────────────\n",
              "⎢                                         2               2                   \n",
              "⎣  k₁⋅k₂⋅k₃⋅x₁₁⋅x₂₂⋅x₃₃ - k₁⋅k₂⋅k₃⋅x₁₁⋅x₂₃  - k₁⋅k₂⋅k₃⋅x₁₂ ⋅x₃₃ + 2⋅k₁⋅k₂⋅k₃⋅x\n",
              "\n",
              "                                             2                                \n",
              "                   -k₂⋅k₃⋅x₂₂⋅x₃₃ + k₂⋅k₃⋅x₂₃  + 2⋅k₂⋅x₂₂ + 2⋅k₃⋅x₃₃ - 4      \n",
              "──────────────────────────────────────────────────────────────────────────────\n",
              "                           2                                    2             \n",
              "⋅x₁₂⋅x₁₃⋅x₂₃ - k₁⋅k₂⋅k₃⋅x₁₃ ⋅x₂₂ - 2⋅k₁⋅k₂⋅x₁₁⋅x₂₂ + 2⋅k₁⋅k₂⋅x₁₂  - 2⋅k₁⋅k₃⋅x₁\n",
              "                                                                              \n",
              "                                                                              \n",
              "                              k₃⋅x₁₂⋅x₃₃ - k₃⋅x₁₃⋅x₂₃ - 2⋅x₁₂                 \n",
              "──────────────────────────────────────────────────────────────────────────────\n",
              "                         2                                    2               \n",
              "₁₂⋅x₁₃⋅x₂₃ - k₁⋅k₂⋅k₃⋅x₁₃ ⋅x₂₂ - 2⋅k₁⋅k₂⋅x₁₁⋅x₂₂ + 2⋅k₁⋅k₂⋅x₁₂  - 2⋅k₁⋅k₃⋅x₁₁⋅\n",
              "                                                                              \n",
              "                                                                              \n",
              "                              -k₂⋅x₁₂⋅x₂₃ + k₂⋅x₁₃⋅x₂₂ - 2⋅x₁₃                \n",
              "──────────────────────────────────────────────────────────────────────────────\n",
              "                         2                                    2               \n",
              "₁₂⋅x₁₃⋅x₂₃ - k₁⋅k₂⋅k₃⋅x₁₃ ⋅x₂₂ - 2⋅k₁⋅k₂⋅x₁₁⋅x₂₂ + 2⋅k₁⋅k₂⋅x₁₂  - 2⋅k₁⋅k₃⋅x₁₁⋅\n",
              "\n",
              "                                                                              \n",
              "                                                                              \n",
              "──────────────────────────────────────────────────────────────────────────────\n",
              "                   2                                           2              \n",
              "₁⋅x₃₃ + 2⋅k₁⋅k₃⋅x₁₃  + 4⋅k₁⋅x₁₁ - 2⋅k₂⋅k₃⋅x₂₂⋅x₃₃ + 2⋅k₂⋅k₃⋅x₂₃  + 4⋅k₂⋅x₂₂ + \n",
              "                                                                              \n",
              "                                                                              \n",
              "                                                                              \n",
              "──────────────────────────────────────────────────────────────────────────────\n",
              "                 2                                           2                \n",
              "x₃₃ + 2⋅k₁⋅k₃⋅x₁₃  + 4⋅k₁⋅x₁₁ - 2⋅k₂⋅k₃⋅x₂₂⋅x₃₃ + 2⋅k₂⋅k₃⋅x₂₃  + 4⋅k₂⋅x₂₂ + 4⋅\n",
              "                                                                              \n",
              "                                                                              \n",
              "                                                                              \n",
              "──────────────────────────────────────────────────────────────────────────────\n",
              "                 2                                           2                \n",
              "x₃₃ + 2⋅k₁⋅k₃⋅x₁₃  + 4⋅k₁⋅x₁₁ - 2⋅k₂⋅k₃⋅x₂₂⋅x₃₃ + 2⋅k₂⋅k₃⋅x₂₃  + 4⋅k₂⋅x₂₂ + 4⋅\n",
              "\n",
              "                                                                              \n",
              "                                                                              \n",
              "─────────────    ─────────────────────────────────────────────────────────────\n",
              "            ⎞                                           2               2     \n",
              "4⋅k₃⋅x₃₃ - 8⎠    k₁⋅k₂⋅k₃⋅x₁₁⋅x₂₂⋅x₃₃ - k₁⋅k₂⋅k₃⋅x₁₁⋅x₂₃  - k₁⋅k₂⋅k₃⋅x₁₂ ⋅x₃₃ \n",
              "                                                                              \n",
              "                                                                              \n",
              "                                                                              \n",
              "──────────     ───────────────────────────────────────────────────────────────\n",
              "                  ⎛                                       2               2   \n",
              "k₃⋅x₃₃ - 8     k₂⋅⎝k₁⋅k₂⋅k₃⋅x₁₁⋅x₂₂⋅x₃₃ - k₁⋅k₂⋅k₃⋅x₁₁⋅x₂₃  - k₁⋅k₂⋅k₃⋅x₁₂ ⋅x₃\n",
              "                                                                              \n",
              "                                                                              \n",
              "                                                                              \n",
              "──────────       ─────────────────────────────────────────────────────────────\n",
              "                                                        2               2     \n",
              "k₃⋅x₃₃ - 8       k₁⋅k₂⋅k₃⋅x₁₁⋅x₂₂⋅x₃₃ - k₁⋅k₂⋅k₃⋅x₁₁⋅x₂₃  - k₁⋅k₂⋅k₃⋅x₁₂ ⋅x₃₃ \n",
              "\n",
              "                                                                              \n",
              "                                            k₃⋅x₁₂⋅x₃₃ - k₃⋅x₁₃⋅x₂₃ - 2⋅x₁₂   \n",
              "──────────────────────────────────────────────────────────────────────────────\n",
              "                                       2                                    2 \n",
              "+ 2⋅k₁⋅k₂⋅k₃⋅x₁₂⋅x₁₃⋅x₂₃ - k₁⋅k₂⋅k₃⋅x₁₃ ⋅x₂₂ - 2⋅k₁⋅k₂⋅x₁₁⋅x₂₂ + 2⋅k₁⋅k₂⋅x₁₂  \n",
              "                                                                              \n",
              "                                                           2                  \n",
              "                                 -k₁⋅k₃⋅x₁₁⋅x₃₃ + k₁⋅k₃⋅x₁₃  + 2⋅k₁⋅x₁₁ + 2⋅k₃\n",
              "──────────────────────────────────────────────────────────────────────────────\n",
              "                                         2                                    \n",
              "₃ + 2⋅k₁⋅k₂⋅k₃⋅x₁₂⋅x₁₃⋅x₂₃ - k₁⋅k₂⋅k₃⋅x₁₃ ⋅x₂₂ - 2⋅k₁⋅k₂⋅x₁₁⋅x₂₂ + 2⋅k₁⋅k₂⋅x₁₂\n",
              "                                                                              \n",
              "                                                                              \n",
              "                                            k₁⋅x₁₁⋅x₂₃ - k₁⋅x₁₂⋅x₁₃ - 2⋅x₂₃   \n",
              "──────────────────────────────────────────────────────────────────────────────\n",
              "                                       2                                    2 \n",
              "+ 2⋅k₁⋅k₂⋅k₃⋅x₁₂⋅x₁₃⋅x₂₃ - k₁⋅k₂⋅k₃⋅x₁₃ ⋅x₂₂ - 2⋅k₁⋅k₂⋅x₁₁⋅x₂₂ + 2⋅k₁⋅k₂⋅x₁₂  \n",
              "\n",
              "                                                                              \n",
              "                                                                              \n",
              "──────────────────────────────────────────────────────────────────────────────\n",
              "                               2                                           2  \n",
              "- 2⋅k₁⋅k₃⋅x₁₁⋅x₃₃ + 2⋅k₁⋅k₃⋅x₁₃  + 4⋅k₁⋅x₁₁ - 2⋅k₂⋅k₃⋅x₂₂⋅x₃₃ + 2⋅k₂⋅k₃⋅x₂₃  +\n",
              "                                                                              \n",
              "                                                                              \n",
              "⋅x₃₃ - 4                                                                      \n",
              "──────────────────────────────────────────────────────────────────────────────\n",
              "2                                2                                           2\n",
              "  - 2⋅k₁⋅k₃⋅x₁₁⋅x₃₃ + 2⋅k₁⋅k₃⋅x₁₃  + 4⋅k₁⋅x₁₁ - 2⋅k₂⋅k₃⋅x₂₂⋅x₃₃ + 2⋅k₂⋅k₃⋅x₂₃ \n",
              "                                                                              \n",
              "                                                                              \n",
              "                                                                              \n",
              "──────────────────────────────────────────────────────────────────────────────\n",
              "                               2                                           2  \n",
              "- 2⋅k₁⋅k₃⋅x₁₁⋅x₃₃ + 2⋅k₁⋅k₃⋅x₁₃  + 4⋅k₁⋅x₁₁ - 2⋅k₂⋅k₃⋅x₂₂⋅x₃₃ + 2⋅k₂⋅k₃⋅x₂₃  +\n",
              "\n",
              "                                                                              \n",
              "                                                                              \n",
              "────────────────────────       ───────────────────────────────────────────────\n",
              "                                                                      2       \n",
              " 4⋅k₂⋅x₂₂ + 4⋅k₃⋅x₃₃ - 8       k₁⋅k₂⋅k₃⋅x₁₁⋅x₂₂⋅x₃₃ - k₁⋅k₂⋅k₃⋅x₁₁⋅x₂₃  - k₁⋅k\n",
              "                                                                              \n",
              "                                                                              \n",
              "                                                                              \n",
              "───────────────────────────    ───────────────────────────────────────────────\n",
              "                          ⎞                                           2       \n",
              " + 4⋅k₂⋅x₂₂ + 4⋅k₃⋅x₃₃ - 8⎠    k₁⋅k₂⋅k₃⋅x₁₁⋅x₂₂⋅x₃₃ - k₁⋅k₂⋅k₃⋅x₁₁⋅x₂₃  - k₁⋅k\n",
              "                                                                              \n",
              "                                                                              \n",
              "                                                                              \n",
              "────────────────────────     ─────────────────────────────────────────────────\n",
              "                                ⎛                                       2     \n",
              " 4⋅k₂⋅x₂₂ + 4⋅k₃⋅x₃₃ - 8     k₃⋅⎝k₁⋅k₂⋅k₃⋅x₁₁⋅x₂₂⋅x₃₃ - k₁⋅k₂⋅k₃⋅x₁₁⋅x₂₃  - k₁\n",
              "\n",
              "                                                                              \n",
              "                                                          -k₂⋅x₁₂⋅x₂₃ + k₂⋅x₁₃\n",
              "──────────────────────────────────────────────────────────────────────────────\n",
              "        2                                            2                        \n",
              "₂⋅k₃⋅x₁₂ ⋅x₃₃ + 2⋅k₁⋅k₂⋅k₃⋅x₁₂⋅x₁₃⋅x₂₃ - k₁⋅k₂⋅k₃⋅x₁₃ ⋅x₂₂ - 2⋅k₁⋅k₂⋅x₁₁⋅x₂₂ +\n",
              "                                                                              \n",
              "                                                                              \n",
              "                                                          k₁⋅x₁₁⋅x₂₃ - k₁⋅x₁₂⋅\n",
              "──────────────────────────────────────────────────────────────────────────────\n",
              "        2                                            2                        \n",
              "₂⋅k₃⋅x₁₂ ⋅x₃₃ + 2⋅k₁⋅k₂⋅k₃⋅x₁₂⋅x₁₃⋅x₂₃ - k₁⋅k₂⋅k₃⋅x₁₃ ⋅x₂₂ - 2⋅k₁⋅k₂⋅x₁₁⋅x₂₂ +\n",
              "                                                                              \n",
              "                                                                         2    \n",
              "                                               -k₁⋅k₂⋅x₁₁⋅x₂₂ + k₁⋅k₂⋅x₁₂  + 2\n",
              "──────────────────────────────────────────────────────────────────────────────\n",
              "          2                                            2                      \n",
              "⋅k₂⋅k₃⋅x₁₂ ⋅x₃₃ + 2⋅k₁⋅k₂⋅k₃⋅x₁₂⋅x₁₃⋅x₂₃ - k₁⋅k₂⋅k₃⋅x₁₃ ⋅x₂₂ - 2⋅k₁⋅k₂⋅x₁₁⋅x₂₂\n",
              "\n",
              "                                                                              \n",
              "⋅x₂₂ - 2⋅x₁₃                                                                  \n",
              "──────────────────────────────────────────────────────────────────────────────\n",
              "            2                                2                                \n",
              " 2⋅k₁⋅k₂⋅x₁₂  - 2⋅k₁⋅k₃⋅x₁₁⋅x₃₃ + 2⋅k₁⋅k₃⋅x₁₃  + 4⋅k₁⋅x₁₁ - 2⋅k₂⋅k₃⋅x₂₂⋅x₃₃ + \n",
              "                                                                              \n",
              "                                                                              \n",
              "x₁₃ - 2⋅x₂₃                                                                   \n",
              "──────────────────────────────────────────────────────────────────────────────\n",
              "            2                                2                                \n",
              " 2⋅k₁⋅k₂⋅x₁₂  - 2⋅k₁⋅k₃⋅x₁₁⋅x₃₃ + 2⋅k₁⋅k₃⋅x₁₃  + 4⋅k₁⋅x₁₁ - 2⋅k₂⋅k₃⋅x₂₂⋅x₃₃ + \n",
              "                                                                              \n",
              "                                                                              \n",
              "⋅k₁⋅x₁₁ + 2⋅k₂⋅x₂₂ - 4                                                        \n",
              "──────────────────────────────────────────────────────────────────────────────\n",
              "              2                                2                              \n",
              " + 2⋅k₁⋅k₂⋅x₁₂  - 2⋅k₁⋅k₃⋅x₁₁⋅x₃₃ + 2⋅k₁⋅k₃⋅x₁₃  + 4⋅k₁⋅x₁₁ - 2⋅k₂⋅k₃⋅x₂₂⋅x₃₃ \n",
              "\n",
              "                                         ⎤\n",
              "                                         ⎥\n",
              "──────────────────────────────────────   ⎥\n",
              "           2                             ⎥\n",
              "2⋅k₂⋅k₃⋅x₂₃  + 4⋅k₂⋅x₂₂ + 4⋅k₃⋅x₃₃ - 8   ⎥\n",
              "                                         ⎥\n",
              "                                         ⎥\n",
              "                                         ⎥\n",
              "──────────────────────────────────────   ⎥\n",
              "           2                             ⎥\n",
              "2⋅k₂⋅k₃⋅x₂₃  + 4⋅k₂⋅x₂₂ + 4⋅k₃⋅x₃₃ - 8   ⎥\n",
              "                                         ⎥\n",
              "                                         ⎥\n",
              "                                         ⎥\n",
              "─────────────────────────────────────────⎥\n",
              "             2                          ⎞⎥\n",
              "+ 2⋅k₂⋅k₃⋅x₂₃  + 4⋅k₂⋅x₂₂ + 4⋅k₃⋅x₃₃ - 8⎠⎦"
            ]
          },
          "metadata": {},
          "execution_count": 15
        }
      ]
    },
    {
      "cell_type": "code",
      "source": [
        "(W_inv@Q)"
      ],
      "metadata": {
        "colab": {
          "base_uri": "https://localhost:8080/",
          "height": 60
        },
        "id": "B1ixhDhgyqpg",
        "outputId": "3f3dcf5b-674c-407a-aab4-7620fe1bcd8a"
      },
      "execution_count": null,
      "outputs": [
        {
          "output_type": "display_data",
          "data": {
            "text/html": [
              "<script src='https://cdnjs.cloudflare.com/ajax/libs/mathjax/2.7.3/latest.js?config=default'></script>"
            ],
            "text/plain": [
              "<IPython.core.display.HTML object>"
            ]
          },
          "metadata": {}
        },
        {
          "output_type": "execute_result",
          "data": {
            "text/latex": "$\\displaystyle \\frac{q_{1} \\left(- k_{2} k_{3} x_{22} x_{33} + k_{2} k_{3} x_{23}^{2} + 2 k_{2} x_{22} + 2 k_{3} x_{33} - 4\\right)}{k_{1}^{2} k_{2} k_{3} x_{11} x_{22} x_{33} - k_{1}^{2} k_{2} k_{3} x_{11} x_{23}^{2} - k_{1}^{2} k_{2} k_{3} x_{12}^{2} x_{33} + 2 k_{1}^{2} k_{2} k_{3} x_{12} x_{13} x_{23} - k_{1}^{2} k_{2} k_{3} x_{13}^{2} x_{22} - 2 k_{1}^{2} k_{2} x_{11} x_{22} + 2 k_{1}^{2} k_{2} x_{12}^{2} - 2 k_{1}^{2} k_{3} x_{11} x_{33} + 2 k_{1}^{2} k_{3} x_{13}^{2} + 4 k_{1}^{2} x_{11} - 2 k_{1} k_{2} k_{3} x_{22} x_{33} + 2 k_{1} k_{2} k_{3} x_{23}^{2} + 4 k_{1} k_{2} x_{22} + 4 k_{1} k_{3} x_{33} - 8 k_{1}}$",
            "text/plain": [
              "                                                                              \n",
              "                                                                              \n",
              "──────────────────────────────────────────────────────────────────────────────\n",
              "  2                       2              2     2          2           2       \n",
              "k₁ ⋅k₂⋅k₃⋅x₁₁⋅x₂₂⋅x₃₃ - k₁ ⋅k₂⋅k₃⋅x₁₁⋅x₂₃  - k₁ ⋅k₂⋅k₃⋅x₁₂ ⋅x₃₃ + 2⋅k₁ ⋅k₂⋅k₃⋅\n",
              "\n",
              "                             ⎛                          2                     \n",
              "                          q₁⋅⎝-k₂⋅k₃⋅x₂₂⋅x₃₃ + k₂⋅k₃⋅x₂₃  + 2⋅k₂⋅x₂₂ + 2⋅k₃⋅x₃\n",
              "──────────────────────────────────────────────────────────────────────────────\n",
              "                2          2           2                  2       2       2   \n",
              "x₁₂⋅x₁₃⋅x₂₃ - k₁ ⋅k₂⋅k₃⋅x₁₃ ⋅x₂₂ - 2⋅k₁ ⋅k₂⋅x₁₁⋅x₂₂ + 2⋅k₁ ⋅k₂⋅x₁₂  - 2⋅k₁ ⋅k₃\n",
              "\n",
              "     ⎞                                                                        \n",
              "₃ - 4⎠                                                                        \n",
              "──────────────────────────────────────────────────────────────────────────────\n",
              "               2       2       2                                          2   \n",
              "⋅x₁₁⋅x₃₃ + 2⋅k₁ ⋅k₃⋅x₁₃  + 4⋅k₁ ⋅x₁₁ - 2⋅k₁⋅k₂⋅k₃⋅x₂₂⋅x₃₃ + 2⋅k₁⋅k₂⋅k₃⋅x₂₃  + \n",
              "\n",
              "                                \n",
              "                                \n",
              "────────────────────────────────\n",
              "                                \n",
              "4⋅k₁⋅k₂⋅x₂₂ + 4⋅k₁⋅k₃⋅x₃₃ - 8⋅k₁"
            ]
          },
          "metadata": {},
          "execution_count": 28
        }
      ]
    },
    {
      "cell_type": "code",
      "source": [
        "\n",
        "c = (W_inv@Q)[0] + (W_inv@Q)[4] + (W_inv@Q)[8]"
      ],
      "metadata": {
        "id": "IS7I5Olmk_-L"
      },
      "execution_count": null,
      "outputs": []
    },
    {
      "cell_type": "code",
      "source": [
        "c"
      ],
      "metadata": {
        "colab": {
          "base_uri": "https://localhost:8080/",
          "height": 146
        },
        "id": "Oo7_bq26zLNj",
        "outputId": "66311f20-20bd-418e-8afa-466e55b2409a"
      },
      "execution_count": null,
      "outputs": [
        {
          "output_type": "display_data",
          "data": {
            "text/html": [
              "<script src='https://cdnjs.cloudflare.com/ajax/libs/mathjax/2.7.3/latest.js?config=default'></script>"
            ],
            "text/plain": [
              "<IPython.core.display.HTML object>"
            ]
          },
          "metadata": {}
        },
        {
          "output_type": "execute_result",
          "data": {
            "text/latex": "$\\displaystyle \\frac{q_{1} \\left(- k_{2} k_{3} x_{22} x_{33} + k_{2} k_{3} x_{23}^{2} + 2 k_{2} x_{22} + 2 k_{3} x_{33} - 4\\right)}{k_{1}^{2} k_{2} k_{3} x_{11} x_{22} x_{33} - k_{1}^{2} k_{2} k_{3} x_{11} x_{23}^{2} - k_{1}^{2} k_{2} k_{3} x_{12}^{2} x_{33} + 2 k_{1}^{2} k_{2} k_{3} x_{12} x_{13} x_{23} - k_{1}^{2} k_{2} k_{3} x_{13}^{2} x_{22} - 2 k_{1}^{2} k_{2} x_{11} x_{22} + 2 k_{1}^{2} k_{2} x_{12}^{2} - 2 k_{1}^{2} k_{3} x_{11} x_{33} + 2 k_{1}^{2} k_{3} x_{13}^{2} + 4 k_{1}^{2} x_{11} - 2 k_{1} k_{2} k_{3} x_{22} x_{33} + 2 k_{1} k_{2} k_{3} x_{23}^{2} + 4 k_{1} k_{2} x_{22} + 4 k_{1} k_{3} x_{33} - 8 k_{1}} + \\frac{q_{2} \\left(- k_{1} k_{3} x_{11} x_{33} + k_{1} k_{3} x_{13}^{2} + 2 k_{1} x_{11} + 2 k_{3} x_{33} - 4\\right)}{k_{1} k_{2}^{2} k_{3} x_{11} x_{22} x_{33} - k_{1} k_{2}^{2} k_{3} x_{11} x_{23}^{2} - k_{1} k_{2}^{2} k_{3} x_{12}^{2} x_{33} + 2 k_{1} k_{2}^{2} k_{3} x_{12} x_{13} x_{23} - k_{1} k_{2}^{2} k_{3} x_{13}^{2} x_{22} - 2 k_{1} k_{2}^{2} x_{11} x_{22} + 2 k_{1} k_{2}^{2} x_{12}^{2} - 2 k_{1} k_{2} k_{3} x_{11} x_{33} + 2 k_{1} k_{2} k_{3} x_{13}^{2} + 4 k_{1} k_{2} x_{11} - 2 k_{2}^{2} k_{3} x_{22} x_{33} + 2 k_{2}^{2} k_{3} x_{23}^{2} + 4 k_{2}^{2} x_{22} + 4 k_{2} k_{3} x_{33} - 8 k_{2}} + \\frac{q_{3} \\left(- k_{1} k_{2} x_{11} x_{22} + k_{1} k_{2} x_{12}^{2} + 2 k_{1} x_{11} + 2 k_{2} x_{22} - 4\\right)}{k_{1} k_{2} k_{3}^{2} x_{11} x_{22} x_{33} - k_{1} k_{2} k_{3}^{2} x_{11} x_{23}^{2} - k_{1} k_{2} k_{3}^{2} x_{12}^{2} x_{33} + 2 k_{1} k_{2} k_{3}^{2} x_{12} x_{13} x_{23} - k_{1} k_{2} k_{3}^{2} x_{13}^{2} x_{22} - 2 k_{1} k_{2} k_{3} x_{11} x_{22} + 2 k_{1} k_{2} k_{3} x_{12}^{2} - 2 k_{1} k_{3}^{2} x_{11} x_{33} + 2 k_{1} k_{3}^{2} x_{13}^{2} + 4 k_{1} k_{3} x_{11} - 2 k_{2} k_{3}^{2} x_{22} x_{33} + 2 k_{2} k_{3}^{2} x_{23}^{2} + 4 k_{2} k_{3} x_{22} + 4 k_{3}^{2} x_{33} - 8 k_{3}}$",
            "text/plain": [
              "                                                                              \n",
              "                                                                              \n",
              "──────────────────────────────────────────────────────────────────────────────\n",
              "  2                       2              2     2          2           2       \n",
              "k₁ ⋅k₂⋅k₃⋅x₁₁⋅x₂₂⋅x₃₃ - k₁ ⋅k₂⋅k₃⋅x₁₁⋅x₂₃  - k₁ ⋅k₂⋅k₃⋅x₁₂ ⋅x₃₃ + 2⋅k₁ ⋅k₂⋅k₃⋅\n",
              "\n",
              "                             ⎛                          2                     \n",
              "                          q₁⋅⎝-k₂⋅k₃⋅x₂₂⋅x₃₃ + k₂⋅k₃⋅x₂₃  + 2⋅k₂⋅x₂₂ + 2⋅k₃⋅x₃\n",
              "──────────────────────────────────────────────────────────────────────────────\n",
              "                2          2           2                  2       2       2   \n",
              "x₁₂⋅x₁₃⋅x₂₃ - k₁ ⋅k₂⋅k₃⋅x₁₃ ⋅x₂₂ - 2⋅k₁ ⋅k₂⋅x₁₁⋅x₂₂ + 2⋅k₁ ⋅k₂⋅x₁₂  - 2⋅k₁ ⋅k₃\n",
              "\n",
              "     ⎞                                                                        \n",
              "₃ - 4⎠                                                                        \n",
              "──────────────────────────────────────────────────────────────────────────────\n",
              "               2       2       2                                          2   \n",
              "⋅x₁₁⋅x₃₃ + 2⋅k₁ ⋅k₃⋅x₁₃  + 4⋅k₁ ⋅x₁₁ - 2⋅k₁⋅k₂⋅k₃⋅x₂₂⋅x₃₃ + 2⋅k₁⋅k₂⋅k₃⋅x₂₃  + \n",
              "\n",
              "                                                                              \n",
              "                                                                              \n",
              "──────────────────────────────── + ───────────────────────────────────────────\n",
              "                                        2                       2           2 \n",
              "4⋅k₁⋅k₂⋅x₂₂ + 4⋅k₁⋅k₃⋅x₃₃ - 8⋅k₁   k₁⋅k₂ ⋅k₃⋅x₁₁⋅x₂₂⋅x₃₃ - k₁⋅k₂ ⋅k₃⋅x₁₁⋅x₂₃  \n",
              "\n",
              "                                                                ⎛             \n",
              "                                                             q₂⋅⎝-k₁⋅k₃⋅x₁₁⋅x₃\n",
              "──────────────────────────────────────────────────────────────────────────────\n",
              "       2       2              2                       2       2              2\n",
              "- k₁⋅k₂ ⋅k₃⋅x₁₂ ⋅x₃₃ + 2⋅k₁⋅k₂ ⋅k₃⋅x₁₂⋅x₁₃⋅x₂₃ - k₁⋅k₂ ⋅k₃⋅x₁₃ ⋅x₂₂ - 2⋅k₁⋅k₂ \n",
              "\n",
              "             2                          ⎞                                     \n",
              "₃ + k₁⋅k₃⋅x₁₃  + 2⋅k₁⋅x₁₁ + 2⋅k₃⋅x₃₃ - 4⎠                                     \n",
              "──────────────────────────────────────────────────────────────────────────────\n",
              "                  2    2                                      2               \n",
              "⋅x₁₁⋅x₂₂ + 2⋅k₁⋅k₂ ⋅x₁₂  - 2⋅k₁⋅k₂⋅k₃⋅x₁₁⋅x₃₃ + 2⋅k₁⋅k₂⋅k₃⋅x₁₃  + 4⋅k₁⋅k₂⋅x₁₁ \n",
              "\n",
              "                                                                              \n",
              "                                                                              \n",
              "─────────────────────────────────────────────────────────────────── + ────────\n",
              "      2                  2       2       2                                    \n",
              "- 2⋅k₂ ⋅k₃⋅x₂₂⋅x₃₃ + 2⋅k₂ ⋅k₃⋅x₂₃  + 4⋅k₂ ⋅x₂₂ + 4⋅k₂⋅k₃⋅x₃₃ - 8⋅k₂   k₁⋅k₂⋅k₃\n",
              "\n",
              "                                                                              \n",
              "                                                                              \n",
              "──────────────────────────────────────────────────────────────────────────────\n",
              "2                       2        2           2    2                 2         \n",
              " ⋅x₁₁⋅x₂₂⋅x₃₃ - k₁⋅k₂⋅k₃ ⋅x₁₁⋅x₂₃  - k₁⋅k₂⋅k₃ ⋅x₁₂ ⋅x₃₃ + 2⋅k₁⋅k₂⋅k₃ ⋅x₁₂⋅x₁₃⋅\n",
              "\n",
              "                     ⎛                          2                          ⎞  \n",
              "                  q₃⋅⎝-k₁⋅k₂⋅x₁₁⋅x₂₂ + k₁⋅k₂⋅x₁₂  + 2⋅k₁⋅x₁₁ + 2⋅k₂⋅x₂₂ - 4⎠  \n",
              "──────────────────────────────────────────────────────────────────────────────\n",
              "              2    2                                          2          2    \n",
              "x₂₃ - k₁⋅k₂⋅k₃ ⋅x₁₃ ⋅x₂₂ - 2⋅k₁⋅k₂⋅k₃⋅x₁₁⋅x₂₂ + 2⋅k₁⋅k₂⋅k₃⋅x₁₂  - 2⋅k₁⋅k₃ ⋅x₁₁\n",
              "\n",
              "                                                                              \n",
              "                                                                              \n",
              "──────────────────────────────────────────────────────────────────────────────\n",
              "              2    2                        2                  2    2         \n",
              "⋅x₃₃ + 2⋅k₁⋅k₃ ⋅x₁₃  + 4⋅k₁⋅k₃⋅x₁₁ - 2⋅k₂⋅k₃ ⋅x₂₂⋅x₃₃ + 2⋅k₂⋅k₃ ⋅x₂₃  + 4⋅k₂⋅k\n",
              "\n",
              "                        \n",
              "                        \n",
              "────────────────────────\n",
              "            2           \n",
              "₃⋅x₂₂ + 4⋅k₃ ⋅x₃₃ - 8⋅k₃"
            ]
          },
          "metadata": {},
          "execution_count": 11
        }
      ]
    },
    {
      "cell_type": "code",
      "source": [
        ""
      ],
      "metadata": {
        "id": "g4ZmkntBzLlv"
      },
      "execution_count": null,
      "outputs": []
    },
    {
      "cell_type": "code",
      "source": [
        "c1 = sym.simplify(c.subs([(q2, 0), (q3, 0)]))\n",
        "c2 = sym.simplify(c.subs([(q1, 0), (q3, 0)]))\n",
        "c3 = sym.simplify(c.subs([(q1, 0), (q2, 0)]))"
      ],
      "metadata": {
        "id": "iaqbRP0be3sW"
      },
      "execution_count": null,
      "outputs": []
    },
    {
      "cell_type": "code",
      "source": [
        "c1.subs(q1, 1)"
      ],
      "metadata": {
        "colab": {
          "base_uri": "https://localhost:8080/",
          "height": 58
        },
        "id": "ooXNwiTPlbEq",
        "outputId": "3b2ae38e-5c91-4f37-c9bb-ef967382853a"
      },
      "execution_count": null,
      "outputs": [
        {
          "output_type": "display_data",
          "data": {
            "text/html": [
              "<script src='https://cdnjs.cloudflare.com/ajax/libs/mathjax/2.7.3/latest.js?config=default'></script>"
            ],
            "text/plain": [
              "<IPython.core.display.HTML object>"
            ]
          },
          "metadata": {}
        },
        {
          "output_type": "execute_result",
          "data": {
            "text/latex": "$\\displaystyle \\frac{- k_{2} k_{3} x_{22} x_{33} + k_{2} k_{3} x_{23}^{2} + 2 k_{2} x_{22} + 2 k_{3} x_{33} - 4}{k_{1} \\left(k_{1} k_{2} k_{3} x_{11} x_{22} x_{33} - k_{1} k_{2} k_{3} x_{11} x_{23}^{2} - k_{1} k_{2} k_{3} x_{12}^{2} x_{33} + 2 k_{1} k_{2} k_{3} x_{12} x_{13} x_{23} - k_{1} k_{2} k_{3} x_{13}^{2} x_{22} - 2 k_{1} k_{2} x_{11} x_{22} + 2 k_{1} k_{2} x_{12}^{2} - 2 k_{1} k_{3} x_{11} x_{33} + 2 k_{1} k_{3} x_{13}^{2} + 4 k_{1} x_{11} - 2 k_{2} k_{3} x_{22} x_{33} + 2 k_{2} k_{3} x_{23}^{2} + 4 k_{2} x_{22} + 4 k_{3} x_{33} - 8\\right)}$",
            "text/plain": [
              "                                                                              \n",
              "                                                                              \n",
              "──────────────────────────────────────────────────────────────────────────────\n",
              "   ⎛                                       2               2                  \n",
              "k₁⋅⎝k₁⋅k₂⋅k₃⋅x₁₁⋅x₂₂⋅x₃₃ - k₁⋅k₂⋅k₃⋅x₁₁⋅x₂₃  - k₁⋅k₂⋅k₃⋅x₁₂ ⋅x₃₃ + 2⋅k₁⋅k₂⋅k₃⋅\n",
              "\n",
              "                                            2                                 \n",
              "                  -k₂⋅k₃⋅x₂₂⋅x₃₃ + k₂⋅k₃⋅x₂₃  + 2⋅k₂⋅x₂₂ + 2⋅k₃⋅x₃₃ - 4       \n",
              "──────────────────────────────────────────────────────────────────────────────\n",
              "                          2                                    2              \n",
              "x₁₂⋅x₁₃⋅x₂₃ - k₁⋅k₂⋅k₃⋅x₁₃ ⋅x₂₂ - 2⋅k₁⋅k₂⋅x₁₁⋅x₂₂ + 2⋅k₁⋅k₂⋅x₁₂  - 2⋅k₁⋅k₃⋅x₁₁\n",
              "\n",
              "                                                                              \n",
              "                                                                              \n",
              "──────────────────────────────────────────────────────────────────────────────\n",
              "                  2                                           2               \n",
              "⋅x₃₃ + 2⋅k₁⋅k₃⋅x₁₃  + 4⋅k₁⋅x₁₁ - 2⋅k₂⋅k₃⋅x₂₂⋅x₃₃ + 2⋅k₂⋅k₃⋅x₂₃  + 4⋅k₂⋅x₂₂ + 4\n",
              "\n",
              "            \n",
              "            \n",
              "────────────\n",
              "           ⎞\n",
              "⋅k₃⋅x₃₃ - 8⎠"
            ]
          },
          "metadata": {},
          "execution_count": 13
        }
      ]
    },
    {
      "cell_type": "code",
      "source": [
        "c2.subs(q2, 1)"
      ],
      "metadata": {
        "id": "ImZucYPsms3Y",
        "colab": {
          "base_uri": "https://localhost:8080/",
          "height": 58
        },
        "outputId": "25badb7f-eeab-43dd-9e87-dc96f4f32763"
      },
      "execution_count": null,
      "outputs": [
        {
          "output_type": "display_data",
          "data": {
            "text/html": [
              "<script src='https://cdnjs.cloudflare.com/ajax/libs/mathjax/2.7.3/latest.js?config=default'></script>"
            ],
            "text/plain": [
              "<IPython.core.display.HTML object>"
            ]
          },
          "metadata": {}
        },
        {
          "output_type": "execute_result",
          "data": {
            "text/latex": "$\\displaystyle \\frac{- k_{1} k_{3} x_{11} x_{33} + k_{1} k_{3} x_{13}^{2} + 2 k_{1} x_{11} + 2 k_{3} x_{33} - 4}{k_{2} \\left(k_{1} k_{2} k_{3} x_{11} x_{22} x_{33} - k_{1} k_{2} k_{3} x_{11} x_{23}^{2} - k_{1} k_{2} k_{3} x_{12}^{2} x_{33} + 2 k_{1} k_{2} k_{3} x_{12} x_{13} x_{23} - k_{1} k_{2} k_{3} x_{13}^{2} x_{22} - 2 k_{1} k_{2} x_{11} x_{22} + 2 k_{1} k_{2} x_{12}^{2} - 2 k_{1} k_{3} x_{11} x_{33} + 2 k_{1} k_{3} x_{13}^{2} + 4 k_{1} x_{11} - 2 k_{2} k_{3} x_{22} x_{33} + 2 k_{2} k_{3} x_{23}^{2} + 4 k_{2} x_{22} + 4 k_{3} x_{33} - 8\\right)}$",
            "text/plain": [
              "                                                                              \n",
              "                                                                              \n",
              "──────────────────────────────────────────────────────────────────────────────\n",
              "   ⎛                                       2               2                  \n",
              "k₂⋅⎝k₁⋅k₂⋅k₃⋅x₁₁⋅x₂₂⋅x₃₃ - k₁⋅k₂⋅k₃⋅x₁₁⋅x₂₃  - k₁⋅k₂⋅k₃⋅x₁₂ ⋅x₃₃ + 2⋅k₁⋅k₂⋅k₃⋅\n",
              "\n",
              "                                            2                                 \n",
              "                  -k₁⋅k₃⋅x₁₁⋅x₃₃ + k₁⋅k₃⋅x₁₃  + 2⋅k₁⋅x₁₁ + 2⋅k₃⋅x₃₃ - 4       \n",
              "──────────────────────────────────────────────────────────────────────────────\n",
              "                          2                                    2              \n",
              "x₁₂⋅x₁₃⋅x₂₃ - k₁⋅k₂⋅k₃⋅x₁₃ ⋅x₂₂ - 2⋅k₁⋅k₂⋅x₁₁⋅x₂₂ + 2⋅k₁⋅k₂⋅x₁₂  - 2⋅k₁⋅k₃⋅x₁₁\n",
              "\n",
              "                                                                              \n",
              "                                                                              \n",
              "──────────────────────────────────────────────────────────────────────────────\n",
              "                  2                                           2               \n",
              "⋅x₃₃ + 2⋅k₁⋅k₃⋅x₁₃  + 4⋅k₁⋅x₁₁ - 2⋅k₂⋅k₃⋅x₂₂⋅x₃₃ + 2⋅k₂⋅k₃⋅x₂₃  + 4⋅k₂⋅x₂₂ + 4\n",
              "\n",
              "            \n",
              "            \n",
              "────────────\n",
              "           ⎞\n",
              "⋅k₃⋅x₃₃ - 8⎠"
            ]
          },
          "metadata": {},
          "execution_count": 36
        }
      ]
    },
    {
      "cell_type": "code",
      "source": [
        "c3.subs(q3, 1)"
      ],
      "metadata": {
        "colab": {
          "base_uri": "https://localhost:8080/",
          "height": 58
        },
        "id": "7PM_TweuyaE3",
        "outputId": "f12eb171-ec5e-489e-d274-90bc36b05ae1"
      },
      "execution_count": null,
      "outputs": [
        {
          "output_type": "display_data",
          "data": {
            "text/html": [
              "<script src='https://cdnjs.cloudflare.com/ajax/libs/mathjax/2.7.3/latest.js?config=default'></script>"
            ],
            "text/plain": [
              "<IPython.core.display.HTML object>"
            ]
          },
          "metadata": {}
        },
        {
          "output_type": "execute_result",
          "data": {
            "text/latex": "$\\displaystyle \\frac{- k_{1} k_{2} x_{11} x_{22} + k_{1} k_{2} x_{12}^{2} + 2 k_{1} x_{11} + 2 k_{2} x_{22} - 4}{k_{3} \\left(k_{1} k_{2} k_{3} x_{11} x_{22} x_{33} - k_{1} k_{2} k_{3} x_{11} x_{23}^{2} - k_{1} k_{2} k_{3} x_{12}^{2} x_{33} + 2 k_{1} k_{2} k_{3} x_{12} x_{13} x_{23} - k_{1} k_{2} k_{3} x_{13}^{2} x_{22} - 2 k_{1} k_{2} x_{11} x_{22} + 2 k_{1} k_{2} x_{12}^{2} - 2 k_{1} k_{3} x_{11} x_{33} + 2 k_{1} k_{3} x_{13}^{2} + 4 k_{1} x_{11} - 2 k_{2} k_{3} x_{22} x_{33} + 2 k_{2} k_{3} x_{23}^{2} + 4 k_{2} x_{22} + 4 k_{3} x_{33} - 8\\right)}$",
            "text/plain": [
              "                                                                              \n",
              "                                                                              \n",
              "──────────────────────────────────────────────────────────────────────────────\n",
              "   ⎛                                       2               2                  \n",
              "k₃⋅⎝k₁⋅k₂⋅k₃⋅x₁₁⋅x₂₂⋅x₃₃ - k₁⋅k₂⋅k₃⋅x₁₁⋅x₂₃  - k₁⋅k₂⋅k₃⋅x₁₂ ⋅x₃₃ + 2⋅k₁⋅k₂⋅k₃⋅\n",
              "\n",
              "                                            2                                 \n",
              "                  -k₁⋅k₂⋅x₁₁⋅x₂₂ + k₁⋅k₂⋅x₁₂  + 2⋅k₁⋅x₁₁ + 2⋅k₂⋅x₂₂ - 4       \n",
              "──────────────────────────────────────────────────────────────────────────────\n",
              "                          2                                    2              \n",
              "x₁₂⋅x₁₃⋅x₂₃ - k₁⋅k₂⋅k₃⋅x₁₃ ⋅x₂₂ - 2⋅k₁⋅k₂⋅x₁₁⋅x₂₂ + 2⋅k₁⋅k₂⋅x₁₂  - 2⋅k₁⋅k₃⋅x₁₁\n",
              "\n",
              "                                                                              \n",
              "                                                                              \n",
              "──────────────────────────────────────────────────────────────────────────────\n",
              "                  2                                           2               \n",
              "⋅x₃₃ + 2⋅k₁⋅k₃⋅x₁₃  + 4⋅k₁⋅x₁₁ - 2⋅k₂⋅k₃⋅x₂₂⋅x₃₃ + 2⋅k₂⋅k₃⋅x₂₃  + 4⋅k₂⋅x₂₂ + 4\n",
              "\n",
              "            \n",
              "            \n",
              "────────────\n",
              "           ⎞\n",
              "⋅k₃⋅x₃₃ - 8⎠"
            ]
          },
          "metadata": {},
          "execution_count": 37
        }
      ]
    },
    {
      "cell_type": "code",
      "source": [
        "sym.diff(c2, k2)"
      ],
      "metadata": {
        "colab": {
          "base_uri": "https://localhost:8080/",
          "height": 106
        },
        "id": "7xOLxd3XlwMT",
        "outputId": "99eaea38-7369-4a3d-93af-abd9cc9bfc10"
      },
      "execution_count": null,
      "outputs": [
        {
          "output_type": "display_data",
          "data": {
            "text/html": [
              "<script src='https://cdnjs.cloudflare.com/ajax/libs/mathjax/2.7.3/latest.js?config=default'></script>"
            ],
            "text/plain": [
              "<IPython.core.display.HTML object>"
            ]
          },
          "metadata": {}
        },
        {
          "output_type": "execute_result",
          "data": {
            "text/latex": "$\\displaystyle \\frac{q_{2} \\left(- k_{1} k_{3} x_{11} x_{33} + k_{1} k_{3} x_{13}^{2} + 2 k_{1} x_{11} + 2 k_{3} x_{33} - 4\\right) \\left(- k_{1} k_{3} x_{11} x_{22} x_{33} + k_{1} k_{3} x_{11} x_{23}^{2} + k_{1} k_{3} x_{12}^{2} x_{33} - 2 k_{1} k_{3} x_{12} x_{13} x_{23} + k_{1} k_{3} x_{13}^{2} x_{22} + 2 k_{1} x_{11} x_{22} - 2 k_{1} x_{12}^{2} + 2 k_{3} x_{22} x_{33} - 2 k_{3} x_{23}^{2} - 4 x_{22}\\right)}{k_{2} \\left(k_{1} k_{2} k_{3} x_{11} x_{22} x_{33} - k_{1} k_{2} k_{3} x_{11} x_{23}^{2} - k_{1} k_{2} k_{3} x_{12}^{2} x_{33} + 2 k_{1} k_{2} k_{3} x_{12} x_{13} x_{23} - k_{1} k_{2} k_{3} x_{13}^{2} x_{22} - 2 k_{1} k_{2} x_{11} x_{22} + 2 k_{1} k_{2} x_{12}^{2} - 2 k_{1} k_{3} x_{11} x_{33} + 2 k_{1} k_{3} x_{13}^{2} + 4 k_{1} x_{11} - 2 k_{2} k_{3} x_{22} x_{33} + 2 k_{2} k_{3} x_{23}^{2} + 4 k_{2} x_{22} + 4 k_{3} x_{33} - 8\\right)^{2}} - \\frac{q_{2} \\left(- k_{1} k_{3} x_{11} x_{33} + k_{1} k_{3} x_{13}^{2} + 2 k_{1} x_{11} + 2 k_{3} x_{33} - 4\\right)}{k_{2}^{2} \\left(k_{1} k_{2} k_{3} x_{11} x_{22} x_{33} - k_{1} k_{2} k_{3} x_{11} x_{23}^{2} - k_{1} k_{2} k_{3} x_{12}^{2} x_{33} + 2 k_{1} k_{2} k_{3} x_{12} x_{13} x_{23} - k_{1} k_{2} k_{3} x_{13}^{2} x_{22} - 2 k_{1} k_{2} x_{11} x_{22} + 2 k_{1} k_{2} x_{12}^{2} - 2 k_{1} k_{3} x_{11} x_{33} + 2 k_{1} k_{3} x_{13}^{2} + 4 k_{1} x_{11} - 2 k_{2} k_{3} x_{22} x_{33} + 2 k_{2} k_{3} x_{23}^{2} + 4 k_{2} x_{22} + 4 k_{3} x_{33} - 8\\right)}$",
            "text/plain": [
              "                    ⎛                          2                          ⎞ ⎛ \n",
              "                 q₂⋅⎝-k₁⋅k₃⋅x₁₁⋅x₃₃ + k₁⋅k₃⋅x₁₃  + 2⋅k₁⋅x₁₁ + 2⋅k₃⋅x₃₃ - 4⎠⋅⎝-\n",
              "──────────────────────────────────────────────────────────────────────────────\n",
              "                                                                              \n",
              "   ⎛                                       2               2                  \n",
              "k₂⋅⎝k₁⋅k₂⋅k₃⋅x₁₁⋅x₂₂⋅x₃₃ - k₁⋅k₂⋅k₃⋅x₁₁⋅x₂₃  - k₁⋅k₂⋅k₃⋅x₁₂ ⋅x₃₃ + 2⋅k₁⋅k₂⋅k₃⋅\n",
              "\n",
              "                                 2            2                               \n",
              "k₁⋅k₃⋅x₁₁⋅x₂₂⋅x₃₃ + k₁⋅k₃⋅x₁₁⋅x₂₃  + k₁⋅k₃⋅x₁₂ ⋅x₃₃ - 2⋅k₁⋅k₃⋅x₁₂⋅x₁₃⋅x₂₃ + k₁\n",
              "──────────────────────────────────────────────────────────────────────────────\n",
              "                                                                              \n",
              "                          2                                    2              \n",
              "x₁₂⋅x₁₃⋅x₂₃ - k₁⋅k₂⋅k₃⋅x₁₃ ⋅x₂₂ - 2⋅k₁⋅k₂⋅x₁₁⋅x₂₂ + 2⋅k₁⋅k₂⋅x₁₂  - 2⋅k₁⋅k₃⋅x₁₁\n",
              "\n",
              "       2                              2                          2        ⎞   \n",
              "⋅k₃⋅x₁₃ ⋅x₂₂ + 2⋅k₁⋅x₁₁⋅x₂₂ - 2⋅k₁⋅x₁₂  + 2⋅k₃⋅x₂₂⋅x₃₃ - 2⋅k₃⋅x₂₃  - 4⋅x₂₂⎠   \n",
              "──────────────────────────────────────────────────────────────────────────────\n",
              "                                                                              \n",
              "                  2                                           2               \n",
              "⋅x₃₃ + 2⋅k₁⋅k₃⋅x₁₃  + 4⋅k₁⋅x₁₁ - 2⋅k₂⋅k₃⋅x₂₂⋅x₃₃ + 2⋅k₂⋅k₃⋅x₂₃  + 4⋅k₂⋅x₂₂ + 4\n",
              "\n",
              "                                                                              \n",
              "                                                                              \n",
              "───────────── - ──────────────────────────────────────────────────────────────\n",
              "            2     2 ⎛                                       2               2 \n",
              "           ⎞    k₂ ⋅⎝k₁⋅k₂⋅k₃⋅x₁₁⋅x₂₂⋅x₃₃ - k₁⋅k₂⋅k₃⋅x₁₁⋅x₂₃  - k₁⋅k₂⋅k₃⋅x₁₂ ⋅\n",
              "⋅k₃⋅x₃₃ - 8⎠                                                                  \n",
              "\n",
              "                                    ⎛                          2              \n",
              "                                 q₂⋅⎝-k₁⋅k₃⋅x₁₁⋅x₃₃ + k₁⋅k₃⋅x₁₃  + 2⋅k₁⋅x₁₁ + \n",
              "──────────────────────────────────────────────────────────────────────────────\n",
              "                                           2                                  \n",
              "x₃₃ + 2⋅k₁⋅k₂⋅k₃⋅x₁₂⋅x₁₃⋅x₂₃ - k₁⋅k₂⋅k₃⋅x₁₃ ⋅x₂₂ - 2⋅k₁⋅k₂⋅x₁₁⋅x₂₂ + 2⋅k₁⋅k₂⋅x\n",
              "                                                                              \n",
              "\n",
              "            ⎞                                                                 \n",
              "2⋅k₃⋅x₃₃ - 4⎠                                                                 \n",
              "──────────────────────────────────────────────────────────────────────────────\n",
              "  2                                2                                          \n",
              "₁₂  - 2⋅k₁⋅k₃⋅x₁₁⋅x₃₃ + 2⋅k₁⋅k₃⋅x₁₃  + 4⋅k₁⋅x₁₁ - 2⋅k₂⋅k₃⋅x₂₂⋅x₃₃ + 2⋅k₂⋅k₃⋅x₂\n",
              "                                                                              \n",
              "\n",
              "                             \n",
              "                             \n",
              "─────────────────────────────\n",
              " 2                          ⎞\n",
              "₃  + 4⋅k₂⋅x₂₂ + 4⋅k₃⋅x₃₃ - 8⎠\n",
              "                             "
            ]
          },
          "metadata": {},
          "execution_count": 38
        }
      ]
    },
    {
      "cell_type": "code",
      "source": [
        "sym.diff(c1, k1)"
      ],
      "metadata": {
        "colab": {
          "base_uri": "https://localhost:8080/",
          "height": 106
        },
        "id": "YeCmoqTj-02p",
        "outputId": "027151f1-fca2-4d0d-e78a-528a6ca24296"
      },
      "execution_count": null,
      "outputs": [
        {
          "output_type": "display_data",
          "data": {
            "text/html": [
              "<script src='https://cdnjs.cloudflare.com/ajax/libs/mathjax/2.7.3/latest.js?config=default'></script>"
            ],
            "text/plain": [
              "<IPython.core.display.HTML object>"
            ]
          },
          "metadata": {}
        },
        {
          "output_type": "execute_result",
          "data": {
            "text/latex": "$\\displaystyle \\frac{q_{1} \\left(- k_{2} k_{3} x_{22} x_{33} + k_{2} k_{3} x_{23}^{2} + 2 k_{2} x_{22} + 2 k_{3} x_{33} - 4\\right) \\left(- k_{2} k_{3} x_{11} x_{22} x_{33} + k_{2} k_{3} x_{11} x_{23}^{2} + k_{2} k_{3} x_{12}^{2} x_{33} - 2 k_{2} k_{3} x_{12} x_{13} x_{23} + k_{2} k_{3} x_{13}^{2} x_{22} + 2 k_{2} x_{11} x_{22} - 2 k_{2} x_{12}^{2} + 2 k_{3} x_{11} x_{33} - 2 k_{3} x_{13}^{2} - 4 x_{11}\\right)}{k_{1} \\left(k_{1} k_{2} k_{3} x_{11} x_{22} x_{33} - k_{1} k_{2} k_{3} x_{11} x_{23}^{2} - k_{1} k_{2} k_{3} x_{12}^{2} x_{33} + 2 k_{1} k_{2} k_{3} x_{12} x_{13} x_{23} - k_{1} k_{2} k_{3} x_{13}^{2} x_{22} - 2 k_{1} k_{2} x_{11} x_{22} + 2 k_{1} k_{2} x_{12}^{2} - 2 k_{1} k_{3} x_{11} x_{33} + 2 k_{1} k_{3} x_{13}^{2} + 4 k_{1} x_{11} - 2 k_{2} k_{3} x_{22} x_{33} + 2 k_{2} k_{3} x_{23}^{2} + 4 k_{2} x_{22} + 4 k_{3} x_{33} - 8\\right)^{2}} - \\frac{q_{1} \\left(- k_{2} k_{3} x_{22} x_{33} + k_{2} k_{3} x_{23}^{2} + 2 k_{2} x_{22} + 2 k_{3} x_{33} - 4\\right)}{k_{1}^{2} \\left(k_{1} k_{2} k_{3} x_{11} x_{22} x_{33} - k_{1} k_{2} k_{3} x_{11} x_{23}^{2} - k_{1} k_{2} k_{3} x_{12}^{2} x_{33} + 2 k_{1} k_{2} k_{3} x_{12} x_{13} x_{23} - k_{1} k_{2} k_{3} x_{13}^{2} x_{22} - 2 k_{1} k_{2} x_{11} x_{22} + 2 k_{1} k_{2} x_{12}^{2} - 2 k_{1} k_{3} x_{11} x_{33} + 2 k_{1} k_{3} x_{13}^{2} + 4 k_{1} x_{11} - 2 k_{2} k_{3} x_{22} x_{33} + 2 k_{2} k_{3} x_{23}^{2} + 4 k_{2} x_{22} + 4 k_{3} x_{33} - 8\\right)}$",
            "text/plain": [
              "                    ⎛                          2                          ⎞ ⎛ \n",
              "                 q₁⋅⎝-k₂⋅k₃⋅x₂₂⋅x₃₃ + k₂⋅k₃⋅x₂₃  + 2⋅k₂⋅x₂₂ + 2⋅k₃⋅x₃₃ - 4⎠⋅⎝-\n",
              "──────────────────────────────────────────────────────────────────────────────\n",
              "                                                                              \n",
              "   ⎛                                       2               2                  \n",
              "k₁⋅⎝k₁⋅k₂⋅k₃⋅x₁₁⋅x₂₂⋅x₃₃ - k₁⋅k₂⋅k₃⋅x₁₁⋅x₂₃  - k₁⋅k₂⋅k₃⋅x₁₂ ⋅x₃₃ + 2⋅k₁⋅k₂⋅k₃⋅\n",
              "\n",
              "                                 2            2                               \n",
              "k₂⋅k₃⋅x₁₁⋅x₂₂⋅x₃₃ + k₂⋅k₃⋅x₁₁⋅x₂₃  + k₂⋅k₃⋅x₁₂ ⋅x₃₃ - 2⋅k₂⋅k₃⋅x₁₂⋅x₁₃⋅x₂₃ + k₂\n",
              "──────────────────────────────────────────────────────────────────────────────\n",
              "                                                                              \n",
              "                          2                                    2              \n",
              "x₁₂⋅x₁₃⋅x₂₃ - k₁⋅k₂⋅k₃⋅x₁₃ ⋅x₂₂ - 2⋅k₁⋅k₂⋅x₁₁⋅x₂₂ + 2⋅k₁⋅k₂⋅x₁₂  - 2⋅k₁⋅k₃⋅x₁₁\n",
              "\n",
              "       2                              2                          2        ⎞   \n",
              "⋅k₃⋅x₁₃ ⋅x₂₂ + 2⋅k₂⋅x₁₁⋅x₂₂ - 2⋅k₂⋅x₁₂  + 2⋅k₃⋅x₁₁⋅x₃₃ - 2⋅k₃⋅x₁₃  - 4⋅x₁₁⎠   \n",
              "──────────────────────────────────────────────────────────────────────────────\n",
              "                                                                              \n",
              "                  2                                           2               \n",
              "⋅x₃₃ + 2⋅k₁⋅k₃⋅x₁₃  + 4⋅k₁⋅x₁₁ - 2⋅k₂⋅k₃⋅x₂₂⋅x₃₃ + 2⋅k₂⋅k₃⋅x₂₃  + 4⋅k₂⋅x₂₂ + 4\n",
              "\n",
              "                                                                              \n",
              "                                                                              \n",
              "───────────── - ──────────────────────────────────────────────────────────────\n",
              "            2     2 ⎛                                       2               2 \n",
              "           ⎞    k₁ ⋅⎝k₁⋅k₂⋅k₃⋅x₁₁⋅x₂₂⋅x₃₃ - k₁⋅k₂⋅k₃⋅x₁₁⋅x₂₃  - k₁⋅k₂⋅k₃⋅x₁₂ ⋅\n",
              "⋅k₃⋅x₃₃ - 8⎠                                                                  \n",
              "\n",
              "                                    ⎛                          2              \n",
              "                                 q₁⋅⎝-k₂⋅k₃⋅x₂₂⋅x₃₃ + k₂⋅k₃⋅x₂₃  + 2⋅k₂⋅x₂₂ + \n",
              "──────────────────────────────────────────────────────────────────────────────\n",
              "                                           2                                  \n",
              "x₃₃ + 2⋅k₁⋅k₂⋅k₃⋅x₁₂⋅x₁₃⋅x₂₃ - k₁⋅k₂⋅k₃⋅x₁₃ ⋅x₂₂ - 2⋅k₁⋅k₂⋅x₁₁⋅x₂₂ + 2⋅k₁⋅k₂⋅x\n",
              "                                                                              \n",
              "\n",
              "            ⎞                                                                 \n",
              "2⋅k₃⋅x₃₃ - 4⎠                                                                 \n",
              "──────────────────────────────────────────────────────────────────────────────\n",
              "  2                                2                                          \n",
              "₁₂  - 2⋅k₁⋅k₃⋅x₁₁⋅x₃₃ + 2⋅k₁⋅k₃⋅x₁₃  + 4⋅k₁⋅x₁₁ - 2⋅k₂⋅k₃⋅x₂₂⋅x₃₃ + 2⋅k₂⋅k₃⋅x₂\n",
              "                                                                              \n",
              "\n",
              "                             \n",
              "                             \n",
              "─────────────────────────────\n",
              " 2                          ⎞\n",
              "₃  + 4⋅k₂⋅x₂₂ + 4⋅k₃⋅x₃₃ - 8⎠\n",
              "                             "
            ]
          },
          "metadata": {},
          "execution_count": 39
        }
      ]
    },
    {
      "cell_type": "code",
      "source": [
        "def psd(n):\n",
        "    \"\"\"generate PSD matrix with dimension n-by-n\"\"\"\n",
        "    mat = np.random.normal(0, 1, (n, n))\n",
        "    return mat.T@mat\n",
        "\n"
      ],
      "metadata": {
        "id": "Au3KDBrooSx9"
      },
      "execution_count": null,
      "outputs": []
    },
    {
      "cell_type": "code",
      "source": [
        "sym.simplify(c2) "
      ],
      "metadata": {
        "id": "z4U3gD05p7x6",
        "colab": {
          "base_uri": "https://localhost:8080/",
          "height": 57
        },
        "outputId": "a376a899-5a53-4e05-e60a-351470567033"
      },
      "execution_count": null,
      "outputs": [
        {
          "output_type": "display_data",
          "data": {
            "text/html": [
              "<script src='https://cdnjs.cloudflare.com/ajax/libs/mathjax/2.7.3/latest.js?config=default'></script>"
            ],
            "text/plain": [
              "<IPython.core.display.HTML object>"
            ]
          },
          "metadata": {}
        },
        {
          "output_type": "execute_result",
          "data": {
            "text/latex": "$\\displaystyle \\frac{q_{2} \\left(k_{1} x_{11} - 2\\right)}{k_{2} \\left(- k_{1} k_{2} x_{11} x_{22} + k_{1} k_{2} x_{12}^{2} + 2 k_{1} x_{11} + 2 k_{2} x_{22} - 4\\right)}$",
            "text/plain": [
              "                     q₂⋅(k₁⋅x₁₁ - 2)                      \n",
              "──────────────────────────────────────────────────────────\n",
              "   ⎛                          2                          ⎞\n",
              "k₂⋅⎝-k₁⋅k₂⋅x₁₁⋅x₂₂ + k₁⋅k₂⋅x₁₂  + 2⋅k₁⋅x₁₁ + 2⋅k₂⋅x₂₂ - 4⎠"
            ]
          },
          "metadata": {},
          "execution_count": 21
        }
      ]
    },
    {
      "cell_type": "code",
      "source": [
        "sym.simplify(c1) "
      ],
      "metadata": {
        "id": "Wsn6RWk35bKf",
        "colab": {
          "base_uri": "https://localhost:8080/",
          "height": 57
        },
        "outputId": "419aa491-9cd9-41ce-819c-02cbadeb4d00"
      },
      "execution_count": null,
      "outputs": [
        {
          "output_type": "display_data",
          "data": {
            "text/html": [
              "<script src='https://cdnjs.cloudflare.com/ajax/libs/mathjax/2.7.3/latest.js?config=default'></script>"
            ],
            "text/plain": [
              "<IPython.core.display.HTML object>"
            ]
          },
          "metadata": {}
        },
        {
          "output_type": "execute_result",
          "data": {
            "text/latex": "$\\displaystyle \\frac{q_{1} \\left(k_{2} x_{22} - 2\\right)}{k_{1} \\left(- k_{1} k_{2} x_{11} x_{22} + k_{1} k_{2} x_{12}^{2} + 2 k_{1} x_{11} + 2 k_{2} x_{22} - 4\\right)}$",
            "text/plain": [
              "                     q₁⋅(k₂⋅x₂₂ - 2)                      \n",
              "──────────────────────────────────────────────────────────\n",
              "   ⎛                          2                          ⎞\n",
              "k₁⋅⎝-k₁⋅k₂⋅x₁₁⋅x₂₂ + k₁⋅k₂⋅x₁₂  + 2⋅k₁⋅x₁₁ + 2⋅k₂⋅x₂₂ - 4⎠"
            ]
          },
          "metadata": {},
          "execution_count": 20
        }
      ]
    },
    {
      "cell_type": "code",
      "source": [
        "d1 = sym.simplify(sym.diff(c1, k1)) "
      ],
      "metadata": {
        "id": "j_tRl2AVSS3z"
      },
      "execution_count": null,
      "outputs": []
    },
    {
      "cell_type": "code",
      "source": [
        "d2 = sym.simplify(sym.diff(c2, k2)) "
      ],
      "metadata": {
        "id": "iCKun04cqMfw"
      },
      "execution_count": null,
      "outputs": []
    },
    {
      "cell_type": "code",
      "source": [
        "d3 = sym.simplify(sym.diff(c3, k3)) "
      ],
      "metadata": {
        "id": "u4YERG8YzbtB"
      },
      "execution_count": null,
      "outputs": []
    },
    {
      "cell_type": "code",
      "source": [
        "d1"
      ],
      "metadata": {
        "id": "lNFN3D9scPPa",
        "colab": {
          "base_uri": "https://localhost:8080/",
          "height": 83
        },
        "outputId": "0f72f381-17d6-42cb-8f1e-837531cfb76c"
      },
      "execution_count": null,
      "outputs": [
        {
          "output_type": "display_data",
          "data": {
            "text/html": [
              "<script src='https://cdnjs.cloudflare.com/ajax/libs/mathjax/2.7.3/latest.js?config=default'></script>"
            ],
            "text/plain": [
              "<IPython.core.display.HTML object>"
            ]
          },
          "metadata": {}
        },
        {
          "output_type": "execute_result",
          "data": {
            "text/latex": "$\\displaystyle \\frac{q_{1} \\left(- k_{2} k_{3} x_{22} x_{33} + k_{2} k_{3} x_{23}^{2} + 2 k_{2} x_{22} + 2 k_{3} x_{33} - 4\\right) \\left(- k_{1} k_{2} k_{3} x_{11} x_{22} x_{33} + k_{1} k_{2} k_{3} x_{11} x_{23}^{2} + k_{1} k_{2} k_{3} x_{12}^{2} x_{33} - 2 k_{1} k_{2} k_{3} x_{12} x_{13} x_{23} + k_{1} k_{2} k_{3} x_{13}^{2} x_{22} + 2 k_{1} k_{2} x_{11} x_{22} - 2 k_{1} k_{2} x_{12}^{2} + 2 k_{1} k_{3} x_{11} x_{33} - 2 k_{1} k_{3} x_{13}^{2} - 4 k_{1} x_{11} - k_{1} \\left(k_{2} k_{3} x_{11} x_{22} x_{33} - k_{2} k_{3} x_{11} x_{23}^{2} - k_{2} k_{3} x_{12}^{2} x_{33} + 2 k_{2} k_{3} x_{12} x_{13} x_{23} - k_{2} k_{3} x_{13}^{2} x_{22} - 2 k_{2} x_{11} x_{22} + 2 k_{2} x_{12}^{2} - 2 k_{3} x_{11} x_{33} + 2 k_{3} x_{13}^{2} + 4 x_{11}\\right) + 2 k_{2} k_{3} x_{22} x_{33} - 2 k_{2} k_{3} x_{23}^{2} - 4 k_{2} x_{22} - 4 k_{3} x_{33} + 8\\right)}{k_{1}^{2} \\left(k_{1} k_{2} k_{3} x_{11} x_{22} x_{33} - k_{1} k_{2} k_{3} x_{11} x_{23}^{2} - k_{1} k_{2} k_{3} x_{12}^{2} x_{33} + 2 k_{1} k_{2} k_{3} x_{12} x_{13} x_{23} - k_{1} k_{2} k_{3} x_{13}^{2} x_{22} - 2 k_{1} k_{2} x_{11} x_{22} + 2 k_{1} k_{2} x_{12}^{2} - 2 k_{1} k_{3} x_{11} x_{33} + 2 k_{1} k_{3} x_{13}^{2} + 4 k_{1} x_{11} - 2 k_{2} k_{3} x_{22} x_{33} + 2 k_{2} k_{3} x_{23}^{2} + 4 k_{2} x_{22} + 4 k_{3} x_{33} - 8\\right)^{2}}$",
            "text/plain": [
              "   ⎛                          2                          ⎞ ⎛                  \n",
              "q₁⋅⎝-k₂⋅k₃⋅x₂₂⋅x₃₃ + k₂⋅k₃⋅x₂₃  + 2⋅k₂⋅x₂₂ + 2⋅k₃⋅x₃₃ - 4⎠⋅⎝-k₁⋅k₂⋅k₃⋅x₁₁⋅x₂₂⋅\n",
              "──────────────────────────────────────────────────────────────────────────────\n",
              "                                                                              \n",
              "                                                                              \n",
              "                                                                              \n",
              "\n",
              "                      2               2                                       \n",
              "x₃₃ + k₁⋅k₂⋅k₃⋅x₁₁⋅x₂₃  + k₁⋅k₂⋅k₃⋅x₁₂ ⋅x₃₃ - 2⋅k₁⋅k₂⋅k₃⋅x₁₂⋅x₁₃⋅x₂₃ + k₁⋅k₂⋅k\n",
              "──────────────────────────────────────────────────────────────────────────────\n",
              "                                                                              \n",
              "                                2 ⎛                                       2   \n",
              "                              k₁ ⋅⎝k₁⋅k₂⋅k₃⋅x₁₁⋅x₂₂⋅x₃₃ - k₁⋅k₂⋅k₃⋅x₁₁⋅x₂₃  - \n",
              "\n",
              "     2                                    2                                2  \n",
              "₃⋅x₁₃ ⋅x₂₂ + 2⋅k₁⋅k₂⋅x₁₁⋅x₂₂ - 2⋅k₁⋅k₂⋅x₁₂  + 2⋅k₁⋅k₃⋅x₁₁⋅x₃₃ - 2⋅k₁⋅k₃⋅x₁₃  -\n",
              "──────────────────────────────────────────────────────────────────────────────\n",
              "                                                                              \n",
              "            2                                            2                    \n",
              "k₁⋅k₂⋅k₃⋅x₁₂ ⋅x₃₃ + 2⋅k₁⋅k₂⋅k₃⋅x₁₂⋅x₁₃⋅x₂₃ - k₁⋅k₂⋅k₃⋅x₁₃ ⋅x₂₂ - 2⋅k₁⋅k₂⋅x₁₁⋅x\n",
              "\n",
              "               ⎛                                 2            2               \n",
              " 4⋅k₁⋅x₁₁ - k₁⋅⎝k₂⋅k₃⋅x₁₁⋅x₂₂⋅x₃₃ - k₂⋅k₃⋅x₁₁⋅x₂₃  - k₂⋅k₃⋅x₁₂ ⋅x₃₃ + 2⋅k₂⋅k₃⋅\n",
              "──────────────────────────────────────────────────────────────────────────────\n",
              "                                                                              \n",
              "                2                                2                            \n",
              "₂₂ + 2⋅k₁⋅k₂⋅x₁₂  - 2⋅k₁⋅k₃⋅x₁₁⋅x₃₃ + 2⋅k₁⋅k₃⋅x₁₃  + 4⋅k₁⋅x₁₁ - 2⋅k₂⋅k₃⋅x₂₂⋅x₃\n",
              "\n",
              "                       2                              2                       \n",
              "x₁₂⋅x₁₃⋅x₂₃ - k₂⋅k₃⋅x₁₃ ⋅x₂₂ - 2⋅k₂⋅x₁₁⋅x₂₂ + 2⋅k₂⋅x₁₂  - 2⋅k₃⋅x₁₁⋅x₃₃ + 2⋅k₃⋅\n",
              "──────────────────────────────────────────────────────────────────────────────\n",
              "                                           2                                  \n",
              "               2                          ⎞                                   \n",
              "₃ + 2⋅k₂⋅k₃⋅x₂₃  + 4⋅k₂⋅x₂₂ + 4⋅k₃⋅x₃₃ - 8⎠                                   \n",
              "\n",
              "   2        ⎞                                2                          ⎞\n",
              "x₁₃  + 4⋅x₁₁⎠ + 2⋅k₂⋅k₃⋅x₂₂⋅x₃₃ - 2⋅k₂⋅k₃⋅x₂₃  - 4⋅k₂⋅x₂₂ - 4⋅k₃⋅x₃₃ + 8⎠\n",
              "─────────────────────────────────────────────────────────────────────────\n",
              "                                                                         \n",
              "                                                                         \n",
              "                                                                         "
            ]
          },
          "metadata": {},
          "execution_count": 17
        }
      ]
    },
    {
      "cell_type": "code",
      "source": [
        "from sympy.solvers import solve\n",
        "k1_star = solve(d1, k1)[0]\n"
      ],
      "metadata": {
        "id": "S6hL3TOnunFo"
      },
      "execution_count": null,
      "outputs": []
    },
    {
      "cell_type": "code",
      "source": [
        "k2_star = solve(d2, k2)[0]"
      ],
      "metadata": {
        "id": "tqI9j5SCv6dc"
      },
      "execution_count": null,
      "outputs": []
    },
    {
      "cell_type": "code",
      "source": [
        "k3_star = solve(d3, k3)[0]"
      ],
      "metadata": {
        "id": "4AC2WU0lvAJz"
      },
      "execution_count": null,
      "outputs": []
    },
    {
      "cell_type": "code",
      "source": [
        "k1_star"
      ],
      "metadata": {
        "colab": {
          "base_uri": "https://localhost:8080/",
          "height": 58
        },
        "id": "zfMbtkXrzwql",
        "outputId": "28654372-e74e-4230-c60e-4b1d8cad7633"
      },
      "execution_count": null,
      "outputs": [
        {
          "output_type": "display_data",
          "data": {
            "text/html": [
              "<script src='https://cdnjs.cloudflare.com/ajax/libs/mathjax/2.7.3/latest.js?config=default'></script>"
            ],
            "text/plain": [
              "<IPython.core.display.HTML object>"
            ]
          },
          "metadata": {}
        },
        {
          "output_type": "execute_result",
          "data": {
            "text/latex": "$\\displaystyle \\frac{k_{2} k_{3} x_{22} x_{33} - k_{2} k_{3} x_{23}^{2} - 2 k_{2} x_{22} - 2 k_{3} x_{33} + 4}{k_{2} k_{3} x_{11} x_{22} x_{33} - k_{2} k_{3} x_{11} x_{23}^{2} - k_{2} k_{3} x_{12}^{2} x_{33} + 2 k_{2} k_{3} x_{12} x_{13} x_{23} - k_{2} k_{3} x_{13}^{2} x_{22} - 2 k_{2} x_{11} x_{22} + 2 k_{2} x_{12}^{2} - 2 k_{3} x_{11} x_{33} + 2 k_{3} x_{13}^{2} + 4 x_{11}}$",
            "text/plain": [
              "                                                                           2  \n",
              "                                                  k₂⋅k₃⋅x₂₂⋅x₃₃ - k₂⋅k₃⋅x₂₃  -\n",
              "──────────────────────────────────────────────────────────────────────────────\n",
              "                                 2            2                               \n",
              "k₂⋅k₃⋅x₁₁⋅x₂₂⋅x₃₃ - k₂⋅k₃⋅x₁₁⋅x₂₃  - k₂⋅k₃⋅x₁₂ ⋅x₃₃ + 2⋅k₂⋅k₃⋅x₁₂⋅x₁₃⋅x₂₃ - k₂\n",
              "\n",
              "                                                                          \n",
              " 2⋅k₂⋅x₂₂ - 2⋅k₃⋅x₃₃ + 4                                                  \n",
              "──────────────────────────────────────────────────────────────────────────\n",
              "       2                              2                          2        \n",
              "⋅k₃⋅x₁₃ ⋅x₂₂ - 2⋅k₂⋅x₁₁⋅x₂₂ + 2⋅k₂⋅x₁₂  - 2⋅k₃⋅x₁₁⋅x₃₃ + 2⋅k₃⋅x₁₃  + 4⋅x₁₁"
            ]
          },
          "metadata": {},
          "execution_count": 113
        }
      ]
    },
    {
      "cell_type": "code",
      "source": [
        "d_k1_star_k2 = sym.simplify(sym.diff(k1_star, k2))\n",
        "d_k1_star_k2"
      ],
      "metadata": {
        "colab": {
          "base_uri": "https://localhost:8080/",
          "height": 83
        },
        "id": "dVNOgfiuv-Sj",
        "outputId": "412882e5-ce71-4463-e636-531694dc2a22"
      },
      "execution_count": null,
      "outputs": [
        {
          "output_type": "display_data",
          "data": {
            "text/html": [
              "<script src='https://cdnjs.cloudflare.com/ajax/libs/mathjax/2.7.3/latest.js?config=default'></script>"
            ],
            "text/plain": [
              "<IPython.core.display.HTML object>"
            ]
          },
          "metadata": {}
        },
        {
          "output_type": "execute_result",
          "data": {
            "text/latex": "$\\displaystyle \\frac{\\left(k_{3} x_{22} x_{33} - k_{3} x_{23}^{2} - 2 x_{22}\\right) \\left(k_{2} k_{3} x_{11} x_{22} x_{33} - k_{2} k_{3} x_{11} x_{23}^{2} - k_{2} k_{3} x_{12}^{2} x_{33} + 2 k_{2} k_{3} x_{12} x_{13} x_{23} - k_{2} k_{3} x_{13}^{2} x_{22} - 2 k_{2} x_{11} x_{22} + 2 k_{2} x_{12}^{2} - 2 k_{3} x_{11} x_{33} + 2 k_{3} x_{13}^{2} + 4 x_{11}\\right) - \\left(- k_{2} k_{3} x_{22} x_{33} + k_{2} k_{3} x_{23}^{2} + 2 k_{2} x_{22} + 2 k_{3} x_{33} - 4\\right) \\left(- k_{3} x_{11} x_{22} x_{33} + k_{3} x_{11} x_{23}^{2} + k_{3} x_{12}^{2} x_{33} - 2 k_{3} x_{12} x_{13} x_{23} + k_{3} x_{13}^{2} x_{22} + 2 x_{11} x_{22} - 2 x_{12}^{2}\\right)}{\\left(k_{2} k_{3} x_{11} x_{22} x_{33} - k_{2} k_{3} x_{11} x_{23}^{2} - k_{2} k_{3} x_{12}^{2} x_{33} + 2 k_{2} k_{3} x_{12} x_{13} x_{23} - k_{2} k_{3} x_{13}^{2} x_{22} - 2 k_{2} x_{11} x_{22} + 2 k_{2} x_{12}^{2} - 2 k_{3} x_{11} x_{33} + 2 k_{3} x_{13}^{2} + 4 x_{11}\\right)^{2}}$",
            "text/plain": [
              "⎛                   2        ⎞ ⎛                                 2            \n",
              "⎝k₃⋅x₂₂⋅x₃₃ - k₃⋅x₂₃  - 2⋅x₂₂⎠⋅⎝k₂⋅k₃⋅x₁₁⋅x₂₂⋅x₃₃ - k₂⋅k₃⋅x₁₁⋅x₂₃  - k₂⋅k₃⋅x₁₂\n",
              "──────────────────────────────────────────────────────────────────────────────\n",
              "                                                                              \n",
              "                                                                              \n",
              "                                                                              \n",
              "\n",
              "2                                      2                              2       \n",
              " ⋅x₃₃ + 2⋅k₂⋅k₃⋅x₁₂⋅x₁₃⋅x₂₃ - k₂⋅k₃⋅x₁₃ ⋅x₂₂ - 2⋅k₂⋅x₁₁⋅x₂₂ + 2⋅k₂⋅x₁₂  - 2⋅k₃\n",
              "──────────────────────────────────────────────────────────────────────────────\n",
              "                                                                              \n",
              "                ⎛                                 2            2              \n",
              "                ⎝k₂⋅k₃⋅x₁₁⋅x₂₂⋅x₃₃ - k₂⋅k₃⋅x₁₁⋅x₂₃  - k₂⋅k₃⋅x₁₂ ⋅x₃₃ + 2⋅k₂⋅k₃\n",
              "\n",
              "                   2        ⎞   ⎛                          2                  \n",
              "⋅x₁₁⋅x₃₃ + 2⋅k₃⋅x₁₃  + 4⋅x₁₁⎠ - ⎝-k₂⋅k₃⋅x₂₂⋅x₃₃ + k₂⋅k₃⋅x₂₃  + 2⋅k₂⋅x₂₂ + 2⋅k₃\n",
              "──────────────────────────────────────────────────────────────────────────────\n",
              "                                                                              \n",
              "                        2                              2                      \n",
              "⋅x₁₂⋅x₁₃⋅x₂₃ - k₂⋅k₃⋅x₁₃ ⋅x₂₂ - 2⋅k₂⋅x₁₁⋅x₂₂ + 2⋅k₂⋅x₁₂  - 2⋅k₃⋅x₁₁⋅x₃₃ + 2⋅k₃\n",
              "\n",
              "        ⎞ ⎛                            2         2                            \n",
              "⋅x₃₃ - 4⎠⋅⎝-k₃⋅x₁₁⋅x₂₂⋅x₃₃ + k₃⋅x₁₁⋅x₂₃  + k₃⋅x₁₂ ⋅x₃₃ - 2⋅k₃⋅x₁₂⋅x₁₃⋅x₂₃ + k₃\n",
              "──────────────────────────────────────────────────────────────────────────────\n",
              "              2                                                               \n",
              "    2        ⎞                                                                \n",
              "⋅x₁₃  + 4⋅x₁₁⎠                                                                \n",
              "\n",
              "    2                        2⎞\n",
              "⋅x₁₃ ⋅x₂₂ + 2⋅x₁₁⋅x₂₂ - 2⋅x₁₂ ⎠\n",
              "───────────────────────────────\n",
              "                               \n",
              "                               \n",
              "                               "
            ]
          },
          "metadata": {},
          "execution_count": 47
        }
      ]
    },
    {
      "cell_type": "code",
      "source": [
        "d_k1_star_k3 = sym.simplify(sym.diff(k1_star, k3))\n",
        "d_k1_star_k3"
      ],
      "metadata": {
        "colab": {
          "base_uri": "https://localhost:8080/",
          "height": 83
        },
        "id": "rHoBTQu_0ABL",
        "outputId": "82db00fa-99b8-4157-d838-6d4c84e04f0e"
      },
      "execution_count": null,
      "outputs": [
        {
          "output_type": "display_data",
          "data": {
            "text/html": [
              "<script src='https://cdnjs.cloudflare.com/ajax/libs/mathjax/2.7.3/latest.js?config=default'></script>"
            ],
            "text/plain": [
              "<IPython.core.display.HTML object>"
            ]
          },
          "metadata": {}
        },
        {
          "output_type": "execute_result",
          "data": {
            "text/latex": "$\\displaystyle \\frac{\\left(k_{2} x_{22} x_{33} - k_{2} x_{23}^{2} - 2 x_{33}\\right) \\left(k_{2} k_{3} x_{11} x_{22} x_{33} - k_{2} k_{3} x_{11} x_{23}^{2} - k_{2} k_{3} x_{12}^{2} x_{33} + 2 k_{2} k_{3} x_{12} x_{13} x_{23} - k_{2} k_{3} x_{13}^{2} x_{22} - 2 k_{2} x_{11} x_{22} + 2 k_{2} x_{12}^{2} - 2 k_{3} x_{11} x_{33} + 2 k_{3} x_{13}^{2} + 4 x_{11}\\right) - \\left(- k_{2} k_{3} x_{22} x_{33} + k_{2} k_{3} x_{23}^{2} + 2 k_{2} x_{22} + 2 k_{3} x_{33} - 4\\right) \\left(- k_{2} x_{11} x_{22} x_{33} + k_{2} x_{11} x_{23}^{2} + k_{2} x_{12}^{2} x_{33} - 2 k_{2} x_{12} x_{13} x_{23} + k_{2} x_{13}^{2} x_{22} + 2 x_{11} x_{33} - 2 x_{13}^{2}\\right)}{\\left(k_{2} k_{3} x_{11} x_{22} x_{33} - k_{2} k_{3} x_{11} x_{23}^{2} - k_{2} k_{3} x_{12}^{2} x_{33} + 2 k_{2} k_{3} x_{12} x_{13} x_{23} - k_{2} k_{3} x_{13}^{2} x_{22} - 2 k_{2} x_{11} x_{22} + 2 k_{2} x_{12}^{2} - 2 k_{3} x_{11} x_{33} + 2 k_{3} x_{13}^{2} + 4 x_{11}\\right)^{2}}$",
            "text/plain": [
              "⎛                   2        ⎞ ⎛                                 2            \n",
              "⎝k₂⋅x₂₂⋅x₃₃ - k₂⋅x₂₃  - 2⋅x₃₃⎠⋅⎝k₂⋅k₃⋅x₁₁⋅x₂₂⋅x₃₃ - k₂⋅k₃⋅x₁₁⋅x₂₃  - k₂⋅k₃⋅x₁₂\n",
              "──────────────────────────────────────────────────────────────────────────────\n",
              "                                                                              \n",
              "                                                                              \n",
              "                                                                              \n",
              "\n",
              "2                                      2                              2       \n",
              " ⋅x₃₃ + 2⋅k₂⋅k₃⋅x₁₂⋅x₁₃⋅x₂₃ - k₂⋅k₃⋅x₁₃ ⋅x₂₂ - 2⋅k₂⋅x₁₁⋅x₂₂ + 2⋅k₂⋅x₁₂  - 2⋅k₃\n",
              "──────────────────────────────────────────────────────────────────────────────\n",
              "                                                                              \n",
              "                ⎛                                 2            2              \n",
              "                ⎝k₂⋅k₃⋅x₁₁⋅x₂₂⋅x₃₃ - k₂⋅k₃⋅x₁₁⋅x₂₃  - k₂⋅k₃⋅x₁₂ ⋅x₃₃ + 2⋅k₂⋅k₃\n",
              "\n",
              "                   2        ⎞   ⎛                          2                  \n",
              "⋅x₁₁⋅x₃₃ + 2⋅k₃⋅x₁₃  + 4⋅x₁₁⎠ - ⎝-k₂⋅k₃⋅x₂₂⋅x₃₃ + k₂⋅k₃⋅x₂₃  + 2⋅k₂⋅x₂₂ + 2⋅k₃\n",
              "──────────────────────────────────────────────────────────────────────────────\n",
              "                                                                              \n",
              "                        2                              2                      \n",
              "⋅x₁₂⋅x₁₃⋅x₂₃ - k₂⋅k₃⋅x₁₃ ⋅x₂₂ - 2⋅k₂⋅x₁₁⋅x₂₂ + 2⋅k₂⋅x₁₂  - 2⋅k₃⋅x₁₁⋅x₃₃ + 2⋅k₃\n",
              "\n",
              "        ⎞ ⎛                            2         2                            \n",
              "⋅x₃₃ - 4⎠⋅⎝-k₂⋅x₁₁⋅x₂₂⋅x₃₃ + k₂⋅x₁₁⋅x₂₃  + k₂⋅x₁₂ ⋅x₃₃ - 2⋅k₂⋅x₁₂⋅x₁₃⋅x₂₃ + k₂\n",
              "──────────────────────────────────────────────────────────────────────────────\n",
              "              2                                                               \n",
              "    2        ⎞                                                                \n",
              "⋅x₁₃  + 4⋅x₁₁⎠                                                                \n",
              "\n",
              "    2                        2⎞\n",
              "⋅x₁₃ ⋅x₂₂ + 2⋅x₁₁⋅x₃₃ - 2⋅x₁₃ ⎠\n",
              "───────────────────────────────\n",
              "                               \n",
              "                               \n",
              "                               "
            ]
          },
          "metadata": {},
          "execution_count": 48
        }
      ]
    },
    {
      "cell_type": "code",
      "source": [
        "d_k2_star_k1 = sym.simplify(sym.diff(k2_star, k1))\n",
        "d_k2_star_k1"
      ],
      "metadata": {
        "colab": {
          "base_uri": "https://localhost:8080/",
          "height": 83
        },
        "id": "IxYxDXPdx3tg",
        "outputId": "cef3784b-3376-496e-d498-663d6955833b"
      },
      "execution_count": null,
      "outputs": [
        {
          "output_type": "display_data",
          "data": {
            "text/html": [
              "<script src='https://cdnjs.cloudflare.com/ajax/libs/mathjax/2.7.3/latest.js?config=default'></script>"
            ],
            "text/plain": [
              "<IPython.core.display.HTML object>"
            ]
          },
          "metadata": {}
        },
        {
          "output_type": "execute_result",
          "data": {
            "text/latex": "$\\displaystyle \\frac{\\left(k_{3} x_{11} x_{33} - k_{3} x_{13}^{2} - 2 x_{11}\\right) \\left(k_{1} k_{3} x_{11} x_{22} x_{33} - k_{1} k_{3} x_{11} x_{23}^{2} - k_{1} k_{3} x_{12}^{2} x_{33} + 2 k_{1} k_{3} x_{12} x_{13} x_{23} - k_{1} k_{3} x_{13}^{2} x_{22} - 2 k_{1} x_{11} x_{22} + 2 k_{1} x_{12}^{2} - 2 k_{3} x_{22} x_{33} + 2 k_{3} x_{23}^{2} + 4 x_{22}\\right) - \\left(- k_{1} k_{3} x_{11} x_{33} + k_{1} k_{3} x_{13}^{2} + 2 k_{1} x_{11} + 2 k_{3} x_{33} - 4\\right) \\left(- k_{3} x_{11} x_{22} x_{33} + k_{3} x_{11} x_{23}^{2} + k_{3} x_{12}^{2} x_{33} - 2 k_{3} x_{12} x_{13} x_{23} + k_{3} x_{13}^{2} x_{22} + 2 x_{11} x_{22} - 2 x_{12}^{2}\\right)}{\\left(k_{1} k_{3} x_{11} x_{22} x_{33} - k_{1} k_{3} x_{11} x_{23}^{2} - k_{1} k_{3} x_{12}^{2} x_{33} + 2 k_{1} k_{3} x_{12} x_{13} x_{23} - k_{1} k_{3} x_{13}^{2} x_{22} - 2 k_{1} x_{11} x_{22} + 2 k_{1} x_{12}^{2} - 2 k_{3} x_{22} x_{33} + 2 k_{3} x_{23}^{2} + 4 x_{22}\\right)^{2}}$",
            "text/plain": [
              "⎛                   2        ⎞ ⎛                                 2            \n",
              "⎝k₃⋅x₁₁⋅x₃₃ - k₃⋅x₁₃  - 2⋅x₁₁⎠⋅⎝k₁⋅k₃⋅x₁₁⋅x₂₂⋅x₃₃ - k₁⋅k₃⋅x₁₁⋅x₂₃  - k₁⋅k₃⋅x₁₂\n",
              "──────────────────────────────────────────────────────────────────────────────\n",
              "                                                                              \n",
              "                                                                              \n",
              "                                                                              \n",
              "\n",
              "2                                      2                              2       \n",
              " ⋅x₃₃ + 2⋅k₁⋅k₃⋅x₁₂⋅x₁₃⋅x₂₃ - k₁⋅k₃⋅x₁₃ ⋅x₂₂ - 2⋅k₁⋅x₁₁⋅x₂₂ + 2⋅k₁⋅x₁₂  - 2⋅k₃\n",
              "──────────────────────────────────────────────────────────────────────────────\n",
              "                                                                              \n",
              "                ⎛                                 2            2              \n",
              "                ⎝k₁⋅k₃⋅x₁₁⋅x₂₂⋅x₃₃ - k₁⋅k₃⋅x₁₁⋅x₂₃  - k₁⋅k₃⋅x₁₂ ⋅x₃₃ + 2⋅k₁⋅k₃\n",
              "\n",
              "                   2        ⎞   ⎛                          2                  \n",
              "⋅x₂₂⋅x₃₃ + 2⋅k₃⋅x₂₃  + 4⋅x₂₂⎠ - ⎝-k₁⋅k₃⋅x₁₁⋅x₃₃ + k₁⋅k₃⋅x₁₃  + 2⋅k₁⋅x₁₁ + 2⋅k₃\n",
              "──────────────────────────────────────────────────────────────────────────────\n",
              "                                                                              \n",
              "                        2                              2                      \n",
              "⋅x₁₂⋅x₁₃⋅x₂₃ - k₁⋅k₃⋅x₁₃ ⋅x₂₂ - 2⋅k₁⋅x₁₁⋅x₂₂ + 2⋅k₁⋅x₁₂  - 2⋅k₃⋅x₂₂⋅x₃₃ + 2⋅k₃\n",
              "\n",
              "        ⎞ ⎛                            2         2                            \n",
              "⋅x₃₃ - 4⎠⋅⎝-k₃⋅x₁₁⋅x₂₂⋅x₃₃ + k₃⋅x₁₁⋅x₂₃  + k₃⋅x₁₂ ⋅x₃₃ - 2⋅k₃⋅x₁₂⋅x₁₃⋅x₂₃ + k₃\n",
              "──────────────────────────────────────────────────────────────────────────────\n",
              "              2                                                               \n",
              "    2        ⎞                                                                \n",
              "⋅x₂₃  + 4⋅x₂₂⎠                                                                \n",
              "\n",
              "    2                        2⎞\n",
              "⋅x₁₃ ⋅x₂₂ + 2⋅x₁₁⋅x₂₂ - 2⋅x₁₂ ⎠\n",
              "───────────────────────────────\n",
              "                               \n",
              "                               \n",
              "                               "
            ]
          },
          "metadata": {},
          "execution_count": 49
        }
      ]
    },
    {
      "cell_type": "code",
      "source": [
        "d_k2_star_k3 = sym.simplify(sym.diff(k2_star, k3))\n",
        "d_k2_star_k3"
      ],
      "metadata": {
        "colab": {
          "base_uri": "https://localhost:8080/",
          "height": 83
        },
        "id": "ckUu3LRb0D-e",
        "outputId": "64c0713d-82ca-4511-fde7-d786c753794f"
      },
      "execution_count": null,
      "outputs": [
        {
          "output_type": "display_data",
          "data": {
            "text/html": [
              "<script src='https://cdnjs.cloudflare.com/ajax/libs/mathjax/2.7.3/latest.js?config=default'></script>"
            ],
            "text/plain": [
              "<IPython.core.display.HTML object>"
            ]
          },
          "metadata": {}
        },
        {
          "output_type": "execute_result",
          "data": {
            "text/latex": "$\\displaystyle \\frac{\\left(k_{1} x_{11} x_{33} - k_{1} x_{13}^{2} - 2 x_{33}\\right) \\left(k_{1} k_{3} x_{11} x_{22} x_{33} - k_{1} k_{3} x_{11} x_{23}^{2} - k_{1} k_{3} x_{12}^{2} x_{33} + 2 k_{1} k_{3} x_{12} x_{13} x_{23} - k_{1} k_{3} x_{13}^{2} x_{22} - 2 k_{1} x_{11} x_{22} + 2 k_{1} x_{12}^{2} - 2 k_{3} x_{22} x_{33} + 2 k_{3} x_{23}^{2} + 4 x_{22}\\right) - \\left(- k_{1} k_{3} x_{11} x_{33} + k_{1} k_{3} x_{13}^{2} + 2 k_{1} x_{11} + 2 k_{3} x_{33} - 4\\right) \\left(- k_{1} x_{11} x_{22} x_{33} + k_{1} x_{11} x_{23}^{2} + k_{1} x_{12}^{2} x_{33} - 2 k_{1} x_{12} x_{13} x_{23} + k_{1} x_{13}^{2} x_{22} + 2 x_{22} x_{33} - 2 x_{23}^{2}\\right)}{\\left(k_{1} k_{3} x_{11} x_{22} x_{33} - k_{1} k_{3} x_{11} x_{23}^{2} - k_{1} k_{3} x_{12}^{2} x_{33} + 2 k_{1} k_{3} x_{12} x_{13} x_{23} - k_{1} k_{3} x_{13}^{2} x_{22} - 2 k_{1} x_{11} x_{22} + 2 k_{1} x_{12}^{2} - 2 k_{3} x_{22} x_{33} + 2 k_{3} x_{23}^{2} + 4 x_{22}\\right)^{2}}$",
            "text/plain": [
              "⎛                   2        ⎞ ⎛                                 2            \n",
              "⎝k₁⋅x₁₁⋅x₃₃ - k₁⋅x₁₃  - 2⋅x₃₃⎠⋅⎝k₁⋅k₃⋅x₁₁⋅x₂₂⋅x₃₃ - k₁⋅k₃⋅x₁₁⋅x₂₃  - k₁⋅k₃⋅x₁₂\n",
              "──────────────────────────────────────────────────────────────────────────────\n",
              "                                                                              \n",
              "                                                                              \n",
              "                                                                              \n",
              "\n",
              "2                                      2                              2       \n",
              " ⋅x₃₃ + 2⋅k₁⋅k₃⋅x₁₂⋅x₁₃⋅x₂₃ - k₁⋅k₃⋅x₁₃ ⋅x₂₂ - 2⋅k₁⋅x₁₁⋅x₂₂ + 2⋅k₁⋅x₁₂  - 2⋅k₃\n",
              "──────────────────────────────────────────────────────────────────────────────\n",
              "                                                                              \n",
              "                ⎛                                 2            2              \n",
              "                ⎝k₁⋅k₃⋅x₁₁⋅x₂₂⋅x₃₃ - k₁⋅k₃⋅x₁₁⋅x₂₃  - k₁⋅k₃⋅x₁₂ ⋅x₃₃ + 2⋅k₁⋅k₃\n",
              "\n",
              "                   2        ⎞   ⎛                          2                  \n",
              "⋅x₂₂⋅x₃₃ + 2⋅k₃⋅x₂₃  + 4⋅x₂₂⎠ - ⎝-k₁⋅k₃⋅x₁₁⋅x₃₃ + k₁⋅k₃⋅x₁₃  + 2⋅k₁⋅x₁₁ + 2⋅k₃\n",
              "──────────────────────────────────────────────────────────────────────────────\n",
              "                                                                              \n",
              "                        2                              2                      \n",
              "⋅x₁₂⋅x₁₃⋅x₂₃ - k₁⋅k₃⋅x₁₃ ⋅x₂₂ - 2⋅k₁⋅x₁₁⋅x₂₂ + 2⋅k₁⋅x₁₂  - 2⋅k₃⋅x₂₂⋅x₃₃ + 2⋅k₃\n",
              "\n",
              "        ⎞ ⎛                            2         2                            \n",
              "⋅x₃₃ - 4⎠⋅⎝-k₁⋅x₁₁⋅x₂₂⋅x₃₃ + k₁⋅x₁₁⋅x₂₃  + k₁⋅x₁₂ ⋅x₃₃ - 2⋅k₁⋅x₁₂⋅x₁₃⋅x₂₃ + k₁\n",
              "──────────────────────────────────────────────────────────────────────────────\n",
              "              2                                                               \n",
              "    2        ⎞                                                                \n",
              "⋅x₂₃  + 4⋅x₂₂⎠                                                                \n",
              "\n",
              "    2                        2⎞\n",
              "⋅x₁₃ ⋅x₂₂ + 2⋅x₂₂⋅x₃₃ - 2⋅x₂₃ ⎠\n",
              "───────────────────────────────\n",
              "                               \n",
              "                               \n",
              "                               "
            ]
          },
          "metadata": {},
          "execution_count": 50
        }
      ]
    },
    {
      "cell_type": "code",
      "source": [
        "d_k3_star_k1 = sym.simplify(sym.diff(k3_star, k1))\n",
        "d_k3_star_k1"
      ],
      "metadata": {
        "colab": {
          "base_uri": "https://localhost:8080/",
          "height": 83
        },
        "id": "rclD6mly0ICr",
        "outputId": "549522b7-5df6-45a3-a5bb-9099f76286a1"
      },
      "execution_count": null,
      "outputs": [
        {
          "output_type": "display_data",
          "data": {
            "text/html": [
              "<script src='https://cdnjs.cloudflare.com/ajax/libs/mathjax/2.7.3/latest.js?config=default'></script>"
            ],
            "text/plain": [
              "<IPython.core.display.HTML object>"
            ]
          },
          "metadata": {}
        },
        {
          "output_type": "execute_result",
          "data": {
            "text/latex": "$\\displaystyle \\frac{\\left(k_{2} x_{11} x_{22} - k_{2} x_{12}^{2} - 2 x_{11}\\right) \\left(k_{1} k_{2} x_{11} x_{22} x_{33} - k_{1} k_{2} x_{11} x_{23}^{2} - k_{1} k_{2} x_{12}^{2} x_{33} + 2 k_{1} k_{2} x_{12} x_{13} x_{23} - k_{1} k_{2} x_{13}^{2} x_{22} - 2 k_{1} x_{11} x_{33} + 2 k_{1} x_{13}^{2} - 2 k_{2} x_{22} x_{33} + 2 k_{2} x_{23}^{2} + 4 x_{33}\\right) - \\left(- k_{1} k_{2} x_{11} x_{22} + k_{1} k_{2} x_{12}^{2} + 2 k_{1} x_{11} + 2 k_{2} x_{22} - 4\\right) \\left(- k_{2} x_{11} x_{22} x_{33} + k_{2} x_{11} x_{23}^{2} + k_{2} x_{12}^{2} x_{33} - 2 k_{2} x_{12} x_{13} x_{23} + k_{2} x_{13}^{2} x_{22} + 2 x_{11} x_{33} - 2 x_{13}^{2}\\right)}{\\left(k_{1} k_{2} x_{11} x_{22} x_{33} - k_{1} k_{2} x_{11} x_{23}^{2} - k_{1} k_{2} x_{12}^{2} x_{33} + 2 k_{1} k_{2} x_{12} x_{13} x_{23} - k_{1} k_{2} x_{13}^{2} x_{22} - 2 k_{1} x_{11} x_{33} + 2 k_{1} x_{13}^{2} - 2 k_{2} x_{22} x_{33} + 2 k_{2} x_{23}^{2} + 4 x_{33}\\right)^{2}}$",
            "text/plain": [
              "⎛                   2        ⎞ ⎛                                 2            \n",
              "⎝k₂⋅x₁₁⋅x₂₂ - k₂⋅x₁₂  - 2⋅x₁₁⎠⋅⎝k₁⋅k₂⋅x₁₁⋅x₂₂⋅x₃₃ - k₁⋅k₂⋅x₁₁⋅x₂₃  - k₁⋅k₂⋅x₁₂\n",
              "──────────────────────────────────────────────────────────────────────────────\n",
              "                                                                              \n",
              "                                                                              \n",
              "                                                                              \n",
              "\n",
              "2                                      2                              2       \n",
              " ⋅x₃₃ + 2⋅k₁⋅k₂⋅x₁₂⋅x₁₃⋅x₂₃ - k₁⋅k₂⋅x₁₃ ⋅x₂₂ - 2⋅k₁⋅x₁₁⋅x₃₃ + 2⋅k₁⋅x₁₃  - 2⋅k₂\n",
              "──────────────────────────────────────────────────────────────────────────────\n",
              "                                                                              \n",
              "                ⎛                                 2            2              \n",
              "                ⎝k₁⋅k₂⋅x₁₁⋅x₂₂⋅x₃₃ - k₁⋅k₂⋅x₁₁⋅x₂₃  - k₁⋅k₂⋅x₁₂ ⋅x₃₃ + 2⋅k₁⋅k₂\n",
              "\n",
              "                   2        ⎞   ⎛                          2                  \n",
              "⋅x₂₂⋅x₃₃ + 2⋅k₂⋅x₂₃  + 4⋅x₃₃⎠ - ⎝-k₁⋅k₂⋅x₁₁⋅x₂₂ + k₁⋅k₂⋅x₁₂  + 2⋅k₁⋅x₁₁ + 2⋅k₂\n",
              "──────────────────────────────────────────────────────────────────────────────\n",
              "                                                                              \n",
              "                        2                              2                      \n",
              "⋅x₁₂⋅x₁₃⋅x₂₃ - k₁⋅k₂⋅x₁₃ ⋅x₂₂ - 2⋅k₁⋅x₁₁⋅x₃₃ + 2⋅k₁⋅x₁₃  - 2⋅k₂⋅x₂₂⋅x₃₃ + 2⋅k₂\n",
              "\n",
              "        ⎞ ⎛                            2         2                            \n",
              "⋅x₂₂ - 4⎠⋅⎝-k₂⋅x₁₁⋅x₂₂⋅x₃₃ + k₂⋅x₁₁⋅x₂₃  + k₂⋅x₁₂ ⋅x₃₃ - 2⋅k₂⋅x₁₂⋅x₁₃⋅x₂₃ + k₂\n",
              "──────────────────────────────────────────────────────────────────────────────\n",
              "              2                                                               \n",
              "    2        ⎞                                                                \n",
              "⋅x₂₃  + 4⋅x₃₃⎠                                                                \n",
              "\n",
              "    2                        2⎞\n",
              "⋅x₁₃ ⋅x₂₂ + 2⋅x₁₁⋅x₃₃ - 2⋅x₁₃ ⎠\n",
              "───────────────────────────────\n",
              "                               \n",
              "                               \n",
              "                               "
            ]
          },
          "metadata": {},
          "execution_count": 51
        }
      ]
    },
    {
      "cell_type": "code",
      "source": [
        "d_k3_star_k2 = sym.simplify(sym.diff(k3_star, k2))\n",
        "d_k3_star_k2"
      ],
      "metadata": {
        "colab": {
          "base_uri": "https://localhost:8080/",
          "height": 83
        },
        "id": "x1NFiOk40P5d",
        "outputId": "48272152-51d1-4028-d403-e6695558382b"
      },
      "execution_count": null,
      "outputs": [
        {
          "output_type": "display_data",
          "data": {
            "text/html": [
              "<script src='https://cdnjs.cloudflare.com/ajax/libs/mathjax/2.7.3/latest.js?config=default'></script>"
            ],
            "text/plain": [
              "<IPython.core.display.HTML object>"
            ]
          },
          "metadata": {}
        },
        {
          "output_type": "execute_result",
          "data": {
            "text/latex": "$\\displaystyle \\frac{\\left(k_{1} x_{11} x_{22} - k_{1} x_{12}^{2} - 2 x_{22}\\right) \\left(k_{1} k_{2} x_{11} x_{22} x_{33} - k_{1} k_{2} x_{11} x_{23}^{2} - k_{1} k_{2} x_{12}^{2} x_{33} + 2 k_{1} k_{2} x_{12} x_{13} x_{23} - k_{1} k_{2} x_{13}^{2} x_{22} - 2 k_{1} x_{11} x_{33} + 2 k_{1} x_{13}^{2} - 2 k_{2} x_{22} x_{33} + 2 k_{2} x_{23}^{2} + 4 x_{33}\\right) - \\left(- k_{1} k_{2} x_{11} x_{22} + k_{1} k_{2} x_{12}^{2} + 2 k_{1} x_{11} + 2 k_{2} x_{22} - 4\\right) \\left(- k_{1} x_{11} x_{22} x_{33} + k_{1} x_{11} x_{23}^{2} + k_{1} x_{12}^{2} x_{33} - 2 k_{1} x_{12} x_{13} x_{23} + k_{1} x_{13}^{2} x_{22} + 2 x_{22} x_{33} - 2 x_{23}^{2}\\right)}{\\left(k_{1} k_{2} x_{11} x_{22} x_{33} - k_{1} k_{2} x_{11} x_{23}^{2} - k_{1} k_{2} x_{12}^{2} x_{33} + 2 k_{1} k_{2} x_{12} x_{13} x_{23} - k_{1} k_{2} x_{13}^{2} x_{22} - 2 k_{1} x_{11} x_{33} + 2 k_{1} x_{13}^{2} - 2 k_{2} x_{22} x_{33} + 2 k_{2} x_{23}^{2} + 4 x_{33}\\right)^{2}}$",
            "text/plain": [
              "⎛                   2        ⎞ ⎛                                 2            \n",
              "⎝k₁⋅x₁₁⋅x₂₂ - k₁⋅x₁₂  - 2⋅x₂₂⎠⋅⎝k₁⋅k₂⋅x₁₁⋅x₂₂⋅x₃₃ - k₁⋅k₂⋅x₁₁⋅x₂₃  - k₁⋅k₂⋅x₁₂\n",
              "──────────────────────────────────────────────────────────────────────────────\n",
              "                                                                              \n",
              "                                                                              \n",
              "                                                                              \n",
              "\n",
              "2                                      2                              2       \n",
              " ⋅x₃₃ + 2⋅k₁⋅k₂⋅x₁₂⋅x₁₃⋅x₂₃ - k₁⋅k₂⋅x₁₃ ⋅x₂₂ - 2⋅k₁⋅x₁₁⋅x₃₃ + 2⋅k₁⋅x₁₃  - 2⋅k₂\n",
              "──────────────────────────────────────────────────────────────────────────────\n",
              "                                                                              \n",
              "                ⎛                                 2            2              \n",
              "                ⎝k₁⋅k₂⋅x₁₁⋅x₂₂⋅x₃₃ - k₁⋅k₂⋅x₁₁⋅x₂₃  - k₁⋅k₂⋅x₁₂ ⋅x₃₃ + 2⋅k₁⋅k₂\n",
              "\n",
              "                   2        ⎞   ⎛                          2                  \n",
              "⋅x₂₂⋅x₃₃ + 2⋅k₂⋅x₂₃  + 4⋅x₃₃⎠ - ⎝-k₁⋅k₂⋅x₁₁⋅x₂₂ + k₁⋅k₂⋅x₁₂  + 2⋅k₁⋅x₁₁ + 2⋅k₂\n",
              "──────────────────────────────────────────────────────────────────────────────\n",
              "                                                                              \n",
              "                        2                              2                      \n",
              "⋅x₁₂⋅x₁₃⋅x₂₃ - k₁⋅k₂⋅x₁₃ ⋅x₂₂ - 2⋅k₁⋅x₁₁⋅x₃₃ + 2⋅k₁⋅x₁₃  - 2⋅k₂⋅x₂₂⋅x₃₃ + 2⋅k₂\n",
              "\n",
              "        ⎞ ⎛                            2         2                            \n",
              "⋅x₂₂ - 4⎠⋅⎝-k₁⋅x₁₁⋅x₂₂⋅x₃₃ + k₁⋅x₁₁⋅x₂₃  + k₁⋅x₁₂ ⋅x₃₃ - 2⋅k₁⋅x₁₂⋅x₁₃⋅x₂₃ + k₁\n",
              "──────────────────────────────────────────────────────────────────────────────\n",
              "              2                                                               \n",
              "    2        ⎞                                                                \n",
              "⋅x₂₃  + 4⋅x₃₃⎠                                                                \n",
              "\n",
              "    2                        2⎞\n",
              "⋅x₁₃ ⋅x₂₂ + 2⋅x₂₂⋅x₃₃ - 2⋅x₂₃ ⎠\n",
              "───────────────────────────────\n",
              "                               \n",
              "                               \n",
              "                               "
            ]
          },
          "metadata": {},
          "execution_count": 52
        }
      ]
    },
    {
      "cell_type": "code",
      "source": [
        ""
      ],
      "metadata": {
        "id": "2ZzNW5Gs0vBR"
      },
      "execution_count": null,
      "outputs": []
    },
    {
      "cell_type": "code",
      "source": [
        "df_dk1"
      ],
      "metadata": {
        "colab": {
          "base_uri": "https://localhost:8080/",
          "height": 299
        },
        "id": "xlo40p530vD9",
        "outputId": "e5db88ee-3bd1-41aa-953d-c2b8d919b985"
      },
      "execution_count": null,
      "outputs": [
        {
          "output_type": "display_data",
          "data": {
            "text/html": [
              "<script src='https://cdnjs.cloudflare.com/ajax/libs/mathjax/2.7.3/latest.js?config=default'></script>"
            ],
            "text/plain": [
              "<IPython.core.display.HTML object>"
            ]
          },
          "metadata": {}
        },
        {
          "output_type": "execute_result",
          "data": {
            "text/latex": "$\\displaystyle \\frac{\\left(\\left(k_{2} x_{22} x_{33} - k_{2} x_{23}^{2} - 2 x_{33}\\right) \\left(\\frac{k_{2} x_{11} x_{22} x_{33} \\left(k_{1} k_{2} x_{11} x_{22} - k_{1} k_{2} x_{12}^{2} - 2 k_{1} x_{11} - 2 k_{2} x_{22} + 4\\right)}{k_{1} k_{2} x_{11} x_{22} x_{33} - k_{1} k_{2} x_{11} x_{23}^{2} - k_{1} k_{2} x_{12}^{2} x_{33} + 2 k_{1} k_{2} x_{12} x_{13} x_{23} - k_{1} k_{2} x_{13}^{2} x_{22} - 2 k_{1} x_{11} x_{33} + 2 k_{1} x_{13}^{2} - 2 k_{2} x_{22} x_{33} + 2 k_{2} x_{23}^{2} + 4 x_{33}} - 2 k_{2} x_{11} x_{22} - \\frac{k_{2} x_{11} x_{23}^{2} \\left(k_{1} k_{2} x_{11} x_{22} - k_{1} k_{2} x_{12}^{2} - 2 k_{1} x_{11} - 2 k_{2} x_{22} + 4\\right)}{k_{1} k_{2} x_{11} x_{22} x_{33} - k_{1} k_{2} x_{11} x_{23}^{2} - k_{1} k_{2} x_{12}^{2} x_{33} + 2 k_{1} k_{2} x_{12} x_{13} x_{23} - k_{1} k_{2} x_{13}^{2} x_{22} - 2 k_{1} x_{11} x_{33} + 2 k_{1} x_{13}^{2} - 2 k_{2} x_{22} x_{33} + 2 k_{2} x_{23}^{2} + 4 x_{33}} - \\frac{k_{2} x_{12}^{2} x_{33} \\left(k_{1} k_{2} x_{11} x_{22} - k_{1} k_{2} x_{12}^{2} - 2 k_{1} x_{11} - 2 k_{2} x_{22} + 4\\right)}{k_{1} k_{2} x_{11} x_{22} x_{33} - k_{1} k_{2} x_{11} x_{23}^{2} - k_{1} k_{2} x_{12}^{2} x_{33} + 2 k_{1} k_{2} x_{12} x_{13} x_{23} - k_{1} k_{2} x_{13}^{2} x_{22} - 2 k_{1} x_{11} x_{33} + 2 k_{1} x_{13}^{2} - 2 k_{2} x_{22} x_{33} + 2 k_{2} x_{23}^{2} + 4 x_{33}} + 2 k_{2} x_{12}^{2} + \\frac{2 k_{2} x_{12} x_{13} x_{23} \\left(k_{1} k_{2} x_{11} x_{22} - k_{1} k_{2} x_{12}^{2} - 2 k_{1} x_{11} - 2 k_{2} x_{22} + 4\\right)}{k_{1} k_{2} x_{11} x_{22} x_{33} - k_{1} k_{2} x_{11} x_{23}^{2} - k_{1} k_{2} x_{12}^{2} x_{33} + 2 k_{1} k_{2} x_{12} x_{13} x_{23} - k_{1} k_{2} x_{13}^{2} x_{22} - 2 k_{1} x_{11} x_{33} + 2 k_{1} x_{13}^{2} - 2 k_{2} x_{22} x_{33} + 2 k_{2} x_{23}^{2} + 4 x_{33}} - \\frac{k_{2} x_{13}^{2} x_{22} \\left(k_{1} k_{2} x_{11} x_{22} - k_{1} k_{2} x_{12}^{2} - 2 k_{1} x_{11} - 2 k_{2} x_{22} + 4\\right)}{k_{1} k_{2} x_{11} x_{22} x_{33} - k_{1} k_{2} x_{11} x_{23}^{2} - k_{1} k_{2} x_{12}^{2} x_{33} + 2 k_{1} k_{2} x_{12} x_{13} x_{23} - k_{1} k_{2} x_{13}^{2} x_{22} - 2 k_{1} x_{11} x_{33} + 2 k_{1} x_{13}^{2} - 2 k_{2} x_{22} x_{33} + 2 k_{2} x_{23}^{2} + 4 x_{33}} - \\frac{2 x_{11} x_{33} \\left(k_{1} k_{2} x_{11} x_{22} - k_{1} k_{2} x_{12}^{2} - 2 k_{1} x_{11} - 2 k_{2} x_{22} + 4\\right)}{k_{1} k_{2} x_{11} x_{22} x_{33} - k_{1} k_{2} x_{11} x_{23}^{2} - k_{1} k_{2} x_{12}^{2} x_{33} + 2 k_{1} k_{2} x_{12} x_{13} x_{23} - k_{1} k_{2} x_{13}^{2} x_{22} - 2 k_{1} x_{11} x_{33} + 2 k_{1} x_{13}^{2} - 2 k_{2} x_{22} x_{33} + 2 k_{2} x_{23}^{2} + 4 x_{33}} + 4 x_{11} + \\frac{2 x_{13}^{2} \\left(k_{1} k_{2} x_{11} x_{22} - k_{1} k_{2} x_{12}^{2} - 2 k_{1} x_{11} - 2 k_{2} x_{22} + 4\\right)}{k_{1} k_{2} x_{11} x_{22} x_{33} - k_{1} k_{2} x_{11} x_{23}^{2} - k_{1} k_{2} x_{12}^{2} x_{33} + 2 k_{1} k_{2} x_{12} x_{13} x_{23} - k_{1} k_{2} x_{13}^{2} x_{22} - 2 k_{1} x_{11} x_{33} + 2 k_{1} x_{13}^{2} - 2 k_{2} x_{22} x_{33} + 2 k_{2} x_{23}^{2} + 4 x_{33}}\\right) - \\left(- \\frac{k_{2} x_{22} x_{33} \\left(k_{1} k_{2} x_{11} x_{22} - k_{1} k_{2} x_{12}^{2} - 2 k_{1} x_{11} - 2 k_{2} x_{22} + 4\\right)}{k_{1} k_{2} x_{11} x_{22} x_{33} - k_{1} k_{2} x_{11} x_{23}^{2} - k_{1} k_{2} x_{12}^{2} x_{33} + 2 k_{1} k_{2} x_{12} x_{13} x_{23} - k_{1} k_{2} x_{13}^{2} x_{22} - 2 k_{1} x_{11} x_{33} + 2 k_{1} x_{13}^{2} - 2 k_{2} x_{22} x_{33} + 2 k_{2} x_{23}^{2} + 4 x_{33}} + 2 k_{2} x_{22} + \\frac{k_{2} x_{23}^{2} \\left(k_{1} k_{2} x_{11} x_{22} - k_{1} k_{2} x_{12}^{2} - 2 k_{1} x_{11} - 2 k_{2} x_{22} + 4\\right)}{k_{1} k_{2} x_{11} x_{22} x_{33} - k_{1} k_{2} x_{11} x_{23}^{2} - k_{1} k_{2} x_{12}^{2} x_{33} + 2 k_{1} k_{2} x_{12} x_{13} x_{23} - k_{1} k_{2} x_{13}^{2} x_{22} - 2 k_{1} x_{11} x_{33} + 2 k_{1} x_{13}^{2} - 2 k_{2} x_{22} x_{33} + 2 k_{2} x_{23}^{2} + 4 x_{33}} + \\frac{2 x_{33} \\left(k_{1} k_{2} x_{11} x_{22} - k_{1} k_{2} x_{12}^{2} - 2 k_{1} x_{11} - 2 k_{2} x_{22} + 4\\right)}{k_{1} k_{2} x_{11} x_{22} x_{33} - k_{1} k_{2} x_{11} x_{23}^{2} - k_{1} k_{2} x_{12}^{2} x_{33} + 2 k_{1} k_{2} x_{12} x_{13} x_{23} - k_{1} k_{2} x_{13}^{2} x_{22} - 2 k_{1} x_{11} x_{33} + 2 k_{1} x_{13}^{2} - 2 k_{2} x_{22} x_{33} + 2 k_{2} x_{23}^{2} + 4 x_{33}} - 4\\right) \\left(- k_{2} x_{11} x_{22} x_{33} + k_{2} x_{11} x_{23}^{2} + k_{2} x_{12}^{2} x_{33} - 2 k_{2} x_{12} x_{13} x_{23} + k_{2} x_{13}^{2} x_{22} + 2 x_{11} x_{33} - 2 x_{13}^{2}\\right)\\right) \\left(\\frac{\\left(\\left(k_{1} x_{11} x_{22} - k_{1} x_{12}^{2} - 2 x_{22}\\right) \\left(\\frac{k_{1} x_{11} x_{22} x_{33} \\left(k_{1} k_{3} x_{11} x_{33} - k_{1} k_{3} x_{13}^{2} - 2 k_{1} x_{11} - 2 k_{3} x_{33} + 4\\right)}{k_{1} k_{3} x_{11} x_{22} x_{33} - k_{1} k_{3} x_{11} x_{23}^{2} - k_{1} k_{3} x_{12}^{2} x_{33} + 2 k_{1} k_{3} x_{12} x_{13} x_{23} - k_{1} k_{3} x_{13}^{2} x_{22} - 2 k_{1} x_{11} x_{22} + 2 k_{1} x_{12}^{2} - 2 k_{3} x_{22} x_{33} + 2 k_{3} x_{23}^{2} + 4 x_{22}} - \\frac{k_{1} x_{11} x_{23}^{2} \\left(k_{1} k_{3} x_{11} x_{33} - k_{1} k_{3} x_{13}^{2} - 2 k_{1} x_{11} - 2 k_{3} x_{33} + 4\\right)}{k_{1} k_{3} x_{11} x_{22} x_{33} - k_{1} k_{3} x_{11} x_{23}^{2} - k_{1} k_{3} x_{12}^{2} x_{33} + 2 k_{1} k_{3} x_{12} x_{13} x_{23} - k_{1} k_{3} x_{13}^{2} x_{22} - 2 k_{1} x_{11} x_{22} + 2 k_{1} x_{12}^{2} - 2 k_{3} x_{22} x_{33} + 2 k_{3} x_{23}^{2} + 4 x_{22}} - 2 k_{1} x_{11} x_{33} - \\frac{k_{1} x_{12}^{2} x_{33} \\left(k_{1} k_{3} x_{11} x_{33} - k_{1} k_{3} x_{13}^{2} - 2 k_{1} x_{11} - 2 k_{3} x_{33} + 4\\right)}{k_{1} k_{3} x_{11} x_{22} x_{33} - k_{1} k_{3} x_{11} x_{23}^{2} - k_{1} k_{3} x_{12}^{2} x_{33} + 2 k_{1} k_{3} x_{12} x_{13} x_{23} - k_{1} k_{3} x_{13}^{2} x_{22} - 2 k_{1} x_{11} x_{22} + 2 k_{1} x_{12}^{2} - 2 k_{3} x_{22} x_{33} + 2 k_{3} x_{23}^{2} + 4 x_{22}} + \\frac{2 k_{1} x_{12} x_{13} x_{23} \\left(k_{1} k_{3} x_{11} x_{33} - k_{1} k_{3} x_{13}^{2} - 2 k_{1} x_{11} - 2 k_{3} x_{33} + 4\\right)}{k_{1} k_{3} x_{11} x_{22} x_{33} - k_{1} k_{3} x_{11} x_{23}^{2} - k_{1} k_{3} x_{12}^{2} x_{33} + 2 k_{1} k_{3} x_{12} x_{13} x_{23} - k_{1} k_{3} x_{13}^{2} x_{22} - 2 k_{1} x_{11} x_{22} + 2 k_{1} x_{12}^{2} - 2 k_{3} x_{22} x_{33} + 2 k_{3} x_{23}^{2} + 4 x_{22}} - \\frac{k_{1} x_{13}^{2} x_{22} \\left(k_{1} k_{3} x_{11} x_{33} - k_{1} k_{3} x_{13}^{2} - 2 k_{1} x_{11} - 2 k_{3} x_{33} + 4\\right)}{k_{1} k_{3} x_{11} x_{22} x_{33} - k_{1} k_{3} x_{11} x_{23}^{2} - k_{1} k_{3} x_{12}^{2} x_{33} + 2 k_{1} k_{3} x_{12} x_{13} x_{23} - k_{1} k_{3} x_{13}^{2} x_{22} - 2 k_{1} x_{11} x_{22} + 2 k_{1} x_{12}^{2} - 2 k_{3} x_{22} x_{33} + 2 k_{3} x_{23}^{2} + 4 x_{22}} + 2 k_{1} x_{13}^{2} - \\frac{2 x_{22} x_{33} \\left(k_{1} k_{3} x_{11} x_{33} - k_{1} k_{3} x_{13}^{2} - 2 k_{1} x_{11} - 2 k_{3} x_{33} + 4\\right)}{k_{1} k_{3} x_{11} x_{22} x_{33} - k_{1} k_{3} x_{11} x_{23}^{2} - k_{1} k_{3} x_{12}^{2} x_{33} + 2 k_{1} k_{3} x_{12} x_{13} x_{23} - k_{1} k_{3} x_{13}^{2} x_{22} - 2 k_{1} x_{11} x_{22} + 2 k_{1} x_{12}^{2} - 2 k_{3} x_{22} x_{33} + 2 k_{3} x_{23}^{2} + 4 x_{22}} + \\frac{2 x_{23}^{2} \\left(k_{1} k_{3} x_{11} x_{33} - k_{1} k_{3} x_{13}^{2} - 2 k_{1} x_{11} - 2 k_{3} x_{33} + 4\\right)}{k_{1} k_{3} x_{11} x_{22} x_{33} - k_{1} k_{3} x_{11} x_{23}^{2} - k_{1} k_{3} x_{12}^{2} x_{33} + 2 k_{1} k_{3} x_{12} x_{13} x_{23} - k_{1} k_{3} x_{13}^{2} x_{22} - 2 k_{1} x_{11} x_{22} + 2 k_{1} x_{12}^{2} - 2 k_{3} x_{22} x_{33} + 2 k_{3} x_{23}^{2} + 4 x_{22}} + 4 x_{33}\\right) - \\left(- \\frac{k_{1} x_{11} x_{22} \\left(k_{1} k_{3} x_{11} x_{33} - k_{1} k_{3} x_{13}^{2} - 2 k_{1} x_{11} - 2 k_{3} x_{33} + 4\\right)}{k_{1} k_{3} x_{11} x_{22} x_{33} - k_{1} k_{3} x_{11} x_{23}^{2} - k_{1} k_{3} x_{12}^{2} x_{33} + 2 k_{1} k_{3} x_{12} x_{13} x_{23} - k_{1} k_{3} x_{13}^{2} x_{22} - 2 k_{1} x_{11} x_{22} + 2 k_{1} x_{12}^{2} - 2 k_{3} x_{22} x_{33} + 2 k_{3} x_{23}^{2} + 4 x_{22}} + 2 k_{1} x_{11} + \\frac{k_{1} x_{12}^{2} \\left(k_{1} k_{3} x_{11} x_{33} - k_{1} k_{3} x_{13}^{2} - 2 k_{1} x_{11} - 2 k_{3} x_{33} + 4\\right)}{k_{1} k_{3} x_{11} x_{22} x_{33} - k_{1} k_{3} x_{11} x_{23}^{2} - k_{1} k_{3} x_{12}^{2} x_{33} + 2 k_{1} k_{3} x_{12} x_{13} x_{23} - k_{1} k_{3} x_{13}^{2} x_{22} - 2 k_{1} x_{11} x_{22} + 2 k_{1} x_{12}^{2} - 2 k_{3} x_{22} x_{33} + 2 k_{3} x_{23}^{2} + 4 x_{22}} + \\frac{2 x_{22} \\left(k_{1} k_{3} x_{11} x_{33} - k_{1} k_{3} x_{13}^{2} - 2 k_{1} x_{11} - 2 k_{3} x_{33} + 4\\right)}{k_{1} k_{3} x_{11} x_{22} x_{33} - k_{1} k_{3} x_{11} x_{23}^{2} - k_{1} k_{3} x_{12}^{2} x_{33} + 2 k_{1} k_{3} x_{12} x_{13} x_{23} - k_{1} k_{3} x_{13}^{2} x_{22} - 2 k_{1} x_{11} x_{22} + 2 k_{1} x_{12}^{2} - 2 k_{3} x_{22} x_{33} + 2 k_{3} x_{23}^{2} + 4 x_{22}} - 4\\right) \\left(- k_{1} x_{11} x_{22} x_{33} + k_{1} x_{11} x_{23}^{2} + k_{1} x_{12}^{2} x_{33} - 2 k_{1} x_{12} x_{13} x_{23} + k_{1} x_{13}^{2} x_{22} + 2 x_{22} x_{33} - 2 x_{23}^{2}\\right)\\right) \\left(\\left(k_{3} x_{11} x_{33} - k_{3} x_{13}^{2} - 2 x_{11}\\right) \\left(k_{1} k_{3} x_{11} x_{22} x_{33} - k_{1} k_{3} x_{11} x_{23}^{2} - k_{1} k_{3} x_{12}^{2} x_{33} + 2 k_{1} k_{3} x_{12} x_{13} x_{23} - k_{1} k_{3} x_{13}^{2} x_{22} - 2 k_{1} x_{11} x_{22} + 2 k_{1} x_{12}^{2} - 2 k_{3} x_{22} x_{33} + 2 k_{3} x_{23}^{2} + 4 x_{22}\\right) - \\left(- k_{1} k_{3} x_{11} x_{33} + k_{1} k_{3} x_{13}^{2} + 2 k_{1} x_{11} + 2 k_{3} x_{33} - 4\\right) \\left(- k_{3} x_{11} x_{22} x_{33} + k_{3} x_{11} x_{23}^{2} + k_{3} x_{12}^{2} x_{33} - 2 k_{3} x_{12} x_{13} x_{23} + k_{3} x_{13}^{2} x_{22} + 2 x_{11} x_{22} - 2 x_{12}^{2}\\right)\\right)}{\\left(k_{1} k_{3} x_{11} x_{22} x_{33} - k_{1} k_{3} x_{11} x_{23}^{2} - k_{1} k_{3} x_{12}^{2} x_{33} + 2 k_{1} k_{3} x_{12} x_{13} x_{23} - k_{1} k_{3} x_{13}^{2} x_{22} - 2 k_{1} x_{11} x_{22} + 2 k_{1} x_{12}^{2} - 2 k_{3} x_{22} x_{33} + 2 k_{3} x_{23}^{2} + 4 x_{22}\\right)^{2} \\left(\\frac{k_{1} x_{11} x_{22} x_{33} \\left(k_{1} k_{3} x_{11} x_{33} - k_{1} k_{3} x_{13}^{2} - 2 k_{1} x_{11} - 2 k_{3} x_{33} + 4\\right)}{k_{1} k_{3} x_{11} x_{22} x_{33} - k_{1} k_{3} x_{11} x_{23}^{2} - k_{1} k_{3} x_{12}^{2} x_{33} + 2 k_{1} k_{3} x_{12} x_{13} x_{23} - k_{1} k_{3} x_{13}^{2} x_{22} - 2 k_{1} x_{11} x_{22} + 2 k_{1} x_{12}^{2} - 2 k_{3} x_{22} x_{33} + 2 k_{3} x_{23}^{2} + 4 x_{22}} - \\frac{k_{1} x_{11} x_{23}^{2} \\left(k_{1} k_{3} x_{11} x_{33} - k_{1} k_{3} x_{13}^{2} - 2 k_{1} x_{11} - 2 k_{3} x_{33} + 4\\right)}{k_{1} k_{3} x_{11} x_{22} x_{33} - k_{1} k_{3} x_{11} x_{23}^{2} - k_{1} k_{3} x_{12}^{2} x_{33} + 2 k_{1} k_{3} x_{12} x_{13} x_{23} - k_{1} k_{3} x_{13}^{2} x_{22} - 2 k_{1} x_{11} x_{22} + 2 k_{1} x_{12}^{2} - 2 k_{3} x_{22} x_{33} + 2 k_{3} x_{23}^{2} + 4 x_{22}} - 2 k_{1} x_{11} x_{33} - \\frac{k_{1} x_{12}^{2} x_{33} \\left(k_{1} k_{3} x_{11} x_{33} - k_{1} k_{3} x_{13}^{2} - 2 k_{1} x_{11} - 2 k_{3} x_{33} + 4\\right)}{k_{1} k_{3} x_{11} x_{22} x_{33} - k_{1} k_{3} x_{11} x_{23}^{2} - k_{1} k_{3} x_{12}^{2} x_{33} + 2 k_{1} k_{3} x_{12} x_{13} x_{23} - k_{1} k_{3} x_{13}^{2} x_{22} - 2 k_{1} x_{11} x_{22} + 2 k_{1} x_{12}^{2} - 2 k_{3} x_{22} x_{33} + 2 k_{3} x_{23}^{2} + 4 x_{22}} + \\frac{2 k_{1} x_{12} x_{13} x_{23} \\left(k_{1} k_{3} x_{11} x_{33} - k_{1} k_{3} x_{13}^{2} - 2 k_{1} x_{11} - 2 k_{3} x_{33} + 4\\right)}{k_{1} k_{3} x_{11} x_{22} x_{33} - k_{1} k_{3} x_{11} x_{23}^{2} - k_{1} k_{3} x_{12}^{2} x_{33} + 2 k_{1} k_{3} x_{12} x_{13} x_{23} - k_{1} k_{3} x_{13}^{2} x_{22} - 2 k_{1} x_{11} x_{22} + 2 k_{1} x_{12}^{2} - 2 k_{3} x_{22} x_{33} + 2 k_{3} x_{23}^{2} + 4 x_{22}} - \\frac{k_{1} x_{13}^{2} x_{22} \\left(k_{1} k_{3} x_{11} x_{33} - k_{1} k_{3} x_{13}^{2} - 2 k_{1} x_{11} - 2 k_{3} x_{33} + 4\\right)}{k_{1} k_{3} x_{11} x_{22} x_{33} - k_{1} k_{3} x_{11} x_{23}^{2} - k_{1} k_{3} x_{12}^{2} x_{33} + 2 k_{1} k_{3} x_{12} x_{13} x_{23} - k_{1} k_{3} x_{13}^{2} x_{22} - 2 k_{1} x_{11} x_{22} + 2 k_{1} x_{12}^{2} - 2 k_{3} x_{22} x_{33} + 2 k_{3} x_{23}^{2} + 4 x_{22}} + 2 k_{1} x_{13}^{2} - \\frac{2 x_{22} x_{33} \\left(k_{1} k_{3} x_{11} x_{33} - k_{1} k_{3} x_{13}^{2} - 2 k_{1} x_{11} - 2 k_{3} x_{33} + 4\\right)}{k_{1} k_{3} x_{11} x_{22} x_{33} - k_{1} k_{3} x_{11} x_{23}^{2} - k_{1} k_{3} x_{12}^{2} x_{33} + 2 k_{1} k_{3} x_{12} x_{13} x_{23} - k_{1} k_{3} x_{13}^{2} x_{22} - 2 k_{1} x_{11} x_{22} + 2 k_{1} x_{12}^{2} - 2 k_{3} x_{22} x_{33} + 2 k_{3} x_{23}^{2} + 4 x_{22}} + \\frac{2 x_{23}^{2} \\left(k_{1} k_{3} x_{11} x_{33} - k_{1} k_{3} x_{13}^{2} - 2 k_{1} x_{11} - 2 k_{3} x_{33} + 4\\right)}{k_{1} k_{3} x_{11} x_{22} x_{33} - k_{1} k_{3} x_{11} x_{23}^{2} - k_{1} k_{3} x_{12}^{2} x_{33} + 2 k_{1} k_{3} x_{12} x_{13} x_{23} - k_{1} k_{3} x_{13}^{2} x_{22} - 2 k_{1} x_{11} x_{22} + 2 k_{1} x_{12}^{2} - 2 k_{3} x_{22} x_{33} + 2 k_{3} x_{23}^{2} + 4 x_{22}} + 4 x_{33}\\right)^{2}} + \\frac{\\left(k_{2} x_{11} x_{22} - k_{2} x_{12}^{2} - 2 x_{11}\\right) \\left(k_{1} k_{2} x_{11} x_{22} x_{33} - k_{1} k_{2} x_{11} x_{23}^{2} - k_{1} k_{2} x_{12}^{2} x_{33} + 2 k_{1} k_{2} x_{12} x_{13} x_{23} - k_{1} k_{2} x_{13}^{2} x_{22} - 2 k_{1} x_{11} x_{33} + 2 k_{1} x_{13}^{2} - 2 k_{2} x_{22} x_{33} + 2 k_{2} x_{23}^{2} + 4 x_{33}\\right) - \\left(- k_{1} k_{2} x_{11} x_{22} + k_{1} k_{2} x_{12}^{2} + 2 k_{1} x_{11} + 2 k_{2} x_{22} - 4\\right) \\left(- k_{2} x_{11} x_{22} x_{33} + k_{2} x_{11} x_{23}^{2} + k_{2} x_{12}^{2} x_{33} - 2 k_{2} x_{12} x_{13} x_{23} + k_{2} x_{13}^{2} x_{22} + 2 x_{11} x_{33} - 2 x_{13}^{2}\\right)}{\\left(k_{1} k_{2} x_{11} x_{22} x_{33} - k_{1} k_{2} x_{11} x_{23}^{2} - k_{1} k_{2} x_{12}^{2} x_{33} + 2 k_{1} k_{2} x_{12} x_{13} x_{23} - k_{1} k_{2} x_{13}^{2} x_{22} - 2 k_{1} x_{11} x_{33} + 2 k_{1} x_{13}^{2} - 2 k_{2} x_{22} x_{33} + 2 k_{2} x_{23}^{2} + 4 x_{33}\\right)^{2}}\\right)}{\\left(\\frac{k_{2} x_{11} x_{22} x_{33} \\left(k_{1} k_{2} x_{11} x_{22} - k_{1} k_{2} x_{12}^{2} - 2 k_{1} x_{11} - 2 k_{2} x_{22} + 4\\right)}{k_{1} k_{2} x_{11} x_{22} x_{33} - k_{1} k_{2} x_{11} x_{23}^{2} - k_{1} k_{2} x_{12}^{2} x_{33} + 2 k_{1} k_{2} x_{12} x_{13} x_{23} - k_{1} k_{2} x_{13}^{2} x_{22} - 2 k_{1} x_{11} x_{33} + 2 k_{1} x_{13}^{2} - 2 k_{2} x_{22} x_{33} + 2 k_{2} x_{23}^{2} + 4 x_{33}} - 2 k_{2} x_{11} x_{22} - \\frac{k_{2} x_{11} x_{23}^{2} \\left(k_{1} k_{2} x_{11} x_{22} - k_{1} k_{2} x_{12}^{2} - 2 k_{1} x_{11} - 2 k_{2} x_{22} + 4\\right)}{k_{1} k_{2} x_{11} x_{22} x_{33} - k_{1} k_{2} x_{11} x_{23}^{2} - k_{1} k_{2} x_{12}^{2} x_{33} + 2 k_{1} k_{2} x_{12} x_{13} x_{23} - k_{1} k_{2} x_{13}^{2} x_{22} - 2 k_{1} x_{11} x_{33} + 2 k_{1} x_{13}^{2} - 2 k_{2} x_{22} x_{33} + 2 k_{2} x_{23}^{2} + 4 x_{33}} - \\frac{k_{2} x_{12}^{2} x_{33} \\left(k_{1} k_{2} x_{11} x_{22} - k_{1} k_{2} x_{12}^{2} - 2 k_{1} x_{11} - 2 k_{2} x_{22} + 4\\right)}{k_{1} k_{2} x_{11} x_{22} x_{33} - k_{1} k_{2} x_{11} x_{23}^{2} - k_{1} k_{2} x_{12}^{2} x_{33} + 2 k_{1} k_{2} x_{12} x_{13} x_{23} - k_{1} k_{2} x_{13}^{2} x_{22} - 2 k_{1} x_{11} x_{33} + 2 k_{1} x_{13}^{2} - 2 k_{2} x_{22} x_{33} + 2 k_{2} x_{23}^{2} + 4 x_{33}} + 2 k_{2} x_{12}^{2} + \\frac{2 k_{2} x_{12} x_{13} x_{23} \\left(k_{1} k_{2} x_{11} x_{22} - k_{1} k_{2} x_{12}^{2} - 2 k_{1} x_{11} - 2 k_{2} x_{22} + 4\\right)}{k_{1} k_{2} x_{11} x_{22} x_{33} - k_{1} k_{2} x_{11} x_{23}^{2} - k_{1} k_{2} x_{12}^{2} x_{33} + 2 k_{1} k_{2} x_{12} x_{13} x_{23} - k_{1} k_{2} x_{13}^{2} x_{22} - 2 k_{1} x_{11} x_{33} + 2 k_{1} x_{13}^{2} - 2 k_{2} x_{22} x_{33} + 2 k_{2} x_{23}^{2} + 4 x_{33}} - \\frac{k_{2} x_{13}^{2} x_{22} \\left(k_{1} k_{2} x_{11} x_{22} - k_{1} k_{2} x_{12}^{2} - 2 k_{1} x_{11} - 2 k_{2} x_{22} + 4\\right)}{k_{1} k_{2} x_{11} x_{22} x_{33} - k_{1} k_{2} x_{11} x_{23}^{2} - k_{1} k_{2} x_{12}^{2} x_{33} + 2 k_{1} k_{2} x_{12} x_{13} x_{23} - k_{1} k_{2} x_{13}^{2} x_{22} - 2 k_{1} x_{11} x_{33} + 2 k_{1} x_{13}^{2} - 2 k_{2} x_{22} x_{33} + 2 k_{2} x_{23}^{2} + 4 x_{33}} - \\frac{2 x_{11} x_{33} \\left(k_{1} k_{2} x_{11} x_{22} - k_{1} k_{2} x_{12}^{2} - 2 k_{1} x_{11} - 2 k_{2} x_{22} + 4\\right)}{k_{1} k_{2} x_{11} x_{22} x_{33} - k_{1} k_{2} x_{11} x_{23}^{2} - k_{1} k_{2} x_{12}^{2} x_{33} + 2 k_{1} k_{2} x_{12} x_{13} x_{23} - k_{1} k_{2} x_{13}^{2} x_{22} - 2 k_{1} x_{11} x_{33} + 2 k_{1} x_{13}^{2} - 2 k_{2} x_{22} x_{33} + 2 k_{2} x_{23}^{2} + 4 x_{33}} + 4 x_{11} + \\frac{2 x_{13}^{2} \\left(k_{1} k_{2} x_{11} x_{22} - k_{1} k_{2} x_{12}^{2} - 2 k_{1} x_{11} - 2 k_{2} x_{22} + 4\\right)}{k_{1} k_{2} x_{11} x_{22} x_{33} - k_{1} k_{2} x_{11} x_{23}^{2} - k_{1} k_{2} x_{12}^{2} x_{33} + 2 k_{1} k_{2} x_{12} x_{13} x_{23} - k_{1} k_{2} x_{13}^{2} x_{22} - 2 k_{1} x_{11} x_{33} + 2 k_{1} x_{13}^{2} - 2 k_{2} x_{22} x_{33} + 2 k_{2} x_{23}^{2} + 4 x_{33}}\\right)^{2}} + \\frac{\\left(\\left(k_{3} x_{22} x_{33} - k_{3} x_{23}^{2} - 2 x_{22}\\right) \\left(\\frac{k_{3} x_{11} x_{22} x_{33} \\left(k_{1} k_{3} x_{11} x_{33} - k_{1} k_{3} x_{13}^{2} - 2 k_{1} x_{11} - 2 k_{3} x_{33} + 4\\right)}{k_{1} k_{3} x_{11} x_{22} x_{33} - k_{1} k_{3} x_{11} x_{23}^{2} - k_{1} k_{3} x_{12}^{2} x_{33} + 2 k_{1} k_{3} x_{12} x_{13} x_{23} - k_{1} k_{3} x_{13}^{2} x_{22} - 2 k_{1} x_{11} x_{22} + 2 k_{1} x_{12}^{2} - 2 k_{3} x_{22} x_{33} + 2 k_{3} x_{23}^{2} + 4 x_{22}} - \\frac{k_{3} x_{11} x_{23}^{2} \\left(k_{1} k_{3} x_{11} x_{33} - k_{1} k_{3} x_{13}^{2} - 2 k_{1} x_{11} - 2 k_{3} x_{33} + 4\\right)}{k_{1} k_{3} x_{11} x_{22} x_{33} - k_{1} k_{3} x_{11} x_{23}^{2} - k_{1} k_{3} x_{12}^{2} x_{33} + 2 k_{1} k_{3} x_{12} x_{13} x_{23} - k_{1} k_{3} x_{13}^{2} x_{22} - 2 k_{1} x_{11} x_{22} + 2 k_{1} x_{12}^{2} - 2 k_{3} x_{22} x_{33} + 2 k_{3} x_{23}^{2} + 4 x_{22}} - 2 k_{3} x_{11} x_{33} - \\frac{k_{3} x_{12}^{2} x_{33} \\left(k_{1} k_{3} x_{11} x_{33} - k_{1} k_{3} x_{13}^{2} - 2 k_{1} x_{11} - 2 k_{3} x_{33} + 4\\right)}{k_{1} k_{3} x_{11} x_{22} x_{33} - k_{1} k_{3} x_{11} x_{23}^{2} - k_{1} k_{3} x_{12}^{2} x_{33} + 2 k_{1} k_{3} x_{12} x_{13} x_{23} - k_{1} k_{3} x_{13}^{2} x_{22} - 2 k_{1} x_{11} x_{22} + 2 k_{1} x_{12}^{2} - 2 k_{3} x_{22} x_{33} + 2 k_{3} x_{23}^{2} + 4 x_{22}} + \\frac{2 k_{3} x_{12} x_{13} x_{23} \\left(k_{1} k_{3} x_{11} x_{33} - k_{1} k_{3} x_{13}^{2} - 2 k_{1} x_{11} - 2 k_{3} x_{33} + 4\\right)}{k_{1} k_{3} x_{11} x_{22} x_{33} - k_{1} k_{3} x_{11} x_{23}^{2} - k_{1} k_{3} x_{12}^{2} x_{33} + 2 k_{1} k_{3} x_{12} x_{13} x_{23} - k_{1} k_{3} x_{13}^{2} x_{22} - 2 k_{1} x_{11} x_{22} + 2 k_{1} x_{12}^{2} - 2 k_{3} x_{22} x_{33} + 2 k_{3} x_{23}^{2} + 4 x_{22}} - \\frac{k_{3} x_{13}^{2} x_{22} \\left(k_{1} k_{3} x_{11} x_{33} - k_{1} k_{3} x_{13}^{2} - 2 k_{1} x_{11} - 2 k_{3} x_{33} + 4\\right)}{k_{1} k_{3} x_{11} x_{22} x_{33} - k_{1} k_{3} x_{11} x_{23}^{2} - k_{1} k_{3} x_{12}^{2} x_{33} + 2 k_{1} k_{3} x_{12} x_{13} x_{23} - k_{1} k_{3} x_{13}^{2} x_{22} - 2 k_{1} x_{11} x_{22} + 2 k_{1} x_{12}^{2} - 2 k_{3} x_{22} x_{33} + 2 k_{3} x_{23}^{2} + 4 x_{22}} + 2 k_{3} x_{13}^{2} - \\frac{2 x_{11} x_{22} \\left(k_{1} k_{3} x_{11} x_{33} - k_{1} k_{3} x_{13}^{2} - 2 k_{1} x_{11} - 2 k_{3} x_{33} + 4\\right)}{k_{1} k_{3} x_{11} x_{22} x_{33} - k_{1} k_{3} x_{11} x_{23}^{2} - k_{1} k_{3} x_{12}^{2} x_{33} + 2 k_{1} k_{3} x_{12} x_{13} x_{23} - k_{1} k_{3} x_{13}^{2} x_{22} - 2 k_{1} x_{11} x_{22} + 2 k_{1} x_{12}^{2} - 2 k_{3} x_{22} x_{33} + 2 k_{3} x_{23}^{2} + 4 x_{22}} + 4 x_{11} + \\frac{2 x_{12}^{2} \\left(k_{1} k_{3} x_{11} x_{33} - k_{1} k_{3} x_{13}^{2} - 2 k_{1} x_{11} - 2 k_{3} x_{33} + 4\\right)}{k_{1} k_{3} x_{11} x_{22} x_{33} - k_{1} k_{3} x_{11} x_{23}^{2} - k_{1} k_{3} x_{12}^{2} x_{33} + 2 k_{1} k_{3} x_{12} x_{13} x_{23} - k_{1} k_{3} x_{13}^{2} x_{22} - 2 k_{1} x_{11} x_{22} + 2 k_{1} x_{12}^{2} - 2 k_{3} x_{22} x_{33} + 2 k_{3} x_{23}^{2} + 4 x_{22}}\\right) - \\left(- \\frac{k_{3} x_{22} x_{33} \\left(k_{1} k_{3} x_{11} x_{33} - k_{1} k_{3} x_{13}^{2} - 2 k_{1} x_{11} - 2 k_{3} x_{33} + 4\\right)}{k_{1} k_{3} x_{11} x_{22} x_{33} - k_{1} k_{3} x_{11} x_{23}^{2} - k_{1} k_{3} x_{12}^{2} x_{33} + 2 k_{1} k_{3} x_{12} x_{13} x_{23} - k_{1} k_{3} x_{13}^{2} x_{22} - 2 k_{1} x_{11} x_{22} + 2 k_{1} x_{12}^{2} - 2 k_{3} x_{22} x_{33} + 2 k_{3} x_{23}^{2} + 4 x_{22}} + \\frac{k_{3} x_{23}^{2} \\left(k_{1} k_{3} x_{11} x_{33} - k_{1} k_{3} x_{13}^{2} - 2 k_{1} x_{11} - 2 k_{3} x_{33} + 4\\right)}{k_{1} k_{3} x_{11} x_{22} x_{33} - k_{1} k_{3} x_{11} x_{23}^{2} - k_{1} k_{3} x_{12}^{2} x_{33} + 2 k_{1} k_{3} x_{12} x_{13} x_{23} - k_{1} k_{3} x_{13}^{2} x_{22} - 2 k_{1} x_{11} x_{22} + 2 k_{1} x_{12}^{2} - 2 k_{3} x_{22} x_{33} + 2 k_{3} x_{23}^{2} + 4 x_{22}} + 2 k_{3} x_{33} + \\frac{2 x_{22} \\left(k_{1} k_{3} x_{11} x_{33} - k_{1} k_{3} x_{13}^{2} - 2 k_{1} x_{11} - 2 k_{3} x_{33} + 4\\right)}{k_{1} k_{3} x_{11} x_{22} x_{33} - k_{1} k_{3} x_{11} x_{23}^{2} - k_{1} k_{3} x_{12}^{2} x_{33} + 2 k_{1} k_{3} x_{12} x_{13} x_{23} - k_{1} k_{3} x_{13}^{2} x_{22} - 2 k_{1} x_{11} x_{22} + 2 k_{1} x_{12}^{2} - 2 k_{3} x_{22} x_{33} + 2 k_{3} x_{23}^{2} + 4 x_{22}} - 4\\right) \\left(- k_{3} x_{11} x_{22} x_{33} + k_{3} x_{11} x_{23}^{2} + k_{3} x_{12}^{2} x_{33} - 2 k_{3} x_{12} x_{13} x_{23} + k_{3} x_{13}^{2} x_{22} + 2 x_{11} x_{22} - 2 x_{12}^{2}\\right)\\right) \\left(\\frac{\\left(\\left(k_{1} x_{11} x_{33} - k_{1} x_{13}^{2} - 2 x_{33}\\right) \\left(\\frac{k_{1} x_{11} x_{22} x_{33} \\left(k_{1} k_{2} x_{11} x_{22} - k_{1} k_{2} x_{12}^{2} - 2 k_{1} x_{11} - 2 k_{2} x_{22} + 4\\right)}{k_{1} k_{2} x_{11} x_{22} x_{33} - k_{1} k_{2} x_{11} x_{23}^{2} - k_{1} k_{2} x_{12}^{2} x_{33} + 2 k_{1} k_{2} x_{12} x_{13} x_{23} - k_{1} k_{2} x_{13}^{2} x_{22} - 2 k_{1} x_{11} x_{33} + 2 k_{1} x_{13}^{2} - 2 k_{2} x_{22} x_{33} + 2 k_{2} x_{23}^{2} + 4 x_{33}} - 2 k_{1} x_{11} x_{22} - \\frac{k_{1} x_{11} x_{23}^{2} \\left(k_{1} k_{2} x_{11} x_{22} - k_{1} k_{2} x_{12}^{2} - 2 k_{1} x_{11} - 2 k_{2} x_{22} + 4\\right)}{k_{1} k_{2} x_{11} x_{22} x_{33} - k_{1} k_{2} x_{11} x_{23}^{2} - k_{1} k_{2} x_{12}^{2} x_{33} + 2 k_{1} k_{2} x_{12} x_{13} x_{23} - k_{1} k_{2} x_{13}^{2} x_{22} - 2 k_{1} x_{11} x_{33} + 2 k_{1} x_{13}^{2} - 2 k_{2} x_{22} x_{33} + 2 k_{2} x_{23}^{2} + 4 x_{33}} - \\frac{k_{1} x_{12}^{2} x_{33} \\left(k_{1} k_{2} x_{11} x_{22} - k_{1} k_{2} x_{12}^{2} - 2 k_{1} x_{11} - 2 k_{2} x_{22} + 4\\right)}{k_{1} k_{2} x_{11} x_{22} x_{33} - k_{1} k_{2} x_{11} x_{23}^{2} - k_{1} k_{2} x_{12}^{2} x_{33} + 2 k_{1} k_{2} x_{12} x_{13} x_{23} - k_{1} k_{2} x_{13}^{2} x_{22} - 2 k_{1} x_{11} x_{33} + 2 k_{1} x_{13}^{2} - 2 k_{2} x_{22} x_{33} + 2 k_{2} x_{23}^{2} + 4 x_{33}} + 2 k_{1} x_{12}^{2} + \\frac{2 k_{1} x_{12} x_{13} x_{23} \\left(k_{1} k_{2} x_{11} x_{22} - k_{1} k_{2} x_{12}^{2} - 2 k_{1} x_{11} - 2 k_{2} x_{22} + 4\\right)}{k_{1} k_{2} x_{11} x_{22} x_{33} - k_{1} k_{2} x_{11} x_{23}^{2} - k_{1} k_{2} x_{12}^{2} x_{33} + 2 k_{1} k_{2} x_{12} x_{13} x_{23} - k_{1} k_{2} x_{13}^{2} x_{22} - 2 k_{1} x_{11} x_{33} + 2 k_{1} x_{13}^{2} - 2 k_{2} x_{22} x_{33} + 2 k_{2} x_{23}^{2} + 4 x_{33}} - \\frac{k_{1} x_{13}^{2} x_{22} \\left(k_{1} k_{2} x_{11} x_{22} - k_{1} k_{2} x_{12}^{2} - 2 k_{1} x_{11} - 2 k_{2} x_{22} + 4\\right)}{k_{1} k_{2} x_{11} x_{22} x_{33} - k_{1} k_{2} x_{11} x_{23}^{2} - k_{1} k_{2} x_{12}^{2} x_{33} + 2 k_{1} k_{2} x_{12} x_{13} x_{23} - k_{1} k_{2} x_{13}^{2} x_{22} - 2 k_{1} x_{11} x_{33} + 2 k_{1} x_{13}^{2} - 2 k_{2} x_{22} x_{33} + 2 k_{2} x_{23}^{2} + 4 x_{33}} - \\frac{2 x_{22} x_{33} \\left(k_{1} k_{2} x_{11} x_{22} - k_{1} k_{2} x_{12}^{2} - 2 k_{1} x_{11} - 2 k_{2} x_{22} + 4\\right)}{k_{1} k_{2} x_{11} x_{22} x_{33} - k_{1} k_{2} x_{11} x_{23}^{2} - k_{1} k_{2} x_{12}^{2} x_{33} + 2 k_{1} k_{2} x_{12} x_{13} x_{23} - k_{1} k_{2} x_{13}^{2} x_{22} - 2 k_{1} x_{11} x_{33} + 2 k_{1} x_{13}^{2} - 2 k_{2} x_{22} x_{33} + 2 k_{2} x_{23}^{2} + 4 x_{33}} + 4 x_{22} + \\frac{2 x_{23}^{2} \\left(k_{1} k_{2} x_{11} x_{22} - k_{1} k_{2} x_{12}^{2} - 2 k_{1} x_{11} - 2 k_{2} x_{22} + 4\\right)}{k_{1} k_{2} x_{11} x_{22} x_{33} - k_{1} k_{2} x_{11} x_{23}^{2} - k_{1} k_{2} x_{12}^{2} x_{33} + 2 k_{1} k_{2} x_{12} x_{13} x_{23} - k_{1} k_{2} x_{13}^{2} x_{22} - 2 k_{1} x_{11} x_{33} + 2 k_{1} x_{13}^{2} - 2 k_{2} x_{22} x_{33} + 2 k_{2} x_{23}^{2} + 4 x_{33}}\\right) - \\left(- \\frac{k_{1} x_{11} x_{33} \\left(k_{1} k_{2} x_{11} x_{22} - k_{1} k_{2} x_{12}^{2} - 2 k_{1} x_{11} - 2 k_{2} x_{22} + 4\\right)}{k_{1} k_{2} x_{11} x_{22} x_{33} - k_{1} k_{2} x_{11} x_{23}^{2} - k_{1} k_{2} x_{12}^{2} x_{33} + 2 k_{1} k_{2} x_{12} x_{13} x_{23} - k_{1} k_{2} x_{13}^{2} x_{22} - 2 k_{1} x_{11} x_{33} + 2 k_{1} x_{13}^{2} - 2 k_{2} x_{22} x_{33} + 2 k_{2} x_{23}^{2} + 4 x_{33}} + 2 k_{1} x_{11} + \\frac{k_{1} x_{13}^{2} \\left(k_{1} k_{2} x_{11} x_{22} - k_{1} k_{2} x_{12}^{2} - 2 k_{1} x_{11} - 2 k_{2} x_{22} + 4\\right)}{k_{1} k_{2} x_{11} x_{22} x_{33} - k_{1} k_{2} x_{11} x_{23}^{2} - k_{1} k_{2} x_{12}^{2} x_{33} + 2 k_{1} k_{2} x_{12} x_{13} x_{23} - k_{1} k_{2} x_{13}^{2} x_{22} - 2 k_{1} x_{11} x_{33} + 2 k_{1} x_{13}^{2} - 2 k_{2} x_{22} x_{33} + 2 k_{2} x_{23}^{2} + 4 x_{33}} + \\frac{2 x_{33} \\left(k_{1} k_{2} x_{11} x_{22} - k_{1} k_{2} x_{12}^{2} - 2 k_{1} x_{11} - 2 k_{2} x_{22} + 4\\right)}{k_{1} k_{2} x_{11} x_{22} x_{33} - k_{1} k_{2} x_{11} x_{23}^{2} - k_{1} k_{2} x_{12}^{2} x_{33} + 2 k_{1} k_{2} x_{12} x_{13} x_{23} - k_{1} k_{2} x_{13}^{2} x_{22} - 2 k_{1} x_{11} x_{33} + 2 k_{1} x_{13}^{2} - 2 k_{2} x_{22} x_{33} + 2 k_{2} x_{23}^{2} + 4 x_{33}} - 4\\right) \\left(- k_{1} x_{11} x_{22} x_{33} + k_{1} x_{11} x_{23}^{2} + k_{1} x_{12}^{2} x_{33} - 2 k_{1} x_{12} x_{13} x_{23} + k_{1} x_{13}^{2} x_{22} + 2 x_{22} x_{33} - 2 x_{23}^{2}\\right)\\right) \\left(\\left(k_{2} x_{11} x_{22} - k_{2} x_{12}^{2} - 2 x_{11}\\right) \\left(k_{1} k_{2} x_{11} x_{22} x_{33} - k_{1} k_{2} x_{11} x_{23}^{2} - k_{1} k_{2} x_{12}^{2} x_{33} + 2 k_{1} k_{2} x_{12} x_{13} x_{23} - k_{1} k_{2} x_{13}^{2} x_{22} - 2 k_{1} x_{11} x_{33} + 2 k_{1} x_{13}^{2} - 2 k_{2} x_{22} x_{33} + 2 k_{2} x_{23}^{2} + 4 x_{33}\\right) - \\left(- k_{1} k_{2} x_{11} x_{22} + k_{1} k_{2} x_{12}^{2} + 2 k_{1} x_{11} + 2 k_{2} x_{22} - 4\\right) \\left(- k_{2} x_{11} x_{22} x_{33} + k_{2} x_{11} x_{23}^{2} + k_{2} x_{12}^{2} x_{33} - 2 k_{2} x_{12} x_{13} x_{23} + k_{2} x_{13}^{2} x_{22} + 2 x_{11} x_{33} - 2 x_{13}^{2}\\right)\\right)}{\\left(k_{1} k_{2} x_{11} x_{22} x_{33} - k_{1} k_{2} x_{11} x_{23}^{2} - k_{1} k_{2} x_{12}^{2} x_{33} + 2 k_{1} k_{2} x_{12} x_{13} x_{23} - k_{1} k_{2} x_{13}^{2} x_{22} - 2 k_{1} x_{11} x_{33} + 2 k_{1} x_{13}^{2} - 2 k_{2} x_{22} x_{33} + 2 k_{2} x_{23}^{2} + 4 x_{33}\\right)^{2} \\left(\\frac{k_{1} x_{11} x_{22} x_{33} \\left(k_{1} k_{2} x_{11} x_{22} - k_{1} k_{2} x_{12}^{2} - 2 k_{1} x_{11} - 2 k_{2} x_{22} + 4\\right)}{k_{1} k_{2} x_{11} x_{22} x_{33} - k_{1} k_{2} x_{11} x_{23}^{2} - k_{1} k_{2} x_{12}^{2} x_{33} + 2 k_{1} k_{2} x_{12} x_{13} x_{23} - k_{1} k_{2} x_{13}^{2} x_{22} - 2 k_{1} x_{11} x_{33} + 2 k_{1} x_{13}^{2} - 2 k_{2} x_{22} x_{33} + 2 k_{2} x_{23}^{2} + 4 x_{33}} - 2 k_{1} x_{11} x_{22} - \\frac{k_{1} x_{11} x_{23}^{2} \\left(k_{1} k_{2} x_{11} x_{22} - k_{1} k_{2} x_{12}^{2} - 2 k_{1} x_{11} - 2 k_{2} x_{22} + 4\\right)}{k_{1} k_{2} x_{11} x_{22} x_{33} - k_{1} k_{2} x_{11} x_{23}^{2} - k_{1} k_{2} x_{12}^{2} x_{33} + 2 k_{1} k_{2} x_{12} x_{13} x_{23} - k_{1} k_{2} x_{13}^{2} x_{22} - 2 k_{1} x_{11} x_{33} + 2 k_{1} x_{13}^{2} - 2 k_{2} x_{22} x_{33} + 2 k_{2} x_{23}^{2} + 4 x_{33}} - \\frac{k_{1} x_{12}^{2} x_{33} \\left(k_{1} k_{2} x_{11} x_{22} - k_{1} k_{2} x_{12}^{2} - 2 k_{1} x_{11} - 2 k_{2} x_{22} + 4\\right)}{k_{1} k_{2} x_{11} x_{22} x_{33} - k_{1} k_{2} x_{11} x_{23}^{2} - k_{1} k_{2} x_{12}^{2} x_{33} + 2 k_{1} k_{2} x_{12} x_{13} x_{23} - k_{1} k_{2} x_{13}^{2} x_{22} - 2 k_{1} x_{11} x_{33} + 2 k_{1} x_{13}^{2} - 2 k_{2} x_{22} x_{33} + 2 k_{2} x_{23}^{2} + 4 x_{33}} + 2 k_{1} x_{12}^{2} + \\frac{2 k_{1} x_{12} x_{13} x_{23} \\left(k_{1} k_{2} x_{11} x_{22} - k_{1} k_{2} x_{12}^{2} - 2 k_{1} x_{11} - 2 k_{2} x_{22} + 4\\right)}{k_{1} k_{2} x_{11} x_{22} x_{33} - k_{1} k_{2} x_{11} x_{23}^{2} - k_{1} k_{2} x_{12}^{2} x_{33} + 2 k_{1} k_{2} x_{12} x_{13} x_{23} - k_{1} k_{2} x_{13}^{2} x_{22} - 2 k_{1} x_{11} x_{33} + 2 k_{1} x_{13}^{2} - 2 k_{2} x_{22} x_{33} + 2 k_{2} x_{23}^{2} + 4 x_{33}} - \\frac{k_{1} x_{13}^{2} x_{22} \\left(k_{1} k_{2} x_{11} x_{22} - k_{1} k_{2} x_{12}^{2} - 2 k_{1} x_{11} - 2 k_{2} x_{22} + 4\\right)}{k_{1} k_{2} x_{11} x_{22} x_{33} - k_{1} k_{2} x_{11} x_{23}^{2} - k_{1} k_{2} x_{12}^{2} x_{33} + 2 k_{1} k_{2} x_{12} x_{13} x_{23} - k_{1} k_{2} x_{13}^{2} x_{22} - 2 k_{1} x_{11} x_{33} + 2 k_{1} x_{13}^{2} - 2 k_{2} x_{22} x_{33} + 2 k_{2} x_{23}^{2} + 4 x_{33}} - \\frac{2 x_{22} x_{33} \\left(k_{1} k_{2} x_{11} x_{22} - k_{1} k_{2} x_{12}^{2} - 2 k_{1} x_{11} - 2 k_{2} x_{22} + 4\\right)}{k_{1} k_{2} x_{11} x_{22} x_{33} - k_{1} k_{2} x_{11} x_{23}^{2} - k_{1} k_{2} x_{12}^{2} x_{33} + 2 k_{1} k_{2} x_{12} x_{13} x_{23} - k_{1} k_{2} x_{13}^{2} x_{22} - 2 k_{1} x_{11} x_{33} + 2 k_{1} x_{13}^{2} - 2 k_{2} x_{22} x_{33} + 2 k_{2} x_{23}^{2} + 4 x_{33}} + 4 x_{22} + \\frac{2 x_{23}^{2} \\left(k_{1} k_{2} x_{11} x_{22} - k_{1} k_{2} x_{12}^{2} - 2 k_{1} x_{11} - 2 k_{2} x_{22} + 4\\right)}{k_{1} k_{2} x_{11} x_{22} x_{33} - k_{1} k_{2} x_{11} x_{23}^{2} - k_{1} k_{2} x_{12}^{2} x_{33} + 2 k_{1} k_{2} x_{12} x_{13} x_{23} - k_{1} k_{2} x_{13}^{2} x_{22} - 2 k_{1} x_{11} x_{33} + 2 k_{1} x_{13}^{2} - 2 k_{2} x_{22} x_{33} + 2 k_{2} x_{23}^{2} + 4 x_{33}}\\right)^{2}} + \\frac{\\left(k_{3} x_{11} x_{33} - k_{3} x_{13}^{2} - 2 x_{11}\\right) \\left(k_{1} k_{3} x_{11} x_{22} x_{33} - k_{1} k_{3} x_{11} x_{23}^{2} - k_{1} k_{3} x_{12}^{2} x_{33} + 2 k_{1} k_{3} x_{12} x_{13} x_{23} - k_{1} k_{3} x_{13}^{2} x_{22} - 2 k_{1} x_{11} x_{22} + 2 k_{1} x_{12}^{2} - 2 k_{3} x_{22} x_{33} + 2 k_{3} x_{23}^{2} + 4 x_{22}\\right) - \\left(- k_{1} k_{3} x_{11} x_{33} + k_{1} k_{3} x_{13}^{2} + 2 k_{1} x_{11} + 2 k_{3} x_{33} - 4\\right) \\left(- k_{3} x_{11} x_{22} x_{33} + k_{3} x_{11} x_{23}^{2} + k_{3} x_{12}^{2} x_{33} - 2 k_{3} x_{12} x_{13} x_{23} + k_{3} x_{13}^{2} x_{22} + 2 x_{11} x_{22} - 2 x_{12}^{2}\\right)}{\\left(k_{1} k_{3} x_{11} x_{22} x_{33} - k_{1} k_{3} x_{11} x_{23}^{2} - k_{1} k_{3} x_{12}^{2} x_{33} + 2 k_{1} k_{3} x_{12} x_{13} x_{23} - k_{1} k_{3} x_{13}^{2} x_{22} - 2 k_{1} x_{11} x_{22} + 2 k_{1} x_{12}^{2} - 2 k_{3} x_{22} x_{33} + 2 k_{3} x_{23}^{2} + 4 x_{22}\\right)^{2}}\\right)}{\\left(\\frac{k_{3} x_{11} x_{22} x_{33} \\left(k_{1} k_{3} x_{11} x_{33} - k_{1} k_{3} x_{13}^{2} - 2 k_{1} x_{11} - 2 k_{3} x_{33} + 4\\right)}{k_{1} k_{3} x_{11} x_{22} x_{33} - k_{1} k_{3} x_{11} x_{23}^{2} - k_{1} k_{3} x_{12}^{2} x_{33} + 2 k_{1} k_{3} x_{12} x_{13} x_{23} - k_{1} k_{3} x_{13}^{2} x_{22} - 2 k_{1} x_{11} x_{22} + 2 k_{1} x_{12}^{2} - 2 k_{3} x_{22} x_{33} + 2 k_{3} x_{23}^{2} + 4 x_{22}} - \\frac{k_{3} x_{11} x_{23}^{2} \\left(k_{1} k_{3} x_{11} x_{33} - k_{1} k_{3} x_{13}^{2} - 2 k_{1} x_{11} - 2 k_{3} x_{33} + 4\\right)}{k_{1} k_{3} x_{11} x_{22} x_{33} - k_{1} k_{3} x_{11} x_{23}^{2} - k_{1} k_{3} x_{12}^{2} x_{33} + 2 k_{1} k_{3} x_{12} x_{13} x_{23} - k_{1} k_{3} x_{13}^{2} x_{22} - 2 k_{1} x_{11} x_{22} + 2 k_{1} x_{12}^{2} - 2 k_{3} x_{22} x_{33} + 2 k_{3} x_{23}^{2} + 4 x_{22}} - 2 k_{3} x_{11} x_{33} - \\frac{k_{3} x_{12}^{2} x_{33} \\left(k_{1} k_{3} x_{11} x_{33} - k_{1} k_{3} x_{13}^{2} - 2 k_{1} x_{11} - 2 k_{3} x_{33} + 4\\right)}{k_{1} k_{3} x_{11} x_{22} x_{33} - k_{1} k_{3} x_{11} x_{23}^{2} - k_{1} k_{3} x_{12}^{2} x_{33} + 2 k_{1} k_{3} x_{12} x_{13} x_{23} - k_{1} k_{3} x_{13}^{2} x_{22} - 2 k_{1} x_{11} x_{22} + 2 k_{1} x_{12}^{2} - 2 k_{3} x_{22} x_{33} + 2 k_{3} x_{23}^{2} + 4 x_{22}} + \\frac{2 k_{3} x_{12} x_{13} x_{23} \\left(k_{1} k_{3} x_{11} x_{33} - k_{1} k_{3} x_{13}^{2} - 2 k_{1} x_{11} - 2 k_{3} x_{33} + 4\\right)}{k_{1} k_{3} x_{11} x_{22} x_{33} - k_{1} k_{3} x_{11} x_{23}^{2} - k_{1} k_{3} x_{12}^{2} x_{33} + 2 k_{1} k_{3} x_{12} x_{13} x_{23} - k_{1} k_{3} x_{13}^{2} x_{22} - 2 k_{1} x_{11} x_{22} + 2 k_{1} x_{12}^{2} - 2 k_{3} x_{22} x_{33} + 2 k_{3} x_{23}^{2} + 4 x_{22}} - \\frac{k_{3} x_{13}^{2} x_{22} \\left(k_{1} k_{3} x_{11} x_{33} - k_{1} k_{3} x_{13}^{2} - 2 k_{1} x_{11} - 2 k_{3} x_{33} + 4\\right)}{k_{1} k_{3} x_{11} x_{22} x_{33} - k_{1} k_{3} x_{11} x_{23}^{2} - k_{1} k_{3} x_{12}^{2} x_{33} + 2 k_{1} k_{3} x_{12} x_{13} x_{23} - k_{1} k_{3} x_{13}^{2} x_{22} - 2 k_{1} x_{11} x_{22} + 2 k_{1} x_{12}^{2} - 2 k_{3} x_{22} x_{33} + 2 k_{3} x_{23}^{2} + 4 x_{22}} + 2 k_{3} x_{13}^{2} - \\frac{2 x_{11} x_{22} \\left(k_{1} k_{3} x_{11} x_{33} - k_{1} k_{3} x_{13}^{2} - 2 k_{1} x_{11} - 2 k_{3} x_{33} + 4\\right)}{k_{1} k_{3} x_{11} x_{22} x_{33} - k_{1} k_{3} x_{11} x_{23}^{2} - k_{1} k_{3} x_{12}^{2} x_{33} + 2 k_{1} k_{3} x_{12} x_{13} x_{23} - k_{1} k_{3} x_{13}^{2} x_{22} - 2 k_{1} x_{11} x_{22} + 2 k_{1} x_{12}^{2} - 2 k_{3} x_{22} x_{33} + 2 k_{3} x_{23}^{2} + 4 x_{22}} + 4 x_{11} + \\frac{2 x_{12}^{2} \\left(k_{1} k_{3} x_{11} x_{33} - k_{1} k_{3} x_{13}^{2} - 2 k_{1} x_{11} - 2 k_{3} x_{33} + 4\\right)}{k_{1} k_{3} x_{11} x_{22} x_{33} - k_{1} k_{3} x_{11} x_{23}^{2} - k_{1} k_{3} x_{12}^{2} x_{33} + 2 k_{1} k_{3} x_{12} x_{13} x_{23} - k_{1} k_{3} x_{13}^{2} x_{22} - 2 k_{1} x_{11} x_{22} + 2 k_{1} x_{12}^{2} - 2 k_{3} x_{22} x_{33} + 2 k_{3} x_{23}^{2} + 4 x_{22}}\\right)^{2}}$",
            "text/plain": [
              "                                                                              \n",
              "                                                                              \n",
              "                                                                              \n",
              "⎛                               ⎛                                             \n",
              "⎜⎛                   2        ⎞ ⎜                                         k₂⋅x\n",
              "⎜⎝k₂⋅x₂₂⋅x₃₃ - k₂⋅x₂₃  - 2⋅x₃₃⎠⋅⎜─────────────────────────────────────────────\n",
              "⎜                               ⎜                                 2           \n",
              "⎝                               ⎝k₁⋅k₂⋅x₁₁⋅x₂₂⋅x₃₃ - k₁⋅k₂⋅x₁₁⋅x₂₃  - k₁⋅k₂⋅x₁\n",
              "                                                                              \n",
              "                                                                              \n",
              "                                                                              \n",
              "                                                                              \n",
              "──────────────────────────────────────────────────────────────────────────────\n",
              "                                                                              \n",
              "                                                                              \n",
              "                                                                              \n",
              "                                                                              \n",
              "                                                                              \n",
              "                                                                              \n",
              "\n",
              "                                                                              \n",
              "                                                                              \n",
              "                                                                              \n",
              "           ⎛                         2                          ⎞             \n",
              "₁₁⋅x₂₂⋅x₃₃⋅⎝k₁⋅k₂⋅x₁₁⋅x₂₂ - k₁⋅k₂⋅x₁₂  - 2⋅k₁⋅x₁₁ - 2⋅k₂⋅x₂₂ + 4⎠             \n",
              "──────────────────────────────────────────────────────────────────────────────\n",
              " 2                                      2                              2      \n",
              "₂ ⋅x₃₃ + 2⋅k₁⋅k₂⋅x₁₂⋅x₁₃⋅x₂₃ - k₁⋅k₂⋅x₁₃ ⋅x₂₂ - 2⋅k₁⋅x₁₁⋅x₃₃ + 2⋅k₁⋅x₁₃  - 2⋅k\n",
              "                                                                              \n",
              "                                                                              \n",
              "                                                                              \n",
              "                                                                              \n",
              "──────────────────────────────────────────────────────────────────────────────\n",
              "                                                                              \n",
              "                                                                              \n",
              "                                                                              \n",
              "                                                                              \n",
              "                                                                              \n",
              "                                                                              \n",
              "\n",
              "                                                                              \n",
              "                                                                              \n",
              "                                                                              \n",
              "                                                                              \n",
              "                                                                              \n",
              "───────────────────────────── - 2⋅k₂⋅x₁₁⋅x₂₂ - ───────────────────────────────\n",
              "                    2                                                         \n",
              "₂⋅x₂₂⋅x₃₃ + 2⋅k₂⋅x₂₃  + 4⋅x₃₃                  k₁⋅k₂⋅x₁₁⋅x₂₂⋅x₃₃ - k₁⋅k₂⋅x₁₁⋅x\n",
              "                                                                              \n",
              "                                                                              \n",
              "                                                                              \n",
              "                                                                              \n",
              "──────────────────────────────────────────────────────────────────────────────\n",
              "                                                                              \n",
              "                                                                              \n",
              "                                                                              \n",
              "                                                                              \n",
              "                                                                              \n",
              "                                                                              \n",
              "\n",
              "                                                                              \n",
              "                                                                              \n",
              "                                                                              \n",
              "                      2 ⎛                         2                          ⎞\n",
              "            k₂⋅x₁₁⋅x₂₃ ⋅⎝k₁⋅k₂⋅x₁₁⋅x₂₂ - k₁⋅k₂⋅x₁₂  - 2⋅k₁⋅x₁₁ - 2⋅k₂⋅x₂₂ + 4⎠\n",
              "──────────────────────────────────────────────────────────────────────────────\n",
              "  2            2                                      2                       \n",
              "₂₃  - k₁⋅k₂⋅x₁₂ ⋅x₃₃ + 2⋅k₁⋅k₂⋅x₁₂⋅x₁₃⋅x₂₃ - k₁⋅k₂⋅x₁₃ ⋅x₂₂ - 2⋅k₁⋅x₁₁⋅x₃₃ + 2\n",
              "                                                                              \n",
              "                                                                              \n",
              "                                                                              \n",
              "                                                                              \n",
              "──────────────────────────────────────────────────────────────────────────────\n",
              "                                                                              \n",
              "                                                                              \n",
              "                                                                              \n",
              "                                                                              \n",
              "                                                                              \n",
              "                                                                              \n",
              "\n",
              "                                                                              \n",
              "                                                                              \n",
              "                                                                              \n",
              "                                                                              \n",
              "                                                                              \n",
              "─────────────────────────────────────────── - ────────────────────────────────\n",
              "       2                          2                                           \n",
              "⋅k₁⋅x₁₃  - 2⋅k₂⋅x₂₂⋅x₃₃ + 2⋅k₂⋅x₂₃  + 4⋅x₃₃   k₁⋅k₂⋅x₁₁⋅x₂₂⋅x₃₃ - k₁⋅k₂⋅x₁₁⋅x₂\n",
              "                                                                              \n",
              "                                                                              \n",
              "                                                                              \n",
              "                                                                              \n",
              "──────────────────────────────────────────────────────────────────────────────\n",
              "                                                                              \n",
              "                                                                              \n",
              "                                                                              \n",
              "                                                                              \n",
              "                                                                              \n",
              "                                                                              \n",
              "\n",
              "                                                                              \n",
              "                                                                              \n",
              "                                                                              \n",
              "                 2     ⎛                         2                          ⎞ \n",
              "           k₂⋅x₁₂ ⋅x₃₃⋅⎝k₁⋅k₂⋅x₁₁⋅x₂₂ - k₁⋅k₂⋅x₁₂  - 2⋅k₁⋅x₁₁ - 2⋅k₂⋅x₂₂ + 4⎠ \n",
              "──────────────────────────────────────────────────────────────────────────────\n",
              " 2            2                                      2                        \n",
              "₃  - k₁⋅k₂⋅x₁₂ ⋅x₃₃ + 2⋅k₁⋅k₂⋅x₁₂⋅x₁₃⋅x₂₃ - k₁⋅k₂⋅x₁₃ ⋅x₂₂ - 2⋅k₁⋅x₁₁⋅x₃₃ + 2⋅\n",
              "                                                                              \n",
              "                                                                              \n",
              "                                                                              \n",
              "                                                                              \n",
              "──────────────────────────────────────────────────────────────────────────────\n",
              "                                                                              \n",
              "                                                                              \n",
              "                                                                              \n",
              "                                                                              \n",
              "                                                                              \n",
              "                                                                              \n",
              "\n",
              "                                                                              \n",
              "                                                                              \n",
              "                                                                              \n",
              "                                                                              \n",
              "                                                     2                        \n",
              "────────────────────────────────────────── + 2⋅k₂⋅x₁₂  + ─────────────────────\n",
              "      2                          2                                            \n",
              "k₁⋅x₁₃  - 2⋅k₂⋅x₂₂⋅x₃₃ + 2⋅k₂⋅x₂₃  + 4⋅x₃₃               k₁⋅k₂⋅x₁₁⋅x₂₂⋅x₃₃ - k\n",
              "                                                                              \n",
              "                                                                              \n",
              "                                                                              \n",
              "                                                                              \n",
              "──────────────────────────────────────────────────────────────────────────────\n",
              "                                                                              \n",
              "                                                                              \n",
              "                                                                              \n",
              "                                                                              \n",
              "                                                                              \n",
              "                                                                              \n",
              "\n",
              "                                                                              \n",
              "                                                                              \n",
              "                                                                              \n",
              "                                    ⎛                         2               \n",
              "                   2⋅k₂⋅x₁₂⋅x₁₃⋅x₂₃⋅⎝k₁⋅k₂⋅x₁₁⋅x₂₂ - k₁⋅k₂⋅x₁₂  - 2⋅k₁⋅x₁₁ - 2\n",
              "──────────────────────────────────────────────────────────────────────────────\n",
              "            2            2                                      2             \n",
              "₁⋅k₂⋅x₁₁⋅x₂₃  - k₁⋅k₂⋅x₁₂ ⋅x₃₃ + 2⋅k₁⋅k₂⋅x₁₂⋅x₁₃⋅x₂₃ - k₁⋅k₂⋅x₁₃ ⋅x₂₂ - 2⋅k₁⋅x\n",
              "                                                                              \n",
              "                                                                              \n",
              "                                                                              \n",
              "                                                                              \n",
              "──────────────────────────────────────────────────────────────────────────────\n",
              "                                                                              \n",
              "                                                                              \n",
              "                                                                              \n",
              "                                                                              \n",
              "                                                                              \n",
              "                                                                              \n",
              "\n",
              "                                                                              \n",
              "                                                                              \n",
              "                                                                              \n",
              "           ⎞                                                                  \n",
              "⋅k₂⋅x₂₂ + 4⎠                                                                  \n",
              "───────────────────────────────────────────────────── - ──────────────────────\n",
              "                 2                          2                                 \n",
              "₁₁⋅x₃₃ + 2⋅k₁⋅x₁₃  - 2⋅k₂⋅x₂₂⋅x₃₃ + 2⋅k₂⋅x₂₃  + 4⋅x₃₃   k₁⋅k₂⋅x₁₁⋅x₂₂⋅x₃₃ - k₁\n",
              "                                                                              \n",
              "                                                                              \n",
              "                                                                              \n",
              "                                                                              \n",
              "──────────────────────────────────────────────────────────────────────────────\n",
              "                                                                              \n",
              "                                                                              \n",
              "                                                                              \n",
              "                                                                              \n",
              "                                                                              \n",
              "                                                                              \n",
              "\n",
              "                                                                              \n",
              "                                                                              \n",
              "                                                                              \n",
              "                           2     ⎛                         2                  \n",
              "                     k₂⋅x₁₃ ⋅x₂₂⋅⎝k₁⋅k₂⋅x₁₁⋅x₂₂ - k₁⋅k₂⋅x₁₂  - 2⋅k₁⋅x₁₁ - 2⋅k₂\n",
              "──────────────────────────────────────────────────────────────────────────────\n",
              "           2            2                                      2              \n",
              "⋅k₂⋅x₁₁⋅x₂₃  - k₁⋅k₂⋅x₁₂ ⋅x₃₃ + 2⋅k₁⋅k₂⋅x₁₂⋅x₁₃⋅x₂₃ - k₁⋅k₂⋅x₁₃ ⋅x₂₂ - 2⋅k₁⋅x₁\n",
              "                                                                              \n",
              "                                                                              \n",
              "                                                                              \n",
              "                                                                              \n",
              "──────────────────────────────────────────────────────────────────────────────\n",
              "                                                                              \n",
              "                                                                              \n",
              "                                                                              \n",
              "                                                                              \n",
              "                                                                              \n",
              "                                                                              \n",
              "\n",
              "                                                                              \n",
              "                                                                              \n",
              "                                                                              \n",
              "        ⎞                                                                     \n",
              "⋅x₂₂ + 4⎠                                                                     \n",
              "──────────────────────────────────────────────────── - ───────────────────────\n",
              "                2                          2                                  \n",
              "₁⋅x₃₃ + 2⋅k₁⋅x₁₃  - 2⋅k₂⋅x₂₂⋅x₃₃ + 2⋅k₂⋅x₂₃  + 4⋅x₃₃   k₁⋅k₂⋅x₁₁⋅x₂₂⋅x₃₃ - k₁⋅\n",
              "                                                                              \n",
              "                                                                              \n",
              "                                                                              \n",
              "                                                                              \n",
              "──────────────────────────────────────────────────────────────────────────────\n",
              "                                                                              \n",
              "                                                                              \n",
              "                                                                              \n",
              "                                                                              \n",
              "                                                                              \n",
              "                                                                              \n",
              "\n",
              "                                                                              \n",
              "                                                                              \n",
              "                                                                              \n",
              "                               ⎛                         2                    \n",
              "                     2⋅x₁₁⋅x₃₃⋅⎝k₁⋅k₂⋅x₁₁⋅x₂₂ - k₁⋅k₂⋅x₁₂  - 2⋅k₁⋅x₁₁ - 2⋅k₂⋅x\n",
              "──────────────────────────────────────────────────────────────────────────────\n",
              "          2            2                                      2               \n",
              "k₂⋅x₁₁⋅x₂₃  - k₁⋅k₂⋅x₁₂ ⋅x₃₃ + 2⋅k₁⋅k₂⋅x₁₂⋅x₁₃⋅x₂₃ - k₁⋅k₂⋅x₁₃ ⋅x₂₂ - 2⋅k₁⋅x₁₁\n",
              "                                                                              \n",
              "                                                                              \n",
              "                                                                              \n",
              "                                                                              \n",
              "──────────────────────────────────────────────────────────────────────────────\n",
              "                                                                              \n",
              "                                                                              \n",
              "                                                                              \n",
              "                                                                              \n",
              "                                                                              \n",
              "                                                                              \n",
              "\n",
              "                                                                              \n",
              "                                                                              \n",
              "                                                                              \n",
              "      ⎞                                                                       \n",
              "₂₂ + 4⎠                                                                       \n",
              "─────────────────────────────────────────────────── + 4⋅x₁₁ + ────────────────\n",
              "               2                          2                                   \n",
              "⋅x₃₃ + 2⋅k₁⋅x₁₃  - 2⋅k₂⋅x₂₂⋅x₃₃ + 2⋅k₂⋅x₂₃  + 4⋅x₃₃           k₁⋅k₂⋅x₁₁⋅x₂₂⋅x₃\n",
              "                                                                              \n",
              "                                                                              \n",
              "                                                                              \n",
              "                                                                              \n",
              "──────────────────────────────────────────────────────────────────────────────\n",
              "                                                                              \n",
              "                                                                              \n",
              "                                                                              \n",
              "                                                                              \n",
              "                                                                              \n",
              "                                                                              \n",
              "\n",
              "                                                                              \n",
              "                                                                              \n",
              "                                                                              \n",
              "                                  2 ⎛                         2               \n",
              "                             2⋅x₁₃ ⋅⎝k₁⋅k₂⋅x₁₁⋅x₂₂ - k₁⋅k₂⋅x₁₂  - 2⋅k₁⋅x₁₁ - 2\n",
              "──────────────────────────────────────────────────────────────────────────────\n",
              "                 2            2                                      2        \n",
              "₃ - k₁⋅k₂⋅x₁₁⋅x₂₃  - k₁⋅k₂⋅x₁₂ ⋅x₃₃ + 2⋅k₁⋅k₂⋅x₁₂⋅x₁₃⋅x₂₃ - k₁⋅k₂⋅x₁₃ ⋅x₂₂ - 2\n",
              "                                                                              \n",
              "                                                                              \n",
              "                                                                              \n",
              "                                                                              \n",
              "──────────────────────────────────────────────────────────────────────────────\n",
              "                                                                              \n",
              "                                                                              \n",
              "                                                                              \n",
              "                                                                              \n",
              "                                                                              \n",
              "                                                                              \n",
              "\n",
              "                                                                              \n",
              "                                                                              \n",
              "                                                                              \n",
              "           ⎞                                              ⎞   ⎛               \n",
              "⋅k₂⋅x₂₂ + 4⎠                                              ⎟   ⎜               \n",
              "──────────────────────────────────────────────────────────⎟ - ⎜- ─────────────\n",
              "                      2                          2        ⎟   ⎜               \n",
              "⋅k₁⋅x₁₁⋅x₃₃ + 2⋅k₁⋅x₁₃  - 2⋅k₂⋅x₂₂⋅x₃₃ + 2⋅k₂⋅x₂₃  + 4⋅x₃₃⎠   ⎝  k₁⋅k₂⋅x₁₁⋅x₂₂\n",
              "                                                                              \n",
              "                                                                              \n",
              "                                                                              \n",
              "                                                                              \n",
              "──────────────────────────────────────────────────────────────────────────────\n",
              "                                                                              \n",
              "                                                                              \n",
              "                                                                              \n",
              "                                                                              \n",
              "                                                                              \n",
              "                                                                              \n",
              "\n",
              "                                                                              \n",
              "                                                                              \n",
              "                                                                              \n",
              "                                         ⎛                         2          \n",
              "                              k₂⋅x₂₂⋅x₃₃⋅⎝k₁⋅k₂⋅x₁₁⋅x₂₂ - k₁⋅k₂⋅x₁₂  - 2⋅k₁⋅x₁\n",
              "──────────────────────────────────────────────────────────────────────────────\n",
              "                    2            2                                      2     \n",
              "⋅x₃₃ - k₁⋅k₂⋅x₁₁⋅x₂₃  - k₁⋅k₂⋅x₁₂ ⋅x₃₃ + 2⋅k₁⋅k₂⋅x₁₂⋅x₁₃⋅x₂₃ - k₁⋅k₂⋅x₁₃ ⋅x₂₂ \n",
              "                                                                              \n",
              "                                                                              \n",
              "                                                                              \n",
              "                                                                              \n",
              "──────────────────────────────────────────────────────────────────────────────\n",
              "                                                                              \n",
              "                                                                              \n",
              "                                                                              \n",
              "                                                                              \n",
              "                                                                              \n",
              "                                                                              \n",
              "\n",
              "                                                                              \n",
              "                                                                              \n",
              "                                                                              \n",
              "                ⎞                                                             \n",
              "₁ - 2⋅k₂⋅x₂₂ + 4⎠                                                             \n",
              "───────────────────────────────────────────────────────────── + 2⋅k₂⋅x₂₂ + ───\n",
              "                         2                          2                         \n",
              "- 2⋅k₁⋅x₁₁⋅x₃₃ + 2⋅k₁⋅x₁₃  - 2⋅k₂⋅x₂₂⋅x₃₃ + 2⋅k₂⋅x₂₃  + 4⋅x₃₃              k₁⋅\n",
              "                                                                              \n",
              "                                                                              \n",
              "                                                                              \n",
              "                                                                              \n",
              "──────────────────────────────────────────────────────────────────────────────\n",
              "                                                                              \n",
              "                                                                              \n",
              "                                                                              \n",
              "                                                                              \n",
              "                                                                              \n",
              "                                                                              \n",
              "\n",
              "                                                                              \n",
              "                                                                              \n",
              "                                                                              \n",
              "                                                2 ⎛                         2 \n",
              "                                          k₂⋅x₂₃ ⋅⎝k₁⋅k₂⋅x₁₁⋅x₂₂ - k₁⋅k₂⋅x₁₂  \n",
              "──────────────────────────────────────────────────────────────────────────────\n",
              "                              2            2                                  \n",
              "k₂⋅x₁₁⋅x₂₂⋅x₃₃ - k₁⋅k₂⋅x₁₁⋅x₂₃  - k₁⋅k₂⋅x₁₂ ⋅x₃₃ + 2⋅k₁⋅k₂⋅x₁₂⋅x₁₃⋅x₂₃ - k₁⋅k₂\n",
              "                                                                              \n",
              "                                                                              \n",
              "                                                                              \n",
              "                                                                              \n",
              "──────────────────────────────────────────────────────────────────────────────\n",
              "                                                                              \n",
              "                                                                              \n",
              "                                                                              \n",
              "                                                                              \n",
              "                                                                              \n",
              "                                                                              \n",
              "\n",
              "                                                                              \n",
              "                                                                              \n",
              "                                                                              \n",
              "                         ⎞                                                    \n",
              "- 2⋅k₁⋅x₁₁ - 2⋅k₂⋅x₂₂ + 4⎠                                                    \n",
              "─────────────────────────────────────────────────────────────────────── + ────\n",
              "    2                              2                          2               \n",
              "⋅x₁₃ ⋅x₂₂ - 2⋅k₁⋅x₁₁⋅x₃₃ + 2⋅k₁⋅x₁₃  - 2⋅k₂⋅x₂₂⋅x₃₃ + 2⋅k₂⋅x₂₃  + 4⋅x₃₃   k₁⋅k\n",
              "                                                                              \n",
              "                                                                              \n",
              "                                                                              \n",
              "                                                                              \n",
              "──────────────────────────────────────────────────────────────────────────────\n",
              "                                                                              \n",
              "                                                                              \n",
              "                                                                              \n",
              "                                                                              \n",
              "                                                                              \n",
              "                                                                              \n",
              "\n",
              "                                                                              \n",
              "                                                                              \n",
              "                                                                              \n",
              "                                                ⎛                         2   \n",
              "                                          2⋅x₃₃⋅⎝k₁⋅k₂⋅x₁₁⋅x₂₂ - k₁⋅k₂⋅x₁₂  - \n",
              "──────────────────────────────────────────────────────────────────────────────\n",
              "                             2            2                                   \n",
              "₂⋅x₁₁⋅x₂₂⋅x₃₃ - k₁⋅k₂⋅x₁₁⋅x₂₃  - k₁⋅k₂⋅x₁₂ ⋅x₃₃ + 2⋅k₁⋅k₂⋅x₁₂⋅x₁₃⋅x₂₃ - k₁⋅k₂⋅\n",
              "                                                                              \n",
              "                                                                              \n",
              "                                                                              \n",
              "                                                                              \n",
              "──────────────────────────────────────────────────────────────────────────────\n",
              "                                                                              \n",
              "                                          ⎛                                   \n",
              "                                          ⎜                                   \n",
              "                                          ⎜───────────────────────────────────\n",
              "                                          ⎜                                 2 \n",
              "                                          ⎝k₁⋅k₂⋅x₁₁⋅x₂₂⋅x₃₃ - k₁⋅k₂⋅x₁₁⋅x₂₃  \n",
              "\n",
              "                                                                              \n",
              "                                                                              \n",
              "                                                                              \n",
              "                       ⎞                                                  ⎞   \n",
              "2⋅k₁⋅x₁₁ - 2⋅k₂⋅x₂₂ + 4⎠                                                  ⎟ ⎛ \n",
              "────────────────────────────────────────────────────────────────────── - 4⎟⋅⎝-\n",
              "   2                              2                          2            ⎟   \n",
              "x₁₃ ⋅x₂₂ - 2⋅k₁⋅x₁₁⋅x₃₃ + 2⋅k₁⋅x₁₃  - 2⋅k₂⋅x₂₂⋅x₃₃ + 2⋅k₂⋅x₂₃  + 4⋅x₃₃    ⎠   \n",
              "                                                                              \n",
              "                                                                              \n",
              "                                                                              \n",
              "                                                                              \n",
              "──────────────────────────────────────────────────────────────────────────────\n",
              "                                                                              \n",
              "                     ⎛                         2                          ⎞   \n",
              "      k₂⋅x₁₁⋅x₂₂⋅x₃₃⋅⎝k₁⋅k₂⋅x₁₁⋅x₂₂ - k₁⋅k₂⋅x₁₂  - 2⋅k₁⋅x₁₁ - 2⋅k₂⋅x₂₂ + 4⎠   \n",
              "──────────────────────────────────────────────────────────────────────────────\n",
              "           2                                      2                           \n",
              "- k₁⋅k₂⋅x₁₂ ⋅x₃₃ + 2⋅k₁⋅k₂⋅x₁₂⋅x₁₃⋅x₂₃ - k₁⋅k₂⋅x₁₃ ⋅x₂₂ - 2⋅k₁⋅x₁₁⋅x₃₃ + 2⋅k₁⋅\n",
              "\n",
              "                                                                              \n",
              "                                                                              \n",
              "                                                                              \n",
              "                                                                              \n",
              "                           2         2                                2       \n",
              "k₂⋅x₁₁⋅x₂₂⋅x₃₃ + k₂⋅x₁₁⋅x₂₃  + k₂⋅x₁₂ ⋅x₃₃ - 2⋅k₂⋅x₁₂⋅x₁₃⋅x₂₃ + k₂⋅x₁₃ ⋅x₂₂ + \n",
              "                                                                              \n",
              "                                                                              \n",
              "                                                                              \n",
              "                                                                              \n",
              "                                                                              \n",
              "                                                                              \n",
              "──────────────────────────────────────────────────────────────────────────────\n",
              "                                                                              \n",
              "                                                                              \n",
              "                                                                              \n",
              "─────────────────────────────────────── - 2⋅k₂⋅x₁₁⋅x₂₂ - ─────────────────────\n",
              "   2                          2                                               \n",
              "x₁₃  - 2⋅k₂⋅x₂₂⋅x₃₃ + 2⋅k₂⋅x₂₃  + 4⋅x₃₃                  k₁⋅k₂⋅x₁₁⋅x₂₂⋅x₃₃ - k\n",
              "\n",
              "                     ⎛⎛                               ⎛                       \n",
              "                     ⎜⎜⎛                   2        ⎞ ⎜                       \n",
              "                     ⎜⎜⎝k₁⋅x₁₁⋅x₂₂ - k₁⋅x₁₂  - 2⋅x₂₂⎠⋅⎜───────────────────────\n",
              "                   ⎞ ⎜⎜                               ⎜                       \n",
              "                 2⎞⎟ ⎜⎝                               ⎝k₁⋅k₃⋅x₁₁⋅x₂₂⋅x₃₃ - k₁⋅\n",
              "2⋅x₁₁⋅x₃₃ - 2⋅x₁₃ ⎠⎟⋅⎜────────────────────────────────────────────────────────\n",
              "                   ⎟ ⎜                                                        \n",
              "                   ⎠ ⎜                                                        \n",
              "                     ⎜                                                        \n",
              "                     ⎜                                                        \n",
              "                     ⎜                                                        \n",
              "                     ⎝                                                        \n",
              "──────────────────────────────────────────────────────────────────────────────\n",
              "                                                                              \n",
              "                                2 ⎛                         2                 \n",
              "                      k₂⋅x₁₁⋅x₂₃ ⋅⎝k₁⋅k₂⋅x₁₁⋅x₂₂ - k₁⋅k₂⋅x₁₂  - 2⋅k₁⋅x₁₁ - 2⋅k\n",
              "──────────────────────────────────────────────────────────────────────────────\n",
              "            2            2                                      2             \n",
              "₁⋅k₂⋅x₁₁⋅x₂₃  - k₁⋅k₂⋅x₁₂ ⋅x₃₃ + 2⋅k₁⋅k₂⋅x₁₂⋅x₁₃⋅x₂₃ - k₁⋅k₂⋅x₁₃ ⋅x₂₂ - 2⋅k₁⋅x\n",
              "\n",
              "                                 ⎛                         2                  \n",
              "                  k₁⋅x₁₁⋅x₂₂⋅x₃₃⋅⎝k₁⋅k₃⋅x₁₁⋅x₃₃ - k₁⋅k₃⋅x₁₃  - 2⋅k₁⋅x₁₁ - 2⋅k₃\n",
              "──────────────────────────────────────────────────────────────────────────────\n",
              "          2            2                                      2               \n",
              "k₃⋅x₁₁⋅x₂₃  - k₁⋅k₃⋅x₁₂ ⋅x₃₃ + 2⋅k₁⋅k₃⋅x₁₂⋅x₁₃⋅x₂₃ - k₁⋅k₃⋅x₁₃ ⋅x₂₂ - 2⋅k₁⋅x₁₁\n",
              "──────────────────────────────────────────────────────────────────────────────\n",
              "                                                                              \n",
              "                                                                              \n",
              "                                                                              \n",
              "                                                                              \n",
              "                                                                              \n",
              "                                                                              \n",
              "──────────────────────────────────────────────────────────────────────────────\n",
              "                                                                              \n",
              "         ⎞                                                                    \n",
              "₂⋅x₂₂ + 4⎠                                                                    \n",
              "───────────────────────────────────────────────────── - ──────────────────────\n",
              "                 2                          2                                 \n",
              "₁₁⋅x₃₃ + 2⋅k₁⋅x₁₃  - 2⋅k₂⋅x₂₂⋅x₃₃ + 2⋅k₂⋅x₂₃  + 4⋅x₃₃   k₁⋅k₂⋅x₁₁⋅x₂₂⋅x₃₃ - k₁\n",
              "\n",
              "        ⎞                                                                     \n",
              "⋅x₃₃ + 4⎠                                                                     \n",
              "─────────────────────────────────────────────────── - ────────────────────────\n",
              "               2                          2                                   \n",
              "⋅x₂₂ + 2⋅k₁⋅x₁₂  - 2⋅k₃⋅x₂₂⋅x₃₃ + 2⋅k₃⋅x₂₃  + 4⋅x₂₂   k₁⋅k₃⋅x₁₁⋅x₂₂⋅x₃₃ - k₁⋅k\n",
              "──────────────────────────────────────────────────────────────────────────────\n",
              "                                                                              \n",
              "                                                                              \n",
              "                                                                              \n",
              "                                                                              \n",
              "                                                                              \n",
              "                                                                              \n",
              "──────────────────────────────────────────────────────────────────────────────\n",
              "                                                                              \n",
              "                           2     ⎛                         2                  \n",
              "                     k₂⋅x₁₂ ⋅x₃₃⋅⎝k₁⋅k₂⋅x₁₁⋅x₂₂ - k₁⋅k₂⋅x₁₂  - 2⋅k₁⋅x₁₁ - 2⋅k₂\n",
              "──────────────────────────────────────────────────────────────────────────────\n",
              "           2            2                                      2              \n",
              "⋅k₂⋅x₁₁⋅x₂₃  - k₁⋅k₂⋅x₁₂ ⋅x₃₃ + 2⋅k₁⋅k₂⋅x₁₂⋅x₁₃⋅x₂₃ - k₁⋅k₂⋅x₁₃ ⋅x₂₂ - 2⋅k₁⋅x₁\n",
              "\n",
              "                             2 ⎛                         2                    \n",
              "                   k₁⋅x₁₁⋅x₂₃ ⋅⎝k₁⋅k₃⋅x₁₁⋅x₃₃ - k₁⋅k₃⋅x₁₃  - 2⋅k₁⋅x₁₁ - 2⋅k₃⋅x\n",
              "──────────────────────────────────────────────────────────────────────────────\n",
              "         2            2                                      2                \n",
              "₃⋅x₁₁⋅x₂₃  - k₁⋅k₃⋅x₁₂ ⋅x₃₃ + 2⋅k₁⋅k₃⋅x₁₂⋅x₁₃⋅x₂₃ - k₁⋅k₃⋅x₁₃ ⋅x₂₂ - 2⋅k₁⋅x₁₁⋅\n",
              "──────────────────────────────────────────────────────────────────────────────\n",
              "                                                                              \n",
              "                                                                              \n",
              "                                                                              \n",
              "                                                                              \n",
              "                                                                              \n",
              "                                                                              \n",
              "──────────────────────────────────────────────────────────────────────────────\n",
              "                                                                              \n",
              "        ⎞                                                                     \n",
              "⋅x₂₂ + 4⎠                                                      2              \n",
              "──────────────────────────────────────────────────── + 2⋅k₂⋅x₁₂  + ───────────\n",
              "                2                          2                                  \n",
              "₁⋅x₃₃ + 2⋅k₁⋅x₁₃  - 2⋅k₂⋅x₂₂⋅x₃₃ + 2⋅k₂⋅x₂₃  + 4⋅x₃₃               k₁⋅k₂⋅x₁₁⋅x\n",
              "\n",
              "      ⎞                                                                       \n",
              "₃₃ + 4⎠                                                                       \n",
              "────────────────────────────────────────────────── - 2⋅k₁⋅x₁₁⋅x₃₃ - ──────────\n",
              "              2                          2                                    \n",
              "x₂₂ + 2⋅k₁⋅x₁₂  - 2⋅k₃⋅x₂₂⋅x₃₃ + 2⋅k₃⋅x₂₃  + 4⋅x₂₂                  k₁⋅k₃⋅x₁₁⋅\n",
              "──────────────────────────────────────────────────────────────────────────────\n",
              "                                                                              \n",
              "                                                                              \n",
              "                                                                              \n",
              "                                                                              \n",
              "                                                                              \n",
              "                                                                              \n",
              "──────────────────────────────────────────────────────────────────────────────\n",
              "                                                                              \n",
              "                                              ⎛                         2     \n",
              "                             2⋅k₂⋅x₁₂⋅x₁₃⋅x₂₃⋅⎝k₁⋅k₂⋅x₁₁⋅x₂₂ - k₁⋅k₂⋅x₁₂  - 2⋅\n",
              "──────────────────────────────────────────────────────────────────────────────\n",
              "                      2            2                                      2   \n",
              "₂₂⋅x₃₃ - k₁⋅k₂⋅x₁₁⋅x₂₃  - k₁⋅k₂⋅x₁₂ ⋅x₃₃ + 2⋅k₁⋅k₂⋅x₁₂⋅x₁₃⋅x₂₃ - k₁⋅k₂⋅x₁₃ ⋅x₂\n",
              "\n",
              "                                       2     ⎛                         2      \n",
              "                                 k₁⋅x₁₂ ⋅x₃₃⋅⎝k₁⋅k₃⋅x₁₁⋅x₃₃ - k₁⋅k₃⋅x₁₃  - 2⋅k\n",
              "──────────────────────────────────────────────────────────────────────────────\n",
              "                       2            2                                      2  \n",
              "x₂₂⋅x₃₃ - k₁⋅k₃⋅x₁₁⋅x₂₃  - k₁⋅k₃⋅x₁₂ ⋅x₃₃ + 2⋅k₁⋅k₃⋅x₁₂⋅x₁₃⋅x₂₃ - k₁⋅k₃⋅x₁₃ ⋅x\n",
              "──────────────────────────────────────────────────────────────────────────────\n",
              "                                                                              \n",
              "                                                                              \n",
              "                                   ⎛                                 2        \n",
              "                                   ⎝k₁⋅k₃⋅x₁₁⋅x₂₂⋅x₃₃ - k₁⋅k₃⋅x₁₁⋅x₂₃  - k₁⋅k₃\n",
              "                                                                              \n",
              "                                                                              \n",
              "──────────────────────────────────────────────────────────────────────────────\n",
              "                                                                              \n",
              "                     ⎞                                                        \n",
              "k₁⋅x₁₁ - 2⋅k₂⋅x₂₂ + 4⎠                                                        \n",
              "─────────────────────────────────────────────────────────────── - ────────────\n",
              "                           2                          2                       \n",
              "₂ - 2⋅k₁⋅x₁₁⋅x₃₃ + 2⋅k₁⋅x₁₃  - 2⋅k₂⋅x₂₂⋅x₃₃ + 2⋅k₂⋅x₂₃  + 4⋅x₃₃   k₁⋅k₂⋅x₁₁⋅x₂\n",
              "\n",
              "                    ⎞                                                         \n",
              "₁⋅x₁₁ - 2⋅k₃⋅x₃₃ + 4⎠                                                         \n",
              "──────────────────────────────────────────────────────────────── + ───────────\n",
              "                            2                          2                      \n",
              "₂₂ - 2⋅k₁⋅x₁₁⋅x₂₂ + 2⋅k₁⋅x₁₂  - 2⋅k₃⋅x₂₂⋅x₃₃ + 2⋅k₃⋅x₂₃  + 4⋅x₂₂   k₁⋅k₃⋅x₁₁⋅x\n",
              "──────────────────────────────────────────────────────────────────────────────\n",
              "                                                                              \n",
              "                                                                              \n",
              "    2                                      2                              2   \n",
              "⋅x₁₂ ⋅x₃₃ + 2⋅k₁⋅k₃⋅x₁₂⋅x₁₃⋅x₂₃ - k₁⋅k₃⋅x₁₃ ⋅x₂₂ - 2⋅k₁⋅x₁₁⋅x₂₂ + 2⋅k₁⋅x₁₂  - \n",
              "                                                                              \n",
              "                                                                              \n",
              "──────────────────────────────────────────────────────────────────────────────\n",
              "                                                                              \n",
              "                                     2     ⎛                         2        \n",
              "                               k₂⋅x₁₃ ⋅x₂₂⋅⎝k₁⋅k₂⋅x₁₁⋅x₂₂ - k₁⋅k₂⋅x₁₂  - 2⋅k₁⋅\n",
              "──────────────────────────────────────────────────────────────────────────────\n",
              "                     2            2                                      2    \n",
              "₂⋅x₃₃ - k₁⋅k₂⋅x₁₁⋅x₂₃  - k₁⋅k₂⋅x₁₂ ⋅x₃₃ + 2⋅k₁⋅k₂⋅x₁₂⋅x₁₃⋅x₂₃ - k₁⋅k₂⋅x₁₃ ⋅x₂₂\n",
              "\n",
              "                                              ⎛                         2     \n",
              "                             2⋅k₁⋅x₁₂⋅x₁₃⋅x₂₃⋅⎝k₁⋅k₃⋅x₁₁⋅x₃₃ - k₁⋅k₃⋅x₁₃  - 2⋅\n",
              "──────────────────────────────────────────────────────────────────────────────\n",
              "                      2            2                                      2   \n",
              "₂₂⋅x₃₃ - k₁⋅k₃⋅x₁₁⋅x₂₃  - k₁⋅k₃⋅x₁₂ ⋅x₃₃ + 2⋅k₁⋅k₃⋅x₁₂⋅x₁₃⋅x₂₃ - k₁⋅k₃⋅x₁₃ ⋅x₂\n",
              "──────────────────────────────────────────────────────────────────────────────\n",
              "                                                                              \n",
              "                                 2 ⎛                                          \n",
              "                       2        ⎞  ⎜                                         k\n",
              "2⋅k₃⋅x₂₂⋅x₃₃ + 2⋅k₃⋅x₂₃  + 4⋅x₂₂⎠ ⋅⎜──────────────────────────────────────────\n",
              "                                   ⎜                                 2        \n",
              "                                   ⎝k₁⋅k₃⋅x₁₁⋅x₂₂⋅x₃₃ - k₁⋅k₃⋅x₁₁⋅x₂₃  - k₁⋅k₃\n",
              "──────────────────────────────────────────────────────────────────────────────\n",
              "                                                                              \n",
              "                  ⎞                                                           \n",
              "x₁₁ - 2⋅k₂⋅x₂₂ + 4⎠                                                           \n",
              "────────────────────────────────────────────────────────────── - ─────────────\n",
              "                          2                          2                        \n",
              " - 2⋅k₁⋅x₁₁⋅x₃₃ + 2⋅k₁⋅x₁₃  - 2⋅k₂⋅x₂₂⋅x₃₃ + 2⋅k₂⋅x₂₃  + 4⋅x₃₃   k₁⋅k₂⋅x₁₁⋅x₂₂\n",
              "\n",
              "                     ⎞                                                        \n",
              "k₁⋅x₁₁ - 2⋅k₃⋅x₃₃ + 4⎠                                                        \n",
              "─────────────────────────────────────────────────────────────── - ────────────\n",
              "                           2                          2                       \n",
              "₂ - 2⋅k₁⋅x₁₁⋅x₂₂ + 2⋅k₁⋅x₁₂  - 2⋅k₃⋅x₂₂⋅x₃₃ + 2⋅k₃⋅x₂₃  + 4⋅x₂₂   k₁⋅k₃⋅x₁₁⋅x₂\n",
              "──────────────────────────────────────────────────────────────────────────────\n",
              "                                                                              \n",
              "              ⎛                         2                          ⎞          \n",
              "₁⋅x₁₁⋅x₂₂⋅x₃₃⋅⎝k₁⋅k₃⋅x₁₁⋅x₃₃ - k₁⋅k₃⋅x₁₃  - 2⋅k₁⋅x₁₁ - 2⋅k₃⋅x₃₃ + 4⎠          \n",
              "──────────────────────────────────────────────────────────────────────────────\n",
              "    2                                      2                              2   \n",
              "⋅x₁₂ ⋅x₃₃ + 2⋅k₁⋅k₃⋅x₁₂⋅x₁₃⋅x₂₃ - k₁⋅k₃⋅x₁₃ ⋅x₂₂ - 2⋅k₁⋅x₁₁⋅x₂₂ + 2⋅k₁⋅x₁₂  - \n",
              "──────────────────────────────────────────────────────────────────────────────\n",
              "                                                                              \n",
              "                                         ⎛                         2          \n",
              "                               2⋅x₁₁⋅x₃₃⋅⎝k₁⋅k₂⋅x₁₁⋅x₂₂ - k₁⋅k₂⋅x₁₂  - 2⋅k₁⋅x₁\n",
              "──────────────────────────────────────────────────────────────────────────────\n",
              "                    2            2                                      2     \n",
              "⋅x₃₃ - k₁⋅k₂⋅x₁₁⋅x₂₃  - k₁⋅k₂⋅x₁₂ ⋅x₃₃ + 2⋅k₁⋅k₂⋅x₁₂⋅x₁₃⋅x₂₃ - k₁⋅k₂⋅x₁₃ ⋅x₂₂ \n",
              "\n",
              "                                     2     ⎛                         2        \n",
              "                               k₁⋅x₁₃ ⋅x₂₂⋅⎝k₁⋅k₃⋅x₁₁⋅x₃₃ - k₁⋅k₃⋅x₁₃  - 2⋅k₁⋅\n",
              "──────────────────────────────────────────────────────────────────────────────\n",
              "                     2            2                                      2    \n",
              "₂⋅x₃₃ - k₁⋅k₃⋅x₁₁⋅x₂₃  - k₁⋅k₃⋅x₁₂ ⋅x₃₃ + 2⋅k₁⋅k₃⋅x₁₂⋅x₁₃⋅x₂₃ - k₁⋅k₃⋅x₁₃ ⋅x₂₂\n",
              "──────────────────────────────────────────────────────────────────────────────\n",
              "                                                                              \n",
              "                                                                              \n",
              "                                                                              \n",
              "──────────────────────────────── - ───────────────────────────────────────────\n",
              "                       2                                            2         \n",
              "2⋅k₃⋅x₂₂⋅x₃₃ + 2⋅k₃⋅x₂₃  + 4⋅x₂₂   k₁⋅k₃⋅x₁₁⋅x₂₂⋅x₃₃ - k₁⋅k₃⋅x₁₁⋅x₂₃  - k₁⋅k₃⋅\n",
              "──────────────────────────────────────────────────────────────────────────────\n",
              "                                                                              \n",
              "                ⎞                                                             \n",
              "₁ - 2⋅k₂⋅x₂₂ + 4⎠                                                             \n",
              "───────────────────────────────────────────────────────────── + 4⋅x₁₁ + ──────\n",
              "                         2                          2                         \n",
              "- 2⋅k₁⋅x₁₁⋅x₃₃ + 2⋅k₁⋅x₁₃  - 2⋅k₂⋅x₂₂⋅x₃₃ + 2⋅k₂⋅x₂₃  + 4⋅x₃₃           k₁⋅k₂⋅\n",
              "\n",
              "                  ⎞                                                           \n",
              "x₁₁ - 2⋅k₃⋅x₃₃ + 4⎠                                                      2    \n",
              "────────────────────────────────────────────────────────────── + 2⋅k₁⋅x₁₃  - ─\n",
              "                          2                          2                        \n",
              " - 2⋅k₁⋅x₁₁⋅x₂₂ + 2⋅k₁⋅x₁₂  - 2⋅k₃⋅x₂₂⋅x₃₃ + 2⋅k₃⋅x₂₃  + 4⋅x₂₂               k\n",
              "──────────────────────────────────────────────────────────────────────────────\n",
              "                                                                              \n",
              "          2 ⎛                         2                          ⎞            \n",
              "k₁⋅x₁₁⋅x₂₃ ⋅⎝k₁⋅k₃⋅x₁₁⋅x₃₃ - k₁⋅k₃⋅x₁₃  - 2⋅k₁⋅x₁₁ - 2⋅k₃⋅x₃₃ + 4⎠            \n",
              "──────────────────────────────────────────────────────────────────────────────\n",
              "   2                                      2                              2    \n",
              "x₁₂ ⋅x₃₃ + 2⋅k₁⋅k₃⋅x₁₂⋅x₁₃⋅x₂₃ - k₁⋅k₃⋅x₁₃ ⋅x₂₂ - 2⋅k₁⋅x₁₁⋅x₂₂ + 2⋅k₁⋅x₁₂  - 2\n",
              "──────────────────────────────────────────────────────────────────────────────\n",
              "                                                                              \n",
              "                                            2 ⎛                         2     \n",
              "                                       2⋅x₁₃ ⋅⎝k₁⋅k₂⋅x₁₁⋅x₂₂ - k₁⋅k₂⋅x₁₂  - 2⋅\n",
              "──────────────────────────────────────────────────────────────────────────────\n",
              "                           2            2                                     \n",
              "x₁₁⋅x₂₂⋅x₃₃ - k₁⋅k₂⋅x₁₁⋅x₂₃  - k₁⋅k₂⋅x₁₂ ⋅x₃₃ + 2⋅k₁⋅k₂⋅x₁₂⋅x₁₃⋅x₂₃ - k₁⋅k₂⋅x₁\n",
              "\n",
              "                                                     ⎛                        \n",
              "                                           2⋅x₂₂⋅x₃₃⋅⎝k₁⋅k₃⋅x₁₁⋅x₃₃ - k₁⋅k₃⋅x₁\n",
              "──────────────────────────────────────────────────────────────────────────────\n",
              "                                2            2                                \n",
              "₁⋅k₃⋅x₁₁⋅x₂₂⋅x₃₃ - k₁⋅k₃⋅x₁₁⋅x₂₃  - k₁⋅k₃⋅x₁₂ ⋅x₃₃ + 2⋅k₁⋅k₃⋅x₁₂⋅x₁₃⋅x₂₃ - k₁⋅\n",
              "──────────────────────────────────────────────────────────────────────────────\n",
              "                                                                              \n",
              "                                                                              \n",
              "                                                                              \n",
              "─────────────────────────────── - 2⋅k₁⋅x₁₁⋅x₃₃ - ─────────────────────────────\n",
              "                      2                                                       \n",
              "⋅k₃⋅x₂₂⋅x₃₃ + 2⋅k₃⋅x₂₃  + 4⋅x₂₂                  k₁⋅k₃⋅x₁₁⋅x₂₂⋅x₃₃ - k₁⋅k₃⋅x₁₁\n",
              "──────────────────────────────────────────────────────────────────────────────\n",
              "                                                                     2        \n",
              "                     ⎞                                              ⎞         \n",
              "k₁⋅x₁₁ - 2⋅k₂⋅x₂₂ + 4⎠                                              ⎟         \n",
              "────────────────────────────────────────────────────────────────────⎟         \n",
              " 2                              2                          2        ⎟         \n",
              "₃ ⋅x₂₂ - 2⋅k₁⋅x₁₁⋅x₃₃ + 2⋅k₁⋅x₁₃  - 2⋅k₂⋅x₂₂⋅x₃₃ + 2⋅k₂⋅x₂₃  + 4⋅x₃₃⎠         \n",
              "\n",
              " 2                          ⎞                                                 \n",
              "₃  - 2⋅k₁⋅x₁₁ - 2⋅k₃⋅x₃₃ + 4⎠                                                 \n",
              "───────────────────────────────────────────────────────────────────────── + ──\n",
              "      2                              2                          2             \n",
              "k₃⋅x₁₃ ⋅x₂₂ - 2⋅k₁⋅x₁₁⋅x₂₂ + 2⋅k₁⋅x₁₂  - 2⋅k₃⋅x₂₂⋅x₃₃ + 2⋅k₃⋅x₂₃  + 4⋅x₂₂   k₁\n",
              "──────────────────────────────────────────────────────────────────────────────\n",
              "                                                                              \n",
              "                    2     ⎛                         2                         \n",
              "              k₁⋅x₁₂ ⋅x₃₃⋅⎝k₁⋅k₃⋅x₁₁⋅x₃₃ - k₁⋅k₃⋅x₁₃  - 2⋅k₁⋅x₁₁ - 2⋅k₃⋅x₃₃ + \n",
              "──────────────────────────────────────────────────────────────────────────────\n",
              "    2            2                                      2                     \n",
              "⋅x₂₃  - k₁⋅k₃⋅x₁₂ ⋅x₃₃ + 2⋅k₁⋅k₃⋅x₁₂⋅x₁₃⋅x₂₃ - k₁⋅k₃⋅x₁₃ ⋅x₂₂ - 2⋅k₁⋅x₁₁⋅x₂₂ +\n",
              "──────────────────────────────────────────────────────────────────────────────\n",
              "                                                                              \n",
              "                                                                              \n",
              "                                                                              \n",
              "                                                                              \n",
              "                                                                              \n",
              "                                                                              \n",
              "\n",
              "                                                2 ⎛                         2 \n",
              "                                           2⋅x₂₃ ⋅⎝k₁⋅k₃⋅x₁₁⋅x₃₃ - k₁⋅k₃⋅x₁₃  \n",
              "──────────────────────────────────────────────────────────────────────────────\n",
              "                               2            2                                 \n",
              "⋅k₃⋅x₁₁⋅x₂₂⋅x₃₃ - k₁⋅k₃⋅x₁₁⋅x₂₃  - k₁⋅k₃⋅x₁₂ ⋅x₃₃ + 2⋅k₁⋅k₃⋅x₁₂⋅x₁₃⋅x₂₃ - k₁⋅k\n",
              "──────────────────────────────────────────────────────────────────────────────\n",
              "                                                                              \n",
              " ⎞                                                                            \n",
              "4⎠                                                                            \n",
              "───────────────────────────────────────────── + ──────────────────────────────\n",
              "         2                          2                                         \n",
              " 2⋅k₁⋅x₁₂  - 2⋅k₃⋅x₂₂⋅x₃₃ + 2⋅k₃⋅x₂₃  + 4⋅x₂₂   k₁⋅k₃⋅x₁₁⋅x₂₂⋅x₃₃ - k₁⋅k₃⋅x₁₁⋅\n",
              "──────────────────────────────────────────────────────────────────────────────\n",
              "                                                                              \n",
              "                                                                              \n",
              "                                                                              \n",
              "                                                                              \n",
              "                                                                              \n",
              "                                                                              \n",
              "\n",
              "                         ⎞                                                    \n",
              "- 2⋅k₁⋅x₁₁ - 2⋅k₃⋅x₃₃ + 4⎠                                                    \n",
              "──────────────────────────────────────────────────────────────────────── + 4⋅x\n",
              "     2                              2                          2              \n",
              "₃⋅x₁₃ ⋅x₂₂ - 2⋅k₁⋅x₁₁⋅x₂₂ + 2⋅k₁⋅x₁₂  - 2⋅k₃⋅x₂₂⋅x₃₃ + 2⋅k₃⋅x₂₃  + 4⋅x₂₂      \n",
              "──────────────────────────────────────────────────────────────────────────────\n",
              "                                                                              \n",
              "                           ⎛                         2                        \n",
              "          2⋅k₁⋅x₁₂⋅x₁₃⋅x₂₃⋅⎝k₁⋅k₃⋅x₁₁⋅x₃₃ - k₁⋅k₃⋅x₁₃  - 2⋅k₁⋅x₁₁ - 2⋅k₃⋅x₃₃ +\n",
              "──────────────────────────────────────────────────────────────────────────────\n",
              "   2            2                                      2                      \n",
              "x₂₃  - k₁⋅k₃⋅x₁₂ ⋅x₃₃ + 2⋅k₁⋅k₃⋅x₁₂⋅x₁₃⋅x₂₃ - k₁⋅k₃⋅x₁₃ ⋅x₂₂ - 2⋅k₁⋅x₁₁⋅x₂₂ + \n",
              "──────────────────────────────────────────────────────────────────────────────\n",
              "                                                                              \n",
              "                                                                              \n",
              "                                                                              \n",
              "                                                                              \n",
              "                                                                              \n",
              "                                                                              \n",
              "\n",
              "  ⎞   ⎛                                                        ⎛              \n",
              "  ⎟   ⎜                                             k₁⋅x₁₁⋅x₂₂⋅⎝k₁⋅k₃⋅x₁₁⋅x₃₃ \n",
              "₃₃⎟ - ⎜- ─────────────────────────────────────────────────────────────────────\n",
              "  ⎟   ⎜                                   2            2                      \n",
              "  ⎠   ⎝  k₁⋅k₃⋅x₁₁⋅x₂₂⋅x₃₃ - k₁⋅k₃⋅x₁₁⋅x₂₃  - k₁⋅k₃⋅x₁₂ ⋅x₃₃ + 2⋅k₁⋅k₃⋅x₁₂⋅x₁₃\n",
              "──────────────────────────────────────────────────────────────────────────────\n",
              "                                                                              \n",
              "  ⎞                                                                           \n",
              " 4⎠                                                                           \n",
              "──────────────────────────────────────────── - ───────────────────────────────\n",
              "        2                          2                                          \n",
              "2⋅k₁⋅x₁₂  - 2⋅k₃⋅x₂₂⋅x₃₃ + 2⋅k₃⋅x₂₃  + 4⋅x₂₂   k₁⋅k₃⋅x₁₁⋅x₂₂⋅x₃₃ - k₁⋅k₃⋅x₁₁⋅x\n",
              "──────────────────────────────────────────────────────────────────────────────\n",
              "                                                                              \n",
              "                                                                              \n",
              "                                                                              \n",
              "                                                                              \n",
              "                                                                              \n",
              "                                                                              \n",
              "\n",
              "           2                          ⎞                                       \n",
              "- k₁⋅k₃⋅x₁₃  - 2⋅k₁⋅x₁₁ - 2⋅k₃⋅x₃₃ + 4⎠                                       \n",
              "──────────────────────────────────────────────────────────────────────────────\n",
              "                2                              2                          2   \n",
              "⋅x₂₃ - k₁⋅k₃⋅x₁₃ ⋅x₂₂ - 2⋅k₁⋅x₁₁⋅x₂₂ + 2⋅k₁⋅x₁₂  - 2⋅k₃⋅x₂₂⋅x₃₃ + 2⋅k₃⋅x₂₃  + \n",
              "──────────────────────────────────────────────────────────────────────────────\n",
              "                                                                              \n",
              "                  2     ⎛                         2                          ⎞\n",
              "            k₁⋅x₁₃ ⋅x₂₂⋅⎝k₁⋅k₃⋅x₁₁⋅x₃₃ - k₁⋅k₃⋅x₁₃  - 2⋅k₁⋅x₁₁ - 2⋅k₃⋅x₃₃ + 4⎠\n",
              "──────────────────────────────────────────────────────────────────────────────\n",
              "  2            2                                      2                       \n",
              "₂₃  - k₁⋅k₃⋅x₁₂ ⋅x₃₃ + 2⋅k₁⋅k₃⋅x₁₂⋅x₁₃⋅x₂₃ - k₁⋅k₃⋅x₁₃ ⋅x₂₂ - 2⋅k₁⋅x₁₁⋅x₂₂ + 2\n",
              "──────────────────────────────────────────────────────────────────────────────\n",
              "                                                                              \n",
              "                                                                              \n",
              "                                                                              \n",
              "                                                                              \n",
              "                                                                              \n",
              "                                                                              \n",
              "\n",
              "                                                                      2 ⎛     \n",
              "                                                                k₁⋅x₁₂ ⋅⎝k₁⋅k₃\n",
              "───── + 2⋅k₁⋅x₁₁ + ───────────────────────────────────────────────────────────\n",
              "                                                    2            2            \n",
              "4⋅x₂₂              k₁⋅k₃⋅x₁₁⋅x₂₂⋅x₃₃ - k₁⋅k₃⋅x₁₁⋅x₂₃  - k₁⋅k₃⋅x₁₂ ⋅x₃₃ + 2⋅k₁⋅\n",
              "──────────────────────────────────────────────────────────────────────────────\n",
              "                                                                              \n",
              "                                                                              \n",
              "                                                      2                       \n",
              "─────────────────────────────────────────── + 2⋅k₁⋅x₁₃  - ────────────────────\n",
              "       2                          2                                           \n",
              "⋅k₁⋅x₁₂  - 2⋅k₃⋅x₂₂⋅x₃₃ + 2⋅k₃⋅x₂₃  + 4⋅x₂₂               k₁⋅k₃⋅x₁₁⋅x₂₂⋅x₃₃ - \n",
              "──────────────────────────────────────────────────────────────────────────────\n",
              "                                                                              \n",
              "                                                                              \n",
              "                                                                              \n",
              "                                                                              \n",
              "                                                                              \n",
              "                                                                              \n",
              "\n",
              "                    2                          ⎞                              \n",
              "⋅x₁₁⋅x₃₃ - k₁⋅k₃⋅x₁₃  - 2⋅k₁⋅x₁₁ - 2⋅k₃⋅x₃₃ + 4⎠                              \n",
              "──────────────────────────────────────────────────────────────────────────────\n",
              "                          2                              2                    \n",
              "k₃⋅x₁₂⋅x₁₃⋅x₂₃ - k₁⋅k₃⋅x₁₃ ⋅x₂₂ - 2⋅k₁⋅x₁₁⋅x₂₂ + 2⋅k₁⋅x₁₂  - 2⋅k₃⋅x₂₂⋅x₃₃ + 2⋅\n",
              "──────────────────────────────────────────────────────────────────────────────\n",
              "                                                                              \n",
              "                                  ⎛                         2                 \n",
              "                        2⋅x₂₂⋅x₃₃⋅⎝k₁⋅k₃⋅x₁₁⋅x₃₃ - k₁⋅k₃⋅x₁₃  - 2⋅k₁⋅x₁₁ - 2⋅k\n",
              "──────────────────────────────────────────────────────────────────────────────\n",
              "             2            2                                      2            \n",
              "k₁⋅k₃⋅x₁₁⋅x₂₃  - k₁⋅k₃⋅x₁₂ ⋅x₃₃ + 2⋅k₁⋅k₃⋅x₁₂⋅x₁₃⋅x₂₃ - k₁⋅k₃⋅x₁₃ ⋅x₂₂ - 2⋅k₁⋅\n",
              "──────────────────────────────────────────────────────────────────────────────\n",
              "                                                                              \n",
              "                                                                              \n",
              "                                                                              \n",
              "                                                                              \n",
              "                                                                              \n",
              "                                                                              \n",
              "\n",
              "                                                                      ⎛       \n",
              "                                                                2⋅x₂₂⋅⎝k₁⋅k₃⋅x\n",
              "─────────────── + ────────────────────────────────────────────────────────────\n",
              "      2                                            2            2             \n",
              "k₃⋅x₂₃  + 4⋅x₂₂   k₁⋅k₃⋅x₁₁⋅x₂₂⋅x₃₃ - k₁⋅k₃⋅x₁₁⋅x₂₃  - k₁⋅k₃⋅x₁₂ ⋅x₃₃ + 2⋅k₁⋅k\n",
              "──────────────────────────────────────────────────────────────────────────────\n",
              "                                                                              \n",
              "         ⎞                                                                    \n",
              "₃⋅x₃₃ + 4⎠                                                                    \n",
              "────────────────────────────────────────────────────── + ─────────────────────\n",
              "                  2                          2                                \n",
              "x₁₁⋅x₂₂ + 2⋅k₁⋅x₁₂  - 2⋅k₃⋅x₂₂⋅x₃₃ + 2⋅k₃⋅x₂₃  + 4⋅x₂₂   k₁⋅k₃⋅x₁₁⋅x₂₂⋅x₃₃ - k\n",
              "──────────────────────────────────────────────────────────────────────────────\n",
              "                                                                              \n",
              "                                                                              \n",
              "                                                                              \n",
              "                                                                              \n",
              "                                                                              \n",
              "                                                                              \n",
              "\n",
              "                  2                          ⎞                                \n",
              "₁₁⋅x₃₃ - k₁⋅k₃⋅x₁₃  - 2⋅k₁⋅x₁₁ - 2⋅k₃⋅x₃₃ + 4⎠                                \n",
              "──────────────────────────────────────────────────────────────────────────────\n",
              "                         2                              2                     \n",
              "₃⋅x₁₂⋅x₁₃⋅x₂₃ - k₁⋅k₃⋅x₁₃ ⋅x₂₂ - 2⋅k₁⋅x₁₁⋅x₂₂ + 2⋅k₁⋅x₁₂  - 2⋅k₃⋅x₂₂⋅x₃₃ + 2⋅k\n",
              "──────────────────────────────────────────────────────────────────────────────\n",
              "                                                                              \n",
              "                             2 ⎛                         2                    \n",
              "                        2⋅x₂₃ ⋅⎝k₁⋅k₃⋅x₁₁⋅x₃₃ - k₁⋅k₃⋅x₁₃  - 2⋅k₁⋅x₁₁ - 2⋅k₃⋅x\n",
              "──────────────────────────────────────────────────────────────────────────────\n",
              "            2            2                                      2             \n",
              "₁⋅k₃⋅x₁₁⋅x₂₃  - k₁⋅k₃⋅x₁₂ ⋅x₃₃ + 2⋅k₁⋅k₃⋅x₁₂⋅x₁₃⋅x₂₃ - k₁⋅k₃⋅x₁₃ ⋅x₂₂ - 2⋅k₁⋅x\n",
              "──────────────────────────────────────────────────────────────────────────────\n",
              "                                                                              \n",
              "                                                                              \n",
              "                                                                              \n",
              "                                                                              \n",
              "                                                                              \n",
              "                                                                              \n",
              "\n",
              "                  ⎞                                                           \n",
              "                  ⎟ ⎛                            2         2                  \n",
              "────────────── - 4⎟⋅⎝-k₁⋅x₁₁⋅x₂₂⋅x₃₃ + k₁⋅x₁₁⋅x₂₃  + k₁⋅x₁₂ ⋅x₃₃ - 2⋅k₁⋅x₁₂⋅x₁\n",
              "     2            ⎟                                                           \n",
              "₃⋅x₂₃  + 4⋅x₂₂    ⎠                                                           \n",
              "──────────────────────────────────────────────────────────────────────────────\n",
              "                                                              2               \n",
              "      ⎞                                                      ⎞                \n",
              "₃₃ + 4⎠                                                      ⎟                \n",
              "───────────────────────────────────────────────────── + 4⋅x₃₃⎟                \n",
              "                 2                          2                ⎟                \n",
              "₁₁⋅x₂₂ + 2⋅k₁⋅x₁₂  - 2⋅k₃⋅x₂₂⋅x₃₃ + 2⋅k₃⋅x₂₃  + 4⋅x₂₂        ⎠                \n",
              "──────────────────────────────────────────────────────────────────────────────\n",
              "                                                                              \n",
              "                                                                              \n",
              "                                                                              \n",
              "                                                                              \n",
              "                                                                              \n",
              "                                                                              \n",
              "\n",
              "                                         ⎞                                    \n",
              "              2                        2⎞⎟ ⎛⎛                   2        ⎞ ⎛  \n",
              "₃⋅x₂₃ + k₁⋅x₁₃ ⋅x₂₂ + 2⋅x₂₂⋅x₃₃ - 2⋅x₂₃ ⎠⎟⋅⎝⎝k₃⋅x₁₁⋅x₃₃ - k₃⋅x₁₃  - 2⋅x₁₁⎠⋅⎝k₁\n",
              "                                         ⎟                                    \n",
              "                                         ⎠                                    \n",
              "──────────────────────────────────────────────────────────────────────────────\n",
              "                                                                              \n",
              "                                                                              \n",
              "                                                                              \n",
              "                                                                              \n",
              "                                                                              \n",
              "                                                                              \n",
              "──────────────────────────────────────────────────────────────────────────────\n",
              "                                                                              \n",
              "                                                                              \n",
              "                                                                              \n",
              "                                                                              \n",
              "                                                                              \n",
              "                                                                              \n",
              "\n",
              "                                                                              \n",
              "                               2            2                                 \n",
              "⋅k₃⋅x₁₁⋅x₂₂⋅x₃₃ - k₁⋅k₃⋅x₁₁⋅x₂₃  - k₁⋅k₃⋅x₁₂ ⋅x₃₃ + 2⋅k₁⋅k₃⋅x₁₂⋅x₁₃⋅x₂₃ - k₁⋅k\n",
              "                                                                              \n",
              "                                                                              \n",
              "──────────────────────────────────────────────────────────────────────────────\n",
              "                                                                              \n",
              "                                                                              \n",
              "                                                                              \n",
              "                                                                              \n",
              "                                                                              \n",
              "                                                                              \n",
              "──────────────────────────────────────────────────────────────────────────────\n",
              "                                                                              \n",
              "                                                                              \n",
              "                                                                              \n",
              "                                                                              \n",
              "                                                                              \n",
              "                                                                              \n",
              "\n",
              "                                                                              \n",
              "     2                              2                          2        ⎞   ⎛ \n",
              "₃⋅x₁₃ ⋅x₂₂ - 2⋅k₁⋅x₁₁⋅x₂₂ + 2⋅k₁⋅x₁₂  - 2⋅k₃⋅x₂₂⋅x₃₃ + 2⋅k₃⋅x₂₃  + 4⋅x₂₂⎠ - ⎝-\n",
              "                                                                              \n",
              "                                                                              \n",
              "──────────────────────────────────────────────────────────────────────────────\n",
              "                                                                              \n",
              "                                                                              \n",
              "                                                                              \n",
              "                                                                              \n",
              "                                                                              \n",
              "                                                                              \n",
              "──────────────────────────────────────────────────────────────────────────────\n",
              "                                                                              \n",
              "                                                                              \n",
              "                                                                              \n",
              "                                                                              \n",
              "                                                                              \n",
              "                                                                              \n",
              "\n",
              "                                                                              \n",
              "                         2                          ⎞ ⎛                       \n",
              "k₁⋅k₃⋅x₁₁⋅x₃₃ + k₁⋅k₃⋅x₁₃  + 2⋅k₁⋅x₁₁ + 2⋅k₃⋅x₃₃ - 4⎠⋅⎝-k₃⋅x₁₁⋅x₂₂⋅x₃₃ + k₃⋅x₁\n",
              "                                                                              \n",
              "                                                                              \n",
              "──────────────────────────────────────────────────────────────────────────────\n",
              "                                                                              \n",
              "                                                                              \n",
              "                                                                              \n",
              "                                                                              \n",
              "                                                                              \n",
              "                                                                              \n",
              "──────────────────────────────────────────────────────────────────────────────\n",
              "                                                                              \n",
              "                                                                              \n",
              "                                                                              \n",
              "                                                                              \n",
              "                                                                              \n",
              "                                                                              \n",
              "\n",
              "                                                                              \n",
              "     2         2                                2                        2⎞⎞  \n",
              "₁⋅x₂₃  + k₃⋅x₁₂ ⋅x₃₃ - 2⋅k₃⋅x₁₂⋅x₁₃⋅x₂₃ + k₃⋅x₁₃ ⋅x₂₂ + 2⋅x₁₁⋅x₂₂ - 2⋅x₁₂ ⎠⎠  \n",
              "                                                                              \n",
              "                                                                              \n",
              "──────────────────────────────────────────────────────────────────────────── +\n",
              "                                                                              \n",
              "                                                                              \n",
              "                                                                              \n",
              "                                                                              \n",
              "                                                                              \n",
              "                                                                              \n",
              "──────────────────────────────────────────────────────────────────────────────\n",
              "                                                                              \n",
              "                                                                              \n",
              "                                                                              \n",
              "                                                                              \n",
              "                                                                              \n",
              "                                                                              \n",
              "\n",
              "                                                                              \n",
              "                                                                              \n",
              "                                                                              \n",
              " ⎛                   2        ⎞ ⎛                                 2           \n",
              " ⎝k₂⋅x₁₁⋅x₂₂ - k₂⋅x₁₂  - 2⋅x₁₁⎠⋅⎝k₁⋅k₂⋅x₁₁⋅x₂₂⋅x₃₃ - k₁⋅k₂⋅x₁₁⋅x₂₃  - k₁⋅k₂⋅x₁\n",
              " ─────────────────────────────────────────────────────────────────────────────\n",
              "                                                                              \n",
              "                                                                              \n",
              "                                                                              \n",
              "                                                                              \n",
              "                                                                              \n",
              "                                                                              \n",
              "──────────────────────────────────────────────────────────────────────────────\n",
              "                                                                              \n",
              "                                                                              \n",
              "                                                                              \n",
              "                                                                              \n",
              "                                                                              \n",
              "                                                                              \n",
              "\n",
              "                                                                              \n",
              "                                                                              \n",
              "                                                                              \n",
              " 2                                      2                              2      \n",
              "₂ ⋅x₃₃ + 2⋅k₁⋅k₂⋅x₁₂⋅x₁₃⋅x₂₃ - k₁⋅k₂⋅x₁₃ ⋅x₂₂ - 2⋅k₁⋅x₁₁⋅x₃₃ + 2⋅k₁⋅x₁₃  - 2⋅k\n",
              "──────────────────────────────────────────────────────────────────────────────\n",
              "                                                                              \n",
              "                 ⎛                                 2            2             \n",
              "                 ⎝k₁⋅k₂⋅x₁₁⋅x₂₂⋅x₃₃ - k₁⋅k₂⋅x₁₁⋅x₂₃  - k₁⋅k₂⋅x₁₂ ⋅x₃₃ + 2⋅k₁⋅k\n",
              "                                                                              \n",
              "                                                                              \n",
              "                                                                              \n",
              "──────────────────────────────────────────────────────────────────────────────\n",
              "                                                                              \n",
              "                                                                              \n",
              "                                                                              \n",
              "                                                                              \n",
              "                                                                              \n",
              "                                                                              \n",
              "\n",
              "                                                                              \n",
              "                                                                              \n",
              "                                                                              \n",
              "                    2        ⎞   ⎛                          2                 \n",
              "₂⋅x₂₂⋅x₃₃ + 2⋅k₂⋅x₂₃  + 4⋅x₃₃⎠ - ⎝-k₁⋅k₂⋅x₁₁⋅x₂₂ + k₁⋅k₂⋅x₁₂  + 2⋅k₁⋅x₁₁ + 2⋅k\n",
              "──────────────────────────────────────────────────────────────────────────────\n",
              "                                                                              \n",
              "                         2                              2                     \n",
              "₂⋅x₁₂⋅x₁₃⋅x₂₃ - k₁⋅k₂⋅x₁₃ ⋅x₂₂ - 2⋅k₁⋅x₁₁⋅x₃₃ + 2⋅k₁⋅x₁₃  - 2⋅k₂⋅x₂₂⋅x₃₃ + 2⋅k\n",
              "                                                                              \n",
              "                                                                              \n",
              "                                                                              \n",
              "──────────────────────────────────────────────────────────────────────────────\n",
              "                                                                              \n",
              "                                                                              \n",
              "                                                                              \n",
              "                                                                              \n",
              "                                                                              \n",
              "                                                                              \n",
              "\n",
              "                                                                              \n",
              "                                                                              \n",
              "                                                                              \n",
              "         ⎞ ⎛                            2         2                           \n",
              "₂⋅x₂₂ - 4⎠⋅⎝-k₂⋅x₁₁⋅x₂₂⋅x₃₃ + k₂⋅x₁₁⋅x₂₃  + k₂⋅x₁₂ ⋅x₃₃ - 2⋅k₂⋅x₁₂⋅x₁₃⋅x₂₃ + k\n",
              "──────────────────────────────────────────────────────────────────────────────\n",
              "               2                                                              \n",
              "     2        ⎞                                                               \n",
              "₂⋅x₂₃  + 4⋅x₃₃⎠                                                               \n",
              "                                                                              \n",
              "                                                                              \n",
              "                                                                              \n",
              "──────────────────────────────────────────────────────────────────────────────\n",
              "                                                                              \n",
              "                                                                              \n",
              "                                                                              \n",
              "                                                                              \n",
              "                                                                              \n",
              "                                                                              \n",
              "\n",
              "                                ⎞                                             \n",
              "                                ⎟                                             \n",
              "                                ⎟                                             \n",
              "     2                        2⎞⎟   ⎛                               ⎛         \n",
              "₂⋅x₁₃ ⋅x₂₂ + 2⋅x₁₁⋅x₃₃ - 2⋅x₁₃ ⎠⎟   ⎜⎛                   2        ⎞ ⎜         \n",
              "────────────────────────────────⎟   ⎜⎝k₃⋅x₂₂⋅x₃₃ - k₃⋅x₂₃  - 2⋅x₂₂⎠⋅⎜─────────\n",
              "                                ⎟   ⎜                               ⎜         \n",
              "                                ⎟   ⎝                               ⎝k₁⋅k₃⋅x₁₁\n",
              "                                ⎟                                             \n",
              "                                ⎟                                             \n",
              "                                ⎟                                             \n",
              "                                ⎠                                             \n",
              "───────────────────────────────── + ──────────────────────────────────────────\n",
              "                                                                              \n",
              "                                                                              \n",
              "                                                                              \n",
              "                                                                              \n",
              "                                                                              \n",
              "                                                                              \n",
              "\n",
              "                                                                              \n",
              "                                                                              \n",
              "                                                                              \n",
              "                                               ⎛                         2    \n",
              "                                k₃⋅x₁₁⋅x₂₂⋅x₃₃⋅⎝k₁⋅k₃⋅x₁₁⋅x₃₃ - k₁⋅k₃⋅x₁₃  - 2\n",
              "──────────────────────────────────────────────────────────────────────────────\n",
              "                        2            2                                      2 \n",
              "⋅x₂₂⋅x₃₃ - k₁⋅k₃⋅x₁₁⋅x₂₃  - k₁⋅k₃⋅x₁₂ ⋅x₃₃ + 2⋅k₁⋅k₃⋅x₁₂⋅x₁₃⋅x₂₃ - k₁⋅k₃⋅x₁₃ ⋅\n",
              "                                                                              \n",
              "                                                                              \n",
              "                                                                              \n",
              "                                                                              \n",
              "──────────────────────────────────────────────────────────────────────────────\n",
              "                                                                              \n",
              "                                                                              \n",
              "                                                                              \n",
              "                                                                              \n",
              "                                                                              \n",
              "                                                                              \n",
              "\n",
              "                                                                              \n",
              "                                                                              \n",
              "                                                                              \n",
              "                      ⎞                                                       \n",
              "⋅k₁⋅x₁₁ - 2⋅k₃⋅x₃₃ + 4⎠                                                       \n",
              "───────────────────────────────────────────────────────────────── - ──────────\n",
              "                             2                          2                     \n",
              "x₂₂ - 2⋅k₁⋅x₁₁⋅x₂₂ + 2⋅k₁⋅x₁₂  - 2⋅k₃⋅x₂₂⋅x₃₃ + 2⋅k₃⋅x₂₃  + 4⋅x₂₂   k₁⋅k₃⋅x₁₁⋅\n",
              "                                                                              \n",
              "                                                                              \n",
              "                                                                              \n",
              "                                                                              \n",
              "──────────────────────────────────────────────────────────────────────────────\n",
              "                                                                              \n",
              "                                                                              \n",
              "                                                                              \n",
              "                                                                              \n",
              "                                                                              \n",
              "                                                                              \n",
              "\n",
              "                                                                              \n",
              "                                                                              \n",
              "                                                                              \n",
              "                                           2 ⎛                         2      \n",
              "                                 k₃⋅x₁₁⋅x₂₃ ⋅⎝k₁⋅k₃⋅x₁₁⋅x₃₃ - k₁⋅k₃⋅x₁₃  - 2⋅k\n",
              "──────────────────────────────────────────────────────────────────────────────\n",
              "                       2            2                                      2  \n",
              "x₂₂⋅x₃₃ - k₁⋅k₃⋅x₁₁⋅x₂₃  - k₁⋅k₃⋅x₁₂ ⋅x₃₃ + 2⋅k₁⋅k₃⋅x₁₂⋅x₁₃⋅x₂₃ - k₁⋅k₃⋅x₁₃ ⋅x\n",
              "                                                                              \n",
              "                                                                              \n",
              "                                                                              \n",
              "                                                                              \n",
              "──────────────────────────────────────────────────────────────────────────────\n",
              "                                                                              \n",
              "                                                                              \n",
              "                                                                              \n",
              "                                                                              \n",
              "                                                                              \n",
              "                                                                              \n",
              "\n",
              "                                                                              \n",
              "                                                                              \n",
              "                                                                              \n",
              "                    ⎞                                                         \n",
              "₁⋅x₁₁ - 2⋅k₃⋅x₃₃ + 4⎠                                                         \n",
              "──────────────────────────────────────────────────────────────── - 2⋅k₃⋅x₁₁⋅x₃\n",
              "                            2                          2                      \n",
              "₂₂ - 2⋅k₁⋅x₁₁⋅x₂₂ + 2⋅k₁⋅x₁₂  - 2⋅k₃⋅x₂₂⋅x₃₃ + 2⋅k₃⋅x₂₃  + 4⋅x₂₂              \n",
              "                                                                              \n",
              "                                                                              \n",
              "                                                                              \n",
              "                                                                              \n",
              "──────────────────────────────────────────────────────────────────────────────\n",
              "                                                                              \n",
              "                                                                              \n",
              "                                                                              \n",
              "                                                                              \n",
              "                                                                              \n",
              "                                                                              \n",
              "\n",
              "                                                                              \n",
              "                                                                              \n",
              "                                                                              \n",
              "                                                     2     ⎛                  \n",
              "                                               k₃⋅x₁₂ ⋅x₃₃⋅⎝k₁⋅k₃⋅x₁₁⋅x₃₃ - k₁\n",
              "₃ - ──────────────────────────────────────────────────────────────────────────\n",
              "                                     2            2                           \n",
              "    k₁⋅k₃⋅x₁₁⋅x₂₂⋅x₃₃ - k₁⋅k₃⋅x₁₁⋅x₂₃  - k₁⋅k₃⋅x₁₂ ⋅x₃₃ + 2⋅k₁⋅k₃⋅x₁₂⋅x₁₃⋅x₂₃ \n",
              "                                                                              \n",
              "                                                                              \n",
              "                                                                              \n",
              "                                                                              \n",
              "──────────────────────────────────────────────────────────────────────────────\n",
              "                                                                              \n",
              "                                                                              \n",
              "                                                                              \n",
              "                                                                              \n",
              "                                                                              \n",
              "                                                                              \n",
              "\n",
              "                                                                              \n",
              "                                                                              \n",
              "                                                                              \n",
              "       2                          ⎞                                           \n",
              "⋅k₃⋅x₁₃  - 2⋅k₁⋅x₁₁ - 2⋅k₃⋅x₃₃ + 4⎠                                           \n",
              "──────────────────────────────────────────────────────────────────────────────\n",
              "           2                              2                          2        \n",
              "- k₁⋅k₃⋅x₁₃ ⋅x₂₂ - 2⋅k₁⋅x₁₁⋅x₂₂ + 2⋅k₁⋅x₁₂  - 2⋅k₃⋅x₂₂⋅x₃₃ + 2⋅k₃⋅x₂₃  + 4⋅x₂₂\n",
              "                                                                              \n",
              "                                                                              \n",
              "                                                                              \n",
              "                                                                              \n",
              "──────────────────────────────────────────────────────────────────────────────\n",
              "                                                                              \n",
              "                                                                              \n",
              "                                                                              \n",
              "                                                                              \n",
              "                                                                              \n",
              "                                                                              \n",
              "\n",
              "                                                                              \n",
              "                                                                              \n",
              "                                                                              \n",
              "                                                            ⎛                 \n",
              "                                           2⋅k₃⋅x₁₂⋅x₁₃⋅x₂₃⋅⎝k₁⋅k₃⋅x₁₁⋅x₃₃ - k\n",
              " + ───────────────────────────────────────────────────────────────────────────\n",
              "                                    2            2                            \n",
              "   k₁⋅k₃⋅x₁₁⋅x₂₂⋅x₃₃ - k₁⋅k₃⋅x₁₁⋅x₂₃  - k₁⋅k₃⋅x₁₂ ⋅x₃₃ + 2⋅k₁⋅k₃⋅x₁₂⋅x₁₃⋅x₂₃ -\n",
              "                                                                              \n",
              "                                                                              \n",
              "                                                                              \n",
              "                                                                              \n",
              "──────────────────────────────────────────────────────────────────────────────\n",
              "                                                                              \n",
              "                                                                              \n",
              "                                                                              \n",
              "                                                                              \n",
              "                                                                              \n",
              "                                                                              \n",
              "\n",
              "                                                                              \n",
              "                                                                              \n",
              "                                                                              \n",
              "        2                          ⎞                                          \n",
              "₁⋅k₃⋅x₁₃  - 2⋅k₁⋅x₁₁ - 2⋅k₃⋅x₃₃ + 4⎠                                          \n",
              "───────────────────────────────────────────────────────────────────────────── \n",
              "          2                              2                          2         \n",
              " k₁⋅k₃⋅x₁₃ ⋅x₂₂ - 2⋅k₁⋅x₁₁⋅x₂₂ + 2⋅k₁⋅x₁₂  - 2⋅k₃⋅x₂₂⋅x₃₃ + 2⋅k₃⋅x₂₃  + 4⋅x₂₂ \n",
              "                                                                              \n",
              "                                                                              \n",
              "                                                                              \n",
              "                                                                              \n",
              "──────────────────────────────────────────────────────────────────────────────\n",
              "                                                                              \n",
              "                                                                              \n",
              "                                                                              \n",
              "                                                                              \n",
              "                                                                              \n",
              "                                                                              \n",
              "\n",
              "                                                                              \n",
              "                                                                              \n",
              "                                                                              \n",
              "                                                   2     ⎛                    \n",
              "                                             k₃⋅x₁₃ ⋅x₂₂⋅⎝k₁⋅k₃⋅x₁₁⋅x₃₃ - k₁⋅k\n",
              "- ────────────────────────────────────────────────────────────────────────────\n",
              "                                   2            2                             \n",
              "  k₁⋅k₃⋅x₁₁⋅x₂₂⋅x₃₃ - k₁⋅k₃⋅x₁₁⋅x₂₃  - k₁⋅k₃⋅x₁₂ ⋅x₃₃ + 2⋅k₁⋅k₃⋅x₁₂⋅x₁₃⋅x₂₃ - \n",
              "                                                                              \n",
              "                                                                              \n",
              "                                                                              \n",
              "                                                                              \n",
              "──────────────────────────────────────────────────────────────────────────────\n",
              "                                                                              \n",
              "                                                                              \n",
              "                                                                              \n",
              "                                                                              \n",
              "                                                                              \n",
              "                                                                              \n",
              "\n",
              "                                                                              \n",
              "                                                                              \n",
              "                                                                              \n",
              "     2                          ⎞                                             \n",
              "₃⋅x₁₃  - 2⋅k₁⋅x₁₁ - 2⋅k₃⋅x₃₃ + 4⎠                                             \n",
              "──────────────────────────────────────────────────────────────────────────── +\n",
              "         2                              2                          2          \n",
              "k₁⋅k₃⋅x₁₃ ⋅x₂₂ - 2⋅k₁⋅x₁₁⋅x₂₂ + 2⋅k₁⋅x₁₂  - 2⋅k₃⋅x₂₂⋅x₃₃ + 2⋅k₃⋅x₂₃  + 4⋅x₂₂  \n",
              "                                                                              \n",
              "                                                                              \n",
              "                                                                              \n",
              "                                                                              \n",
              "──────────────────────────────────────────────────────────────────────────────\n",
              "                                                                              \n",
              "                                                                              \n",
              "                                                                              \n",
              "                                                                              \n",
              "                                                                              \n",
              "                                                                              \n",
              "\n",
              "                                                                              \n",
              "                                                                              \n",
              "                                                                              \n",
              "                                                                   ⎛          \n",
              "         2                                               2⋅x₁₁⋅x₂₂⋅⎝k₁⋅k₃⋅x₁₁⋅\n",
              " 2⋅k₃⋅x₁₃  - ─────────────────────────────────────────────────────────────────\n",
              "                                              2            2                  \n",
              "             k₁⋅k₃⋅x₁₁⋅x₂₂⋅x₃₃ - k₁⋅k₃⋅x₁₁⋅x₂₃  - k₁⋅k₃⋅x₁₂ ⋅x₃₃ + 2⋅k₁⋅k₃⋅x₁₂\n",
              "                                                                              \n",
              "                                                                              \n",
              "                                                                              \n",
              "                                                                              \n",
              "──────────────────────────────────────────────────────────────────────────────\n",
              "                                                                              \n",
              "                                                                              \n",
              "                                                                              \n",
              "                                                                              \n",
              "                                                                              \n",
              "                                                                              \n",
              "\n",
              "                                                                              \n",
              "                                                                              \n",
              "                                                                              \n",
              "               2                          ⎞                                   \n",
              "x₃₃ - k₁⋅k₃⋅x₁₃  - 2⋅k₁⋅x₁₁ - 2⋅k₃⋅x₃₃ + 4⎠                                   \n",
              "──────────────────────────────────────────────────────────────────────────────\n",
              "                    2                              2                          \n",
              "⋅x₁₃⋅x₂₃ - k₁⋅k₃⋅x₁₃ ⋅x₂₂ - 2⋅k₁⋅x₁₁⋅x₂₂ + 2⋅k₁⋅x₁₂  - 2⋅k₃⋅x₂₂⋅x₃₃ + 2⋅k₃⋅x₂₃\n",
              "                                                                              \n",
              "                                                                              \n",
              "                                                                              \n",
              "                                                                              \n",
              "──────────────────────────────────────────────────────────────────────────────\n",
              "                                                                              \n",
              "                                                                              \n",
              "                                                                              \n",
              "                                                                              \n",
              "                                                                              \n",
              "                                                                              \n",
              "\n",
              "                                                                              \n",
              "                                                                              \n",
              "                                                                              \n",
              "                                                                      2 ⎛     \n",
              "                                                                 2⋅x₁₂ ⋅⎝k₁⋅k₃\n",
              "───────── + 4⋅x₁₁ + ──────────────────────────────────────────────────────────\n",
              "2                                                    2            2           \n",
              "  + 4⋅x₂₂           k₁⋅k₃⋅x₁₁⋅x₂₂⋅x₃₃ - k₁⋅k₃⋅x₁₁⋅x₂₃  - k₁⋅k₃⋅x₁₂ ⋅x₃₃ + 2⋅k₁\n",
              "                                                                              \n",
              "                                                                              \n",
              "                                                                              \n",
              "                                                                              \n",
              "──────────────────────────────────────────────────────────────────────────────\n",
              "                                                                              \n",
              "                                                                              \n",
              "                                                                              \n",
              "                                                                              \n",
              "                                                                              \n",
              "                                                                              \n",
              "\n",
              "                                                                              \n",
              "                                                                              \n",
              "                                                                              \n",
              "                    2                          ⎞                              \n",
              "⋅x₁₁⋅x₃₃ - k₁⋅k₃⋅x₁₃  - 2⋅k₁⋅x₁₁ - 2⋅k₃⋅x₃₃ + 4⎠                              \n",
              "──────────────────────────────────────────────────────────────────────────────\n",
              "                           2                              2                   \n",
              "⋅k₃⋅x₁₂⋅x₁₃⋅x₂₃ - k₁⋅k₃⋅x₁₃ ⋅x₂₂ - 2⋅k₁⋅x₁₁⋅x₂₂ + 2⋅k₁⋅x₁₂  - 2⋅k₃⋅x₂₂⋅x₃₃ + 2\n",
              "                                                                              \n",
              "                                                                              \n",
              "                                                                              \n",
              "                                                                              \n",
              "──────────────────────────────────────────────────────────────────────────────\n",
              "                                                                              \n",
              "                                                                              \n",
              "                                                                              \n",
              "                                                                              \n",
              "                                                                              \n",
              "                                                                              \n",
              "\n",
              "                                                                              \n",
              "                                                                              \n",
              "                                                                              \n",
              "                ⎞   ⎛                                                        ⎛\n",
              "                ⎟   ⎜                                             k₃⋅x₂₂⋅x₃₃⋅⎝\n",
              "────────────────⎟ - ⎜- ───────────────────────────────────────────────────────\n",
              "       2        ⎟   ⎜                                   2            2        \n",
              "⋅k₃⋅x₂₃  + 4⋅x₂₂⎠   ⎝  k₁⋅k₃⋅x₁₁⋅x₂₂⋅x₃₃ - k₁⋅k₃⋅x₁₁⋅x₂₃  - k₁⋅k₃⋅x₁₂ ⋅x₃₃ + 2\n",
              "                                                                              \n",
              "                                                                              \n",
              "                                                                              \n",
              "                                                                              \n",
              "──────────────────────────────────────────────────────────────────────────────\n",
              "                                                                              \n",
              "                                                                              \n",
              "                                                                              \n",
              "                                                                              \n",
              "                                                                              \n",
              "                                                                              \n",
              "\n",
              "                                                                              \n",
              "                                                                              \n",
              "                                                                              \n",
              "                         2                          ⎞                         \n",
              "k₁⋅k₃⋅x₁₁⋅x₃₃ - k₁⋅k₃⋅x₁₃  - 2⋅k₁⋅x₁₁ - 2⋅k₃⋅x₃₃ + 4⎠                         \n",
              "──────────────────────────────────────────────────────────────────────────────\n",
              "                              2                              2                \n",
              "⋅k₁⋅k₃⋅x₁₂⋅x₁₃⋅x₂₃ - k₁⋅k₃⋅x₁₃ ⋅x₂₂ - 2⋅k₁⋅x₁₁⋅x₂₂ + 2⋅k₁⋅x₁₂  - 2⋅k₃⋅x₂₂⋅x₃₃ \n",
              "                                                                              \n",
              "                                                                              \n",
              "                                                                              \n",
              "                                                                              \n",
              "──────────────────────────────────────────────────────────────────────────────\n",
              "                                                                              \n",
              "                                                                              \n",
              "                                                                              \n",
              "                                                                              \n",
              "                                                                              \n",
              "                                                                              \n",
              "\n",
              "                                                                              \n",
              "                                                                              \n",
              "                                                                              \n",
              "                                                                         2 ⎛  \n",
              "                                                                   k₃⋅x₂₃ ⋅⎝k₁\n",
              "─────────────────── + ────────────────────────────────────────────────────────\n",
              "          2                                            2            2         \n",
              "+ 2⋅k₃⋅x₂₃  + 4⋅x₂₂   k₁⋅k₃⋅x₁₁⋅x₂₂⋅x₃₃ - k₁⋅k₃⋅x₁₁⋅x₂₃  - k₁⋅k₃⋅x₁₂ ⋅x₃₃ + 2⋅\n",
              "                                                                              \n",
              "                                                                              \n",
              "                                                                              \n",
              "                                                                              \n",
              "──────────────────────────────────────────────────────────────────────────────\n",
              "                                                                              \n",
              "                                                                              \n",
              "                                                                              \n",
              "                                                                              \n",
              "                                                                              \n",
              "                                                                              \n",
              "\n",
              "                                                                              \n",
              "                                                                              \n",
              "                                                                              \n",
              "                       2                          ⎞                           \n",
              "⋅k₃⋅x₁₁⋅x₃₃ - k₁⋅k₃⋅x₁₃  - 2⋅k₁⋅x₁₁ - 2⋅k₃⋅x₃₃ + 4⎠                           \n",
              "──────────────────────────────────────────────────────────────────────────────\n",
              "                             2                              2                 \n",
              "k₁⋅k₃⋅x₁₂⋅x₁₃⋅x₂₃ - k₁⋅k₃⋅x₁₃ ⋅x₂₂ - 2⋅k₁⋅x₁₁⋅x₂₂ + 2⋅k₁⋅x₁₂  - 2⋅k₃⋅x₂₂⋅x₃₃ +\n",
              "                                                                              \n",
              "                                                                              \n",
              "                                                                              \n",
              "                                                                              \n",
              "──────────────────────────────────────────────────────────────────────────────\n",
              "                                                                              \n",
              "                                                                              \n",
              "                                                                              \n",
              "                                                                              \n",
              "                                                                              \n",
              "                                                                              \n",
              "\n",
              "                                                                              \n",
              "                                                                              \n",
              "                                                                              \n",
              "                                                                              \n",
              "                                                                              \n",
              "────────────────── + 2⋅k₃⋅x₃₃ + ──────────────────────────────────────────────\n",
              "         2                                                       2            \n",
              " 2⋅k₃⋅x₂₃  + 4⋅x₂₂              k₁⋅k₃⋅x₁₁⋅x₂₂⋅x₃₃ - k₁⋅k₃⋅x₁₁⋅x₂₃  - k₁⋅k₃⋅x₁₂\n",
              "                                                                              \n",
              "                                                                              \n",
              "                                                                              \n",
              "                                                                              \n",
              "──────────────────────────────────────────────────────────────────────────────\n",
              "                                                                              \n",
              "                                                                              \n",
              "                                                                              \n",
              "                                                                              \n",
              "                                                                              \n",
              "                                                                              \n",
              "\n",
              "                                                                              \n",
              "                                                                              \n",
              "                                                                              \n",
              "      ⎛                         2                          ⎞                  \n",
              "2⋅x₂₂⋅⎝k₁⋅k₃⋅x₁₁⋅x₃₃ - k₁⋅k₃⋅x₁₃  - 2⋅k₁⋅x₁₁ - 2⋅k₃⋅x₃₃ + 4⎠                  \n",
              "──────────────────────────────────────────────────────────────────────────────\n",
              "2                                      2                              2       \n",
              " ⋅x₃₃ + 2⋅k₁⋅k₃⋅x₁₂⋅x₁₃⋅x₂₃ - k₁⋅k₃⋅x₁₃ ⋅x₂₂ - 2⋅k₁⋅x₁₁⋅x₂₂ + 2⋅k₁⋅x₁₂  - 2⋅k₃\n",
              "                                                                              \n",
              "                                                                              \n",
              "                                                                              \n",
              "                                                                              \n",
              "──────────────────────────────────────────────────────────────────────────────\n",
              "                                                                              \n",
              "⎛                                                        ⎛                    \n",
              "⎜                                         k₃⋅x₁₁⋅x₂₂⋅x₃₃⋅⎝k₁⋅k₃⋅x₁₁⋅x₃₃ - k₁⋅k\n",
              "⎜─────────────────────────────────────────────────────────────────────────────\n",
              "⎜                                 2            2                              \n",
              "⎝k₁⋅k₃⋅x₁₁⋅x₂₂⋅x₃₃ - k₁⋅k₃⋅x₁₁⋅x₂₃  - k₁⋅k₃⋅x₁₂ ⋅x₃₃ + 2⋅k₁⋅k₃⋅x₁₂⋅x₁₃⋅x₂₃ - k\n",
              "\n",
              "                                                                              \n",
              "                                                                              \n",
              "                                                                              \n",
              "                                ⎞                                             \n",
              "                                ⎟ ⎛                            2         2    \n",
              "──────────────────────────── - 4⎟⋅⎝-k₃⋅x₁₁⋅x₂₂⋅x₃₃ + k₃⋅x₁₁⋅x₂₃  + k₃⋅x₁₂ ⋅x₃₃\n",
              "                   2            ⎟                                             \n",
              "⋅x₂₂⋅x₃₃ + 2⋅k₃⋅x₂₃  + 4⋅x₂₂    ⎠                                             \n",
              "                                                                              \n",
              "                                                                              \n",
              "                                                                              \n",
              "                                                                              \n",
              "──────────────────────────────────────────────────────────────────────────────\n",
              "                                                                              \n",
              "     2                          ⎞                                             \n",
              "₃⋅x₁₃  - 2⋅k₁⋅x₁₁ - 2⋅k₃⋅x₃₃ + 4⎠                                             \n",
              "─────────────────────────────────────────────────────────────────────────── - \n",
              "        2                              2                          2           \n",
              "₁⋅k₃⋅x₁₃ ⋅x₂₂ - 2⋅k₁⋅x₁₁⋅x₂₂ + 2⋅k₁⋅x₁₂  - 2⋅k₃⋅x₂₂⋅x₃₃ + 2⋅k₃⋅x₂₃  + 4⋅x₂₂   \n",
              "\n",
              "                                                         ⎛⎛                   \n",
              "                                                         ⎜⎜⎛                  \n",
              "                                                         ⎜⎜⎝k₁⋅x₁₁⋅x₃₃ - k₁⋅x₁\n",
              "                                                       ⎞ ⎜⎜                   \n",
              "                            2                        2⎞⎟ ⎜⎝                   \n",
              " - 2⋅k₃⋅x₁₂⋅x₁₃⋅x₂₃ + k₃⋅x₁₃ ⋅x₂₂ + 2⋅x₁₁⋅x₂₂ - 2⋅x₁₂ ⎠⎟⋅⎜────────────────────\n",
              "                                                       ⎟ ⎜                    \n",
              "                                                       ⎠ ⎜                    \n",
              "                                                         ⎜                    \n",
              "                                                         ⎜                    \n",
              "                                                         ⎜                    \n",
              "                                                         ⎝                    \n",
              "──────────────────────────────────────────────────────────────────────────────\n",
              "                                                                              \n",
              "                                                     2 ⎛                      \n",
              "                                           k₃⋅x₁₁⋅x₂₃ ⋅⎝k₁⋅k₃⋅x₁₁⋅x₃₃ - k₁⋅k₃⋅\n",
              "──────────────────────────────────────────────────────────────────────────────\n",
              "                                 2            2                               \n",
              "k₁⋅k₃⋅x₁₁⋅x₂₂⋅x₃₃ - k₁⋅k₃⋅x₁₁⋅x₂₃  - k₁⋅k₃⋅x₁₂ ⋅x₃₃ + 2⋅k₁⋅k₃⋅x₁₂⋅x₁₃⋅x₂₃ - k₁\n",
              "\n",
              "            ⎛                                                        ⎛        \n",
              " 2        ⎞ ⎜                                         k₁⋅x₁₁⋅x₂₂⋅x₃₃⋅⎝k₁⋅k₂⋅x₁\n",
              "₃  - 2⋅x₃₃⎠⋅⎜─────────────────────────────────────────────────────────────────\n",
              "            ⎜                                 2            2                  \n",
              "            ⎝k₁⋅k₂⋅x₁₁⋅x₂₂⋅x₃₃ - k₁⋅k₂⋅x₁₁⋅x₂₃  - k₁⋅k₂⋅x₁₂ ⋅x₃₃ + 2⋅k₁⋅k₂⋅x₁₂\n",
              "──────────────────────────────────────────────────────────────────────────────\n",
              "                                                                              \n",
              "                                                                              \n",
              "                                                                              \n",
              "                                                                              \n",
              "                                                                              \n",
              "                                                                              \n",
              "──────────────────────────────────────────────────────────────────────────────\n",
              "                                                                              \n",
              "   2                          ⎞                                               \n",
              "x₁₃  - 2⋅k₁⋅x₁₁ - 2⋅k₃⋅x₃₃ + 4⎠                                               \n",
              "────────────────────────────────────────────────────────────────────────── - 2\n",
              "       2                              2                          2            \n",
              "⋅k₃⋅x₁₃ ⋅x₂₂ - 2⋅k₁⋅x₁₁⋅x₂₂ + 2⋅k₁⋅x₁₂  - 2⋅k₃⋅x₂₂⋅x₃₃ + 2⋅k₃⋅x₂₃  + 4⋅x₂₂    \n",
              "\n",
              "                 2                          ⎞                                 \n",
              "₁⋅x₂₂ - k₁⋅k₂⋅x₁₂  - 2⋅k₁⋅x₁₁ - 2⋅k₂⋅x₂₂ + 4⎠                                 \n",
              "──────────────────────────────────────────────────────────────────────────────\n",
              "                    2                              2                          \n",
              "⋅x₁₃⋅x₂₃ - k₁⋅k₂⋅x₁₃ ⋅x₂₂ - 2⋅k₁⋅x₁₁⋅x₃₃ + 2⋅k₁⋅x₁₃  - 2⋅k₂⋅x₂₂⋅x₃₃ + 2⋅k₂⋅x₂₃\n",
              "──────────────────────────────────────────────────────────────────────────────\n",
              "                                                                              \n",
              "                                                                              \n",
              "                                                                              \n",
              "                                                                              \n",
              "                                                                              \n",
              "                                                                              \n",
              "──────────────────────────────────────────────────────────────────────────────\n",
              "                                                                              \n",
              "                                                               2     ⎛        \n",
              "                                                         k₃⋅x₁₂ ⋅x₃₃⋅⎝k₁⋅k₃⋅x₁\n",
              "⋅k₃⋅x₁₁⋅x₃₃ - ────────────────────────────────────────────────────────────────\n",
              "                                               2            2                 \n",
              "              k₁⋅k₃⋅x₁₁⋅x₂₂⋅x₃₃ - k₁⋅k₃⋅x₁₁⋅x₂₃  - k₁⋅k₃⋅x₁₂ ⋅x₃₃ + 2⋅k₁⋅k₃⋅x₁\n",
              "\n",
              "                                                                              \n",
              "                                                                      k₁⋅x₁₁⋅x\n",
              "───────── - 2⋅k₁⋅x₁₁⋅x₂₂ - ───────────────────────────────────────────────────\n",
              "2                                                           2            2    \n",
              "  + 4⋅x₃₃                  k₁⋅k₂⋅x₁₁⋅x₂₂⋅x₃₃ - k₁⋅k₂⋅x₁₁⋅x₂₃  - k₁⋅k₂⋅x₁₂ ⋅x₃₃\n",
              "──────────────────────────────────────────────────────────────────────────────\n",
              "                                                                              \n",
              "                                                                              \n",
              "                                                                              \n",
              "                                                                              \n",
              "                                                                              \n",
              "                                                                              \n",
              "──────────────────────────────────────────────────────────────────────────────\n",
              "                                                                              \n",
              "                 2                          ⎞                                 \n",
              "₁⋅x₃₃ - k₁⋅k₃⋅x₁₃  - 2⋅k₁⋅x₁₁ - 2⋅k₃⋅x₃₃ + 4⎠                                 \n",
              "──────────────────────────────────────────────────────────────────────────────\n",
              "                     2                              2                         \n",
              "₂⋅x₁₃⋅x₂₃ - k₁⋅k₃⋅x₁₃ ⋅x₂₂ - 2⋅k₁⋅x₁₁⋅x₂₂ + 2⋅k₁⋅x₁₂  - 2⋅k₃⋅x₂₂⋅x₃₃ + 2⋅k₃⋅x₂\n",
              "\n",
              "  2 ⎛                         2                          ⎞                    \n",
              "₂₃ ⋅⎝k₁⋅k₂⋅x₁₁⋅x₂₂ - k₁⋅k₂⋅x₁₂  - 2⋅k₁⋅x₁₁ - 2⋅k₂⋅x₂₂ + 4⎠                    \n",
              "──────────────────────────────────────────────────────────────────────────────\n",
              "                                  2                              2            \n",
              " + 2⋅k₁⋅k₂⋅x₁₂⋅x₁₃⋅x₂₃ - k₁⋅k₂⋅x₁₃ ⋅x₂₂ - 2⋅k₁⋅x₁₁⋅x₃₃ + 2⋅k₁⋅x₁₃  - 2⋅k₂⋅x₂₂⋅\n",
              "──────────────────────────────────────────────────────────────────────────────\n",
              "                                                                              \n",
              "                                                                              \n",
              "                                                                              \n",
              "                                                                              \n",
              "                                                                              \n",
              "                                                                              \n",
              "──────────────────────────────────────────────────────────────────────────────\n",
              "                                                                              \n",
              "                                                                      ⎛       \n",
              "                                                     2⋅k₃⋅x₁₂⋅x₁₃⋅x₂₃⋅⎝k₁⋅k₃⋅x\n",
              "────────── + ─────────────────────────────────────────────────────────────────\n",
              " 2                                            2            2                  \n",
              "₃  + 4⋅x₂₂   k₁⋅k₃⋅x₁₁⋅x₂₂⋅x₃₃ - k₁⋅k₃⋅x₁₁⋅x₂₃  - k₁⋅k₃⋅x₁₂ ⋅x₃₃ + 2⋅k₁⋅k₃⋅x₁₂\n",
              "\n",
              "                                                                           2  \n",
              "                                                                     k₁⋅x₁₂ ⋅x\n",
              "─────────────────────── - ────────────────────────────────────────────────────\n",
              "              2                                            2            2     \n",
              "x₃₃ + 2⋅k₂⋅x₂₃  + 4⋅x₃₃   k₁⋅k₂⋅x₁₁⋅x₂₂⋅x₃₃ - k₁⋅k₂⋅x₁₁⋅x₂₃  - k₁⋅k₂⋅x₁₂ ⋅x₃₃ \n",
              "──────────────────────────────────────────────────────────────────────────────\n",
              "                                                                              \n",
              "                                                                              \n",
              "                                                                       ⎛      \n",
              "                                                                       ⎝k₁⋅k₂⋅\n",
              "                                                                              \n",
              "                                                                              \n",
              "──────────────────────────────────────────────────────────────────────────────\n",
              "                                                                              \n",
              "                  2                          ⎞                                \n",
              "₁₁⋅x₃₃ - k₁⋅k₃⋅x₁₃  - 2⋅k₁⋅x₁₁ - 2⋅k₃⋅x₃₃ + 4⎠                                \n",
              "──────────────────────────────────────────────────────────────────────────────\n",
              "                    2                              2                          \n",
              "⋅x₁₃⋅x₂₃ - k₁⋅k₃⋅x₁₃ ⋅x₂₂ - 2⋅k₁⋅x₁₁⋅x₂₂ + 2⋅k₁⋅x₁₂  - 2⋅k₃⋅x₂₂⋅x₃₃ + 2⋅k₃⋅x₂₃\n",
              "\n",
              "   ⎛                         2                          ⎞                     \n",
              "₃₃⋅⎝k₁⋅k₂⋅x₁₁⋅x₂₂ - k₁⋅k₂⋅x₁₂  - 2⋅k₁⋅x₁₁ - 2⋅k₂⋅x₂₂ + 4⎠                     \n",
              "──────────────────────────────────────────────────────────────────────────────\n",
              "                                 2                              2             \n",
              "+ 2⋅k₁⋅k₂⋅x₁₂⋅x₁₃⋅x₂₃ - k₁⋅k₂⋅x₁₃ ⋅x₂₂ - 2⋅k₁⋅x₁₁⋅x₃₃ + 2⋅k₁⋅x₁₃  - 2⋅k₂⋅x₂₂⋅x\n",
              "──────────────────────────────────────────────────────────────────────────────\n",
              "                                                                              \n",
              "                                                                              \n",
              "                           2            2                                     \n",
              "x₁₁⋅x₂₂⋅x₃₃ - k₁⋅k₂⋅x₁₁⋅x₂₃  - k₁⋅k₂⋅x₁₂ ⋅x₃₃ + 2⋅k₁⋅k₂⋅x₁₂⋅x₁₃⋅x₂₃ - k₁⋅k₂⋅x₁\n",
              "                                                                              \n",
              "                                                                              \n",
              "──────────────────────────────────────────────────────────────────────────────\n",
              "                                                                              \n",
              "                                                             2     ⎛          \n",
              "                                                       k₃⋅x₁₃ ⋅x₂₂⋅⎝k₁⋅k₃⋅x₁₁⋅\n",
              "───────── - ──────────────────────────────────────────────────────────────────\n",
              "2                                            2            2                   \n",
              "  + 4⋅x₂₂   k₁⋅k₃⋅x₁₁⋅x₂₂⋅x₃₃ - k₁⋅k₃⋅x₁₁⋅x₂₃  - k₁⋅k₃⋅x₁₂ ⋅x₃₃ + 2⋅k₁⋅k₃⋅x₁₂⋅\n",
              "\n",
              "                                                                              \n",
              "                                 2                                           2\n",
              "────────────────────── + 2⋅k₁⋅x₁₂  + ─────────────────────────────────────────\n",
              "             2                                                        2       \n",
              "₃₃ + 2⋅k₂⋅x₂₃  + 4⋅x₃₃               k₁⋅k₂⋅x₁₁⋅x₂₂⋅x₃₃ - k₁⋅k₂⋅x₁₁⋅x₂₃  - k₁⋅k\n",
              "──────────────────────────────────────────────────────────────────────────────\n",
              "                                                                              \n",
              "                                                                     2 ⎛      \n",
              " 2                              2                          2        ⎞  ⎜      \n",
              "₃ ⋅x₂₂ - 2⋅k₁⋅x₁₁⋅x₃₃ + 2⋅k₁⋅x₁₃  - 2⋅k₂⋅x₂₂⋅x₃₃ + 2⋅k₂⋅x₂₃  + 4⋅x₃₃⎠ ⋅⎜──────\n",
              "                                                                       ⎜      \n",
              "                                                                       ⎝k₁⋅k₂⋅\n",
              "──────────────────────────────────────────────────────────────────────────────\n",
              "                                                                              \n",
              "               2                          ⎞                                   \n",
              "x₃₃ - k₁⋅k₃⋅x₁₃  - 2⋅k₁⋅x₁₁ - 2⋅k₃⋅x₃₃ + 4⎠                                   \n",
              "──────────────────────────────────────────────────────────────────────────────\n",
              "                   2                              2                          2\n",
              "x₁₃⋅x₂₃ - k₁⋅k₃⋅x₁₃ ⋅x₂₂ - 2⋅k₁⋅x₁₁⋅x₂₂ + 2⋅k₁⋅x₁₂  - 2⋅k₃⋅x₂₂⋅x₃₃ + 2⋅k₃⋅x₂₃ \n",
              "\n",
              "                ⎛                         2                          ⎞        \n",
              "⋅k₁⋅x₁₂⋅x₁₃⋅x₂₃⋅⎝k₁⋅k₂⋅x₁₁⋅x₂₂ - k₁⋅k₂⋅x₁₂  - 2⋅k₁⋅x₁₁ - 2⋅k₂⋅x₂₂ + 4⎠        \n",
              "──────────────────────────────────────────────────────────────────────────────\n",
              "     2                                      2                              2  \n",
              "₂⋅x₁₂ ⋅x₃₃ + 2⋅k₁⋅k₂⋅x₁₂⋅x₁₃⋅x₂₃ - k₁⋅k₂⋅x₁₃ ⋅x₂₂ - 2⋅k₁⋅x₁₁⋅x₃₃ + 2⋅k₁⋅x₁₃  -\n",
              "──────────────────────────────────────────────────────────────────────────────\n",
              "                                                                              \n",
              "                                                  ⎛                         2 \n",
              "                                   k₁⋅x₁₁⋅x₂₂⋅x₃₃⋅⎝k₁⋅k₂⋅x₁₁⋅x₂₂ - k₁⋅k₂⋅x₁₂  \n",
              "──────────────────────────────────────────────────────────────────────────────\n",
              "                           2            2                                     \n",
              "x₁₁⋅x₂₂⋅x₃₃ - k₁⋅k₂⋅x₁₁⋅x₂₃  - k₁⋅k₂⋅x₁₂ ⋅x₃₃ + 2⋅k₁⋅k₂⋅x₁₂⋅x₁₃⋅x₂₃ - k₁⋅k₂⋅x₁\n",
              "──────────────────────────────────────────────────────────────────────────────\n",
              "                                                                              \n",
              "                                                                             ⎛\n",
              "                   2                                               2⋅x₁₁⋅x₂₂⋅⎝\n",
              "──────── + 2⋅k₃⋅x₁₃  - ───────────────────────────────────────────────────────\n",
              "                                                        2            2        \n",
              " + 4⋅x₂₂               k₁⋅k₃⋅x₁₁⋅x₂₂⋅x₃₃ - k₁⋅k₃⋅x₁₁⋅x₂₃  - k₁⋅k₃⋅x₁₂ ⋅x₃₃ + 2\n",
              "\n",
              "                                                                              \n",
              "                                                                              \n",
              "───────────────────────────────── - ──────────────────────────────────────────\n",
              "                        2                                            2        \n",
              " 2⋅k₂⋅x₂₂⋅x₃₃ + 2⋅k₂⋅x₂₃  + 4⋅x₃₃   k₁⋅k₂⋅x₁₁⋅x₂₂⋅x₃₃ - k₁⋅k₂⋅x₁₁⋅x₂₃  - k₁⋅k₂\n",
              "──────────────────────────────────────────────────────────────────────────────\n",
              "                                                                              \n",
              "                         ⎞                                                    \n",
              "- 2⋅k₁⋅x₁₁ - 2⋅k₂⋅x₂₂ + 4⎠                                                    \n",
              "──────────────────────────────────────────────────────────────────── - 2⋅k₁⋅x₁\n",
              " 2                              2                          2                  \n",
              "₃ ⋅x₂₂ - 2⋅k₁⋅x₁₁⋅x₃₃ + 2⋅k₁⋅x₁₃  - 2⋅k₂⋅x₂₂⋅x₃₃ + 2⋅k₂⋅x₂₃  + 4⋅x₃₃          \n",
              "──────────────────────────────────────────────────────────────────────────────\n",
              "                                                                              \n",
              "                         2                          ⎞                         \n",
              "k₁⋅k₃⋅x₁₁⋅x₃₃ - k₁⋅k₃⋅x₁₃  - 2⋅k₁⋅x₁₁ - 2⋅k₃⋅x₃₃ + 4⎠                         \n",
              "──────────────────────────────────────────────────────────────────────────────\n",
              "                              2                              2                \n",
              "⋅k₁⋅k₃⋅x₁₂⋅x₁₃⋅x₂₃ - k₁⋅k₃⋅x₁₃ ⋅x₂₂ - 2⋅k₁⋅x₁₁⋅x₂₂ + 2⋅k₁⋅x₁₂  - 2⋅k₃⋅x₂₂⋅x₃₃ \n",
              "\n",
              "       2     ⎛                         2                          ⎞           \n",
              " k₁⋅x₁₃ ⋅x₂₂⋅⎝k₁⋅k₂⋅x₁₁⋅x₂₂ - k₁⋅k₂⋅x₁₂  - 2⋅k₁⋅x₁₁ - 2⋅k₂⋅x₂₂ + 4⎠           \n",
              "──────────────────────────────────────────────────────────────────────────────\n",
              "    2                                      2                              2   \n",
              "⋅x₁₂ ⋅x₃₃ + 2⋅k₁⋅k₂⋅x₁₂⋅x₁₃⋅x₂₃ - k₁⋅k₂⋅x₁₃ ⋅x₂₂ - 2⋅k₁⋅x₁₁⋅x₃₃ + 2⋅k₁⋅x₁₃  - \n",
              "──────────────────────────────────────────────────────────────────────────────\n",
              "                                                                              \n",
              "                                                             2 ⎛              \n",
              "                                                   k₁⋅x₁₁⋅x₂₃ ⋅⎝k₁⋅k₂⋅x₁₁⋅x₂₂ \n",
              "₁⋅x₂₂ - ──────────────────────────────────────────────────────────────────────\n",
              "                                         2            2                       \n",
              "        k₁⋅k₂⋅x₁₁⋅x₂₂⋅x₃₃ - k₁⋅k₂⋅x₁₁⋅x₂₃  - k₁⋅k₂⋅x₁₂ ⋅x₃₃ + 2⋅k₁⋅k₂⋅x₁₂⋅x₁₃⋅\n",
              "──────────────────────────────────────────────────────────────────────────────\n",
              "                                                                              \n",
              "                                                                              \n",
              "                                                                           2⋅x\n",
              "─────────────────── + 4⋅x₁₁ + ────────────────────────────────────────────────\n",
              "          2                                                    2            2 \n",
              "+ 2⋅k₃⋅x₂₃  + 4⋅x₂₂           k₁⋅k₃⋅x₁₁⋅x₂₂⋅x₃₃ - k₁⋅k₃⋅x₁₁⋅x₂₃  - k₁⋅k₃⋅x₁₂ ⋅\n",
              "\n",
              "                                                                              \n",
              "                                                                              \n",
              "──────────────────────────────── - ───────────────────────────────────────────\n",
              "                       2                                            2         \n",
              "2⋅k₂⋅x₂₂⋅x₃₃ + 2⋅k₂⋅x₂₃  + 4⋅x₃₃   k₁⋅k₂⋅x₁₁⋅x₂₂⋅x₃₃ - k₁⋅k₂⋅x₁₁⋅x₂₃  - k₁⋅k₂⋅\n",
              "──────────────────────────────────────────────────────────────────────────────\n",
              "                                                                              \n",
              "           2                          ⎞                                       \n",
              "- k₁⋅k₂⋅x₁₂  - 2⋅k₁⋅x₁₁ - 2⋅k₂⋅x₂₂ + 4⎠                                       \n",
              "──────────────────────────────────────────────────────────────────────────────\n",
              "               2                              2                          2    \n",
              "x₂₃ - k₁⋅k₂⋅x₁₃ ⋅x₂₂ - 2⋅k₁⋅x₁₁⋅x₃₃ + 2⋅k₁⋅x₁₃  - 2⋅k₂⋅x₂₂⋅x₃₃ + 2⋅k₂⋅x₂₃  + 4\n",
              "──────────────────────────────────────────────────────────────────────────────\n",
              "                                                                              \n",
              "  2 ⎛                         2                          ⎞                    \n",
              "₁₂ ⋅⎝k₁⋅k₃⋅x₁₁⋅x₃₃ - k₁⋅k₃⋅x₁₃  - 2⋅k₁⋅x₁₁ - 2⋅k₃⋅x₃₃ + 4⎠                    \n",
              "──────────────────────────────────────────────────────────────────────────────\n",
              "                                     2                              2         \n",
              "x₃₃ + 2⋅k₁⋅k₃⋅x₁₂⋅x₁₃⋅x₂₃ - k₁⋅k₃⋅x₁₃ ⋅x₂₂ - 2⋅k₁⋅x₁₁⋅x₂₂ + 2⋅k₁⋅x₁₂  - 2⋅k₃⋅x\n",
              "\n",
              "           ⎛                         2                          ⎞             \n",
              " 2⋅x₂₂⋅x₃₃⋅⎝k₁⋅k₂⋅x₁₁⋅x₂₂ - k₁⋅k₂⋅x₁₂  - 2⋅k₁⋅x₁₁ - 2⋅k₂⋅x₂₂ + 4⎠             \n",
              "──────────────────────────────────────────────────────────────────────────────\n",
              "   2                                      2                              2    \n",
              "x₁₂ ⋅x₃₃ + 2⋅k₁⋅k₂⋅x₁₂⋅x₁₃⋅x₂₃ - k₁⋅k₂⋅x₁₃ ⋅x₂₂ - 2⋅k₁⋅x₁₁⋅x₃₃ + 2⋅k₁⋅x₁₃  - 2\n",
              "──────────────────────────────────────────────────────────────────────────────\n",
              "                                                                              \n",
              "                                                        2     ⎛               \n",
              "                                                  k₁⋅x₁₂ ⋅x₃₃⋅⎝k₁⋅k₂⋅x₁₁⋅x₂₂ -\n",
              "──── - ───────────────────────────────────────────────────────────────────────\n",
              "                                        2            2                        \n",
              "⋅x₃₃   k₁⋅k₂⋅x₁₁⋅x₂₂⋅x₃₃ - k₁⋅k₂⋅x₁₁⋅x₂₃  - k₁⋅k₂⋅x₁₂ ⋅x₃₃ + 2⋅k₁⋅k₂⋅x₁₂⋅x₁₃⋅x\n",
              "──────────────────────────────────────────────────────────────────────────────\n",
              "                           2                                                  \n",
              "                          ⎞                                                   \n",
              "                          ⎟                                                   \n",
              "──────────────────────────⎟                                                   \n",
              "                 2        ⎟                                                   \n",
              "₂₂⋅x₃₃ + 2⋅k₃⋅x₂₃  + 4⋅x₂₂⎠                                                   \n",
              "\n",
              "                                                                              \n",
              "                                                                              \n",
              "─────────────────────────────── + 4⋅x₂₂ + ────────────────────────────────────\n",
              "                      2                                                    2  \n",
              "⋅k₂⋅x₂₂⋅x₃₃ + 2⋅k₂⋅x₂₃  + 4⋅x₃₃           k₁⋅k₂⋅x₁₁⋅x₂₂⋅x₃₃ - k₁⋅k₂⋅x₁₁⋅x₂₃  -\n",
              "──────────────────────────────────────────────────────────────────────────────\n",
              "                                                                              \n",
              "          2                          ⎞                                        \n",
              " k₁⋅k₂⋅x₁₂  - 2⋅k₁⋅x₁₁ - 2⋅k₂⋅x₂₂ + 4⎠                                        \n",
              "──────────────────────────────────────────────────────────────────────────────\n",
              "              2                              2                          2     \n",
              "₂₃ - k₁⋅k₂⋅x₁₃ ⋅x₂₂ - 2⋅k₁⋅x₁₁⋅x₃₃ + 2⋅k₁⋅x₁₃  - 2⋅k₂⋅x₂₂⋅x₃₃ + 2⋅k₂⋅x₂₃  + 4⋅\n",
              "──────────────────────────────────────────────────────────────────────────────\n",
              "                                                                              \n",
              "                                                                              \n",
              "                                                                              \n",
              "                                                                              \n",
              "                                                                              \n",
              "                                                                              \n",
              "\n",
              "              2 ⎛                         2                          ⎞        \n",
              "         2⋅x₂₃ ⋅⎝k₁⋅k₂⋅x₁₁⋅x₂₂ - k₁⋅k₂⋅x₁₂  - 2⋅k₁⋅x₁₁ - 2⋅k₂⋅x₂₂ + 4⎠        \n",
              "──────────────────────────────────────────────────────────────────────────────\n",
              "          2                                      2                            \n",
              " k₁⋅k₂⋅x₁₂ ⋅x₃₃ + 2⋅k₁⋅k₂⋅x₁₂⋅x₁₃⋅x₂₃ - k₁⋅k₂⋅x₁₃ ⋅x₂₂ - 2⋅k₁⋅x₁₁⋅x₃₃ + 2⋅k₁⋅x\n",
              "──────────────────────────────────────────────────────────────────────────────\n",
              "                                                                              \n",
              "                                                                           ⎛  \n",
              "              2                                           2⋅k₁⋅x₁₂⋅x₁₃⋅x₂₃⋅⎝k₁\n",
              "─── + 2⋅k₁⋅x₁₂  + ────────────────────────────────────────────────────────────\n",
              "                                                   2            2             \n",
              "x₃₃               k₁⋅k₂⋅x₁₁⋅x₂₂⋅x₃₃ - k₁⋅k₂⋅x₁₁⋅x₂₃  - k₁⋅k₂⋅x₁₂ ⋅x₃₃ + 2⋅k₁⋅k\n",
              "──────────────────────────────────────────────────────────────────────────────\n",
              "                                                                              \n",
              "                                                                              \n",
              "                                                                              \n",
              "                                                                              \n",
              "                                                                              \n",
              "                                                                              \n",
              "\n",
              "                                      ⎞   ⎛                                   \n",
              "                                      ⎟   ⎜                                   \n",
              "──────────────────────────────────────⎟ - ⎜- ─────────────────────────────────\n",
              "  2                          2        ⎟   ⎜                                   \n",
              "₁₃  - 2⋅k₂⋅x₂₂⋅x₃₃ + 2⋅k₂⋅x₂₃  + 4⋅x₃₃⎠   ⎝  k₁⋅k₂⋅x₁₁⋅x₂₂⋅x₃₃ - k₁⋅k₂⋅x₁₁⋅x₂₃\n",
              "──────────────────────────────────────────────────────────────────────────────\n",
              "                                                                              \n",
              "                       2                          ⎞                           \n",
              "⋅k₂⋅x₁₁⋅x₂₂ - k₁⋅k₂⋅x₁₂  - 2⋅k₁⋅x₁₁ - 2⋅k₂⋅x₂₂ + 4⎠                           \n",
              "──────────────────────────────────────────────────────────────────────────────\n",
              "                         2                              2                     \n",
              "₂⋅x₁₂⋅x₁₃⋅x₂₃ - k₁⋅k₂⋅x₁₃ ⋅x₂₂ - 2⋅k₁⋅x₁₁⋅x₃₃ + 2⋅k₁⋅x₁₃  - 2⋅k₂⋅x₂₂⋅x₃₃ + 2⋅k\n",
              "──────────────────────────────────────────────────────────────────────────────\n",
              "                                                                              \n",
              "                                                                              \n",
              "                                                                              \n",
              "                                                                              \n",
              "                                                                              \n",
              "                                                                              \n",
              "\n",
              "                     ⎛                         2                          ⎞   \n",
              "          k₁⋅x₁₁⋅x₃₃⋅⎝k₁⋅k₂⋅x₁₁⋅x₂₂ - k₁⋅k₂⋅x₁₂  - 2⋅k₁⋅x₁₁ - 2⋅k₂⋅x₂₂ + 4⎠   \n",
              "──────────────────────────────────────────────────────────────────────────────\n",
              "2            2                                      2                         \n",
              "  - k₁⋅k₂⋅x₁₂ ⋅x₃₃ + 2⋅k₁⋅k₂⋅x₁₂⋅x₁₃⋅x₂₃ - k₁⋅k₂⋅x₁₃ ⋅x₂₂ - 2⋅k₁⋅x₁₁⋅x₃₃ + 2⋅k\n",
              "──────────────────────────────────────────────────────────────────────────────\n",
              "                                                                              \n",
              "                                                                  2     ⎛     \n",
              "                                                            k₁⋅x₁₃ ⋅x₂₂⋅⎝k₁⋅k₂\n",
              "────────────── - ─────────────────────────────────────────────────────────────\n",
              "     2                                            2            2              \n",
              "₂⋅x₂₃  + 4⋅x₃₃   k₁⋅k₂⋅x₁₁⋅x₂₂⋅x₃₃ - k₁⋅k₂⋅x₁₁⋅x₂₃  - k₁⋅k₂⋅x₁₂ ⋅x₃₃ + 2⋅k₁⋅k₂\n",
              "──────────────────────────────────────────────────────────────────────────────\n",
              "                                                                              \n",
              "                                                                              \n",
              "                                                                              \n",
              "                                                                              \n",
              "                                                                              \n",
              "                                                                              \n",
              "\n",
              "                                                                              \n",
              "                                                                              \n",
              "───────────────────────────────────────── + 2⋅k₁⋅x₁₁ + ───────────────────────\n",
              "     2                          2                                             \n",
              "₁⋅x₁₃  - 2⋅k₂⋅x₂₂⋅x₃₃ + 2⋅k₂⋅x₂₃  + 4⋅x₃₃              k₁⋅k₂⋅x₁₁⋅x₂₂⋅x₃₃ - k₁⋅\n",
              "──────────────────────────────────────────────────────────────────────────────\n",
              "                                                                              \n",
              "                    2                          ⎞                              \n",
              "⋅x₁₁⋅x₂₂ - k₁⋅k₂⋅x₁₂  - 2⋅k₁⋅x₁₁ - 2⋅k₂⋅x₂₂ + 4⎠                              \n",
              "──────────────────────────────────────────────────────────────────────────────\n",
              "                        2                              2                      \n",
              "⋅x₁₂⋅x₁₃⋅x₂₃ - k₁⋅k₂⋅x₁₃ ⋅x₂₂ - 2⋅k₁⋅x₁₁⋅x₃₃ + 2⋅k₁⋅x₁₃  - 2⋅k₂⋅x₂₂⋅x₃₃ + 2⋅k₂\n",
              "──────────────────────────────────────────────────────────────────────────────\n",
              "                                                                              \n",
              "                                                                              \n",
              "                                                                              \n",
              "                                                                              \n",
              "                                                                              \n",
              "                                                                              \n",
              "\n",
              "                            2 ⎛                         2                     \n",
              "                      k₁⋅x₁₃ ⋅⎝k₁⋅k₂⋅x₁₁⋅x₂₂ - k₁⋅k₂⋅x₁₂  - 2⋅k₁⋅x₁₁ - 2⋅k₂⋅x₂\n",
              "──────────────────────────────────────────────────────────────────────────────\n",
              "          2            2                                      2               \n",
              "k₂⋅x₁₁⋅x₂₃  - k₁⋅k₂⋅x₁₂ ⋅x₃₃ + 2⋅k₁⋅k₂⋅x₁₂⋅x₁₃⋅x₂₃ - k₁⋅k₂⋅x₁₃ ⋅x₂₂ - 2⋅k₁⋅x₁₁\n",
              "──────────────────────────────────────────────────────────────────────────────\n",
              "                                                                              \n",
              "                                                                      ⎛       \n",
              "                                                            2⋅x₂₂⋅x₃₃⋅⎝k₁⋅k₂⋅x\n",
              "───────────── - ──────────────────────────────────────────────────────────────\n",
              "    2                                            2            2               \n",
              "⋅x₂₃  + 4⋅x₃₃   k₁⋅k₂⋅x₁₁⋅x₂₂⋅x₃₃ - k₁⋅k₂⋅x₁₁⋅x₂₃  - k₁⋅k₂⋅x₁₂ ⋅x₃₃ + 2⋅k₁⋅k₂⋅\n",
              "──────────────────────────────────────────────────────────────────────────────\n",
              "                                                                              \n",
              "                                                                              \n",
              "                                                                              \n",
              "                                                                              \n",
              "                                                                              \n",
              "                                                                              \n",
              "\n",
              "     ⎞                                                                        \n",
              "₂ + 4⎠                                                                        \n",
              "─────────────────────────────────────────────────── + ────────────────────────\n",
              "               2                          2                                   \n",
              "⋅x₃₃ + 2⋅k₁⋅x₁₃  - 2⋅k₂⋅x₂₂⋅x₃₃ + 2⋅k₂⋅x₂₃  + 4⋅x₃₃   k₁⋅k₂⋅x₁₁⋅x₂₂⋅x₃₃ - k₁⋅k\n",
              "──────────────────────────────────────────────────────────────────────────────\n",
              "                                                                              \n",
              "                  2                          ⎞                                \n",
              "₁₁⋅x₂₂ - k₁⋅k₂⋅x₁₂  - 2⋅k₁⋅x₁₁ - 2⋅k₂⋅x₂₂ + 4⎠                                \n",
              "──────────────────────────────────────────────────────────────────────────────\n",
              "                       2                              2                       \n",
              "x₁₂⋅x₁₃⋅x₂₃ - k₁⋅k₂⋅x₁₃ ⋅x₂₂ - 2⋅k₁⋅x₁₁⋅x₃₃ + 2⋅k₁⋅x₁₃  - 2⋅k₂⋅x₂₂⋅x₃₃ + 2⋅k₂⋅\n",
              "──────────────────────────────────────────────────────────────────────────────\n",
              "                                                                              \n",
              "                                                                              \n",
              "                                                                              \n",
              "                                                                              \n",
              "                                                                              \n",
              "                                                                              \n",
              "\n",
              "                            ⎛                         2                       \n",
              "                      2⋅x₃₃⋅⎝k₁⋅k₂⋅x₁₁⋅x₂₂ - k₁⋅k₂⋅x₁₂  - 2⋅k₁⋅x₁₁ - 2⋅k₂⋅x₂₂ \n",
              "──────────────────────────────────────────────────────────────────────────────\n",
              "         2            2                                      2                \n",
              "₂⋅x₁₁⋅x₂₃  - k₁⋅k₂⋅x₁₂ ⋅x₃₃ + 2⋅k₁⋅k₂⋅x₁₂⋅x₁₃⋅x₂₃ - k₁⋅k₂⋅x₁₃ ⋅x₂₂ - 2⋅k₁⋅x₁₁⋅\n",
              "──────────────────────────────────────────────────────────────────────────────\n",
              "                                                                              \n",
              "                                                                         2 ⎛  \n",
              "                                                                    2⋅x₂₃ ⋅⎝k₁\n",
              "──────────── + 4⋅x₂₂ + ───────────────────────────────────────────────────────\n",
              "   2                                                    2            2        \n",
              "x₂₃  + 4⋅x₃₃           k₁⋅k₂⋅x₁₁⋅x₂₂⋅x₃₃ - k₁⋅k₂⋅x₁₁⋅x₂₃  - k₁⋅k₂⋅x₁₂ ⋅x₃₃ + 2\n",
              "──────────────────────────────────────────────────────────────────────────────\n",
              "                                                                              \n",
              "                                                                              \n",
              "                                                                              \n",
              "                                                                              \n",
              "                                                                              \n",
              "                                                                              \n",
              "\n",
              "   ⎞                                                  ⎞                       \n",
              "+ 4⎠                                                  ⎟ ⎛                     \n",
              "────────────────────────────────────────────────── - 4⎟⋅⎝-k₁⋅x₁₁⋅x₂₂⋅x₃₃ + k₁⋅\n",
              "              2                          2            ⎟                       \n",
              "x₃₃ + 2⋅k₁⋅x₁₃  - 2⋅k₂⋅x₂₂⋅x₃₃ + 2⋅k₂⋅x₂₃  + 4⋅x₃₃    ⎠                       \n",
              "──────────────────────────────────────────────────────────────────────────────\n",
              "                                                                              \n",
              "                       2                          ⎞                           \n",
              "⋅k₂⋅x₁₁⋅x₂₂ - k₁⋅k₂⋅x₁₂  - 2⋅k₁⋅x₁₁ - 2⋅k₂⋅x₂₂ + 4⎠                           \n",
              "──────────────────────────────────────────────────────────────────────────────\n",
              "                              2                              2                \n",
              "⋅k₁⋅k₂⋅x₁₂⋅x₁₃⋅x₂₃ - k₁⋅k₂⋅x₁₃ ⋅x₂₂ - 2⋅k₁⋅x₁₁⋅x₃₃ + 2⋅k₁⋅x₁₃  - 2⋅k₂⋅x₂₂⋅x₃₃ \n",
              "──────────────────────────────────────────────────────────────────────────────\n",
              "                                                                              \n",
              "                                                                              \n",
              "                                                                              \n",
              "                                                                              \n",
              "                                                                              \n",
              "                                                                              \n",
              "\n",
              "                                                                             ⎞\n",
              "       2         2                                2                        2⎞⎟\n",
              "x₁₁⋅x₂₃  + k₁⋅x₁₂ ⋅x₃₃ - 2⋅k₁⋅x₁₂⋅x₁₃⋅x₂₃ + k₁⋅x₁₃ ⋅x₂₂ + 2⋅x₂₂⋅x₃₃ - 2⋅x₂₃ ⎠⎟\n",
              "                                                                             ⎟\n",
              "                                                                             ⎠\n",
              "──────────────────────────────────────────────────────────────────────────────\n",
              "                    2                                                         \n",
              "                   ⎞                                                          \n",
              "                   ⎟                                                          \n",
              "───────────────────⎟                                                          \n",
              "          2        ⎟                                                          \n",
              "+ 2⋅k₂⋅x₂₃  + 4⋅x₃₃⎠                                                          \n",
              "──────────────────────────────────────────────────────────────────────────────\n",
              "                                                                              \n",
              "                                                                              \n",
              "                                                                              \n",
              "                                                                              \n",
              "                                                                              \n",
              "                                                                              \n",
              "\n",
              "                                                                              \n",
              " ⎛⎛                   2        ⎞ ⎛                                 2          \n",
              "⋅⎝⎝k₂⋅x₁₁⋅x₂₂ - k₂⋅x₁₂  - 2⋅x₁₁⎠⋅⎝k₁⋅k₂⋅x₁₁⋅x₂₂⋅x₃₃ - k₁⋅k₂⋅x₁₁⋅x₂₃  - k₁⋅k₂⋅x\n",
              "                                                                              \n",
              "                                                                              \n",
              "──────────────────────────────────────────────────────────────────────────────\n",
              "                                                                              \n",
              "                                                                              \n",
              "                                                                              \n",
              "                                                                              \n",
              "                                                                              \n",
              "                                                                              \n",
              "──────────────────────────────────────────────────────────────────────────────\n",
              "                                                                              \n",
              "                                                                              \n",
              "                                                                              \n",
              "                                                                              \n",
              "                                                                              \n",
              "                                                                              \n",
              "\n",
              "                                                                              \n",
              "  2                                      2                              2     \n",
              "₁₂ ⋅x₃₃ + 2⋅k₁⋅k₂⋅x₁₂⋅x₁₃⋅x₂₃ - k₁⋅k₂⋅x₁₃ ⋅x₂₂ - 2⋅k₁⋅x₁₁⋅x₃₃ + 2⋅k₁⋅x₁₃  - 2⋅\n",
              "                                                                              \n",
              "                                                                              \n",
              "──────────────────────────────────────────────────────────────────────────────\n",
              "                                                                              \n",
              "                                                                              \n",
              "                                                                              \n",
              "                                                                              \n",
              "                                                                              \n",
              "                                                                              \n",
              "──────────────────────────────────────────────────────────────────────────────\n",
              "                                                                              \n",
              "                                                                              \n",
              "                                                                              \n",
              "                                                                              \n",
              "                                                                              \n",
              "                                                                              \n",
              "\n",
              "                                                                              \n",
              "                     2        ⎞   ⎛                          2                \n",
              "k₂⋅x₂₂⋅x₃₃ + 2⋅k₂⋅x₂₃  + 4⋅x₃₃⎠ - ⎝-k₁⋅k₂⋅x₁₁⋅x₂₂ + k₁⋅k₂⋅x₁₂  + 2⋅k₁⋅x₁₁ + 2⋅\n",
              "                                                                              \n",
              "                                                                              \n",
              "──────────────────────────────────────────────────────────────────────────────\n",
              "                                                                              \n",
              "                                                                              \n",
              "                                                                              \n",
              "                                                                              \n",
              "                                                                              \n",
              "                                                                              \n",
              "──────────────────────────────────────────────────────────────────────────────\n",
              "                                                                              \n",
              "                                                                              \n",
              "                                                                              \n",
              "                                                                              \n",
              "                                                                              \n",
              "                                                                              \n",
              "\n",
              "                                                                              \n",
              "          ⎞ ⎛                            2         2                          \n",
              "k₂⋅x₂₂ - 4⎠⋅⎝-k₂⋅x₁₁⋅x₂₂⋅x₃₃ + k₂⋅x₁₁⋅x₂₃  + k₂⋅x₁₂ ⋅x₃₃ - 2⋅k₂⋅x₁₂⋅x₁₃⋅x₂₃ + \n",
              "                                                                              \n",
              "                                                                              \n",
              "──────────────────────────────────────────────────────────────────────────────\n",
              "                                                                              \n",
              "                                                                              \n",
              "                                                                              \n",
              "                                                                              \n",
              "                                                                              \n",
              "                                                                              \n",
              "──────────────────────────────────────────────────────────────────────────────\n",
              "                                                                              \n",
              "                                                                              \n",
              "                                                                              \n",
              "                                                                              \n",
              "                                                                              \n",
              "                                                                              \n",
              "\n",
              "                                                                              \n",
              "      2                        2⎞⎞                                            \n",
              "k₂⋅x₁₃ ⋅x₂₂ + 2⋅x₁₁⋅x₃₃ - 2⋅x₁₃ ⎠⎠                                            \n",
              "                                     ⎛                   2        ⎞ ⎛         \n",
              "                                     ⎝k₃⋅x₁₁⋅x₃₃ - k₃⋅x₁₃  - 2⋅x₁₁⎠⋅⎝k₁⋅k₃⋅x₁₁\n",
              "────────────────────────────────── + ─────────────────────────────────────────\n",
              "                                                                              \n",
              "                                                                              \n",
              "                                                                              \n",
              "                                                                              \n",
              "                                                                              \n",
              "                                                                              \n",
              "──────────────────────────────────────────────────────────────────────────────\n",
              "                                                                              \n",
              "                                                                              \n",
              "                                                                              \n",
              "                                                                              \n",
              "                                                                              \n",
              "                                                                              \n",
              "\n",
              "                                                                              \n",
              "                                                                              \n",
              "                                                                              \n",
              "                        2            2                                      2 \n",
              "⋅x₂₂⋅x₃₃ - k₁⋅k₃⋅x₁₁⋅x₂₃  - k₁⋅k₃⋅x₁₂ ⋅x₃₃ + 2⋅k₁⋅k₃⋅x₁₂⋅x₁₃⋅x₂₃ - k₁⋅k₃⋅x₁₃ ⋅\n",
              "──────────────────────────────────────────────────────────────────────────────\n",
              "                                                                              \n",
              "                                                     ⎛                        \n",
              "                                                     ⎝k₁⋅k₃⋅x₁₁⋅x₂₂⋅x₃₃ - k₁⋅k\n",
              "                                                                              \n",
              "                                                                              \n",
              "                                                                              \n",
              "──────────────────────────────────────────────────────────────────────────────\n",
              "                                                                              \n",
              "                                                                              \n",
              "                                                                              \n",
              "                                                                              \n",
              "                                                                              \n",
              "                                                                              \n",
              "\n",
              "                                                                              \n",
              "                                                                              \n",
              "                                                                              \n",
              "                             2                          2        ⎞   ⎛        \n",
              "x₂₂ - 2⋅k₁⋅x₁₁⋅x₂₂ + 2⋅k₁⋅x₁₂  - 2⋅k₃⋅x₂₂⋅x₃₃ + 2⋅k₃⋅x₂₃  + 4⋅x₂₂⎠ - ⎝-k₁⋅k₃⋅x\n",
              "──────────────────────────────────────────────────────────────────────────────\n",
              "                                                                              \n",
              "         2            2                                      2                \n",
              "₃⋅x₁₁⋅x₂₃  - k₁⋅k₃⋅x₁₂ ⋅x₃₃ + 2⋅k₁⋅k₃⋅x₁₂⋅x₁₃⋅x₂₃ - k₁⋅k₃⋅x₁₃ ⋅x₂₂ - 2⋅k₁⋅x₁₁⋅\n",
              "                                                                              \n",
              "                                                                              \n",
              "                                                                              \n",
              "──────────────────────────────────────────────────────────────────────────────\n",
              "                                                                              \n",
              "                                                                              \n",
              "                                                                              \n",
              "                                                                              \n",
              "                                                                              \n",
              "                                                                              \n",
              "\n",
              "                                                                              \n",
              "                                                                              \n",
              "                                                                              \n",
              "                  2                          ⎞ ⎛                            2 \n",
              "₁₁⋅x₃₃ + k₁⋅k₃⋅x₁₃  + 2⋅k₁⋅x₁₁ + 2⋅k₃⋅x₃₃ - 4⎠⋅⎝-k₃⋅x₁₁⋅x₂₂⋅x₃₃ + k₃⋅x₁₁⋅x₂₃  \n",
              "──────────────────────────────────────────────────────────────────────────────\n",
              "                                                   2                          \n",
              "              2                          2        ⎞                           \n",
              "x₂₂ + 2⋅k₁⋅x₁₂  - 2⋅k₃⋅x₂₂⋅x₃₃ + 2⋅k₃⋅x₂₃  + 4⋅x₂₂⎠                           \n",
              "                                                                              \n",
              "                                                                              \n",
              "                                                                              \n",
              "──────────────────────────────────────────────────────────────────────────────\n",
              "                                                                              \n",
              "                                                                              \n",
              "                                                                              \n",
              "                                                                              \n",
              "                                                                              \n",
              "                                                                              \n",
              "\n",
              "                                                                    ⎞\n",
              "                                                                    ⎟\n",
              "                                                                    ⎟\n",
              "        2                                2                        2⎞⎟\n",
              "+ k₃⋅x₁₂ ⋅x₃₃ - 2⋅k₃⋅x₁₂⋅x₁₃⋅x₂₃ + k₃⋅x₁₃ ⋅x₂₂ + 2⋅x₁₁⋅x₂₂ - 2⋅x₁₂ ⎠⎟\n",
              "────────────────────────────────────────────────────────────────────⎟\n",
              "                                                                    ⎟\n",
              "                                                                    ⎟\n",
              "                                                                    ⎟\n",
              "                                                                    ⎟\n",
              "                                                                    ⎟\n",
              "                                                                    ⎠\n",
              "─────────────────────────────────────────────────────────────────────\n",
              "                                                                     \n",
              "                                                                     \n",
              "                                                                     \n",
              "                                                                     \n",
              "                                                                     \n",
              "                                                                     "
            ]
          },
          "metadata": {},
          "execution_count": 56
        }
      ]
    },
    {
      "cell_type": "code",
      "source": [
        "d_k1_star_k2_star = sym.simplify(d_k1_star_k2.subs([(k2, k2_star)]))"
      ],
      "metadata": {
        "id": "KcrRg8eB0vGR"
      },
      "execution_count": null,
      "outputs": []
    },
    {
      "cell_type": "code",
      "source": [
        "d_k1_star_k3_star = sym.simplify(d_k1_star_k3.subs([(k3, k3_star)]))"
      ],
      "metadata": {
        "id": "G2MFq_R5SBjp"
      },
      "execution_count": null,
      "outputs": []
    },
    {
      "cell_type": "code",
      "source": [
        "d_k2_star_k3_star= sym.simplify(d_k2_star_k3.subs([(k3, k3_star)]))\n",
        "d_k2_star_k1_star = sym.simplify(d_k2_star_k1.subs([(k1, k1_star)]))"
      ],
      "metadata": {
        "id": "JaZh6seE96LL"
      },
      "execution_count": null,
      "outputs": []
    },
    {
      "cell_type": "code",
      "source": [
        "d_k3_star_k1_star= sym.simplify(d_k3_star_k1.subs([(k1, k1_star)]))\n",
        "d_k3_star_k2_star = sym.simplify(d_k3_star_k2.subs([(k2, k2_star)]))"
      ],
      "metadata": {
        "id": "rroNHrku-PRG"
      },
      "execution_count": null,
      "outputs": []
    },
    {
      "cell_type": "code",
      "source": [
        "d_k1_star_k2_star"
      ],
      "metadata": {
        "colab": {
          "base_uri": "https://localhost:8080/",
          "height": 83
        },
        "id": "XzaTLquVR6hr",
        "outputId": "cd6d1019-feeb-4b49-a193-d21de74e00a0"
      },
      "execution_count": null,
      "outputs": [
        {
          "output_type": "display_data",
          "data": {
            "text/html": [
              "<script src='https://cdnjs.cloudflare.com/ajax/libs/mathjax/2.7.3/latest.js?config=default'></script>"
            ],
            "text/plain": [
              "<IPython.core.display.HTML object>"
            ]
          },
          "metadata": {}
        },
        {
          "output_type": "execute_result",
          "data": {
            "text/latex": "$\\displaystyle - \\frac{\\left(\\left(- k_{3} x_{22} x_{33} + k_{3} x_{23}^{2} + 2 x_{22}\\right) \\left(- k_{3} x_{11} x_{22} x_{33} \\left(- k_{1} k_{3} x_{11} x_{33} + k_{1} k_{3} x_{13}^{2} + 2 k_{1} x_{11} + 2 k_{3} x_{33} - 4\\right) + k_{3} x_{11} x_{23}^{2} \\left(- k_{1} k_{3} x_{11} x_{33} + k_{1} k_{3} x_{13}^{2} + 2 k_{1} x_{11} + 2 k_{3} x_{33} - 4\\right) + k_{3} x_{12}^{2} x_{33} \\left(- k_{1} k_{3} x_{11} x_{33} + k_{1} k_{3} x_{13}^{2} + 2 k_{1} x_{11} + 2 k_{3} x_{33} - 4\\right) - 2 k_{3} x_{12} x_{13} x_{23} \\left(- k_{1} k_{3} x_{11} x_{33} + k_{1} k_{3} x_{13}^{2} + 2 k_{1} x_{11} + 2 k_{3} x_{33} - 4\\right) + k_{3} x_{13}^{2} x_{22} \\left(- k_{1} k_{3} x_{11} x_{33} + k_{1} k_{3} x_{13}^{2} + 2 k_{1} x_{11} + 2 k_{3} x_{33} - 4\\right) + 2 x_{11} x_{22} \\left(- k_{1} k_{3} x_{11} x_{33} + k_{1} k_{3} x_{13}^{2} + 2 k_{1} x_{11} + 2 k_{3} x_{33} - 4\\right) - 2 x_{12}^{2} \\left(- k_{1} k_{3} x_{11} x_{33} + k_{1} k_{3} x_{13}^{2} + 2 k_{1} x_{11} + 2 k_{3} x_{33} - 4\\right) + 2 \\left(- k_{3} x_{11} x_{33} + k_{3} x_{13}^{2} + 2 x_{11}\\right) \\left(k_{1} k_{3} x_{11} x_{22} x_{33} - k_{1} k_{3} x_{11} x_{23}^{2} - k_{1} k_{3} x_{12}^{2} x_{33} + 2 k_{1} k_{3} x_{12} x_{13} x_{23} - k_{1} k_{3} x_{13}^{2} x_{22} - 2 k_{1} x_{11} x_{22} + 2 k_{1} x_{12}^{2} - 2 k_{3} x_{22} x_{33} + 2 k_{3} x_{23}^{2} + 4 x_{22}\\right)\\right) + \\left(k_{3} x_{22} x_{33} \\left(- k_{1} k_{3} x_{11} x_{33} + k_{1} k_{3} x_{13}^{2} + 2 k_{1} x_{11} + 2 k_{3} x_{33} - 4\\right) - k_{3} x_{23}^{2} \\left(- k_{1} k_{3} x_{11} x_{33} + k_{1} k_{3} x_{13}^{2} + 2 k_{1} x_{11} + 2 k_{3} x_{33} - 4\\right) - 2 x_{22} \\left(- k_{1} k_{3} x_{11} x_{33} + k_{1} k_{3} x_{13}^{2} + 2 k_{1} x_{11} + 2 k_{3} x_{33} - 4\\right) + 2 \\left(k_{3} x_{33} - 2\\right) \\left(k_{1} k_{3} x_{11} x_{22} x_{33} - k_{1} k_{3} x_{11} x_{23}^{2} - k_{1} k_{3} x_{12}^{2} x_{33} + 2 k_{1} k_{3} x_{12} x_{13} x_{23} - k_{1} k_{3} x_{13}^{2} x_{22} - 2 k_{1} x_{11} x_{22} + 2 k_{1} x_{12}^{2} - 2 k_{3} x_{22} x_{33} + 2 k_{3} x_{23}^{2} + 4 x_{22}\\right)\\right) \\left(- k_{3} x_{11} x_{22} x_{33} + k_{3} x_{11} x_{23}^{2} + k_{3} x_{12}^{2} x_{33} - 2 k_{3} x_{12} x_{13} x_{23} + k_{3} x_{13}^{2} x_{22} + 2 x_{11} x_{22} - 2 x_{12}^{2}\\right)\\right) \\left(k_{1} k_{3} x_{11} x_{22} x_{33} - k_{1} k_{3} x_{11} x_{23}^{2} - k_{1} k_{3} x_{12}^{2} x_{33} + 2 k_{1} k_{3} x_{12} x_{13} x_{23} - k_{1} k_{3} x_{13}^{2} x_{22} - 2 k_{1} x_{11} x_{22} + 2 k_{1} x_{12}^{2} - 2 k_{3} x_{22} x_{33} + 2 k_{3} x_{23}^{2} + 4 x_{22}\\right)}{\\left(- k_{3} x_{11} x_{22} x_{33} \\left(- k_{1} k_{3} x_{11} x_{33} + k_{1} k_{3} x_{13}^{2} + 2 k_{1} x_{11} + 2 k_{3} x_{33} - 4\\right) + k_{3} x_{11} x_{23}^{2} \\left(- k_{1} k_{3} x_{11} x_{33} + k_{1} k_{3} x_{13}^{2} + 2 k_{1} x_{11} + 2 k_{3} x_{33} - 4\\right) + k_{3} x_{12}^{2} x_{33} \\left(- k_{1} k_{3} x_{11} x_{33} + k_{1} k_{3} x_{13}^{2} + 2 k_{1} x_{11} + 2 k_{3} x_{33} - 4\\right) - 2 k_{3} x_{12} x_{13} x_{23} \\left(- k_{1} k_{3} x_{11} x_{33} + k_{1} k_{3} x_{13}^{2} + 2 k_{1} x_{11} + 2 k_{3} x_{33} - 4\\right) + k_{3} x_{13}^{2} x_{22} \\left(- k_{1} k_{3} x_{11} x_{33} + k_{1} k_{3} x_{13}^{2} + 2 k_{1} x_{11} + 2 k_{3} x_{33} - 4\\right) + 2 x_{11} x_{22} \\left(- k_{1} k_{3} x_{11} x_{33} + k_{1} k_{3} x_{13}^{2} + 2 k_{1} x_{11} + 2 k_{3} x_{33} - 4\\right) - 2 x_{12}^{2} \\left(- k_{1} k_{3} x_{11} x_{33} + k_{1} k_{3} x_{13}^{2} + 2 k_{1} x_{11} + 2 k_{3} x_{33} - 4\\right) + 2 \\left(- k_{3} x_{11} x_{33} + k_{3} x_{13}^{2} + 2 x_{11}\\right) \\left(k_{1} k_{3} x_{11} x_{22} x_{33} - k_{1} k_{3} x_{11} x_{23}^{2} - k_{1} k_{3} x_{12}^{2} x_{33} + 2 k_{1} k_{3} x_{12} x_{13} x_{23} - k_{1} k_{3} x_{13}^{2} x_{22} - 2 k_{1} x_{11} x_{22} + 2 k_{1} x_{12}^{2} - 2 k_{3} x_{22} x_{33} + 2 k_{3} x_{23}^{2} + 4 x_{22}\\right)\\right)^{2}}$",
            "text/plain": [
              " ⎛⎛                    2        ⎞ ⎛                 ⎛                         \n",
              "-⎝⎝-k₃⋅x₂₂⋅x₃₃ + k₃⋅x₂₃  + 2⋅x₂₂⎠⋅⎝- k₃⋅x₁₁⋅x₂₂⋅x₃₃⋅⎝-k₁⋅k₃⋅x₁₁⋅x₃₃ + k₁⋅k₃⋅x₁\n",
              "──────────────────────────────────────────────────────────────────────────────\n",
              "                                                                              \n",
              "                                                                              \n",
              "                                                                              \n",
              "\n",
              " 2                          ⎞             2 ⎛                          2      \n",
              "₃  + 2⋅k₁⋅x₁₁ + 2⋅k₃⋅x₃₃ - 4⎠ + k₃⋅x₁₁⋅x₂₃ ⋅⎝-k₁⋅k₃⋅x₁₁⋅x₃₃ + k₁⋅k₃⋅x₁₃  + 2⋅k\n",
              "──────────────────────────────────────────────────────────────────────────────\n",
              "                                                                              \n",
              "                                                                              \n",
              "                                                                              \n",
              "\n",
              "                    ⎞         2     ⎛                          2              \n",
              "₁⋅x₁₁ + 2⋅k₃⋅x₃₃ - 4⎠ + k₃⋅x₁₂ ⋅x₃₃⋅⎝-k₁⋅k₃⋅x₁₁⋅x₃₃ + k₁⋅k₃⋅x₁₃  + 2⋅k₁⋅x₁₁ + \n",
              "──────────────────────────────────────────────────────────────────────────────\n",
              "                                                                              \n",
              "                                                                              \n",
              "                                                                              \n",
              "\n",
              "            ⎞                    ⎛                          2                 \n",
              "2⋅k₃⋅x₃₃ - 4⎠ - 2⋅k₃⋅x₁₂⋅x₁₃⋅x₂₃⋅⎝-k₁⋅k₃⋅x₁₁⋅x₃₃ + k₁⋅k₃⋅x₁₃  + 2⋅k₁⋅x₁₁ + 2⋅k\n",
              "──────────────────────────────────────────────────────────────────────────────\n",
              "                                                                              \n",
              "                                                                              \n",
              "                                                                              \n",
              "\n",
              "         ⎞         2     ⎛                          2                         \n",
              "₃⋅x₃₃ - 4⎠ + k₃⋅x₁₃ ⋅x₂₂⋅⎝-k₁⋅k₃⋅x₁₁⋅x₃₃ + k₁⋅k₃⋅x₁₃  + 2⋅k₁⋅x₁₁ + 2⋅k₃⋅x₃₃ - \n",
              "──────────────────────────────────────────────────────────────────────────────\n",
              "                                                                              \n",
              "                    ⎛                 ⎛                          2            \n",
              "                    ⎝- k₃⋅x₁₁⋅x₂₂⋅x₃₃⋅⎝-k₁⋅k₃⋅x₁₁⋅x₃₃ + k₁⋅k₃⋅x₁₃  + 2⋅k₁⋅x₁₁ \n",
              "\n",
              " ⎞             ⎛                          2                          ⎞        \n",
              "4⎠ + 2⋅x₁₁⋅x₂₂⋅⎝-k₁⋅k₃⋅x₁₁⋅x₃₃ + k₁⋅k₃⋅x₁₃  + 2⋅k₁⋅x₁₁ + 2⋅k₃⋅x₃₃ - 4⎠ - 2⋅x₁₂\n",
              "──────────────────────────────────────────────────────────────────────────────\n",
              "                                                                              \n",
              "              ⎞             2 ⎛                          2                    \n",
              "+ 2⋅k₃⋅x₃₃ - 4⎠ + k₃⋅x₁₁⋅x₂₃ ⋅⎝-k₁⋅k₃⋅x₁₁⋅x₃₃ + k₁⋅k₃⋅x₁₃  + 2⋅k₁⋅x₁₁ + 2⋅k₃⋅x\n",
              "\n",
              "2 ⎛                          2                          ⎞     ⎛               \n",
              " ⋅⎝-k₁⋅k₃⋅x₁₁⋅x₃₃ + k₁⋅k₃⋅x₁₃  + 2⋅k₁⋅x₁₁ + 2⋅k₃⋅x₃₃ - 4⎠ + 2⋅⎝-k₃⋅x₁₁⋅x₃₃ + k\n",
              "──────────────────────────────────────────────────────────────────────────────\n",
              "                                                                              \n",
              "      ⎞         2     ⎛                          2                          ⎞ \n",
              "₃₃ - 4⎠ + k₃⋅x₁₂ ⋅x₃₃⋅⎝-k₁⋅k₃⋅x₁₁⋅x₃₃ + k₁⋅k₃⋅x₁₃  + 2⋅k₁⋅x₁₁ + 2⋅k₃⋅x₃₃ - 4⎠ \n",
              "\n",
              "     2        ⎞ ⎛                                 2            2              \n",
              "₃⋅x₁₃  + 2⋅x₁₁⎠⋅⎝k₁⋅k₃⋅x₁₁⋅x₂₂⋅x₃₃ - k₁⋅k₃⋅x₁₁⋅x₂₃  - k₁⋅k₃⋅x₁₂ ⋅x₃₃ + 2⋅k₁⋅k₃\n",
              "──────────────────────────────────────────────────────────────────────────────\n",
              "                                                                              \n",
              "                   ⎛                          2                          ⎞    \n",
              "- 2⋅k₃⋅x₁₂⋅x₁₃⋅x₂₃⋅⎝-k₁⋅k₃⋅x₁₁⋅x₃₃ + k₁⋅k₃⋅x₁₃  + 2⋅k₁⋅x₁₁ + 2⋅k₃⋅x₃₃ - 4⎠ + k\n",
              "\n",
              "                        2                              2                      \n",
              "⋅x₁₂⋅x₁₃⋅x₂₃ - k₁⋅k₃⋅x₁₃ ⋅x₂₂ - 2⋅k₁⋅x₁₁⋅x₂₂ + 2⋅k₁⋅x₁₂  - 2⋅k₃⋅x₂₂⋅x₃₃ + 2⋅k₃\n",
              "──────────────────────────────────────────────────────────────────────────────\n",
              "                                                                              \n",
              "     2     ⎛                          2                          ⎞            \n",
              "₃⋅x₁₃ ⋅x₂₂⋅⎝-k₁⋅k₃⋅x₁₁⋅x₃₃ + k₁⋅k₃⋅x₁₃  + 2⋅k₁⋅x₁₁ + 2⋅k₃⋅x₃₃ - 4⎠ + 2⋅x₁₁⋅x₂₂\n",
              "\n",
              "    2        ⎞⎞   ⎛           ⎛                          2                    \n",
              "⋅x₂₃  + 4⋅x₂₂⎠⎠ + ⎝k₃⋅x₂₂⋅x₃₃⋅⎝-k₁⋅k₃⋅x₁₁⋅x₃₃ + k₁⋅k₃⋅x₁₃  + 2⋅k₁⋅x₁₁ + 2⋅k₃⋅x\n",
              "──────────────────────────────────────────────────────────────────────────────\n",
              "                                                                              \n",
              " ⎛                          2                          ⎞        2 ⎛           \n",
              "⋅⎝-k₁⋅k₃⋅x₁₁⋅x₃₃ + k₁⋅k₃⋅x₁₃  + 2⋅k₁⋅x₁₁ + 2⋅k₃⋅x₃₃ - 4⎠ - 2⋅x₁₂ ⋅⎝-k₁⋅k₃⋅x₁₁⋅\n",
              "\n",
              "      ⎞         2 ⎛                          2                          ⎞     \n",
              "₃₃ - 4⎠ - k₃⋅x₂₃ ⋅⎝-k₁⋅k₃⋅x₁₁⋅x₃₃ + k₁⋅k₃⋅x₁₃  + 2⋅k₁⋅x₁₁ + 2⋅k₃⋅x₃₃ - 4⎠ - 2⋅\n",
              "──────────────────────────────────────────────────────────────────────────────\n",
              "                                                                              \n",
              "               2                          ⎞     ⎛                    2        \n",
              "x₃₃ + k₁⋅k₃⋅x₁₃  + 2⋅k₁⋅x₁₁ + 2⋅k₃⋅x₃₃ - 4⎠ + 2⋅⎝-k₃⋅x₁₁⋅x₃₃ + k₃⋅x₁₃  + 2⋅x₁₁\n",
              "\n",
              "    ⎛                          2                          ⎞                  ⎛\n",
              "x₂₂⋅⎝-k₁⋅k₃⋅x₁₁⋅x₃₃ + k₁⋅k₃⋅x₁₃  + 2⋅k₁⋅x₁₁ + 2⋅k₃⋅x₃₃ - 4⎠ + 2⋅(k₃⋅x₃₃ - 2)⋅⎝\n",
              "──────────────────────────────────────────────────────────────────────────────\n",
              "                                                                              \n",
              "⎞ ⎛                                 2            2                            \n",
              "⎠⋅⎝k₁⋅k₃⋅x₁₁⋅x₂₂⋅x₃₃ - k₁⋅k₃⋅x₁₁⋅x₂₃  - k₁⋅k₃⋅x₁₂ ⋅x₃₃ + 2⋅k₁⋅k₃⋅x₁₂⋅x₁₃⋅x₂₃ -\n",
              "\n",
              "                                 2            2                               \n",
              "k₁⋅k₃⋅x₁₁⋅x₂₂⋅x₃₃ - k₁⋅k₃⋅x₁₁⋅x₂₃  - k₁⋅k₃⋅x₁₂ ⋅x₃₃ + 2⋅k₁⋅k₃⋅x₁₂⋅x₁₃⋅x₂₃ - k₁\n",
              "──────────────────────────────────────────────────────────────────────────────\n",
              "                                                                              \n",
              "          2                              2                          2        ⎞\n",
              " k₁⋅k₃⋅x₁₃ ⋅x₂₂ - 2⋅k₁⋅x₁₁⋅x₂₂ + 2⋅k₁⋅x₁₂  - 2⋅k₃⋅x₂₂⋅x₃₃ + 2⋅k₃⋅x₂₃  + 4⋅x₂₂⎠\n",
              "\n",
              "       2                              2                          2        ⎞⎞ ⎛\n",
              "⋅k₃⋅x₁₃ ⋅x₂₂ - 2⋅k₁⋅x₁₁⋅x₂₂ + 2⋅k₁⋅x₁₂  - 2⋅k₃⋅x₂₂⋅x₃₃ + 2⋅k₃⋅x₂₃  + 4⋅x₂₂⎠⎠⋅⎝\n",
              "──────────────────────────────────────────────────────────────────────────────\n",
              " 2                                                                            \n",
              "⎞                                                                             \n",
              "⎠                                                                             \n",
              "\n",
              "                            2         2                                2      \n",
              "-k₃⋅x₁₁⋅x₂₂⋅x₃₃ + k₃⋅x₁₁⋅x₂₃  + k₃⋅x₁₂ ⋅x₃₃ - 2⋅k₃⋅x₁₂⋅x₁₃⋅x₂₃ + k₃⋅x₁₃ ⋅x₂₂ +\n",
              "──────────────────────────────────────────────────────────────────────────────\n",
              "                                                                              \n",
              "                                                                              \n",
              "                                                                              \n",
              "\n",
              "                  2⎞⎞ ⎛                                 2            2        \n",
              " 2⋅x₁₁⋅x₂₂ - 2⋅x₁₂ ⎠⎠⋅⎝k₁⋅k₃⋅x₁₁⋅x₂₂⋅x₃₃ - k₁⋅k₃⋅x₁₁⋅x₂₃  - k₁⋅k₃⋅x₁₂ ⋅x₃₃ + 2\n",
              "──────────────────────────────────────────────────────────────────────────────\n",
              "                                                                              \n",
              "                                                                              \n",
              "                                                                              \n",
              "\n",
              "                              2                              2                \n",
              "⋅k₁⋅k₃⋅x₁₂⋅x₁₃⋅x₂₃ - k₁⋅k₃⋅x₁₃ ⋅x₂₂ - 2⋅k₁⋅x₁₁⋅x₂₂ + 2⋅k₁⋅x₁₂  - 2⋅k₃⋅x₂₂⋅x₃₃ \n",
              "──────────────────────────────────────────────────────────────────────────────\n",
              "                                                                              \n",
              "                                                                              \n",
              "                                                                              \n",
              "\n",
              "          2        ⎞ \n",
              "+ 2⋅k₃⋅x₂₃  + 4⋅x₂₂⎠ \n",
              "─────────────────────\n",
              "                     \n",
              "                     \n",
              "                     "
            ]
          },
          "metadata": {},
          "execution_count": 110
        }
      ]
    },
    {
      "cell_type": "code",
      "source": [
        "X_ = psd(3)\n",
        "X_inv = LA.inv(X_)"
      ],
      "metadata": {
        "id": "YPT1rIasBqi4"
      },
      "execution_count": null,
      "outputs": []
    },
    {
      "cell_type": "code",
      "source": [
        "d_k2_star_k3_star*d_k3_star_k1 + d_k2_star_k1"
      ],
      "metadata": {
        "colab": {
          "base_uri": "https://localhost:8080/",
          "height": 130
        },
        "id": "-WRnZRKEyIXn",
        "outputId": "0e0ba32c-72d0-4696-d494-adfe5b1c51ac"
      },
      "execution_count": null,
      "outputs": [
        {
          "output_type": "display_data",
          "data": {
            "text/html": [
              "<script src='https://cdnjs.cloudflare.com/ajax/libs/mathjax/2.7.3/latest.js?config=default'></script>"
            ],
            "text/plain": [
              "<IPython.core.display.HTML object>"
            ]
          },
          "metadata": {}
        },
        {
          "output_type": "execute_result",
          "data": {
            "text/latex": "$\\displaystyle - \\frac{\\left(\\left(- k_{1} x_{11} x_{33} + k_{1} x_{13}^{2} + 2 x_{33}\\right) \\left(- k_{1} x_{11} x_{22} x_{33} \\left(- k_{1} k_{2} x_{11} x_{22} + k_{1} k_{2} x_{12}^{2} + 2 k_{1} x_{11} + 2 k_{2} x_{22} - 4\\right) + k_{1} x_{11} x_{23}^{2} \\left(- k_{1} k_{2} x_{11} x_{22} + k_{1} k_{2} x_{12}^{2} + 2 k_{1} x_{11} + 2 k_{2} x_{22} - 4\\right) + k_{1} x_{12}^{2} x_{33} \\left(- k_{1} k_{2} x_{11} x_{22} + k_{1} k_{2} x_{12}^{2} + 2 k_{1} x_{11} + 2 k_{2} x_{22} - 4\\right) - 2 k_{1} x_{12} x_{13} x_{23} \\left(- k_{1} k_{2} x_{11} x_{22} + k_{1} k_{2} x_{12}^{2} + 2 k_{1} x_{11} + 2 k_{2} x_{22} - 4\\right) + k_{1} x_{13}^{2} x_{22} \\left(- k_{1} k_{2} x_{11} x_{22} + k_{1} k_{2} x_{12}^{2} + 2 k_{1} x_{11} + 2 k_{2} x_{22} - 4\\right) + 2 x_{22} x_{33} \\left(- k_{1} k_{2} x_{11} x_{22} + k_{1} k_{2} x_{12}^{2} + 2 k_{1} x_{11} + 2 k_{2} x_{22} - 4\\right) - 2 x_{23}^{2} \\left(- k_{1} k_{2} x_{11} x_{22} + k_{1} k_{2} x_{12}^{2} + 2 k_{1} x_{11} + 2 k_{2} x_{22} - 4\\right) + 2 \\left(- k_{1} x_{11} x_{22} + k_{1} x_{12}^{2} + 2 x_{22}\\right) \\left(k_{1} k_{2} x_{11} x_{22} x_{33} - k_{1} k_{2} x_{11} x_{23}^{2} - k_{1} k_{2} x_{12}^{2} x_{33} + 2 k_{1} k_{2} x_{12} x_{13} x_{23} - k_{1} k_{2} x_{13}^{2} x_{22} - 2 k_{1} x_{11} x_{33} + 2 k_{1} x_{13}^{2} - 2 k_{2} x_{22} x_{33} + 2 k_{2} x_{23}^{2} + 4 x_{33}\\right)\\right) + \\left(k_{1} x_{11} x_{33} \\left(- k_{1} k_{2} x_{11} x_{22} + k_{1} k_{2} x_{12}^{2} + 2 k_{1} x_{11} + 2 k_{2} x_{22} - 4\\right) - k_{1} x_{13}^{2} \\left(- k_{1} k_{2} x_{11} x_{22} + k_{1} k_{2} x_{12}^{2} + 2 k_{1} x_{11} + 2 k_{2} x_{22} - 4\\right) - 2 x_{33} \\left(- k_{1} k_{2} x_{11} x_{22} + k_{1} k_{2} x_{12}^{2} + 2 k_{1} x_{11} + 2 k_{2} x_{22} - 4\\right) + 2 \\left(k_{1} x_{11} - 2\\right) \\left(k_{1} k_{2} x_{11} x_{22} x_{33} - k_{1} k_{2} x_{11} x_{23}^{2} - k_{1} k_{2} x_{12}^{2} x_{33} + 2 k_{1} k_{2} x_{12} x_{13} x_{23} - k_{1} k_{2} x_{13}^{2} x_{22} - 2 k_{1} x_{11} x_{33} + 2 k_{1} x_{13}^{2} - 2 k_{2} x_{22} x_{33} + 2 k_{2} x_{23}^{2} + 4 x_{33}\\right)\\right) \\left(- k_{1} x_{11} x_{22} x_{33} + k_{1} x_{11} x_{23}^{2} + k_{1} x_{12}^{2} x_{33} - 2 k_{1} x_{12} x_{13} x_{23} + k_{1} x_{13}^{2} x_{22} + 2 x_{22} x_{33} - 2 x_{23}^{2}\\right)\\right) \\left(\\left(k_{2} x_{11} x_{22} - k_{2} x_{12}^{2} - 2 x_{11}\\right) \\left(k_{1} k_{2} x_{11} x_{22} x_{33} - k_{1} k_{2} x_{11} x_{23}^{2} - k_{1} k_{2} x_{12}^{2} x_{33} + 2 k_{1} k_{2} x_{12} x_{13} x_{23} - k_{1} k_{2} x_{13}^{2} x_{22} - 2 k_{1} x_{11} x_{33} + 2 k_{1} x_{13}^{2} - 2 k_{2} x_{22} x_{33} + 2 k_{2} x_{23}^{2} + 4 x_{33}\\right) - \\left(- k_{1} k_{2} x_{11} x_{22} + k_{1} k_{2} x_{12}^{2} + 2 k_{1} x_{11} + 2 k_{2} x_{22} - 4\\right) \\left(- k_{2} x_{11} x_{22} x_{33} + k_{2} x_{11} x_{23}^{2} + k_{2} x_{12}^{2} x_{33} - 2 k_{2} x_{12} x_{13} x_{23} + k_{2} x_{13}^{2} x_{22} + 2 x_{11} x_{33} - 2 x_{13}^{2}\\right)\\right)}{\\left(- k_{1} x_{11} x_{22} x_{33} \\left(- k_{1} k_{2} x_{11} x_{22} + k_{1} k_{2} x_{12}^{2} + 2 k_{1} x_{11} + 2 k_{2} x_{22} - 4\\right) + k_{1} x_{11} x_{23}^{2} \\left(- k_{1} k_{2} x_{11} x_{22} + k_{1} k_{2} x_{12}^{2} + 2 k_{1} x_{11} + 2 k_{2} x_{22} - 4\\right) + k_{1} x_{12}^{2} x_{33} \\left(- k_{1} k_{2} x_{11} x_{22} + k_{1} k_{2} x_{12}^{2} + 2 k_{1} x_{11} + 2 k_{2} x_{22} - 4\\right) - 2 k_{1} x_{12} x_{13} x_{23} \\left(- k_{1} k_{2} x_{11} x_{22} + k_{1} k_{2} x_{12}^{2} + 2 k_{1} x_{11} + 2 k_{2} x_{22} - 4\\right) + k_{1} x_{13}^{2} x_{22} \\left(- k_{1} k_{2} x_{11} x_{22} + k_{1} k_{2} x_{12}^{2} + 2 k_{1} x_{11} + 2 k_{2} x_{22} - 4\\right) + 2 x_{22} x_{33} \\left(- k_{1} k_{2} x_{11} x_{22} + k_{1} k_{2} x_{12}^{2} + 2 k_{1} x_{11} + 2 k_{2} x_{22} - 4\\right) - 2 x_{23}^{2} \\left(- k_{1} k_{2} x_{11} x_{22} + k_{1} k_{2} x_{12}^{2} + 2 k_{1} x_{11} + 2 k_{2} x_{22} - 4\\right) + 2 \\left(- k_{1} x_{11} x_{22} + k_{1} x_{12}^{2} + 2 x_{22}\\right) \\left(k_{1} k_{2} x_{11} x_{22} x_{33} - k_{1} k_{2} x_{11} x_{23}^{2} - k_{1} k_{2} x_{12}^{2} x_{33} + 2 k_{1} k_{2} x_{12} x_{13} x_{23} - k_{1} k_{2} x_{13}^{2} x_{22} - 2 k_{1} x_{11} x_{33} + 2 k_{1} x_{13}^{2} - 2 k_{2} x_{22} x_{33} + 2 k_{2} x_{23}^{2} + 4 x_{33}\\right)\\right)^{2} \\left(k_{1} k_{2} x_{11} x_{22} x_{33} - k_{1} k_{2} x_{11} x_{23}^{2} - k_{1} k_{2} x_{12}^{2} x_{33} + 2 k_{1} k_{2} x_{12} x_{13} x_{23} - k_{1} k_{2} x_{13}^{2} x_{22} - 2 k_{1} x_{11} x_{33} + 2 k_{1} x_{13}^{2} - 2 k_{2} x_{22} x_{33} + 2 k_{2} x_{23}^{2} + 4 x_{33}\\right)} + \\frac{\\left(k_{3} x_{11} x_{33} - k_{3} x_{13}^{2} - 2 x_{11}\\right) \\left(k_{1} k_{3} x_{11} x_{22} x_{33} - k_{1} k_{3} x_{11} x_{23}^{2} - k_{1} k_{3} x_{12}^{2} x_{33} + 2 k_{1} k_{3} x_{12} x_{13} x_{23} - k_{1} k_{3} x_{13}^{2} x_{22} - 2 k_{1} x_{11} x_{22} + 2 k_{1} x_{12}^{2} - 2 k_{3} x_{22} x_{33} + 2 k_{3} x_{23}^{2} + 4 x_{22}\\right) - \\left(- k_{1} k_{3} x_{11} x_{33} + k_{1} k_{3} x_{13}^{2} + 2 k_{1} x_{11} + 2 k_{3} x_{33} - 4\\right) \\left(- k_{3} x_{11} x_{22} x_{33} + k_{3} x_{11} x_{23}^{2} + k_{3} x_{12}^{2} x_{33} - 2 k_{3} x_{12} x_{13} x_{23} + k_{3} x_{13}^{2} x_{22} + 2 x_{11} x_{22} - 2 x_{12}^{2}\\right)}{\\left(k_{1} k_{3} x_{11} x_{22} x_{33} - k_{1} k_{3} x_{11} x_{23}^{2} - k_{1} k_{3} x_{12}^{2} x_{33} + 2 k_{1} k_{3} x_{12} x_{13} x_{23} - k_{1} k_{3} x_{13}^{2} x_{22} - 2 k_{1} x_{11} x_{22} + 2 k_{1} x_{12}^{2} - 2 k_{3} x_{22} x_{33} + 2 k_{3} x_{23}^{2} + 4 x_{22}\\right)^{2}}$",
            "text/plain": [
              "  ⎛⎛                    2        ⎞ ⎛                 ⎛                        \n",
              "  ⎝⎝-k₁⋅x₁₁⋅x₃₃ + k₁⋅x₁₃  + 2⋅x₃₃⎠⋅⎝- k₁⋅x₁₁⋅x₂₂⋅x₃₃⋅⎝-k₁⋅k₂⋅x₁₁⋅x₂₂ + k₁⋅k₂⋅x\n",
              "- ────────────────────────────────────────────────────────────────────────────\n",
              "                                                                              \n",
              "                                                                              \n",
              "                                                                              \n",
              "\n",
              "  2                          ⎞             2 ⎛                          2     \n",
              "₁₂  + 2⋅k₁⋅x₁₁ + 2⋅k₂⋅x₂₂ - 4⎠ + k₁⋅x₁₁⋅x₂₃ ⋅⎝-k₁⋅k₂⋅x₁₁⋅x₂₂ + k₁⋅k₂⋅x₁₂  + 2⋅\n",
              "──────────────────────────────────────────────────────────────────────────────\n",
              "                                                                              \n",
              "                                                                              \n",
              "                                                                              \n",
              "\n",
              "                     ⎞         2     ⎛                          2             \n",
              "k₁⋅x₁₁ + 2⋅k₂⋅x₂₂ - 4⎠ + k₁⋅x₁₂ ⋅x₃₃⋅⎝-k₁⋅k₂⋅x₁₁⋅x₂₂ + k₁⋅k₂⋅x₁₂  + 2⋅k₁⋅x₁₁ +\n",
              "──────────────────────────────────────────────────────────────────────────────\n",
              "                                                                              \n",
              "                                                                              \n",
              "                                                                              \n",
              "\n",
              "             ⎞                    ⎛                          2                \n",
              " 2⋅k₂⋅x₂₂ - 4⎠ - 2⋅k₁⋅x₁₂⋅x₁₃⋅x₂₃⋅⎝-k₁⋅k₂⋅x₁₁⋅x₂₂ + k₁⋅k₂⋅x₁₂  + 2⋅k₁⋅x₁₁ + 2⋅\n",
              "──────────────────────────────────────────────────────────────────────────────\n",
              "                                                                              \n",
              "                                                                              \n",
              "                                                                              \n",
              "\n",
              "          ⎞         2     ⎛                          2                        \n",
              "k₂⋅x₂₂ - 4⎠ + k₁⋅x₁₃ ⋅x₂₂⋅⎝-k₁⋅k₂⋅x₁₁⋅x₂₂ + k₁⋅k₂⋅x₁₂  + 2⋅k₁⋅x₁₁ + 2⋅k₂⋅x₂₂ -\n",
              "──────────────────────────────────────────────────────────────────────────────\n",
              "                                                                              \n",
              "                                      ⎛                 ⎛                     \n",
              "                                      ⎝- k₁⋅x₁₁⋅x₂₂⋅x₃₃⋅⎝-k₁⋅k₂⋅x₁₁⋅x₂₂ + k₁⋅k\n",
              "\n",
              "  ⎞             ⎛                          2                          ⎞       \n",
              " 4⎠ + 2⋅x₂₂⋅x₃₃⋅⎝-k₁⋅k₂⋅x₁₁⋅x₂₂ + k₁⋅k₂⋅x₁₂  + 2⋅k₁⋅x₁₁ + 2⋅k₂⋅x₂₂ - 4⎠ - 2⋅x₂\n",
              "──────────────────────────────────────────────────────────────────────────────\n",
              "                                                                              \n",
              "     2                          ⎞             2 ⎛                          2  \n",
              "₂⋅x₁₂  + 2⋅k₁⋅x₁₁ + 2⋅k₂⋅x₂₂ - 4⎠ + k₁⋅x₁₁⋅x₂₃ ⋅⎝-k₁⋅k₂⋅x₁₁⋅x₂₂ + k₁⋅k₂⋅x₁₂  +\n",
              "\n",
              " 2 ⎛                          2                          ⎞     ⎛              \n",
              "₃ ⋅⎝-k₁⋅k₂⋅x₁₁⋅x₂₂ + k₁⋅k₂⋅x₁₂  + 2⋅k₁⋅x₁₁ + 2⋅k₂⋅x₂₂ - 4⎠ + 2⋅⎝-k₁⋅x₁₁⋅x₂₂ + \n",
              "──────────────────────────────────────────────────────────────────────────────\n",
              "                                                                              \n",
              "                        ⎞         2     ⎛                          2          \n",
              " 2⋅k₁⋅x₁₁ + 2⋅k₂⋅x₂₂ - 4⎠ + k₁⋅x₁₂ ⋅x₃₃⋅⎝-k₁⋅k₂⋅x₁₁⋅x₂₂ + k₁⋅k₂⋅x₁₂  + 2⋅k₁⋅x₁\n",
              "\n",
              "      2        ⎞ ⎛                                 2            2             \n",
              "k₁⋅x₁₂  + 2⋅x₂₂⎠⋅⎝k₁⋅k₂⋅x₁₁⋅x₂₂⋅x₃₃ - k₁⋅k₂⋅x₁₁⋅x₂₃  - k₁⋅k₂⋅x₁₂ ⋅x₃₃ + 2⋅k₁⋅k\n",
              "──────────────────────────────────────────────────────────────────────────────\n",
              "                                                                              \n",
              "                ⎞                    ⎛                          2             \n",
              "₁ + 2⋅k₂⋅x₂₂ - 4⎠ - 2⋅k₁⋅x₁₂⋅x₁₃⋅x₂₃⋅⎝-k₁⋅k₂⋅x₁₁⋅x₂₂ + k₁⋅k₂⋅x₁₂  + 2⋅k₁⋅x₁₁ +\n",
              "\n",
              "                         2                              2                     \n",
              "₂⋅x₁₂⋅x₁₃⋅x₂₃ - k₁⋅k₂⋅x₁₃ ⋅x₂₂ - 2⋅k₁⋅x₁₁⋅x₃₃ + 2⋅k₁⋅x₁₃  - 2⋅k₂⋅x₂₂⋅x₃₃ + 2⋅k\n",
              "──────────────────────────────────────────────────────────────────────────────\n",
              "                                                                              \n",
              "             ⎞         2     ⎛                          2                     \n",
              " 2⋅k₂⋅x₂₂ - 4⎠ + k₁⋅x₁₃ ⋅x₂₂⋅⎝-k₁⋅k₂⋅x₁₁⋅x₂₂ + k₁⋅k₂⋅x₁₂  + 2⋅k₁⋅x₁₁ + 2⋅k₂⋅x₂\n",
              "\n",
              "     2        ⎞⎞   ⎛           ⎛                          2                   \n",
              "₂⋅x₂₃  + 4⋅x₃₃⎠⎠ + ⎝k₁⋅x₁₁⋅x₃₃⋅⎝-k₁⋅k₂⋅x₁₁⋅x₂₂ + k₁⋅k₂⋅x₁₂  + 2⋅k₁⋅x₁₁ + 2⋅k₂⋅\n",
              "──────────────────────────────────────────────────────────────────────────────\n",
              "                                                                              \n",
              "     ⎞             ⎛                          2                          ⎞    \n",
              "₂ - 4⎠ + 2⋅x₂₂⋅x₃₃⋅⎝-k₁⋅k₂⋅x₁₁⋅x₂₂ + k₁⋅k₂⋅x₁₂  + 2⋅k₁⋅x₁₁ + 2⋅k₂⋅x₂₂ - 4⎠ - 2\n",
              "\n",
              "       ⎞         2 ⎛                          2                          ⎞    \n",
              "x₂₂ - 4⎠ - k₁⋅x₁₃ ⋅⎝-k₁⋅k₂⋅x₁₁⋅x₂₂ + k₁⋅k₂⋅x₁₂  + 2⋅k₁⋅x₁₁ + 2⋅k₂⋅x₂₂ - 4⎠ - 2\n",
              "──────────────────────────────────────────────────────────────────────────────\n",
              "                                                                              \n",
              "    2 ⎛                          2                          ⎞     ⎛           \n",
              "⋅x₂₃ ⋅⎝-k₁⋅k₂⋅x₁₁⋅x₂₂ + k₁⋅k₂⋅x₁₂  + 2⋅k₁⋅x₁₁ + 2⋅k₂⋅x₂₂ - 4⎠ + 2⋅⎝-k₁⋅x₁₁⋅x₂₂\n",
              "\n",
              "     ⎛                          2                          ⎞                  \n",
              "⋅x₃₃⋅⎝-k₁⋅k₂⋅x₁₁⋅x₂₂ + k₁⋅k₂⋅x₁₂  + 2⋅k₁⋅x₁₁ + 2⋅k₂⋅x₂₂ - 4⎠ + 2⋅(k₁⋅x₁₁ - 2)⋅\n",
              "──────────────────────────────────────────────────────────────────────────────\n",
              "                                                                              \n",
              "         2        ⎞ ⎛                                 2            2          \n",
              " + k₁⋅x₁₂  + 2⋅x₂₂⎠⋅⎝k₁⋅k₂⋅x₁₁⋅x₂₂⋅x₃₃ - k₁⋅k₂⋅x₁₁⋅x₂₃  - k₁⋅k₂⋅x₁₂ ⋅x₃₃ + 2⋅k\n",
              "\n",
              "⎛                                 2            2                              \n",
              "⎝k₁⋅k₂⋅x₁₁⋅x₂₂⋅x₃₃ - k₁⋅k₂⋅x₁₁⋅x₂₃  - k₁⋅k₂⋅x₁₂ ⋅x₃₃ + 2⋅k₁⋅k₂⋅x₁₂⋅x₁₃⋅x₂₃ - k\n",
              "──────────────────────────────────────────────────────────────────────────────\n",
              "                                                                              \n",
              "                            2                              2                  \n",
              "₁⋅k₂⋅x₁₂⋅x₁₃⋅x₂₃ - k₁⋅k₂⋅x₁₃ ⋅x₂₂ - 2⋅k₁⋅x₁₁⋅x₃₃ + 2⋅k₁⋅x₁₃  - 2⋅k₂⋅x₂₂⋅x₃₃ + \n",
              "\n",
              "        2                              2                          2        ⎞⎞ \n",
              "₁⋅k₂⋅x₁₃ ⋅x₂₂ - 2⋅k₁⋅x₁₁⋅x₃₃ + 2⋅k₁⋅x₁₃  - 2⋅k₂⋅x₂₂⋅x₃₃ + 2⋅k₂⋅x₂₃  + 4⋅x₃₃⎠⎠⋅\n",
              "──────────────────────────────────────────────────────────────────────────────\n",
              "                   2                                                          \n",
              "        2        ⎞⎞  ⎛                                 2            2         \n",
              "2⋅k₂⋅x₂₃  + 4⋅x₃₃⎠⎠ ⋅⎝k₁⋅k₂⋅x₁₁⋅x₂₂⋅x₃₃ - k₁⋅k₂⋅x₁₁⋅x₂₃  - k₁⋅k₂⋅x₁₂ ⋅x₃₃ + 2⋅\n",
              "\n",
              "⎛                            2         2                                2     \n",
              "⎝-k₁⋅x₁₁⋅x₂₂⋅x₃₃ + k₁⋅x₁₁⋅x₂₃  + k₁⋅x₁₂ ⋅x₃₃ - 2⋅k₁⋅x₁₂⋅x₁₃⋅x₂₃ + k₁⋅x₁₃ ⋅x₂₂ \n",
              "──────────────────────────────────────────────────────────────────────────────\n",
              "                                                                              \n",
              "                             2                              2                 \n",
              "k₁⋅k₂⋅x₁₂⋅x₁₃⋅x₂₃ - k₁⋅k₂⋅x₁₃ ⋅x₂₂ - 2⋅k₁⋅x₁₁⋅x₃₃ + 2⋅k₁⋅x₁₃  - 2⋅k₂⋅x₂₂⋅x₃₃ +\n",
              "\n",
              "                   2⎞⎞ ⎛⎛                   2        ⎞ ⎛                      \n",
              "+ 2⋅x₂₂⋅x₃₃ - 2⋅x₂₃ ⎠⎠⋅⎝⎝k₂⋅x₁₁⋅x₂₂ - k₂⋅x₁₂  - 2⋅x₁₁⎠⋅⎝k₁⋅k₂⋅x₁₁⋅x₂₂⋅x₃₃ - k₁\n",
              "──────────────────────────────────────────────────────────────────────────────\n",
              "                                                                              \n",
              "         2        ⎞                                                           \n",
              " 2⋅k₂⋅x₂₃  + 4⋅x₃₃⎠                                                           \n",
              "\n",
              "           2            2                                      2              \n",
              "⋅k₂⋅x₁₁⋅x₂₃  - k₁⋅k₂⋅x₁₂ ⋅x₃₃ + 2⋅k₁⋅k₂⋅x₁₂⋅x₁₃⋅x₂₃ - k₁⋅k₂⋅x₁₃ ⋅x₂₂ - 2⋅k₁⋅x₁\n",
              "──────────────────────────────────────────────────────────────────────────────\n",
              "                                                                              \n",
              "                                                                              \n",
              "                                                                              \n",
              "\n",
              "                2                          2        ⎞   ⎛                     \n",
              "₁⋅x₃₃ + 2⋅k₁⋅x₁₃  - 2⋅k₂⋅x₂₂⋅x₃₃ + 2⋅k₂⋅x₂₃  + 4⋅x₃₃⎠ - ⎝-k₁⋅k₂⋅x₁₁⋅x₂₂ + k₁⋅k\n",
              "──────────────────────────────────────────────────────────────────────────────\n",
              "                                                                              \n",
              "                                                                              \n",
              "                                                                              \n",
              "\n",
              "     2                          ⎞ ⎛                            2         2    \n",
              "₂⋅x₁₂  + 2⋅k₁⋅x₁₁ + 2⋅k₂⋅x₂₂ - 4⎠⋅⎝-k₂⋅x₁₁⋅x₂₂⋅x₃₃ + k₂⋅x₁₁⋅x₂₃  + k₂⋅x₁₂ ⋅x₃₃\n",
              "──────────────────────────────────────────────────────────────────────────────\n",
              "                                                                              \n",
              "                                                                              \n",
              "                                                                              \n",
              "\n",
              "                            2                        2⎞⎞   ⎛                  \n",
              " - 2⋅k₂⋅x₁₂⋅x₁₃⋅x₂₃ + k₂⋅x₁₃ ⋅x₂₂ + 2⋅x₁₁⋅x₃₃ - 2⋅x₁₃ ⎠⎠   ⎝k₃⋅x₁₁⋅x₃₃ - k₃⋅x₁\n",
              "──────────────────────────────────────────────────────── + ───────────────────\n",
              "                                                                              \n",
              "                                                                              \n",
              "                                                                              \n",
              "\n",
              " 2        ⎞ ⎛                                 2            2                  \n",
              "₃  - 2⋅x₁₁⎠⋅⎝k₁⋅k₃⋅x₁₁⋅x₂₂⋅x₃₃ - k₁⋅k₃⋅x₁₁⋅x₂₃  - k₁⋅k₃⋅x₁₂ ⋅x₃₃ + 2⋅k₁⋅k₃⋅x₁₂\n",
              "──────────────────────────────────────────────────────────────────────────────\n",
              "                                                                              \n",
              "                                                                           ⎛  \n",
              "                                                                           ⎝k₁\n",
              "\n",
              "                    2                              2                          \n",
              "⋅x₁₃⋅x₂₃ - k₁⋅k₃⋅x₁₃ ⋅x₂₂ - 2⋅k₁⋅x₁₁⋅x₂₂ + 2⋅k₁⋅x₁₂  - 2⋅k₃⋅x₂₂⋅x₃₃ + 2⋅k₃⋅x₂₃\n",
              "──────────────────────────────────────────────────────────────────────────────\n",
              "                                                                              \n",
              "                               2            2                                 \n",
              "⋅k₃⋅x₁₁⋅x₂₂⋅x₃₃ - k₁⋅k₃⋅x₁₁⋅x₂₃  - k₁⋅k₃⋅x₁₂ ⋅x₃₃ + 2⋅k₁⋅k₃⋅x₁₂⋅x₁₃⋅x₂₃ - k₁⋅k\n",
              "\n",
              "2        ⎞   ⎛                          2                          ⎞ ⎛        \n",
              "  + 4⋅x₂₂⎠ - ⎝-k₁⋅k₃⋅x₁₁⋅x₃₃ + k₁⋅k₃⋅x₁₃  + 2⋅k₁⋅x₁₁ + 2⋅k₃⋅x₃₃ - 4⎠⋅⎝-k₃⋅x₁₁⋅\n",
              "──────────────────────────────────────────────────────────────────────────────\n",
              "                                                                         2    \n",
              "     2                              2                          2        ⎞     \n",
              "₃⋅x₁₃ ⋅x₂₂ - 2⋅k₁⋅x₁₁⋅x₂₂ + 2⋅k₁⋅x₁₂  - 2⋅k₃⋅x₂₂⋅x₃₃ + 2⋅k₃⋅x₂₃  + 4⋅x₂₂⎠     \n",
              "\n",
              "                    2         2                                2              \n",
              "x₂₂⋅x₃₃ + k₃⋅x₁₁⋅x₂₃  + k₃⋅x₁₂ ⋅x₃₃ - 2⋅k₃⋅x₁₂⋅x₁₃⋅x₂₃ + k₃⋅x₁₃ ⋅x₂₂ + 2⋅x₁₁⋅x\n",
              "──────────────────────────────────────────────────────────────────────────────\n",
              "                                                                              \n",
              "                                                                              \n",
              "                                                                              \n",
              "\n",
              "          2⎞\n",
              "₂₂ - 2⋅x₁₂ ⎠\n",
              "────────────\n",
              "            \n",
              "            \n",
              "            "
            ]
          },
          "metadata": {},
          "execution_count": 115
        }
      ]
    },
    {
      "cell_type": "code",
      "source": [
        "df_dk1 =  d_k1_star_k2_star * (d_k2_star_k3_star*d_k3_star_k1 + d_k2_star_k1) +  d_k1_star_k3.subs([(k3, k3_star)])*(d_k3_star_k2.subs([(k2, k2_star)])*d_k2_star_k1 + d_k3_star_k1)"
      ],
      "metadata": {
        "id": "rSD6RkfixckC"
      },
      "execution_count": null,
      "outputs": []
    },
    {
      "cell_type": "code",
      "source": [
        "comp1 = d_k2_star_k3_star*d_k3_star_k1\n",
        "comp2 = d_k2_star_k1"
      ],
      "metadata": {
        "id": "WjFSaszKyOM2"
      },
      "execution_count": null,
      "outputs": []
    },
    {
      "cell_type": "code",
      "source": [
        ""
      ],
      "metadata": {
        "colab": {
          "base_uri": "https://localhost:8080/",
          "height": 37
        },
        "id": "LtJCRv7HiuMn",
        "outputId": "f08e77ed-3e75-4ff0-de19-d20a9a726b7e"
      },
      "execution_count": null,
      "outputs": [
        {
          "output_type": "display_data",
          "data": {
            "text/html": [
              "<script src='https://cdnjs.cloudflare.com/ajax/libs/mathjax/2.7.3/latest.js?config=default'></script>"
            ],
            "text/plain": [
              "<IPython.core.display.HTML object>"
            ]
          },
          "metadata": {}
        },
        {
          "output_type": "execute_result",
          "data": {
            "text/latex": "$\\displaystyle 0.0808743484235492$",
            "text/plain": [
              "0.0808743484235492"
            ]
          },
          "metadata": {},
          "execution_count": 122
        }
      ]
    },
    {
      "cell_type": "code",
      "source": [
        ""
      ],
      "metadata": {
        "id": "VkswRNbXi2D1"
      },
      "execution_count": null,
      "outputs": []
    },
    {
      "cell_type": "code",
      "source": [
        "df_dk2 =  d_k2_star_k1_star * (d_k1_star_k3_star*d_k3_star_k2 + d_k1_star_k2) +  d_k2_star_k3_star *(d_k3_star_k1_star * d_k1_star_k2 + d_k3_star_k2)"
      ],
      "metadata": {
        "id": "ks1OB-nHQKQ_"
      },
      "execution_count": null,
      "outputs": []
    },
    {
      "cell_type": "code",
      "source": [
        "df_dk3 =  d_k3_star_k2_star * (d_k2_star_k1_star*d_k1_star_k3 + d_k2_star_k3) +  d_k3_star_k1_star *(d_k1_star_k2_star * d_k2_star_k3 + d_k1_star_k3)"
      ],
      "metadata": {
        "id": "M3hsMxzrVDln"
      },
      "execution_count": null,
      "outputs": []
    },
    {
      "cell_type": "code",
      "source": [
        "df_dk1_ = df_dk1.subs([(q1, 1), (q2, 1), (x11, X_[0][0]), (x12, X_[0][1]), (x13, X_[0][2]), (x22, X_[1][1]), (x23, X_[1][2]), (x33, X_[2][2])])"
      ],
      "metadata": {
        "id": "3GIF5rIkNPsE"
      },
      "execution_count": null,
      "outputs": []
    },
    {
      "cell_type": "code",
      "source": [
        "df_dk2_ = df_dk2.subs([(q1, 1), (q2, 1), (x11, X_[0][0]), (x12, X_[0][1]), (x13, X_[0][2]), (x22, X_[1][1]), (x23, X_[1][2]), (x33, X_[2][2])])\n",
        "df_dk3_ = df_dk3.subs([(q1, 1), (q2, 1), (x11, X_[0][0]), (x12, X_[0][1]), (x13, X_[0][2]), (x22, X_[1][1]), (x23, X_[1][2]), (x33, X_[2][2])])"
      ],
      "metadata": {
        "id": "k0qticJZVj7I"
      },
      "execution_count": null,
      "outputs": []
    },
    {
      "cell_type": "code",
      "source": [
        "for k_1 in np.arange(0.1, 20, 0.3):\n",
        "  for k_2 in np.arange(0.1, 20, 0.3):\n",
        "    for k_3 in np.arange(0.1, 20, 0.3):\n",
        "      K = np.diag(np.array([k_1, k_2, k_3]))\n",
        "      if np.all(LA.eigvals(K-2*X_inv) < 0):\n",
        "        df1_ = df_dk1_.subs([(k1, k_1), (k2, k_2), [k3, k_3]])\n",
        "        df2_ = df_dk2_.subs([(k1, k_1), (k2, k_2), [k3, k_3]])\n",
        "        df3_ = df_dk3_.subs([(k1, k_1), (k2, k_2), [k3, k_3]])\n",
        "        print(\"df1_ is \", df1_)\n",
        "        print(\"df2_ is \", df2_)\n",
        "        print(\"df3_ is \", df3_)\n",
        "        print('---------------------------------')"
      ],
      "metadata": {
        "colab": {
          "base_uri": "https://localhost:8080/",
          "height": 638
        },
        "id": "XQ47VK6cO7_b",
        "outputId": "0aa9203d-89a7-4770-c6d4-a068457db9ae"
      },
      "execution_count": null,
      "outputs": [
        {
          "output_type": "stream",
          "name": "stdout",
          "text": [
            "df1_ is  0.00202992716725685\n",
            "df2_ is  0.174921367858526\n",
            "df3_ is  0.179911563510239\n",
            "---------------------------------\n",
            "df1_ is  0.00336620631803972\n",
            "df2_ is  0.176946624981107\n",
            "df3_ is  0.242854764852254\n",
            "---------------------------------\n",
            "df1_ is  0.000642985899862490\n",
            "df2_ is  0.209701609725135\n",
            "df3_ is  0.179336446157119\n",
            "---------------------------------\n"
          ]
        },
        {
          "output_type": "error",
          "ename": "KeyboardInterrupt",
          "evalue": "ignored",
          "traceback": [
            "\u001b[0;31m---------------------------------------------------------------------------\u001b[0m",
            "\u001b[0;31mKeyboardInterrupt\u001b[0m                         Traceback (most recent call last)",
            "\u001b[0;32m<ipython-input-109-d0a11db5c64b>\u001b[0m in \u001b[0;36m<module>\u001b[0;34m()\u001b[0m\n\u001b[1;32m      3\u001b[0m     \u001b[0;32mfor\u001b[0m \u001b[0mk_3\u001b[0m \u001b[0;32min\u001b[0m \u001b[0mnp\u001b[0m\u001b[0;34m.\u001b[0m\u001b[0marange\u001b[0m\u001b[0;34m(\u001b[0m\u001b[0;36m0.1\u001b[0m\u001b[0;34m,\u001b[0m \u001b[0;36m20\u001b[0m\u001b[0;34m,\u001b[0m \u001b[0;36m0.3\u001b[0m\u001b[0;34m)\u001b[0m\u001b[0;34m:\u001b[0m\u001b[0;34m\u001b[0m\u001b[0;34m\u001b[0m\u001b[0m\n\u001b[1;32m      4\u001b[0m       \u001b[0mK\u001b[0m \u001b[0;34m=\u001b[0m \u001b[0mnp\u001b[0m\u001b[0;34m.\u001b[0m\u001b[0mdiag\u001b[0m\u001b[0;34m(\u001b[0m\u001b[0mnp\u001b[0m\u001b[0;34m.\u001b[0m\u001b[0marray\u001b[0m\u001b[0;34m(\u001b[0m\u001b[0;34m[\u001b[0m\u001b[0mk_1\u001b[0m\u001b[0;34m,\u001b[0m \u001b[0mk_2\u001b[0m\u001b[0;34m,\u001b[0m \u001b[0mk_3\u001b[0m\u001b[0;34m]\u001b[0m\u001b[0;34m)\u001b[0m\u001b[0;34m)\u001b[0m\u001b[0;34m\u001b[0m\u001b[0;34m\u001b[0m\u001b[0m\n\u001b[0;32m----> 5\u001b[0;31m       \u001b[0;32mif\u001b[0m \u001b[0mnp\u001b[0m\u001b[0;34m.\u001b[0m\u001b[0mall\u001b[0m\u001b[0;34m(\u001b[0m\u001b[0mLA\u001b[0m\u001b[0;34m.\u001b[0m\u001b[0meigvals\u001b[0m\u001b[0;34m(\u001b[0m\u001b[0mK\u001b[0m\u001b[0;34m-\u001b[0m\u001b[0;36m2\u001b[0m\u001b[0;34m*\u001b[0m\u001b[0mX_inv\u001b[0m\u001b[0;34m)\u001b[0m \u001b[0;34m<\u001b[0m \u001b[0;36m0\u001b[0m\u001b[0;34m)\u001b[0m\u001b[0;34m:\u001b[0m\u001b[0;34m\u001b[0m\u001b[0;34m\u001b[0m\u001b[0m\n\u001b[0m\u001b[1;32m      6\u001b[0m         \u001b[0mdf1_\u001b[0m \u001b[0;34m=\u001b[0m \u001b[0mdf_dk1_\u001b[0m\u001b[0;34m.\u001b[0m\u001b[0msubs\u001b[0m\u001b[0;34m(\u001b[0m\u001b[0;34m[\u001b[0m\u001b[0;34m(\u001b[0m\u001b[0mk1\u001b[0m\u001b[0;34m,\u001b[0m \u001b[0mk_1\u001b[0m\u001b[0;34m)\u001b[0m\u001b[0;34m,\u001b[0m \u001b[0;34m(\u001b[0m\u001b[0mk2\u001b[0m\u001b[0;34m,\u001b[0m \u001b[0mk_2\u001b[0m\u001b[0;34m)\u001b[0m\u001b[0;34m,\u001b[0m \u001b[0;34m[\u001b[0m\u001b[0mk3\u001b[0m\u001b[0;34m,\u001b[0m \u001b[0mk_3\u001b[0m\u001b[0;34m]\u001b[0m\u001b[0;34m]\u001b[0m\u001b[0;34m)\u001b[0m\u001b[0;34m\u001b[0m\u001b[0;34m\u001b[0m\u001b[0m\n\u001b[1;32m      7\u001b[0m         \u001b[0mdf2_\u001b[0m \u001b[0;34m=\u001b[0m \u001b[0mdf_dk2_\u001b[0m\u001b[0;34m.\u001b[0m\u001b[0msubs\u001b[0m\u001b[0;34m(\u001b[0m\u001b[0;34m[\u001b[0m\u001b[0;34m(\u001b[0m\u001b[0mk1\u001b[0m\u001b[0;34m,\u001b[0m \u001b[0mk_1\u001b[0m\u001b[0;34m)\u001b[0m\u001b[0;34m,\u001b[0m \u001b[0;34m(\u001b[0m\u001b[0mk2\u001b[0m\u001b[0;34m,\u001b[0m \u001b[0mk_2\u001b[0m\u001b[0;34m)\u001b[0m\u001b[0;34m,\u001b[0m \u001b[0;34m[\u001b[0m\u001b[0mk3\u001b[0m\u001b[0;34m,\u001b[0m \u001b[0mk_3\u001b[0m\u001b[0;34m]\u001b[0m\u001b[0;34m]\u001b[0m\u001b[0;34m)\u001b[0m\u001b[0;34m\u001b[0m\u001b[0;34m\u001b[0m\u001b[0m\n",
            "\u001b[0;32m<__array_function__ internals>\u001b[0m in \u001b[0;36mall\u001b[0;34m(*args, **kwargs)\u001b[0m\n",
            "\u001b[0;32m/usr/local/lib/python3.7/dist-packages/numpy/core/fromnumeric.py\u001b[0m in \u001b[0;36mall\u001b[0;34m(a, axis, out, keepdims, where)\u001b[0m\n\u001b[1;32m   2449\u001b[0m     \"\"\"\n\u001b[1;32m   2450\u001b[0m     return _wrapreduction(a, np.logical_and, 'all', axis, None, out,\n\u001b[0;32m-> 2451\u001b[0;31m                           keepdims=keepdims, where=where)\n\u001b[0m\u001b[1;32m   2452\u001b[0m \u001b[0;34m\u001b[0m\u001b[0m\n\u001b[1;32m   2453\u001b[0m \u001b[0;34m\u001b[0m\u001b[0m\n",
            "\u001b[0;32m/usr/local/lib/python3.7/dist-packages/numpy/core/fromnumeric.py\u001b[0m in \u001b[0;36m_wrapreduction\u001b[0;34m(obj, ufunc, method, axis, dtype, out, **kwargs)\u001b[0m\n\u001b[1;32m     68\u001b[0m \u001b[0;34m\u001b[0m\u001b[0m\n\u001b[1;32m     69\u001b[0m \u001b[0;32mdef\u001b[0m \u001b[0m_wrapreduction\u001b[0m\u001b[0;34m(\u001b[0m\u001b[0mobj\u001b[0m\u001b[0;34m,\u001b[0m \u001b[0mufunc\u001b[0m\u001b[0;34m,\u001b[0m \u001b[0mmethod\u001b[0m\u001b[0;34m,\u001b[0m \u001b[0maxis\u001b[0m\u001b[0;34m,\u001b[0m \u001b[0mdtype\u001b[0m\u001b[0;34m,\u001b[0m \u001b[0mout\u001b[0m\u001b[0;34m,\u001b[0m \u001b[0;34m**\u001b[0m\u001b[0mkwargs\u001b[0m\u001b[0;34m)\u001b[0m\u001b[0;34m:\u001b[0m\u001b[0;34m\u001b[0m\u001b[0;34m\u001b[0m\u001b[0m\n\u001b[0;32m---> 70\u001b[0;31m     passkwargs = {k: v for k, v in kwargs.items()\n\u001b[0m\u001b[1;32m     71\u001b[0m                   if v is not np._NoValue}\n\u001b[1;32m     72\u001b[0m \u001b[0;34m\u001b[0m\u001b[0m\n",
            "\u001b[0;32m/usr/local/lib/python3.7/dist-packages/numpy/core/fromnumeric.py\u001b[0m in \u001b[0;36m<dictcomp>\u001b[0;34m(.0)\u001b[0m\n\u001b[1;32m     69\u001b[0m \u001b[0;32mdef\u001b[0m \u001b[0m_wrapreduction\u001b[0m\u001b[0;34m(\u001b[0m\u001b[0mobj\u001b[0m\u001b[0;34m,\u001b[0m \u001b[0mufunc\u001b[0m\u001b[0;34m,\u001b[0m \u001b[0mmethod\u001b[0m\u001b[0;34m,\u001b[0m \u001b[0maxis\u001b[0m\u001b[0;34m,\u001b[0m \u001b[0mdtype\u001b[0m\u001b[0;34m,\u001b[0m \u001b[0mout\u001b[0m\u001b[0;34m,\u001b[0m \u001b[0;34m**\u001b[0m\u001b[0mkwargs\u001b[0m\u001b[0;34m)\u001b[0m\u001b[0;34m:\u001b[0m\u001b[0;34m\u001b[0m\u001b[0;34m\u001b[0m\u001b[0m\n\u001b[1;32m     70\u001b[0m     passkwargs = {k: v for k, v in kwargs.items()\n\u001b[0;32m---> 71\u001b[0;31m                   if v is not np._NoValue}\n\u001b[0m\u001b[1;32m     72\u001b[0m \u001b[0;34m\u001b[0m\u001b[0m\n\u001b[1;32m     73\u001b[0m     \u001b[0;32mif\u001b[0m \u001b[0mtype\u001b[0m\u001b[0;34m(\u001b[0m\u001b[0mobj\u001b[0m\u001b[0;34m)\u001b[0m \u001b[0;32mis\u001b[0m \u001b[0;32mnot\u001b[0m \u001b[0mmu\u001b[0m\u001b[0;34m.\u001b[0m\u001b[0mndarray\u001b[0m\u001b[0;34m:\u001b[0m\u001b[0;34m\u001b[0m\u001b[0;34m\u001b[0m\u001b[0m\n",
            "\u001b[0;31mKeyboardInterrupt\u001b[0m: "
          ]
        }
      ]
    },
    {
      "cell_type": "code",
      "source": [
        "sym.simplify(d_k1_star_k2.subs([(k2, k2_star)])*d_k2_star_k1)"
      ],
      "metadata": {
        "colab": {
          "base_uri": "https://localhost:8080/",
          "height": 62
        },
        "id": "7xcJvl1JwDm4",
        "outputId": "c91cd5c5-1508-4b35-e7b2-195daa318b96"
      },
      "execution_count": null,
      "outputs": [
        {
          "output_type": "display_data",
          "data": {
            "text/html": [
              "<script src='https://cdnjs.cloudflare.com/ajax/libs/mathjax/2.7.3/latest.js?config=default'></script>"
            ],
            "text/plain": [
              "<IPython.core.display.HTML object>"
            ]
          },
          "metadata": {}
        },
        {
          "output_type": "execute_result",
          "data": {
            "text/latex": "$\\displaystyle \\frac{4 x_{12}^{4}}{\\left(- k_{1} x_{11}^{2} x_{22} + k_{1} x_{11} x_{12}^{2} + 2 x_{11} x_{22} + 2 x_{12}^{2}\\right)^{2}}$",
            "text/plain": [
              "                            4                      \n",
              "                       4⋅x₁₂                       \n",
              "───────────────────────────────────────────────────\n",
              "                                                  2\n",
              "⎛        2                 2                    2⎞ \n",
              "⎝- k₁⋅x₁₁ ⋅x₂₂ + k₁⋅x₁₁⋅x₁₂  + 2⋅x₁₁⋅x₂₂ + 2⋅x₁₂ ⎠ "
            ]
          },
          "metadata": {},
          "execution_count": 27
        }
      ]
    },
    {
      "cell_type": "code",
      "source": [
        "d1"
      ],
      "metadata": {
        "id": "u9ix0Niv-T6D",
        "outputId": "bb81d874-86b3-4b31-871f-148e608cbb8b",
        "colab": {
          "base_uri": "https://localhost:8080/",
          "height": 60
        }
      },
      "execution_count": null,
      "outputs": [
        {
          "output_type": "display_data",
          "data": {
            "text/html": [
              "<script src='https://cdnjs.cloudflare.com/ajax/libs/mathjax/2.7.3/latest.js?config=default'></script>"
            ],
            "text/plain": [
              "<IPython.core.display.HTML object>"
            ]
          },
          "metadata": {}
        },
        {
          "output_type": "execute_result",
          "data": {
            "text/latex": "$\\displaystyle \\frac{q_{1} \\left(k_{2} - 2\\right) \\left(\\alpha k_{1} k_{2} - 2 \\alpha k_{1} - k_{1} k_{2} - k_{1} \\left(- \\alpha k_{2} + 2 \\alpha + k_{2}\\right) - 2 k_{2} + 4\\right)}{k_{1}^{2} \\left(- \\alpha k_{1} k_{2} + 2 \\alpha k_{1} + k_{1} k_{2} + 2 k_{2} - 4\\right)^{2}}$",
            "text/plain": [
              "q₁⋅(k₂ - 2)⋅(α⋅k₁⋅k₂ - 2⋅α⋅k₁ - k₁⋅k₂ - k₁⋅(-α⋅k₂ + 2⋅α + k₂) - 2⋅k₂ + 4)\n",
              "─────────────────────────────────────────────────────────────────────────\n",
              "                 2                                       2               \n",
              "               k₁ ⋅(-α⋅k₁⋅k₂ + 2⋅α⋅k₁ + k₁⋅k₂ + 2⋅k₂ - 4)                "
            ]
          },
          "metadata": {},
          "execution_count": 22
        }
      ]
    },
    {
      "cell_type": "code",
      "source": [
        "d2"
      ],
      "metadata": {
        "id": "hX4dKy7c-T81",
        "outputId": "db3c37c4-61e1-4b84-ad6c-4c3e15474f77",
        "colab": {
          "base_uri": "https://localhost:8080/",
          "height": 60
        }
      },
      "execution_count": null,
      "outputs": [
        {
          "output_type": "display_data",
          "data": {
            "text/html": [
              "<script src='https://cdnjs.cloudflare.com/ajax/libs/mathjax/2.7.3/latest.js?config=default'></script>"
            ],
            "text/plain": [
              "<IPython.core.display.HTML object>"
            ]
          },
          "metadata": {}
        },
        {
          "output_type": "execute_result",
          "data": {
            "text/latex": "$\\displaystyle \\frac{q_{2} \\left(\\alpha k_{1} - 2\\right) \\left(\\alpha k_{1} k_{2} - 2 \\alpha k_{1} - k_{1} k_{2} - k_{2} \\left(- \\alpha k_{1} + k_{1} + 2\\right) - 2 k_{2} + 4\\right)}{k_{2}^{2} \\left(- \\alpha k_{1} k_{2} + 2 \\alpha k_{1} + k_{1} k_{2} + 2 k_{2} - 4\\right)^{2}}$",
            "text/plain": [
              "q₂⋅(α⋅k₁ - 2)⋅(α⋅k₁⋅k₂ - 2⋅α⋅k₁ - k₁⋅k₂ - k₂⋅(-α⋅k₁ + k₁ + 2) - 2⋅k₂ + 4)\n",
              "─────────────────────────────────────────────────────────────────────────\n",
              "                 2                                       2               \n",
              "               k₂ ⋅(-α⋅k₁⋅k₂ + 2⋅α⋅k₁ + k₁⋅k₂ + 2⋅k₂ - 4)                "
            ]
          },
          "metadata": {},
          "execution_count": 23
        }
      ]
    },
    {
      "cell_type": "code",
      "source": [
        "sym.diff(d1, k1)"
      ],
      "metadata": {
        "colab": {
          "base_uri": "https://localhost:8080/",
          "height": 102
        },
        "id": "Ijp_DpZeEdF_",
        "outputId": "a7cc7695-2d41-4c16-f546-54ccea6c93e6"
      },
      "execution_count": null,
      "outputs": [
        {
          "output_type": "display_data",
          "data": {
            "text/html": [
              "<script src='https://cdnjs.cloudflare.com/ajax/libs/mathjax/2.7.3/latest.js?config=default'></script>"
            ],
            "text/plain": [
              "<IPython.core.display.HTML object>"
            ]
          },
          "metadata": {}
        },
        {
          "output_type": "execute_result",
          "data": {
            "text/latex": "$\\displaystyle \\frac{q_{1} \\left(k_{2} - 2\\right) \\left(2 \\alpha k_{2} - 4 \\alpha - 2 k_{2}\\right)}{k_{1}^{2} \\left(- \\alpha k_{1} k_{2} + 2 \\alpha k_{1} + k_{1} k_{2} + 2 k_{2} - 4\\right)^{2}} + \\frac{q_{1} \\left(k_{2} - 2\\right) \\left(2 \\alpha k_{2} - 4 \\alpha - 2 k_{2}\\right) \\left(\\alpha k_{1} k_{2} - 2 \\alpha k_{1} - k_{1} k_{2} - k_{1} \\left(- \\alpha k_{2} + 2 \\alpha + k_{2}\\right) - 2 k_{2} + 4\\right)}{k_{1}^{2} \\left(- \\alpha k_{1} k_{2} + 2 \\alpha k_{1} + k_{1} k_{2} + 2 k_{2} - 4\\right)^{3}} - \\frac{2 q_{1} \\left(k_{2} - 2\\right) \\left(\\alpha k_{1} k_{2} - 2 \\alpha k_{1} - k_{1} k_{2} - k_{1} \\left(- \\alpha k_{2} + 2 \\alpha + k_{2}\\right) - 2 k_{2} + 4\\right)}{k_{1}^{3} \\left(- \\alpha k_{1} k_{2} + 2 \\alpha k_{1} + k_{1} k_{2} + 2 k_{2} - 4\\right)^{2}}$",
            "text/plain": [
              "     q₁⋅(k₂ - 2)⋅(2⋅α⋅k₂ - 4⋅α - 2⋅k₂)        q₁⋅(k₂ - 2)⋅(2⋅α⋅k₂ - 4⋅α - 2⋅k₂\n",
              "─────────────────────────────────────────── + ────────────────────────────────\n",
              "  2                                       2                               2   \n",
              "k₁ ⋅(-α⋅k₁⋅k₂ + 2⋅α⋅k₁ + k₁⋅k₂ + 2⋅k₂ - 4)                              k₁ ⋅(-\n",
              "\n",
              ")⋅(α⋅k₁⋅k₂ - 2⋅α⋅k₁ - k₁⋅k₂ - k₁⋅(-α⋅k₂ + 2⋅α + k₂) - 2⋅k₂ + 4)   2⋅q₁⋅(k₂ - 2\n",
              "─────────────────────────────────────────────────────────────── - ────────────\n",
              "                                    3                                         \n",
              "α⋅k₁⋅k₂ + 2⋅α⋅k₁ + k₁⋅k₂ + 2⋅k₂ - 4)                                          \n",
              "\n",
              ")⋅(α⋅k₁⋅k₂ - 2⋅α⋅k₁ - k₁⋅k₂ - k₁⋅(-α⋅k₂ + 2⋅α + k₂) - 2⋅k₂ + 4)\n",
              "───────────────────────────────────────────────────────────────\n",
              "      3                                       2                \n",
              "    k₁ ⋅(-α⋅k₁⋅k₂ + 2⋅α⋅k₁ + k₁⋅k₂ + 2⋅k₂ - 4)                 "
            ]
          },
          "metadata": {},
          "execution_count": 24
        }
      ]
    },
    {
      "cell_type": "code",
      "source": [
        "sym.diff(d2, k1)"
      ],
      "metadata": {
        "colab": {
          "base_uri": "https://localhost:8080/",
          "height": 102
        },
        "id": "magaPDmVq-oF",
        "outputId": "6b507baf-b35c-44e2-b0fb-fd03e0b9507b"
      },
      "execution_count": null,
      "outputs": [
        {
          "output_type": "display_data",
          "data": {
            "text/html": [
              "<script src='https://cdnjs.cloudflare.com/ajax/libs/mathjax/2.7.3/latest.js?config=default'></script>"
            ],
            "text/plain": [
              "<IPython.core.display.HTML object>"
            ]
          },
          "metadata": {}
        },
        {
          "output_type": "execute_result",
          "data": {
            "text/latex": "$\\displaystyle \\frac{\\alpha q_{2} \\left(\\alpha k_{1} k_{2} - 2 \\alpha k_{1} - k_{1} k_{2} - k_{2} \\left(- \\alpha k_{1} + k_{1} + 2\\right) - 2 k_{2} + 4\\right)}{k_{2}^{2} \\left(- \\alpha k_{1} k_{2} + 2 \\alpha k_{1} + k_{1} k_{2} + 2 k_{2} - 4\\right)^{2}} + \\frac{q_{2} \\left(\\alpha k_{1} - 2\\right) \\left(2 \\alpha k_{2} - 4 \\alpha - 2 k_{2}\\right) \\left(\\alpha k_{1} k_{2} - 2 \\alpha k_{1} - k_{1} k_{2} - k_{2} \\left(- \\alpha k_{1} + k_{1} + 2\\right) - 2 k_{2} + 4\\right)}{k_{2}^{2} \\left(- \\alpha k_{1} k_{2} + 2 \\alpha k_{1} + k_{1} k_{2} + 2 k_{2} - 4\\right)^{3}} + \\frac{q_{2} \\left(\\alpha k_{1} - 2\\right) \\left(\\alpha k_{2} - 2 \\alpha - k_{2} \\left(1 - \\alpha\\right) - k_{2}\\right)}{k_{2}^{2} \\left(- \\alpha k_{1} k_{2} + 2 \\alpha k_{1} + k_{1} k_{2} + 2 k_{2} - 4\\right)^{2}}$",
            "text/plain": [
              "α⋅q₂⋅(α⋅k₁⋅k₂ - 2⋅α⋅k₁ - k₁⋅k₂ - k₂⋅(-α⋅k₁ + k₁ + 2) - 2⋅k₂ + 4)   q₂⋅(α⋅k₁ - \n",
              "──────────────────────────────────────────────────────────────── + ───────────\n",
              "            2                                       2                         \n",
              "          k₂ ⋅(-α⋅k₁⋅k₂ + 2⋅α⋅k₁ + k₁⋅k₂ + 2⋅k₂ - 4)                          \n",
              "\n",
              "2)⋅(2⋅α⋅k₂ - 4⋅α - 2⋅k₂)⋅(α⋅k₁⋅k₂ - 2⋅α⋅k₁ - k₁⋅k₂ - k₂⋅(-α⋅k₁ + k₁ + 2) - 2⋅k\n",
              "──────────────────────────────────────────────────────────────────────────────\n",
              "                 2                                       3                    \n",
              "               k₂ ⋅(-α⋅k₁⋅k₂ + 2⋅α⋅k₁ + k₁⋅k₂ + 2⋅k₂ - 4)                     \n",
              "\n",
              "₂ + 4)   q₂⋅(α⋅k₁ - 2)⋅(α⋅k₂ - 2⋅α - k₂⋅(1 - α) - k₂)\n",
              "────── + ────────────────────────────────────────────\n",
              "           2                                       2 \n",
              "         k₂ ⋅(-α⋅k₁⋅k₂ + 2⋅α⋅k₁ + k₁⋅k₂ + 2⋅k₂ - 4)  "
            ]
          },
          "metadata": {},
          "execution_count": 25
        }
      ]
    },
    {
      "cell_type": "code",
      "source": [
        "sym.diff(d1, k2)"
      ],
      "metadata": {
        "colab": {
          "base_uri": "https://localhost:8080/",
          "height": 102
        },
        "id": "Eca-ShPgADoi",
        "outputId": "a40fb427-fdd1-46f3-eb10-50e677057daf"
      },
      "execution_count": null,
      "outputs": [
        {
          "output_type": "display_data",
          "data": {
            "text/html": [
              "<script src='https://cdnjs.cloudflare.com/ajax/libs/mathjax/2.7.3/latest.js?config=default'></script>"
            ],
            "text/plain": [
              "<IPython.core.display.HTML object>"
            ]
          },
          "metadata": {}
        },
        {
          "output_type": "execute_result",
          "data": {
            "text/latex": "$\\displaystyle \\frac{q_{1} \\left(k_{2} - 2\\right) \\left(2 \\alpha k_{1} - 2 k_{1} - 4\\right) \\left(\\alpha k_{1} k_{2} - 2 \\alpha k_{1} - k_{1} k_{2} - k_{1} \\left(- \\alpha k_{2} + 2 \\alpha + k_{2}\\right) - 2 k_{2} + 4\\right)}{k_{1}^{2} \\left(- \\alpha k_{1} k_{2} + 2 \\alpha k_{1} + k_{1} k_{2} + 2 k_{2} - 4\\right)^{3}} + \\frac{q_{1} \\left(k_{2} - 2\\right) \\left(\\alpha k_{1} - k_{1} \\left(1 - \\alpha\\right) - k_{1} - 2\\right)}{k_{1}^{2} \\left(- \\alpha k_{1} k_{2} + 2 \\alpha k_{1} + k_{1} k_{2} + 2 k_{2} - 4\\right)^{2}} + \\frac{q_{1} \\left(\\alpha k_{1} k_{2} - 2 \\alpha k_{1} - k_{1} k_{2} - k_{1} \\left(- \\alpha k_{2} + 2 \\alpha + k_{2}\\right) - 2 k_{2} + 4\\right)}{k_{1}^{2} \\left(- \\alpha k_{1} k_{2} + 2 \\alpha k_{1} + k_{1} k_{2} + 2 k_{2} - 4\\right)^{2}}$",
            "text/plain": [
              "q₁⋅(k₂ - 2)⋅(2⋅α⋅k₁ - 2⋅k₁ - 4)⋅(α⋅k₁⋅k₂ - 2⋅α⋅k₁ - k₁⋅k₂ - k₁⋅(-α⋅k₂ + 2⋅α + \n",
              "──────────────────────────────────────────────────────────────────────────────\n",
              "                           2                                       3          \n",
              "                         k₁ ⋅(-α⋅k₁⋅k₂ + 2⋅α⋅k₁ + k₁⋅k₂ + 2⋅k₂ - 4)           \n",
              "\n",
              "k₂) - 2⋅k₂ + 4)     q₁⋅(k₂ - 2)⋅(α⋅k₁ - k₁⋅(1 - α) - k₁ - 2)    q₁⋅(α⋅k₁⋅k₂ - \n",
              "─────────────── + ─────────────────────────────────────────── + ──────────────\n",
              "                    2                                       2               2 \n",
              "                  k₁ ⋅(-α⋅k₁⋅k₂ + 2⋅α⋅k₁ + k₁⋅k₂ + 2⋅k₂ - 4)              k₁ ⋅\n",
              "\n",
              "2⋅α⋅k₁ - k₁⋅k₂ - k₁⋅(-α⋅k₂ + 2⋅α + k₂) - 2⋅k₂ + 4)\n",
              "──────────────────────────────────────────────────\n",
              "                                      2           \n",
              "(-α⋅k₁⋅k₂ + 2⋅α⋅k₁ + k₁⋅k₂ + 2⋅k₂ - 4)            "
            ]
          },
          "metadata": {},
          "execution_count": 26
        }
      ]
    },
    {
      "cell_type": "code",
      "source": [
        "sym.diff(d2, k2)"
      ],
      "metadata": {
        "colab": {
          "base_uri": "https://localhost:8080/",
          "height": 102
        },
        "id": "SBH1ywlYAB7r",
        "outputId": "d737c333-e7e0-465e-bc3f-7c3ed1982c13"
      },
      "execution_count": null,
      "outputs": [
        {
          "output_type": "display_data",
          "data": {
            "text/html": [
              "<script src='https://cdnjs.cloudflare.com/ajax/libs/mathjax/2.7.3/latest.js?config=default'></script>"
            ],
            "text/plain": [
              "<IPython.core.display.HTML object>"
            ]
          },
          "metadata": {}
        },
        {
          "output_type": "execute_result",
          "data": {
            "text/latex": "$\\displaystyle \\frac{q_{2} \\left(\\alpha k_{1} - 2\\right) \\left(2 \\alpha k_{1} - 2 k_{1} - 4\\right)}{k_{2}^{2} \\left(- \\alpha k_{1} k_{2} + 2 \\alpha k_{1} + k_{1} k_{2} + 2 k_{2} - 4\\right)^{2}} + \\frac{q_{2} \\left(\\alpha k_{1} - 2\\right) \\left(2 \\alpha k_{1} - 2 k_{1} - 4\\right) \\left(\\alpha k_{1} k_{2} - 2 \\alpha k_{1} - k_{1} k_{2} - k_{2} \\left(- \\alpha k_{1} + k_{1} + 2\\right) - 2 k_{2} + 4\\right)}{k_{2}^{2} \\left(- \\alpha k_{1} k_{2} + 2 \\alpha k_{1} + k_{1} k_{2} + 2 k_{2} - 4\\right)^{3}} - \\frac{2 q_{2} \\left(\\alpha k_{1} - 2\\right) \\left(\\alpha k_{1} k_{2} - 2 \\alpha k_{1} - k_{1} k_{2} - k_{2} \\left(- \\alpha k_{1} + k_{1} + 2\\right) - 2 k_{2} + 4\\right)}{k_{2}^{3} \\left(- \\alpha k_{1} k_{2} + 2 \\alpha k_{1} + k_{1} k_{2} + 2 k_{2} - 4\\right)^{2}}$",
            "text/plain": [
              "     q₂⋅(α⋅k₁ - 2)⋅(2⋅α⋅k₁ - 2⋅k₁ - 4)        q₂⋅(α⋅k₁ - 2)⋅(2⋅α⋅k₁ - 2⋅k₁ - 4\n",
              "─────────────────────────────────────────── + ────────────────────────────────\n",
              "  2                                       2                              2    \n",
              "k₂ ⋅(-α⋅k₁⋅k₂ + 2⋅α⋅k₁ + k₁⋅k₂ + 2⋅k₂ - 4)                             k₂ ⋅(-α\n",
              "\n",
              ")⋅(α⋅k₁⋅k₂ - 2⋅α⋅k₁ - k₁⋅k₂ - k₂⋅(-α⋅k₁ + k₁ + 2) - 2⋅k₂ + 4)   2⋅q₂⋅(α⋅k₁ - 2\n",
              "───────────────────────────────────────────────────────────── - ──────────────\n",
              "                                   3                                          \n",
              "⋅k₁⋅k₂ + 2⋅α⋅k₁ + k₁⋅k₂ + 2⋅k₂ - 4)                                           \n",
              "\n",
              ")⋅(α⋅k₁⋅k₂ - 2⋅α⋅k₁ - k₁⋅k₂ - k₂⋅(-α⋅k₁ + k₁ + 2) - 2⋅k₂ + 4)\n",
              "─────────────────────────────────────────────────────────────\n",
              "    3                                       2                \n",
              "  k₂ ⋅(-α⋅k₁⋅k₂ + 2⋅α⋅k₁ + k₁⋅k₂ + 2⋅k₂ - 4)                 "
            ]
          },
          "metadata": {},
          "execution_count": 27
        }
      ]
    },
    {
      "cell_type": "code",
      "source": [
        "cross_terms = sym.simplify(sym.diff(d2, k1) + sym.diff(d1, k2))"
      ],
      "metadata": {
        "id": "JzEdqXnyTFoO"
      },
      "execution_count": null,
      "outputs": []
    },
    {
      "cell_type": "code",
      "source": [
        "G = sym.Matrix([[sym.diff(d1, k1), sym.diff(d1, k2)], [sym.diff(d2, k1), sym.diff(d2, k2)]]).subs([(q1, 1), (q2, 1), (x11, B[0][0]), (x12, B[0][1]), (x22, B[1][1])])"
      ],
      "metadata": {
        "id": "hC_BzxGTFFTG"
      },
      "execution_count": null,
      "outputs": []
    },
    {
      "cell_type": "code",
      "source": [
        "G"
      ],
      "metadata": {
        "colab": {
          "base_uri": "https://localhost:8080/",
          "height": 98
        },
        "id": "jZdjeG5APxF9",
        "outputId": "6a9af382-9962-4c07-d794-f4d20609e317"
      },
      "execution_count": null,
      "outputs": [
        {
          "output_type": "display_data",
          "data": {
            "text/html": [
              "<script src='https://cdnjs.cloudflare.com/ajax/libs/mathjax/2.7.3/latest.js?config=default'></script>"
            ],
            "text/plain": [
              "<IPython.core.display.HTML object>"
            ]
          },
          "metadata": {}
        },
        {
          "output_type": "execute_result",
          "data": {
            "text/latex": "$\\displaystyle \\left[\\begin{matrix}\\frac{0.000245043473703217 \\left(1.03048536327967 k_{2} - 2\\right) \\left(25.1060599375181 k_{2} - 127.763978047155\\right)}{k_{1}^{2} \\left(- 0.196503430162858 k_{1} k_{2} + k_{1} + 0.0322621564866848 k_{2} - 0.0626154579896328\\right)^{2}} + \\frac{3.83587733332437 \\cdot 10^{-6} \\left(1.03048536327967 k_{2} - 2\\right) \\left(25.1060599375181 k_{2} - 127.763978047155\\right) \\left(12.553029968759 k_{1} k_{2} - k_{1} \\left(63.8819890235775 - 12.553029968759 k_{2}\\right) - 63.8819890235775 k_{1} - 2.06097072655934 k_{2} + 4\\right)}{k_{1}^{2} \\left(- 0.196503430162858 k_{1} k_{2} + k_{1} + 0.0322621564866848 k_{2} - 0.0626154579896328\\right)^{3}} - \\frac{0.000490086947406434 \\left(1.03048536327967 k_{2} - 2\\right) \\left(12.553029968759 k_{1} k_{2} - k_{1} \\left(63.8819890235775 - 12.553029968759 k_{2}\\right) - 63.8819890235775 k_{1} - 2.06097072655934 k_{2} + 4\\right)}{k_{1}^{3} \\left(- 0.196503430162858 k_{1} k_{2} + k_{1} + 0.0322621564866848 k_{2} - 0.0626154579896328\\right)^{2}} & \\frac{0.000245043473703217 \\left(25.1060599375181 k_{1} - 2.06097072655934\\right) \\left(1.03048536327967 k_{2} - 2\\right)}{k_{1}^{2} \\left(- 0.196503430162858 k_{1} k_{2} + k_{1} + 0.0322621564866848 k_{2} - 0.0626154579896328\\right)^{2}} + \\frac{3.83587733332437 \\cdot 10^{-6} \\left(25.1060599375181 k_{1} - 4.12194145311867\\right) \\left(1.03048536327967 k_{2} - 2\\right) \\left(12.553029968759 k_{1} k_{2} - k_{1} \\left(63.8819890235775 - 12.553029968759 k_{2}\\right) - 63.8819890235775 k_{1} - 2.06097072655934 k_{2} + 4\\right)}{k_{1}^{2} \\left(- 0.196503430162858 k_{1} k_{2} + k_{1} + 0.0322621564866848 k_{2} - 0.0626154579896328\\right)^{3}} + \\frac{0.000252513713018371 \\left(12.553029968759 k_{1} k_{2} - k_{1} \\left(63.8819890235775 - 12.553029968759 k_{2}\\right) - 63.8819890235775 k_{1} - 2.06097072655934 k_{2} + 4\\right)}{k_{1}^{2} \\left(- 0.196503430162858 k_{1} k_{2} + k_{1} + 0.0322621564866848 k_{2} - 0.0626154579896328\\right)^{2}}\\\\\\frac{0.000245043473703217 \\left(31.9409945117887 k_{1} - 2\\right) \\left(25.1060599375181 k_{2} - 63.8819890235775\\right)}{k_{2}^{2} \\left(- 0.196503430162858 k_{1} k_{2} + k_{1} + 0.0322621564866848 k_{2} - 0.0626154579896328\\right)^{2}} + \\frac{3.83587733332437 \\cdot 10^{-6} \\left(31.9409945117887 k_{1} - 2\\right) \\left(25.1060599375181 k_{2} - 127.763978047155\\right) \\left(12.553029968759 k_{1} k_{2} - 63.8819890235775 k_{1} - k_{2} \\left(2.06097072655934 - 12.553029968759 k_{1}\\right) - 2.06097072655934 k_{2} + 4\\right)}{k_{2}^{2} \\left(- 0.196503430162858 k_{1} k_{2} + k_{1} + 0.0322621564866848 k_{2} - 0.0626154579896328\\right)^{3}} + \\frac{0.0078269322487041 \\left(12.553029968759 k_{1} k_{2} - 63.8819890235775 k_{1} - k_{2} \\left(2.06097072655934 - 12.553029968759 k_{1}\\right) - 2.06097072655934 k_{2} + 4\\right)}{k_{2}^{2} \\left(- 0.196503430162858 k_{1} k_{2} + k_{1} + 0.0322621564866848 k_{2} - 0.0626154579896328\\right)^{2}} & \\frac{0.000245043473703217 \\left(25.1060599375181 k_{1} - 4.12194145311867\\right) \\left(31.9409945117887 k_{1} - 2\\right)}{k_{2}^{2} \\left(- 0.196503430162858 k_{1} k_{2} + k_{1} + 0.0322621564866848 k_{2} - 0.0626154579896328\\right)^{2}} + \\frac{3.83587733332437 \\cdot 10^{-6} \\left(25.1060599375181 k_{1} - 4.12194145311867\\right) \\left(31.9409945117887 k_{1} - 2\\right) \\left(12.553029968759 k_{1} k_{2} - 63.8819890235775 k_{1} - k_{2} \\left(2.06097072655934 - 12.553029968759 k_{1}\\right) - 2.06097072655934 k_{2} + 4\\right)}{k_{2}^{2} \\left(- 0.196503430162858 k_{1} k_{2} + k_{1} + 0.0322621564866848 k_{2} - 0.0626154579896328\\right)^{3}} - \\frac{0.000490086947406434 \\left(31.9409945117887 k_{1} - 2\\right) \\left(12.553029968759 k_{1} k_{2} - 63.8819890235775 k_{1} - k_{2} \\left(2.06097072655934 - 12.553029968759 k_{1}\\right) - 2.06097072655934 k_{2} + 4\\right)}{k_{2}^{3} \\left(- 0.196503430162858 k_{1} k_{2} + k_{1} + 0.0322621564866848 k_{2} - 0.0626154579896328\\right)^{2}}\\end{matrix}\\right]$",
            "text/plain": [
              "⎡0.000245043473703217⋅(1.03048536327967⋅k₂ - 2)⋅(25.1060599375181⋅k₂ - 127.763\n",
              "⎢─────────────────────────────────────────────────────────────────────────────\n",
              "⎢     2                                                                       \n",
              "⎢   k₁ ⋅(-0.196503430162858⋅k₁⋅k₂ + k₁ + 0.0322621564866848⋅k₂ - 0.06261545798\n",
              "⎢                                                                             \n",
              "⎢              0.000245043473703217⋅(31.9409945117887⋅k₁ - 2)⋅(25.106059937518\n",
              "⎢              ───────────────────────────────────────────────────────────────\n",
              "⎢                   2                                                         \n",
              "⎣                 k₂ ⋅(-0.196503430162858⋅k₁⋅k₂ + k₁ + 0.0322621564866848⋅k₂ -\n",
              "\n",
              "978047155)   3.83587733332437e-6⋅(1.03048536327967⋅k₂ - 2)⋅(25.1060599375181⋅k\n",
              "────────── + ─────────────────────────────────────────────────────────────────\n",
              "      2                                                                     2 \n",
              "96328)                                                                    k₁ ⋅\n",
              "                                                                              \n",
              "1⋅k₂ - 63.8819890235775)   3.83587733332437e-6⋅(31.9409945117887⋅k₁ - 2)⋅(25.1\n",
              "──────────────────────── + ───────────────────────────────────────────────────\n",
              "                    2                                                         \n",
              " 0.0626154579896328)                                                          \n",
              "\n",
              "₂ - 127.763978047155)⋅(12.553029968759⋅k₁⋅k₂ - k₁⋅(63.8819890235775 - 12.55302\n",
              "──────────────────────────────────────────────────────────────────────────────\n",
              "                                                                            3 \n",
              "(-0.196503430162858⋅k₁⋅k₂ + k₁ + 0.0322621564866848⋅k₂ - 0.0626154579896328)  \n",
              "                                                                              \n",
              "060599375181⋅k₂ - 127.763978047155)⋅(12.553029968759⋅k₁⋅k₂ - 63.8819890235775⋅\n",
              "──────────────────────────────────────────────────────────────────────────────\n",
              "            2                                                                 \n",
              "          k₂ ⋅(-0.196503430162858⋅k₁⋅k₂ + k₁ + 0.0322621564866848⋅k₂ - 0.06261\n",
              "\n",
              "9968759⋅k₂) - 63.8819890235775⋅k₁ - 2.06097072655934⋅k₂ + 4)   0.0004900869474\n",
              "──────────────────────────────────────────────────────────── - ───────────────\n",
              "                                                                              \n",
              "                                                                              \n",
              "                                                                              \n",
              "k₁ - k₂⋅(2.06097072655934 - 12.553029968759⋅k₁) - 2.06097072655934⋅k₂ + 4)   0\n",
              "────────────────────────────────────────────────────────────────────────── + ─\n",
              "            3                                                                 \n",
              "54579896328)                                                                  \n",
              "\n",
              "06434⋅(1.03048536327967⋅k₂ - 2)⋅(12.553029968759⋅k₁⋅k₂ - k₁⋅(63.8819890235775 \n",
              "──────────────────────────────────────────────────────────────────────────────\n",
              "                            3                                                 \n",
              "                          k₁ ⋅(-0.196503430162858⋅k₁⋅k₂ + k₁ + 0.0322621564866\n",
              "                                                                              \n",
              ".0078269322487041⋅(12.553029968759⋅k₁⋅k₂ - 63.8819890235775⋅k₁ - k₂⋅(2.0609707\n",
              "──────────────────────────────────────────────────────────────────────────────\n",
              "                            2                                                 \n",
              "                          k₂ ⋅(-0.196503430162858⋅k₁⋅k₂ + k₁ + 0.0322621564866\n",
              "\n",
              "- 12.553029968759⋅k₂) - 63.8819890235775⋅k₁ - 2.06097072655934⋅k₂ + 4)        \n",
              "──────────────────────────────────────────────────────────────────────        \n",
              "                            2                                                 \n",
              "848⋅k₂ - 0.0626154579896328)                                                  \n",
              "                                                                              \n",
              "2655934 - 12.553029968759⋅k₁) - 2.06097072655934⋅k₂ + 4)                0.0002\n",
              "────────────────────────────────────────────────────────                ──────\n",
              "                            2                                                2\n",
              "848⋅k₂ - 0.0626154579896328)                                               k₂ \n",
              "\n",
              "       0.000245043473703217⋅(25.1060599375181⋅k₁ - 2.06097072655934)⋅(1.030485\n",
              "       ───────────────────────────────────────────────────────────────────────\n",
              "            2                                                                 \n",
              "          k₁ ⋅(-0.196503430162858⋅k₁⋅k₂ + k₁ + 0.0322621564866848⋅k₂ - 0.06261\n",
              "                                                                              \n",
              "45043473703217⋅(25.1060599375181⋅k₁ - 4.12194145311867)⋅(31.9409945117887⋅k₁ -\n",
              "──────────────────────────────────────────────────────────────────────────────\n",
              "                                                                             2\n",
              "⋅(-0.196503430162858⋅k₁⋅k₂ + k₁ + 0.0322621564866848⋅k₂ - 0.0626154579896328) \n",
              "\n",
              "36327967⋅k₂ - 2)   3.83587733332437e-6⋅(25.1060599375181⋅k₁ - 4.12194145311867\n",
              "──────────────── + ───────────────────────────────────────────────────────────\n",
              "            2                                                                 \n",
              "54579896328)                                                                  \n",
              "                                                                              \n",
              " 2)   3.83587733332437e-6⋅(25.1060599375181⋅k₁ - 4.12194145311867)⋅(31.9409945\n",
              "─── + ────────────────────────────────────────────────────────────────────────\n",
              "                                                                     2        \n",
              "                                                                   k₂ ⋅(-0.196\n",
              "\n",
              ")⋅(1.03048536327967⋅k₂ - 2)⋅(12.553029968759⋅k₁⋅k₂ - k₁⋅(63.8819890235775 - 12\n",
              "──────────────────────────────────────────────────────────────────────────────\n",
              "    2                                                                         \n",
              "  k₁ ⋅(-0.196503430162858⋅k₁⋅k₂ + k₁ + 0.0322621564866848⋅k₂ - 0.0626154579896\n",
              "                                                                              \n",
              "117887⋅k₁ - 2)⋅(12.553029968759⋅k₁⋅k₂ - 63.8819890235775⋅k₁ - k₂⋅(2.0609707265\n",
              "──────────────────────────────────────────────────────────────────────────────\n",
              "                                                                     3        \n",
              "503430162858⋅k₁⋅k₂ + k₁ + 0.0322621564866848⋅k₂ - 0.0626154579896328)         \n",
              "\n",
              ".553029968759⋅k₂) - 63.8819890235775⋅k₁ - 2.06097072655934⋅k₂ + 4)   0.0002525\n",
              "────────────────────────────────────────────────────────────────── + ─────────\n",
              "    3                                                                         \n",
              "328)                                                                          \n",
              "                                                                              \n",
              "5934 - 12.553029968759⋅k₁) - 2.06097072655934⋅k₂ + 4)   0.000490086947406434⋅(\n",
              "───────────────────────────────────────────────────── - ──────────────────────\n",
              "                                                                              \n",
              "                                                                              \n",
              "\n",
              "13713018371⋅(12.553029968759⋅k₁⋅k₂ - k₁⋅(63.8819890235775 - 12.553029968759⋅k₂\n",
              "──────────────────────────────────────────────────────────────────────────────\n",
              "                     2                                                        \n",
              "                   k₁ ⋅(-0.196503430162858⋅k₁⋅k₂ + k₁ + 0.0322621564866848⋅k₂ \n",
              "                                                                              \n",
              "31.9409945117887⋅k₁ - 2)⋅(12.553029968759⋅k₁⋅k₂ - 63.8819890235775⋅k₁ - k₂⋅(2.\n",
              "──────────────────────────────────────────────────────────────────────────────\n",
              "                     3                                                        \n",
              "                   k₂ ⋅(-0.196503430162858⋅k₁⋅k₂ + k₁ + 0.0322621564866848⋅k₂ \n",
              "\n",
              ") - 63.8819890235775⋅k₁ - 2.06097072655934⋅k₂ + 4)             ⎤\n",
              "──────────────────────────────────────────────────             ⎥\n",
              "                     2                                         ⎥\n",
              "- 0.0626154579896328)                                          ⎥\n",
              "                                                               ⎥\n",
              "06097072655934 - 12.553029968759⋅k₁) - 2.06097072655934⋅k₂ + 4)⎥\n",
              "───────────────────────────────────────────────────────────────⎥\n",
              "                     2                                         ⎥\n",
              "- 0.0626154579896328)                                          ⎦"
            ]
          },
          "metadata": {},
          "execution_count": 32
        }
      ]
    },
    {
      "cell_type": "code",
      "source": [
        "X_inv"
      ],
      "metadata": {
        "id": "MdfdqBDO_yjx",
        "colab": {
          "base_uri": "https://localhost:8080/",
          "height": 59
        },
        "outputId": "b4a82679-143a-43ca-dfda-7eaa1ad5579f"
      },
      "execution_count": null,
      "outputs": [
        {
          "output_type": "display_data",
          "data": {
            "text/html": [
              "<script src='https://cdnjs.cloudflare.com/ajax/libs/mathjax/2.7.3/latest.js?config=default'></script>"
            ],
            "text/plain": [
              "<IPython.core.display.HTML object>"
            ]
          },
          "metadata": {}
        },
        {
          "output_type": "execute_result",
          "data": {
            "text/latex": "$\\displaystyle \\left[\\begin{matrix}- \\frac{1}{1 - \\alpha} & \\frac{1}{1 - \\alpha}\\\\\\frac{1}{1 - \\alpha} & - \\frac{\\alpha}{1 - \\alpha}\\end{matrix}\\right]$",
            "text/plain": [
              "⎡ -1      1  ⎤\n",
              "⎢─────  ─────⎥\n",
              "⎢1 - α  1 - α⎥\n",
              "⎢            ⎥\n",
              "⎢  1     -α  ⎥\n",
              "⎢─────  ─────⎥\n",
              "⎣1 - α  1 - α⎦"
            ]
          },
          "metadata": {},
          "execution_count": 33
        }
      ]
    },
    {
      "cell_type": "code",
      "source": [
        "X_inv_vals = np.array(X_inv.subs([(alpha, 2)])).astype(np.float64)"
      ],
      "metadata": {
        "id": "00ahlyg5G3PR"
      },
      "execution_count": null,
      "outputs": []
    },
    {
      "cell_type": "code",
      "source": [
        "X_inv_vals"
      ],
      "metadata": {
        "colab": {
          "base_uri": "https://localhost:8080/"
        },
        "id": "U6_SbnubScyV",
        "outputId": "34b3e8fd-b775-41f9-db08-1eb0929bc12e"
      },
      "execution_count": null,
      "outputs": [
        {
          "output_type": "execute_result",
          "data": {
            "text/plain": [
              "array([[ 1., -1.],\n",
              "       [-1.,  2.]])"
            ]
          },
          "metadata": {},
          "execution_count": 35
        }
      ]
    },
    {
      "cell_type": "code",
      "source": [
        "X_vals"
      ],
      "metadata": {
        "colab": {
          "base_uri": "https://localhost:8080/"
        },
        "id": "RqbWA5JGTaKi",
        "outputId": "04b91a9c-d13d-4694-ff35-1755276bf434"
      },
      "execution_count": null,
      "outputs": [
        {
          "output_type": "execute_result",
          "data": {
            "text/plain": [
              "array([[2., 1.],\n",
              "       [1., 1.]])"
            ]
          },
          "metadata": {},
          "execution_count": 37
        }
      ]
    },
    {
      "cell_type": "code",
      "source": [
        "det_vals = (4*(sym.diff(d1, k1) * sym.diff(d2, k2)) -  cross_terms*cross_terms).subs([(q1, 1), (q2, 1), (x11, B[0][0]), (x12, B[0][1]), (x22, B[1][1])])"
      ],
      "metadata": {
        "id": "cNa6j8dCT8wu"
      },
      "execution_count": null,
      "outputs": []
    },
    {
      "cell_type": "code",
      "source": [
        ""
      ],
      "metadata": {
        "id": "ln5zAWT7UNac"
      },
      "execution_count": null,
      "outputs": []
    },
    {
      "cell_type": "code",
      "source": [
        "for k_1 in np.arange(0.1, 20, 0.5):\n",
        "  for k_2 in np.arange(0.1, 20, 0.5):\n",
        "    K = np.diag(np.array([k_1, k_2]))\n",
        "    if np.all(np.abs(LA.eigvals(A-B@K)) < 1):\n",
        "    #if np.all(LA.eigvals(K-2*X_inv) < 0):\n",
        "      J = G.subs([(k1, k_1), (k2, k_2)])\n",
        "      J_ = np.array(J).astype(np.float64)\n",
        "      #print(det_vals.subs([(k1, k_1), (k2, k_2)]))\n",
        "      #print(LA.eigvals(J_ + J_.T))\n",
        "      try:\n",
        "        assert np.all(LA.eigvals(J_ + J_.T) > 0)\n",
        "      except:\n",
        "        print()\n",
        "        print(det_vals.subs([(k1, k_1), (k2, k_2)]))\n",
        "        print(LA.eigvals(J_ + J_.T))"
      ],
      "metadata": {
        "colab": {
          "base_uri": "https://localhost:8080/"
        },
        "id": "0xkvj8uIqS2b",
        "outputId": "f87432eb-f7f0-4c16-b099-4f1d4609798d"
      },
      "execution_count": null,
      "outputs": [
        {
          "output_type": "stream",
          "name": "stdout",
          "text": [
            "-0.0845787138478478\n",
            "[ 6.354e+01 -1.331e-03]\n",
            "-0.228419026543740\n",
            "[ 7.054e+01 -3.238e-03]\n",
            "-0.397781016389480\n",
            "[ 7.867e+01 -5.056e-03]\n",
            "-0.607028257581556\n",
            "[ 8.817e+01 -6.885e-03]\n",
            "-0.875388504783381\n",
            "[ 9.935e+01 -8.811e-03]\n",
            "-1.22993329430013\n",
            "[ 1.126e+02 -1.092e-02]\n",
            "-1.71014318790502\n",
            "[ 1.284e+02 -1.331e-02]\n",
            "-2.37522020283221\n",
            "[ 1.476e+02 -1.610e-02]\n"
          ]
        }
      ]
    },
    {
      "cell_type": "code",
      "source": [
        "np.all(np.abs(LA.eigvals(A-B@K)) < 1)"
      ],
      "metadata": {
        "colab": {
          "base_uri": "https://localhost:8080/"
        },
        "id": "LwoFeEPgDB2K",
        "outputId": "e1ef4b54-94f8-4646-c82a-e4486977e0c4"
      },
      "execution_count": null,
      "outputs": [
        {
          "output_type": "execute_result",
          "data": {
            "text/plain": [
              "False"
            ]
          },
          "metadata": {},
          "execution_count": 53
        }
      ]
    },
    {
      "cell_type": "code",
      "source": [
        ""
      ],
      "metadata": {
        "id": "2uXHHycRpRn3"
      },
      "execution_count": null,
      "outputs": []
    }
  ]
}